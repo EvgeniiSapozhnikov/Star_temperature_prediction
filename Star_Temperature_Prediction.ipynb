{
 "cells": [
  {
   "cell_type": "markdown",
   "id": "corresponding-armstrong",
   "metadata": {
    "ExecuteTime": {
     "end_time": "2022-05-05T04:58:05.692448Z",
     "start_time": "2022-05-05T04:58:05.688565Z"
    }
   },
   "source": [
    "## Цели и задачи работы"
   ]
  },
  {
   "cell_type": "markdown",
   "id": "f9f58b8e",
   "metadata": {},
   "source": [
    "Цель исследования - построить нейронную сеть, которая сможет предсказывать температуру на поверхности звезды. \n",
    "\n",
    "Исходя из поставленной цели в ходе исследования будет решаться задача <b>регрессии</b>. В связи с этим в качестве метрики примем `RSME`.\n",
    "\n",
    "Исходя из поставленной цели, в ходе исследования необходимо выполнить следующие задачи:\n",
    "1. Провести предобработку исходного датасета.\n",
    "2. Выполнить анализ исходных данных.\n",
    "3. Построить несколько базовых нейронных сетей с целью выявить наиболее подходящую для достижения цели исследования. \n",
    "4. Произвести улучшение выбранной базовой модели. "
   ]
  },
  {
   "cell_type": "markdown",
   "id": "1029186a",
   "metadata": {},
   "source": [
    "## Загрузка данных"
   ]
  },
  {
   "cell_type": "code",
   "execution_count": 1,
   "id": "spectacular-folder",
   "metadata": {},
   "outputs": [],
   "source": [
    "import warnings\n",
    "\n",
    "import pandas as pd\n",
    "import matplotlib.pyplot as plt\n",
    "import phik\n",
    "import torch\n",
    "import torch.nn as nn\n",
    "import plotly.graph_objects as go\n",
    "\n",
    "from phik.report import plot_correlation_matrix\n",
    "from sklearn.model_selection import train_test_split\n",
    "from sklearn.compose import ColumnTransformer\n",
    "from sklearn.preprocessing import StandardScaler, OneHotEncoder\n",
    "\n",
    "warnings.filterwarnings('ignore')"
   ]
  },
  {
   "cell_type": "markdown",
   "id": "9defce9b",
   "metadata": {},
   "source": [
    "Загрузим исходный датасет и сохраним его в переменной `data_initial`"
   ]
  },
  {
   "cell_type": "code",
   "execution_count": 2,
   "id": "52ffa9ff",
   "metadata": {},
   "outputs": [
    {
     "data": {
      "text/html": [
       "<div>\n",
       "<style scoped>\n",
       "    .dataframe tbody tr th:only-of-type {\n",
       "        vertical-align: middle;\n",
       "    }\n",
       "\n",
       "    .dataframe tbody tr th {\n",
       "        vertical-align: top;\n",
       "    }\n",
       "\n",
       "    .dataframe thead th {\n",
       "        text-align: right;\n",
       "    }\n",
       "</style>\n",
       "<table border=\"1\" class=\"dataframe\">\n",
       "  <thead>\n",
       "    <tr style=\"text-align: right;\">\n",
       "      <th></th>\n",
       "      <th>Unnamed: 0</th>\n",
       "      <th>Temperature (K)</th>\n",
       "      <th>Luminosity(L/Lo)</th>\n",
       "      <th>Radius(R/Ro)</th>\n",
       "      <th>Absolute magnitude(Mv)</th>\n",
       "      <th>Star type</th>\n",
       "      <th>Star color</th>\n",
       "    </tr>\n",
       "  </thead>\n",
       "  <tbody>\n",
       "    <tr>\n",
       "      <th>0</th>\n",
       "      <td>0</td>\n",
       "      <td>3068</td>\n",
       "      <td>0.002400</td>\n",
       "      <td>0.1700</td>\n",
       "      <td>16.12</td>\n",
       "      <td>0</td>\n",
       "      <td>Red</td>\n",
       "    </tr>\n",
       "    <tr>\n",
       "      <th>1</th>\n",
       "      <td>1</td>\n",
       "      <td>3042</td>\n",
       "      <td>0.000500</td>\n",
       "      <td>0.1542</td>\n",
       "      <td>16.60</td>\n",
       "      <td>0</td>\n",
       "      <td>Red</td>\n",
       "    </tr>\n",
       "    <tr>\n",
       "      <th>2</th>\n",
       "      <td>2</td>\n",
       "      <td>2600</td>\n",
       "      <td>0.000300</td>\n",
       "      <td>0.1020</td>\n",
       "      <td>18.70</td>\n",
       "      <td>0</td>\n",
       "      <td>Red</td>\n",
       "    </tr>\n",
       "    <tr>\n",
       "      <th>3</th>\n",
       "      <td>3</td>\n",
       "      <td>2800</td>\n",
       "      <td>0.000200</td>\n",
       "      <td>0.1600</td>\n",
       "      <td>16.65</td>\n",
       "      <td>0</td>\n",
       "      <td>Red</td>\n",
       "    </tr>\n",
       "    <tr>\n",
       "      <th>4</th>\n",
       "      <td>4</td>\n",
       "      <td>1939</td>\n",
       "      <td>0.000138</td>\n",
       "      <td>0.1030</td>\n",
       "      <td>20.06</td>\n",
       "      <td>0</td>\n",
       "      <td>Red</td>\n",
       "    </tr>\n",
       "  </tbody>\n",
       "</table>\n",
       "</div>"
      ],
      "text/plain": [
       "   Unnamed: 0  Temperature (K)  Luminosity(L/Lo)  Radius(R/Ro)  \\\n",
       "0           0             3068          0.002400        0.1700   \n",
       "1           1             3042          0.000500        0.1542   \n",
       "2           2             2600          0.000300        0.1020   \n",
       "3           3             2800          0.000200        0.1600   \n",
       "4           4             1939          0.000138        0.1030   \n",
       "\n",
       "   Absolute magnitude(Mv)  Star type Star color  \n",
       "0                   16.12          0        Red  \n",
       "1                   16.60          0        Red  \n",
       "2                   18.70          0        Red  \n",
       "3                   16.65          0        Red  \n",
       "4                   20.06          0        Red  "
      ]
     },
     "execution_count": 2,
     "metadata": {},
     "output_type": "execute_result"
    }
   ],
   "source": [
    "data_initial = pd.read_csv('6_class.csv')\n",
    "\n",
    "data_initial.head()"
   ]
  },
  {
   "cell_type": "markdown",
   "id": "663e0808",
   "metadata": {},
   "source": [
    "Напишем функцию, которая примет на вход исходный датасет и выведет следующую информацию о содержащихся в нем данных:\n",
    "1. название полей;\n",
    "2. тип данных;\n",
    "3. количество пропусков, а также их долю от общего числа значений;\n",
    "4. минимальное и максимальное значения;\n",
    "5. наличие значений булевого типа."
   ]
  },
  {
   "cell_type": "code",
   "execution_count": 3,
   "id": "3da233ce",
   "metadata": {},
   "outputs": [],
   "source": [
    "def introduction_to_data(df):\n",
    "    parameters = dict()\n",
    "    parameters['column name'] = list(df.columns)\n",
    "    parameters['type'] = list(df.dtypes)\n",
    "    parameters['non-null'] = list(df.count() - df.isna().sum())\n",
    "    parameters['null_quantity'] = list(df.isna().sum())\n",
    "    parameters['null_percentage'] = list((df.isna().sum()/df.count())*100)\n",
    "    parameters['min'] = list(df.min())\n",
    "    parameters['max'] = list(df.max())\n",
    "    \n",
    "    info = pd.DataFrame(parameters)\n",
    "    info.loc[(info['max'] == 1) & (info['min'] == 0), 'is_bool'] = 'bool'\n",
    "    info.loc[(info['type'] == 'object'), 'max'] = '-'\n",
    "    info.loc[(info['type'] == 'object'), 'min'] = '-'\n",
    "    info.loc[(info['type'] == 'object') | (info['max'] != 1) | (info['min'] != 0), 'is_bool'] = '-'\n",
    "\n",
    "    return  display(info)"
   ]
  },
  {
   "cell_type": "code",
   "execution_count": 4,
   "id": "718acac2",
   "metadata": {},
   "outputs": [
    {
     "data": {
      "text/html": [
       "<div>\n",
       "<style scoped>\n",
       "    .dataframe tbody tr th:only-of-type {\n",
       "        vertical-align: middle;\n",
       "    }\n",
       "\n",
       "    .dataframe tbody tr th {\n",
       "        vertical-align: top;\n",
       "    }\n",
       "\n",
       "    .dataframe thead th {\n",
       "        text-align: right;\n",
       "    }\n",
       "</style>\n",
       "<table border=\"1\" class=\"dataframe\">\n",
       "  <thead>\n",
       "    <tr style=\"text-align: right;\">\n",
       "      <th></th>\n",
       "      <th>column name</th>\n",
       "      <th>type</th>\n",
       "      <th>non-null</th>\n",
       "      <th>null_quantity</th>\n",
       "      <th>null_percentage</th>\n",
       "      <th>min</th>\n",
       "      <th>max</th>\n",
       "      <th>is_bool</th>\n",
       "    </tr>\n",
       "  </thead>\n",
       "  <tbody>\n",
       "    <tr>\n",
       "      <th>0</th>\n",
       "      <td>Unnamed: 0</td>\n",
       "      <td>int64</td>\n",
       "      <td>240</td>\n",
       "      <td>0</td>\n",
       "      <td>0.0</td>\n",
       "      <td>0</td>\n",
       "      <td>239</td>\n",
       "      <td>-</td>\n",
       "    </tr>\n",
       "    <tr>\n",
       "      <th>1</th>\n",
       "      <td>Temperature (K)</td>\n",
       "      <td>int64</td>\n",
       "      <td>240</td>\n",
       "      <td>0</td>\n",
       "      <td>0.0</td>\n",
       "      <td>1939</td>\n",
       "      <td>40000</td>\n",
       "      <td>-</td>\n",
       "    </tr>\n",
       "    <tr>\n",
       "      <th>2</th>\n",
       "      <td>Luminosity(L/Lo)</td>\n",
       "      <td>float64</td>\n",
       "      <td>240</td>\n",
       "      <td>0</td>\n",
       "      <td>0.0</td>\n",
       "      <td>8e-05</td>\n",
       "      <td>849420</td>\n",
       "      <td>-</td>\n",
       "    </tr>\n",
       "    <tr>\n",
       "      <th>3</th>\n",
       "      <td>Radius(R/Ro)</td>\n",
       "      <td>float64</td>\n",
       "      <td>240</td>\n",
       "      <td>0</td>\n",
       "      <td>0.0</td>\n",
       "      <td>0.0084</td>\n",
       "      <td>1948.5</td>\n",
       "      <td>-</td>\n",
       "    </tr>\n",
       "    <tr>\n",
       "      <th>4</th>\n",
       "      <td>Absolute magnitude(Mv)</td>\n",
       "      <td>float64</td>\n",
       "      <td>240</td>\n",
       "      <td>0</td>\n",
       "      <td>0.0</td>\n",
       "      <td>-11.92</td>\n",
       "      <td>20.06</td>\n",
       "      <td>-</td>\n",
       "    </tr>\n",
       "    <tr>\n",
       "      <th>5</th>\n",
       "      <td>Star type</td>\n",
       "      <td>int64</td>\n",
       "      <td>240</td>\n",
       "      <td>0</td>\n",
       "      <td>0.0</td>\n",
       "      <td>0</td>\n",
       "      <td>5</td>\n",
       "      <td>-</td>\n",
       "    </tr>\n",
       "    <tr>\n",
       "      <th>6</th>\n",
       "      <td>Star color</td>\n",
       "      <td>object</td>\n",
       "      <td>240</td>\n",
       "      <td>0</td>\n",
       "      <td>0.0</td>\n",
       "      <td>-</td>\n",
       "      <td>-</td>\n",
       "      <td>-</td>\n",
       "    </tr>\n",
       "  </tbody>\n",
       "</table>\n",
       "</div>"
      ],
      "text/plain": [
       "              column name     type  non-null  null_quantity  null_percentage  \\\n",
       "0              Unnamed: 0    int64       240              0              0.0   \n",
       "1         Temperature (K)    int64       240              0              0.0   \n",
       "2        Luminosity(L/Lo)  float64       240              0              0.0   \n",
       "3            Radius(R/Ro)  float64       240              0              0.0   \n",
       "4  Absolute magnitude(Mv)  float64       240              0              0.0   \n",
       "5               Star type    int64       240              0              0.0   \n",
       "6              Star color   object       240              0              0.0   \n",
       "\n",
       "      min     max is_bool  \n",
       "0       0     239       -  \n",
       "1    1939   40000       -  \n",
       "2   8e-05  849420       -  \n",
       "3  0.0084  1948.5       -  \n",
       "4  -11.92   20.06       -  \n",
       "5       0       5       -  \n",
       "6       -       -       -  "
      ]
     },
     "metadata": {},
     "output_type": "display_data"
    }
   ],
   "source": [
    "info = introduction_to_data(data_initial)\n",
    "\n",
    "info"
   ]
  },
  {
   "cell_type": "markdown",
   "id": "ad163f9e",
   "metadata": {},
   "source": [
    "Построим матрицу корреляции"
   ]
  },
  {
   "cell_type": "code",
   "execution_count": 5,
   "id": "cdc614c2",
   "metadata": {},
   "outputs": [
    {
     "name": "stdout",
     "output_type": "stream",
     "text": [
      "interval columns not set, guessing: ['Unnamed: 0', 'Temperature (K)', 'Luminosity(L/Lo)', 'Radius(R/Ro)', 'Absolute magnitude(Mv)', 'Star type']\n"
     ]
    }
   ],
   "source": [
    "phik_corr = data_initial.phik_matrix()"
   ]
  },
  {
   "cell_type": "code",
   "execution_count": 6,
   "id": "fdc5c4b2",
   "metadata": {},
   "outputs": [
    {
     "data": {
      "text/html": [
       "<div>\n",
       "<style scoped>\n",
       "    .dataframe tbody tr th:only-of-type {\n",
       "        vertical-align: middle;\n",
       "    }\n",
       "\n",
       "    .dataframe tbody tr th {\n",
       "        vertical-align: top;\n",
       "    }\n",
       "\n",
       "    .dataframe thead th {\n",
       "        text-align: right;\n",
       "    }\n",
       "</style>\n",
       "<table border=\"1\" class=\"dataframe\">\n",
       "  <thead>\n",
       "    <tr style=\"text-align: right;\">\n",
       "      <th></th>\n",
       "      <th>Unnamed: 0</th>\n",
       "      <th>Temperature (K)</th>\n",
       "      <th>Luminosity(L/Lo)</th>\n",
       "      <th>Radius(R/Ro)</th>\n",
       "      <th>Absolute magnitude(Mv)</th>\n",
       "      <th>Star type</th>\n",
       "      <th>Star color</th>\n",
       "    </tr>\n",
       "  </thead>\n",
       "  <tbody>\n",
       "    <tr>\n",
       "      <th>Unnamed: 0</th>\n",
       "      <td>1.000000</td>\n",
       "      <td>0.623984</td>\n",
       "      <td>0.655728</td>\n",
       "      <td>0.342545</td>\n",
       "      <td>0.741452</td>\n",
       "      <td>0.687374</td>\n",
       "      <td>0.652856</td>\n",
       "    </tr>\n",
       "    <tr>\n",
       "      <th>Temperature (K)</th>\n",
       "      <td>0.623984</td>\n",
       "      <td>1.000000</td>\n",
       "      <td>0.561692</td>\n",
       "      <td>0.236090</td>\n",
       "      <td>0.709280</td>\n",
       "      <td>0.603203</td>\n",
       "      <td>0.741088</td>\n",
       "    </tr>\n",
       "    <tr>\n",
       "      <th>Luminosity(L/Lo)</th>\n",
       "      <td>0.655728</td>\n",
       "      <td>0.561692</td>\n",
       "      <td>1.000000</td>\n",
       "      <td>0.574964</td>\n",
       "      <td>0.709456</td>\n",
       "      <td>0.654026</td>\n",
       "      <td>0.301080</td>\n",
       "    </tr>\n",
       "    <tr>\n",
       "      <th>Radius(R/Ro)</th>\n",
       "      <td>0.342545</td>\n",
       "      <td>0.236090</td>\n",
       "      <td>0.574964</td>\n",
       "      <td>1.000000</td>\n",
       "      <td>0.512414</td>\n",
       "      <td>0.635115</td>\n",
       "      <td>0.000000</td>\n",
       "    </tr>\n",
       "    <tr>\n",
       "      <th>Absolute magnitude(Mv)</th>\n",
       "      <td>0.741452</td>\n",
       "      <td>0.709280</td>\n",
       "      <td>0.709456</td>\n",
       "      <td>0.512414</td>\n",
       "      <td>1.000000</td>\n",
       "      <td>0.915921</td>\n",
       "      <td>0.785467</td>\n",
       "    </tr>\n",
       "    <tr>\n",
       "      <th>Star type</th>\n",
       "      <td>0.687374</td>\n",
       "      <td>0.603203</td>\n",
       "      <td>0.654026</td>\n",
       "      <td>0.635115</td>\n",
       "      <td>0.915921</td>\n",
       "      <td>1.000000</td>\n",
       "      <td>0.831411</td>\n",
       "    </tr>\n",
       "    <tr>\n",
       "      <th>Star color</th>\n",
       "      <td>0.652856</td>\n",
       "      <td>0.741088</td>\n",
       "      <td>0.301080</td>\n",
       "      <td>0.000000</td>\n",
       "      <td>0.785467</td>\n",
       "      <td>0.831411</td>\n",
       "      <td>1.000000</td>\n",
       "    </tr>\n",
       "  </tbody>\n",
       "</table>\n",
       "</div>"
      ],
      "text/plain": [
       "                        Unnamed: 0  Temperature (K)  Luminosity(L/Lo)  \\\n",
       "Unnamed: 0                1.000000         0.623984          0.655728   \n",
       "Temperature (K)           0.623984         1.000000          0.561692   \n",
       "Luminosity(L/Lo)          0.655728         0.561692          1.000000   \n",
       "Radius(R/Ro)              0.342545         0.236090          0.574964   \n",
       "Absolute magnitude(Mv)    0.741452         0.709280          0.709456   \n",
       "Star type                 0.687374         0.603203          0.654026   \n",
       "Star color                0.652856         0.741088          0.301080   \n",
       "\n",
       "                        Radius(R/Ro)  Absolute magnitude(Mv)  Star type  \\\n",
       "Unnamed: 0                  0.342545                0.741452   0.687374   \n",
       "Temperature (K)             0.236090                0.709280   0.603203   \n",
       "Luminosity(L/Lo)            0.574964                0.709456   0.654026   \n",
       "Radius(R/Ro)                1.000000                0.512414   0.635115   \n",
       "Absolute magnitude(Mv)      0.512414                1.000000   0.915921   \n",
       "Star type                   0.635115                0.915921   1.000000   \n",
       "Star color                  0.000000                0.785467   0.831411   \n",
       "\n",
       "                        Star color  \n",
       "Unnamed: 0                0.652856  \n",
       "Temperature (K)           0.741088  \n",
       "Luminosity(L/Lo)          0.301080  \n",
       "Radius(R/Ro)              0.000000  \n",
       "Absolute magnitude(Mv)    0.785467  \n",
       "Star type                 0.831411  \n",
       "Star color                1.000000  "
      ]
     },
     "execution_count": 6,
     "metadata": {},
     "output_type": "execute_result"
    }
   ],
   "source": [
    "phik_corr"
   ]
  },
  {
   "cell_type": "code",
   "execution_count": 7,
   "id": "c0de2b15",
   "metadata": {},
   "outputs": [
    {
     "data": {
      "image/png": "[encoded data removed]",
      "text/plain": [
       "<Figure size 720x576 with 2 Axes>"
      ]
     },
     "metadata": {
      "needs_background": "light"
     },
     "output_type": "display_data"
    }
   ],
   "source": [
    "plot_correlation_matrix(phik_corr.values, \n",
    "                        x_labels=phik_corr.columns, \n",
    "                        y_labels=phik_corr.index, \n",
    "                        vmin=0, vmax=1, color_map=\"Blues\", \n",
    "                        title=r\"Матрица корреляции $\\phi_K$\", \n",
    "                        fontsize_factor=1.5, \n",
    "                        figsize=(10, 8))\n",
    "plt.tight_layout()"
   ]
  },
  {
   "cell_type": "markdown",
   "id": "296873b0",
   "metadata": {},
   "source": [
    "### Выводы по результатам предварительного просмотра данных"
   ]
  },
  {
   "cell_type": "markdown",
   "id": "c8be0c90",
   "metadata": {},
   "source": [
    "По результатам предварительного осмотра данных можно сделать слендующие выводы:\n",
    "1. В представленных данных отсутствуют пропуски. \n",
    "2. Поле под названием `Unnamed: 0` является полем с индексами, так как при общем количестве строк в 240 значения указанного поля изменяются от 0 до 239. Данное поле следует удалить из датасет. \n",
    "3. Для полей `Luminosity(L/Lo)` и `Radius(R/Ro)`, содержащих количественные признаки, наблюдается значительный разброс значений. Чтобы нейронная сеть работала более корректно, признаки в данных столбцах следует масштабировать. \n",
    "4. Для целевого признака, содержащегося в поле `Temperature (K)` наибольшие значения коэффициента корреляции имеют поля `Star color` и `Absolute magnitude(Mv)`. При этом стоит отметить, что коэффициент корреляции почти по всем столбцам больше 0,5.\n",
    "\n",
    "В дальнейшем при подготовке данных необходимо выполнить следующие действия:\n",
    "1. Проверить данные на наличие явных и неявных дубликатов. \n",
    "2. Проверить данные на наличие выбросов и аномалий. \n",
    "3. Масштабировать признаки. "
   ]
  },
  {
   "cell_type": "code",
   "execution_count": 8,
   "id": "67e82ed2",
   "metadata": {},
   "outputs": [],
   "source": [
    "data_prepared = data_initial.drop(columns='Unnamed: 0')"
   ]
  },
  {
   "cell_type": "markdown",
   "id": "d7cf8da0",
   "metadata": {},
   "source": [
    "## Предобработка и анализ данных"
   ]
  },
  {
   "cell_type": "markdown",
   "id": "f2854053",
   "metadata": {},
   "source": [
    "### Поиск неявных дубликатов"
   ]
  },
  {
   "cell_type": "code",
   "execution_count": 9,
   "id": "d9700852",
   "metadata": {},
   "outputs": [],
   "source": [
    "cat_columns = ['Star color','Star type']"
   ]
  },
  {
   "cell_type": "code",
   "execution_count": 10,
   "id": "ebe23924",
   "metadata": {},
   "outputs": [
    {
     "name": "stdout",
     "output_type": "stream",
     "text": [
      "Поле Star color\n",
      "['Red' 'Blue White' 'White' 'Yellowish White' 'Blue white'\n",
      " 'Pale yellow orange' 'Blue' 'Blue-white' 'Whitish' 'yellow-white'\n",
      " 'Orange' 'White-Yellow' 'white' 'Blue ' 'yellowish' 'Yellowish'\n",
      " 'Orange-Red' 'Blue white ' 'Blue-White']\n",
      "\n",
      "Поле Star type\n",
      "[0 1 2 3 4 5]\n",
      "\n"
     ]
    }
   ],
   "source": [
    "for i in cat_columns:\n",
    "    print(f'Поле {i}')\n",
    "    print(data_prepared[i].unique())\n",
    "    print()"
   ]
  },
  {
   "cell_type": "markdown",
   "id": "a4602da6",
   "metadata": {},
   "source": [
    "В поле `Star color` обнаружено множество дубликатов - приведем написание категорий к нижнему регистру и заменим слитное написание и написание через дефис пробелом. \n",
    "\n",
    "<b>Для проверки правильности написания цветов </b> сверим их с гарвардской классификацией (`HARVARD SPECTRAL CLASSIFICATION`).\n",
    "Исходя из данной классификации, замене подлежат также следующие цвета: `white-yellow`, `whitish`, `yellowish`.\n",
    "\n",
    "В поле `Star type` неявных дубликатов не выявлено."
   ]
  },
  {
   "cell_type": "code",
   "execution_count": 11,
   "id": "f706ca0b",
   "metadata": {},
   "outputs": [],
   "source": [
    "data_prepared['Star color'] = data_prepared['Star color'].str.lower()"
   ]
  },
  {
   "cell_type": "code",
   "execution_count": 12,
   "id": "6e8c303e",
   "metadata": {},
   "outputs": [],
   "source": [
    "data_prepared['Star color'] = data_prepared['Star color'].replace('blue white ','blue white').replace('blue-white','blue white')\n",
    "data_prepared['Star color'] = data_prepared['Star color'].replace('white-yellow','yellow-white')\n",
    "data_prepared['Star color'] = data_prepared['Star color'].replace('blue ','blue')\n",
    "data_prepared['Star color'] = data_prepared['Star color'].replace('whitish','white')\n",
    "data_prepared['Star color'] = data_prepared['Star color'].replace('yellowish','yellow')"
   ]
  },
  {
   "cell_type": "code",
   "execution_count": 13,
   "id": "42d7f2ef",
   "metadata": {},
   "outputs": [
    {
     "data": {
      "text/plain": [
       "array(['red', 'blue white', 'white', 'yellowish white',\n",
       "       'pale yellow orange', 'blue', 'yellow-white', 'orange', 'yellow',\n",
       "       'orange-red'], dtype=object)"
      ]
     },
     "execution_count": 13,
     "metadata": {},
     "output_type": "execute_result"
    }
   ],
   "source": [
    "data_prepared['Star color'].unique()"
   ]
  },
  {
   "cell_type": "markdown",
   "id": "1984f798",
   "metadata": {},
   "source": [
    "### Поиск явных дубликатов"
   ]
  },
  {
   "cell_type": "code",
   "execution_count": 14,
   "id": "352b8f39",
   "metadata": {},
   "outputs": [
    {
     "name": "stdout",
     "output_type": "stream",
     "text": [
      "240\n",
      "240\n"
     ]
    }
   ],
   "source": [
    "data_prepared_drop = data_prepared.drop_duplicates()\n",
    "\n",
    "print(len(data_prepared))\n",
    "print(len(data_prepared_drop))"
   ]
  },
  {
   "cell_type": "markdown",
   "id": "6df404d9",
   "metadata": {},
   "source": [
    "Явных дубликатов не обнаружено"
   ]
  },
  {
   "cell_type": "markdown",
   "id": "70a29db2",
   "metadata": {},
   "source": [
    "### Поиск выбросов"
   ]
  },
  {
   "cell_type": "markdown",
   "id": "c1a9a794",
   "metadata": {},
   "source": [
    "Напишем функцию, которая подсчитывает количество выбросов по каждому столбцу и выводит их долю от общего числа данных в датасете."
   ]
  },
  {
   "cell_type": "code",
   "execution_count": 15,
   "id": "2165eadd",
   "metadata": {},
   "outputs": [],
   "source": [
    "def outliers(df, column):\n",
    "    initial_df = df\n",
    "    Q1 = df[column].quantile(0.25)\n",
    "    Q3 = df[column].quantile(0.75)\n",
    "    IQR = Q3 - Q1\n",
    "    \n",
    "    upper = Q3+1.5*IQR\n",
    "    lower = Q1-1.5*IQR\n",
    "    \n",
    "    new_df = df.loc[(df[column] < lower) | (df[column] > upper)]\n",
    "    \n",
    "    initial = len(initial_df)\n",
    "    new = len(new_df)\n",
    "    ratio = (new/initial)*100\n",
    "    \n",
    "    maximum = df[column].max()\n",
    "    minimum = df[column].min()\n",
    "    \n",
    "    print(\n",
    "        \"Столбец {}\\nМаксимальное значение = {:.0f},\\nМинимальное значение = {:.0f},\\n\"\\\n",
    "        \"25-й квантиль = {:.0f},\\n75-й квантиль = {:.0f},\\n\"\\\n",
    "        \"Верхняя граница = {:.0f},\\nНижняя граница = {:.0f},\\nКоличество строк в исходном датасете = {:.0f},\\n\"\\\n",
    "        \"Количество выбросов = {:.0f},\\nДоля выбросов = {:.3f}\\n\".format(column,maximum,minimum,Q1,Q3,upper,lower,initial, new, ratio)\n",
    "    )"
   ]
  },
  {
   "cell_type": "code",
   "execution_count": 16,
   "id": "8f207e81",
   "metadata": {},
   "outputs": [
    {
     "name": "stdout",
     "output_type": "stream",
     "text": [
      "Столбец Luminosity(L/Lo)\n",
      "Максимальное значение = 849420,\n",
      "Минимальное значение = 0,\n",
      "25-й квантиль = 0,\n",
      "75-й квантиль = 198050,\n",
      "Верхняя граница = 495125,\n",
      "Нижняя граница = -297075,\n",
      "Количество строк в исходном датасете = 240,\n",
      "Количество выбросов = 12,\n",
      "Доля выбросов = 5.000\n",
      "\n",
      "Столбец Radius(R/Ro)\n",
      "Максимальное значение = 1948,\n",
      "Минимальное значение = 0,\n",
      "25-й квантиль = 0,\n",
      "75-й квантиль = 43,\n",
      "Верхняя граница = 107,\n",
      "Нижняя граница = -64,\n",
      "Количество строк в исходном датасете = 240,\n",
      "Количество выбросов = 40,\n",
      "Доля выбросов = 16.667\n",
      "\n",
      "Столбец Absolute magnitude(Mv)\n",
      "Максимальное значение = 20,\n",
      "Минимальное значение = -12,\n",
      "25-й квантиль = -6,\n",
      "75-й квантиль = 14,\n",
      "Верхняя граница = 44,\n",
      "Нижняя граница = -36,\n",
      "Количество строк в исходном датасете = 240,\n",
      "Количество выбросов = 0,\n",
      "Доля выбросов = 0.000\n",
      "\n"
     ]
    }
   ],
   "source": [
    "for i in ['Luminosity(L/Lo)','Radius(R/Ro)','Absolute magnitude(Mv)']:\n",
    "    outliers(data_prepared, i)"
   ]
  },
  {
   "cell_type": "markdown",
   "id": "cb6b4384",
   "metadata": {},
   "source": [
    "Как мы видим, в полях `Luminosity(L/Lo)` и `Radius(R/Ro)` присутствуют выбросы, при этом:\n",
    "1. В поле `Luminosity(L/Lo)` доля выбросов составляет 5% от всего датасета, не будем удалять такой объем датасета. \n",
    "2. Нельзя однозначно утверждать, что выбросы в поле `Radius(R/Ro)` можно изменить без вреда для остального датасета, нам для этого не хватает компетенции. Оставим данное поле без изменений. "
   ]
  },
  {
   "cell_type": "markdown",
   "id": "9a628ca7",
   "metadata": {},
   "source": [
    "### Графический анализ данных"
   ]
  },
  {
   "cell_type": "code",
   "execution_count": 17,
   "id": "b635c639",
   "metadata": {},
   "outputs": [
    {
     "data": {
      "application/vnd.plotly.v1+json": {
       "config": {
        "plotlyServerURL": "https://plot.ly"
       },
       "data": [
        {
         "marker": {
          "color": "rgb(0,0,100)"
         },
         "type": "histogram",
         "x": [
          "red",
          "red",
          "red",
          "red",
          "red",
          "red",
          "red",
          "red",
          "red",
          "red",
          "red",
          "red",
          "red",
          "red",
          "red",
          "red",
          "red",
          "red",
          "red",
          "red",
          "blue white",
          "white",
          "white",
          "white",
          "blue white",
          "yellowish white",
          "blue white",
          "yellowish white",
          "yellowish white",
          "pale yellow orange",
          "blue",
          "blue white",
          "blue white",
          "white",
          "yellow-white",
          "white",
          "yellow-white",
          "yellow-white",
          "yellow-white",
          "yellow-white",
          "red",
          "red",
          "red",
          "red",
          "red",
          "red",
          "red",
          "red",
          "red",
          "blue",
          "red",
          "red",
          "red",
          "orange",
          "red",
          "red",
          "red",
          "red",
          "red",
          "red",
          "red",
          "red",
          "red",
          "red",
          "red",
          "red",
          "red",
          "red",
          "red",
          "red",
          "red",
          "red",
          "red",
          "red",
          "red",
          "red",
          "red",
          "red",
          "red",
          "red",
          "yellow-white",
          "white",
          "white",
          "blue white",
          "blue white",
          "blue white",
          "blue white",
          "blue white",
          "white",
          "blue",
          "yellow-white",
          "yellow",
          "yellow",
          "yellow",
          "blue white",
          "blue white",
          "orange-red",
          "yellow-white",
          "blue white",
          "blue",
          "blue",
          "blue",
          "blue",
          "blue",
          "blue",
          "blue",
          "blue",
          "blue",
          "blue",
          "blue",
          "red",
          "red",
          "red",
          "red",
          "red",
          "red",
          "red",
          "red",
          "red",
          "red",
          "red",
          "red",
          "red",
          "red",
          "red",
          "red",
          "red",
          "red",
          "red",
          "red",
          "red",
          "red",
          "red",
          "red",
          "red",
          "red",
          "red",
          "red",
          "red",
          "red",
          "blue white",
          "blue",
          "blue",
          "blue white",
          "blue white",
          "blue white",
          "blue white",
          "white",
          "white",
          "blue white",
          "blue white",
          "blue white",
          "blue white",
          "blue white",
          "blue white",
          "blue white",
          "blue white",
          "blue white",
          "blue white",
          "blue",
          "blue",
          "blue",
          "blue",
          "blue",
          "blue",
          "blue",
          "blue",
          "blue",
          "blue",
          "blue",
          "red",
          "red",
          "orange",
          "blue",
          "red",
          "red",
          "blue",
          "blue white",
          "blue white",
          "blue white",
          "red",
          "red",
          "red",
          "red",
          "red",
          "red",
          "red",
          "red",
          "red",
          "red",
          "red",
          "red",
          "red",
          "red",
          "red",
          "red",
          "red",
          "red",
          "red",
          "red",
          "blue",
          "blue",
          "blue",
          "blue",
          "blue",
          "blue",
          "blue",
          "blue",
          "blue",
          "blue",
          "blue white",
          "blue white",
          "blue white",
          "blue white",
          "blue",
          "blue",
          "blue white",
          "blue white",
          "blue white",
          "yellow-white",
          "blue",
          "blue",
          "blue",
          "blue",
          "blue",
          "blue",
          "blue",
          "blue",
          "blue",
          "blue",
          "blue white",
          "blue",
          "blue",
          "blue white",
          "blue white",
          "blue",
          "blue",
          "white",
          "white",
          "blue"
         ]
        }
       ],
       "layout": {
        "bargap": 0.15,
        "template": {
         "data": {
          "bar": [
           {
            "error_x": {
             "color": "#2a3f5f"
            },
            "error_y": {
             "color": "#2a3f5f"
            },
            "marker": {
             "line": {
              "color": "#E5ECF6",
              "width": 0.5
             },
             "pattern": {
              "fillmode": "overlay",
              "size": 10,
              "solidity": 0.2
             }
            },
            "type": "bar"
           }
          ],
          "barpolar": [
           {
            "marker": {
             "line": {
              "color": "#E5ECF6",
              "width": 0.5
             },
             "pattern": {
              "fillmode": "overlay",
              "size": 10,
              "solidity": 0.2
             }
            },
            "type": "barpolar"
           }
          ],
          "carpet": [
           {
            "aaxis": {
             "endlinecolor": "#2a3f5f",
             "gridcolor": "white",
             "linecolor": "white",
             "minorgridcolor": "white",
             "startlinecolor": "#2a3f5f"
            },
            "baxis": {
             "endlinecolor": "#2a3f5f",
             "gridcolor": "white",
             "linecolor": "white",
             "minorgridcolor": "white",
             "startlinecolor": "#2a3f5f"
            },
            "type": "carpet"
           }
          ],
          "choropleth": [
           {
            "colorbar": {
             "outlinewidth": 0,
             "ticks": ""
            },
            "type": "choropleth"
           }
          ],
          "contour": [
           {
            "colorbar": {
             "outlinewidth": 0,
             "ticks": ""
            },
            "colorscale": [
             [
              0,
              "#0d0887"
             ],
             [
              0.1111111111111111,
              "#46039f"
             ],
             [
              0.2222222222222222,
              "#7201a8"
             ],
             [
              0.3333333333333333,
              "#9c179e"
             ],
             [
              0.4444444444444444,
              "#bd3786"
             ],
             [
              0.5555555555555556,
              "#d8576b"
             ],
             [
              0.6666666666666666,
              "#ed7953"
             ],
             [
              0.7777777777777778,
              "#fb9f3a"
             ],
             [
              0.8888888888888888,
              "#fdca26"
             ],
             [
              1,
              "#f0f921"
             ]
            ],
            "type": "contour"
           }
          ],
          "contourcarpet": [
           {
            "colorbar": {
             "outlinewidth": 0,
             "ticks": ""
            },
            "type": "contourcarpet"
           }
          ],
          "heatmap": [
           {
            "colorbar": {
             "outlinewidth": 0,
             "ticks": ""
            },
            "colorscale": [
             [
              0,
              "#0d0887"
             ],
             [
              0.1111111111111111,
              "#46039f"
             ],
             [
              0.2222222222222222,
              "#7201a8"
             ],
             [
              0.3333333333333333,
              "#9c179e"
             ],
             [
              0.4444444444444444,
              "#bd3786"
             ],
             [
              0.5555555555555556,
              "#d8576b"
             ],
             [
              0.6666666666666666,
              "#ed7953"
             ],
             [
              0.7777777777777778,
              "#fb9f3a"
             ],
             [
              0.8888888888888888,
              "#fdca26"
             ],
             [
              1,
              "#f0f921"
             ]
            ],
            "type": "heatmap"
           }
          ],
          "heatmapgl": [
           {
            "colorbar": {
             "outlinewidth": 0,
             "ticks": ""
            },
            "colorscale": [
             [
              0,
              "#0d0887"
             ],
             [
              0.1111111111111111,
              "#46039f"
             ],
             [
              0.2222222222222222,
              "#7201a8"
             ],
             [
              0.3333333333333333,
              "#9c179e"
             ],
             [
              0.4444444444444444,
              "#bd3786"
             ],
             [
              0.5555555555555556,
              "#d8576b"
             ],
             [
              0.6666666666666666,
              "#ed7953"
             ],
             [
              0.7777777777777778,
              "#fb9f3a"
             ],
             [
              0.8888888888888888,
              "#fdca26"
             ],
             [
              1,
              "#f0f921"
             ]
            ],
            "type": "heatmapgl"
           }
          ],
          "histogram": [
           {
            "marker": {
             "pattern": {
              "fillmode": "overlay",
              "size": 10,
              "solidity": 0.2
             }
            },
            "type": "histogram"
           }
          ],
          "histogram2d": [
           {
            "colorbar": {
             "outlinewidth": 0,
             "ticks": ""
            },
            "colorscale": [
             [
              0,
              "#0d0887"
             ],
             [
              0.1111111111111111,
              "#46039f"
             ],
             [
              0.2222222222222222,
              "#7201a8"
             ],
             [
              0.3333333333333333,
              "#9c179e"
             ],
             [
              0.4444444444444444,
              "#bd3786"
             ],
             [
              0.5555555555555556,
              "#d8576b"
             ],
             [
              0.6666666666666666,
              "#ed7953"
             ],
             [
              0.7777777777777778,
              "#fb9f3a"
             ],
             [
              0.8888888888888888,
              "#fdca26"
             ],
             [
              1,
              "#f0f921"
             ]
            ],
            "type": "histogram2d"
           }
          ],
          "histogram2dcontour": [
           {
            "colorbar": {
             "outlinewidth": 0,
             "ticks": ""
            },
            "colorscale": [
             [
              0,
              "#0d0887"
             ],
             [
              0.1111111111111111,
              "#46039f"
             ],
             [
              0.2222222222222222,
              "#7201a8"
             ],
             [
              0.3333333333333333,
              "#9c179e"
             ],
             [
              0.4444444444444444,
              "#bd3786"
             ],
             [
              0.5555555555555556,
              "#d8576b"
             ],
             [
              0.6666666666666666,
              "#ed7953"
             ],
             [
              0.7777777777777778,
              "#fb9f3a"
             ],
             [
              0.8888888888888888,
              "#fdca26"
             ],
             [
              1,
              "#f0f921"
             ]
            ],
            "type": "histogram2dcontour"
           }
          ],
          "mesh3d": [
           {
            "colorbar": {
             "outlinewidth": 0,
             "ticks": ""
            },
            "type": "mesh3d"
           }
          ],
          "parcoords": [
           {
            "line": {
             "colorbar": {
              "outlinewidth": 0,
              "ticks": ""
             }
            },
            "type": "parcoords"
           }
          ],
          "pie": [
           {
            "automargin": true,
            "type": "pie"
           }
          ],
          "scatter": [
           {
            "fillpattern": {
             "fillmode": "overlay",
             "size": 10,
             "solidity": 0.2
            },
            "type": "scatter"
           }
          ],
          "scatter3d": [
           {
            "line": {
             "colorbar": {
              "outlinewidth": 0,
              "ticks": ""
             }
            },
            "marker": {
             "colorbar": {
              "outlinewidth": 0,
              "ticks": ""
             }
            },
            "type": "scatter3d"
           }
          ],
          "scattercarpet": [
           {
            "marker": {
             "colorbar": {
              "outlinewidth": 0,
              "ticks": ""
             }
            },
            "type": "scattercarpet"
           }
          ],
          "scattergeo": [
           {
            "marker": {
             "colorbar": {
              "outlinewidth": 0,
              "ticks": ""
             }
            },
            "type": "scattergeo"
           }
          ],
          "scattergl": [
           {
            "marker": {
             "colorbar": {
              "outlinewidth": 0,
              "ticks": ""
             }
            },
            "type": "scattergl"
           }
          ],
          "scattermapbox": [
           {
            "marker": {
             "colorbar": {
              "outlinewidth": 0,
              "ticks": ""
             }
            },
            "type": "scattermapbox"
           }
          ],
          "scatterpolar": [
           {
            "marker": {
             "colorbar": {
              "outlinewidth": 0,
              "ticks": ""
             }
            },
            "type": "scatterpolar"
           }
          ],
          "scatterpolargl": [
           {
            "marker": {
             "colorbar": {
              "outlinewidth": 0,
              "ticks": ""
             }
            },
            "type": "scatterpolargl"
           }
          ],
          "scatterternary": [
           {
            "marker": {
             "colorbar": {
              "outlinewidth": 0,
              "ticks": ""
             }
            },
            "type": "scatterternary"
           }
          ],
          "surface": [
           {
            "colorbar": {
             "outlinewidth": 0,
             "ticks": ""
            },
            "colorscale": [
             [
              0,
              "#0d0887"
             ],
             [
              0.1111111111111111,
              "#46039f"
             ],
             [
              0.2222222222222222,
              "#7201a8"
             ],
             [
              0.3333333333333333,
              "#9c179e"
             ],
             [
              0.4444444444444444,
              "#bd3786"
             ],
             [
              0.5555555555555556,
              "#d8576b"
             ],
             [
              0.6666666666666666,
              "#ed7953"
             ],
             [
              0.7777777777777778,
              "#fb9f3a"
             ],
             [
              0.8888888888888888,
              "#fdca26"
             ],
             [
              1,
              "#f0f921"
             ]
            ],
            "type": "surface"
           }
          ],
          "table": [
           {
            "cells": {
             "fill": {
              "color": "#EBF0F8"
             },
             "line": {
              "color": "white"
             }
            },
            "header": {
             "fill": {
              "color": "#C8D4E3"
             },
             "line": {
              "color": "white"
             }
            },
            "type": "table"
           }
          ]
         },
         "layout": {
          "annotationdefaults": {
           "arrowcolor": "#2a3f5f",
           "arrowhead": 0,
           "arrowwidth": 1
          },
          "autotypenumbers": "strict",
          "coloraxis": {
           "colorbar": {
            "outlinewidth": 0,
            "ticks": ""
           }
          },
          "colorscale": {
           "diverging": [
            [
             0,
             "#8e0152"
            ],
            [
             0.1,
             "#c51b7d"
            ],
            [
             0.2,
             "#de77ae"
            ],
            [
             0.3,
             "#f1b6da"
            ],
            [
             0.4,
             "#fde0ef"
            ],
            [
             0.5,
             "#f7f7f7"
            ],
            [
             0.6,
             "#e6f5d0"
            ],
            [
             0.7,
             "#b8e186"
            ],
            [
             0.8,
             "#7fbc41"
            ],
            [
             0.9,
             "#4d9221"
            ],
            [
             1,
             "#276419"
            ]
           ],
           "sequential": [
            [
             0,
             "#0d0887"
            ],
            [
             0.1111111111111111,
             "#46039f"
            ],
            [
             0.2222222222222222,
             "#7201a8"
            ],
            [
             0.3333333333333333,
             "#9c179e"
            ],
            [
             0.4444444444444444,
             "#bd3786"
            ],
            [
             0.5555555555555556,
             "#d8576b"
            ],
            [
             0.6666666666666666,
             "#ed7953"
            ],
            [
             0.7777777777777778,
             "#fb9f3a"
            ],
            [
             0.8888888888888888,
             "#fdca26"
            ],
            [
             1,
             "#f0f921"
            ]
           ],
           "sequentialminus": [
            [
             0,
             "#0d0887"
            ],
            [
             0.1111111111111111,
             "#46039f"
            ],
            [
             0.2222222222222222,
             "#7201a8"
            ],
            [
             0.3333333333333333,
             "#9c179e"
            ],
            [
             0.4444444444444444,
             "#bd3786"
            ],
            [
             0.5555555555555556,
             "#d8576b"
            ],
            [
             0.6666666666666666,
             "#ed7953"
            ],
            [
             0.7777777777777778,
             "#fb9f3a"
            ],
            [
             0.8888888888888888,
             "#fdca26"
            ],
            [
             1,
             "#f0f921"
            ]
           ]
          },
          "colorway": [
           "#636efa",
           "#EF553B",
           "#00cc96",
           "#ab63fa",
           "#FFA15A",
           "#19d3f3",
           "#FF6692",
           "#B6E880",
           "#FF97FF",
           "#FECB52"
          ],
          "font": {
           "color": "#2a3f5f"
          },
          "geo": {
           "bgcolor": "white",
           "lakecolor": "white",
           "landcolor": "#E5ECF6",
           "showlakes": true,
           "showland": true,
           "subunitcolor": "white"
          },
          "hoverlabel": {
           "align": "left"
          },
          "hovermode": "closest",
          "mapbox": {
           "style": "light"
          },
          "paper_bgcolor": "white",
          "plot_bgcolor": "#E5ECF6",
          "polar": {
           "angularaxis": {
            "gridcolor": "white",
            "linecolor": "white",
            "ticks": ""
           },
           "bgcolor": "#E5ECF6",
           "radialaxis": {
            "gridcolor": "white",
            "linecolor": "white",
            "ticks": ""
           }
          },
          "scene": {
           "xaxis": {
            "backgroundcolor": "#E5ECF6",
            "gridcolor": "white",
            "gridwidth": 2,
            "linecolor": "white",
            "showbackground": true,
            "ticks": "",
            "zerolinecolor": "white"
           },
           "yaxis": {
            "backgroundcolor": "#E5ECF6",
            "gridcolor": "white",
            "gridwidth": 2,
            "linecolor": "white",
            "showbackground": true,
            "ticks": "",
            "zerolinecolor": "white"
           },
           "zaxis": {
            "backgroundcolor": "#E5ECF6",
            "gridcolor": "white",
            "gridwidth": 2,
            "linecolor": "white",
            "showbackground": true,
            "ticks": "",
            "zerolinecolor": "white"
           }
          },
          "shapedefaults": {
           "line": {
            "color": "#2a3f5f"
           }
          },
          "ternary": {
           "aaxis": {
            "gridcolor": "white",
            "linecolor": "white",
            "ticks": ""
           },
           "baxis": {
            "gridcolor": "white",
            "linecolor": "white",
            "ticks": ""
           },
           "bgcolor": "#E5ECF6",
           "caxis": {
            "gridcolor": "white",
            "linecolor": "white",
            "ticks": ""
           }
          },
          "title": {
           "x": 0.05
          },
          "xaxis": {
           "automargin": true,
           "gridcolor": "white",
           "linecolor": "white",
           "ticks": "",
           "title": {
            "standoff": 15
           },
           "zerolinecolor": "white",
           "zerolinewidth": 2
          },
          "yaxis": {
           "automargin": true,
           "gridcolor": "white",
           "linecolor": "white",
           "ticks": "",
           "title": {
            "standoff": 15
           },
           "zerolinecolor": "white",
           "zerolinewidth": 2
          }
         }
        },
        "title": {
         "text": "Распределение данных в зависимости от цвета звезды"
        },
        "xaxis": {
         "title": {
          "text": "Цвет звезды"
         }
        },
        "yaxis": {
         "title": {
          "text": "Количество"
         }
        }
       }
      }
     },
     "metadata": {},
     "output_type": "display_data"
    }
   ],
   "source": [
    "fig_star_col = go.Figure()\n",
    "\n",
    "fig_star_col.add_trace(\n",
    "    go.Histogram(\n",
    "        x = data_prepared['Star color'],\n",
    "        marker_color='rgb(0,0,100)'\n",
    "    )\n",
    ")\n",
    "\n",
    "fig_star_col.update_layout(title=\"Распределение данных в зависимости от цвета звезды\",\n",
    "                    xaxis_title=\"Цвет звезды\",\n",
    "                    yaxis_title=\"Количество\",\n",
    "                    bargap=0.15\n",
    "                   )\n",
    "\n",
    "fig_star_col.show()"
   ]
  },
  {
   "cell_type": "code",
   "execution_count": 18,
   "id": "344789f8",
   "metadata": {},
   "outputs": [
    {
     "data": {
      "application/vnd.plotly.v1+json": {
       "config": {
        "plotlyServerURL": "https://plot.ly"
       },
       "data": [
        {
         "marker": {
          "color": "rgb(0,0,100)"
         },
         "type": "histogram",
         "x": [
          0.0024,
          0.0005,
          0.0003,
          0.0002,
          0.000138,
          0.00065,
          0.00073,
          0.0004,
          0.0006900000000000001,
          0.00018,
          0.0029,
          0.0122,
          0.0004,
          0.0055,
          0.0006,
          0.0038,
          0.0018,
          0.00367,
          0.0036200000000000004,
          0.039,
          0.055999999999999994,
          0.00049,
          0.00016999999999999999,
          0.0005,
          0.013000000000000001,
          0.00008499999999999999,
          0.00081,
          0.00011,
          0.00015,
          0.00008,
          204000,
          28840,
          1136,
          74,
          0.81,
          8.7,
          1.43,
          1.35,
          1.357,
          0.8190000000000001,
          200000,
          340000,
          150000,
          195000,
          280000,
          320000,
          123000,
          200000,
          184000,
          220000,
          270000,
          283000,
          272000,
          550000,
          310000,
          263000,
          363000,
          174000,
          209000,
          195000,
          0.0056,
          0.00067,
          0.00023999999999999998,
          0.00033999999999999997,
          0.00014,
          0.00098,
          0.00032,
          0.00098,
          0.00036,
          0.00072,
          0.021,
          0.022000000000000002,
          0.0085,
          0.0088,
          0.004,
          0.001,
          0.0034,
          0.0015,
          0.0006,
          0.00135,
          0.00029,
          0.00014,
          0.00056,
          0.00098,
          0.00067,
          0.00045,
          0.00078,
          0.00074,
          0.00018,
          0.0011,
          0.59,
          0.153,
          0.085,
          0.35700000000000004,
          45,
          672,
          0.63,
          7.92,
          689,
          198000,
          240000,
          813000,
          127000,
          235000,
          112000,
          231000,
          363000,
          184000,
          142000,
          352000,
          100000,
          126000,
          200000,
          117000,
          132000,
          145000,
          282000,
          74000,
          229000,
          200000,
          0.00043,
          0.00093,
          0.00054,
          0.00015,
          0.00064,
          0.0007599999999999999,
          0.0008699999999999999,
          0.00018999999999999998,
          0.0008960000000000001,
          0.000437,
          0.00018999999999999998,
          0.00022999999999999998,
          0.008,
          0.0087,
          0.0009,
          0.0023,
          0.0081,
          0.0011,
          0.0034,
          0.0013,
          0.00059,
          0.0015,
          0.0013,
          0.00082,
          0.00067,
          0.00028,
          0.0007099999999999999,
          0.00011,
          0.00014,
          0.00088,
          188000,
          38,
          1092,
          1278,
          14500,
          16790,
          14520,
          4720,
          998,
          202900,
          223000,
          251000,
          452000,
          245000,
          239000,
          131000,
          152000,
          198000,
          342900,
          424520,
          320000,
          138000,
          630000,
          316000,
          240000,
          145000,
          200000,
          170000,
          120000,
          248490,
          0.000231,
          0.0006309999999999999,
          0.000245,
          0.000452,
          0.000621,
          0.000352,
          0.00046100000000000004,
          0.000551,
          0.000849,
          0.0009570000000000001,
          0.0053,
          0.0024,
          0.0072,
          0.0016,
          0.0054,
          0.0027,
          0.00132,
          0.00125,
          0.0065,
          0.0027,
          0.0014,
          0.00122,
          0.00118,
          0.00109,
          0.00134,
          0.00156,
          0.00159,
          0.00132,
          0.0011099999999999999,
          0.00125,
          12450,
          552,
          788,
          6748,
          198200,
          173800,
          29,
          10920,
          883,
          9.25,
          244290,
          332520,
          342940,
          537430,
          246730,
          224780,
          593900,
          783930,
          347820,
          748890,
          382993,
          272830,
          648430,
          849420,
          748490,
          374830,
          834042,
          537493,
          404940,
          294903
         ]
        }
       ],
       "layout": {
        "bargap": 0.15,
        "template": {
         "data": {
          "bar": [
           {
            "error_x": {
             "color": "#2a3f5f"
            },
            "error_y": {
             "color": "#2a3f5f"
            },
            "marker": {
             "line": {
              "color": "#E5ECF6",
              "width": 0.5
             },
             "pattern": {
              "fillmode": "overlay",
              "size": 10,
              "solidity": 0.2
             }
            },
            "type": "bar"
           }
          ],
          "barpolar": [
           {
            "marker": {
             "line": {
              "color": "#E5ECF6",
              "width": 0.5
             },
             "pattern": {
              "fillmode": "overlay",
              "size": 10,
              "solidity": 0.2
             }
            },
            "type": "barpolar"
           }
          ],
          "carpet": [
           {
            "aaxis": {
             "endlinecolor": "#2a3f5f",
             "gridcolor": "white",
             "linecolor": "white",
             "minorgridcolor": "white",
             "startlinecolor": "#2a3f5f"
            },
            "baxis": {
             "endlinecolor": "#2a3f5f",
             "gridcolor": "white",
             "linecolor": "white",
             "minorgridcolor": "white",
             "startlinecolor": "#2a3f5f"
            },
            "type": "carpet"
           }
          ],
          "choropleth": [
           {
            "colorbar": {
             "outlinewidth": 0,
             "ticks": ""
            },
            "type": "choropleth"
           }
          ],
          "contour": [
           {
            "colorbar": {
             "outlinewidth": 0,
             "ticks": ""
            },
            "colorscale": [
             [
              0,
              "#0d0887"
             ],
             [
              0.1111111111111111,
              "#46039f"
             ],
             [
              0.2222222222222222,
              "#7201a8"
             ],
             [
              0.3333333333333333,
              "#9c179e"
             ],
             [
              0.4444444444444444,
              "#bd3786"
             ],
             [
              0.5555555555555556,
              "#d8576b"
             ],
             [
              0.6666666666666666,
              "#ed7953"
             ],
             [
              0.7777777777777778,
              "#fb9f3a"
             ],
             [
              0.8888888888888888,
              "#fdca26"
             ],
             [
              1,
              "#f0f921"
             ]
            ],
            "type": "contour"
           }
          ],
          "contourcarpet": [
           {
            "colorbar": {
             "outlinewidth": 0,
             "ticks": ""
            },
            "type": "contourcarpet"
           }
          ],
          "heatmap": [
           {
            "colorbar": {
             "outlinewidth": 0,
             "ticks": ""
            },
            "colorscale": [
             [
              0,
              "#0d0887"
             ],
             [
              0.1111111111111111,
              "#46039f"
             ],
             [
              0.2222222222222222,
              "#7201a8"
             ],
             [
              0.3333333333333333,
              "#9c179e"
             ],
             [
              0.4444444444444444,
              "#bd3786"
             ],
             [
              0.5555555555555556,
              "#d8576b"
             ],
             [
              0.6666666666666666,
              "#ed7953"
             ],
             [
              0.7777777777777778,
              "#fb9f3a"
             ],
             [
              0.8888888888888888,
              "#fdca26"
             ],
             [
              1,
              "#f0f921"
             ]
            ],
            "type": "heatmap"
           }
          ],
          "heatmapgl": [
           {
            "colorbar": {
             "outlinewidth": 0,
             "ticks": ""
            },
            "colorscale": [
             [
              0,
              "#0d0887"
             ],
             [
              0.1111111111111111,
              "#46039f"
             ],
             [
              0.2222222222222222,
              "#7201a8"
             ],
             [
              0.3333333333333333,
              "#9c179e"
             ],
             [
              0.4444444444444444,
              "#bd3786"
             ],
             [
              0.5555555555555556,
              "#d8576b"
             ],
             [
              0.6666666666666666,
              "#ed7953"
             ],
             [
              0.7777777777777778,
              "#fb9f3a"
             ],
             [
              0.8888888888888888,
              "#fdca26"
             ],
             [
              1,
              "#f0f921"
             ]
            ],
            "type": "heatmapgl"
           }
          ],
          "histogram": [
           {
            "marker": {
             "pattern": {
              "fillmode": "overlay",
              "size": 10,
              "solidity": 0.2
             }
            },
            "type": "histogram"
           }
          ],
          "histogram2d": [
           {
            "colorbar": {
             "outlinewidth": 0,
             "ticks": ""
            },
            "colorscale": [
             [
              0,
              "#0d0887"
             ],
             [
              0.1111111111111111,
              "#46039f"
             ],
             [
              0.2222222222222222,
              "#7201a8"
             ],
             [
              0.3333333333333333,
              "#9c179e"
             ],
             [
              0.4444444444444444,
              "#bd3786"
             ],
             [
              0.5555555555555556,
              "#d8576b"
             ],
             [
              0.6666666666666666,
              "#ed7953"
             ],
             [
              0.7777777777777778,
              "#fb9f3a"
             ],
             [
              0.8888888888888888,
              "#fdca26"
             ],
             [
              1,
              "#f0f921"
             ]
            ],
            "type": "histogram2d"
           }
          ],
          "histogram2dcontour": [
           {
            "colorbar": {
             "outlinewidth": 0,
             "ticks": ""
            },
            "colorscale": [
             [
              0,
              "#0d0887"
             ],
             [
              0.1111111111111111,
              "#46039f"
             ],
             [
              0.2222222222222222,
              "#7201a8"
             ],
             [
              0.3333333333333333,
              "#9c179e"
             ],
             [
              0.4444444444444444,
              "#bd3786"
             ],
             [
              0.5555555555555556,
              "#d8576b"
             ],
             [
              0.6666666666666666,
              "#ed7953"
             ],
             [
              0.7777777777777778,
              "#fb9f3a"
             ],
             [
              0.8888888888888888,
              "#fdca26"
             ],
             [
              1,
              "#f0f921"
             ]
            ],
            "type": "histogram2dcontour"
           }
          ],
          "mesh3d": [
           {
            "colorbar": {
             "outlinewidth": 0,
             "ticks": ""
            },
            "type": "mesh3d"
           }
          ],
          "parcoords": [
           {
            "line": {
             "colorbar": {
              "outlinewidth": 0,
              "ticks": ""
             }
            },
            "type": "parcoords"
           }
          ],
          "pie": [
           {
            "automargin": true,
            "type": "pie"
           }
          ],
          "scatter": [
           {
            "fillpattern": {
             "fillmode": "overlay",
             "size": 10,
             "solidity": 0.2
            },
            "type": "scatter"
           }
          ],
          "scatter3d": [
           {
            "line": {
             "colorbar": {
              "outlinewidth": 0,
              "ticks": ""
             }
            },
            "marker": {
             "colorbar": {
              "outlinewidth": 0,
              "ticks": ""
             }
            },
            "type": "scatter3d"
           }
          ],
          "scattercarpet": [
           {
            "marker": {
             "colorbar": {
              "outlinewidth": 0,
              "ticks": ""
             }
            },
            "type": "scattercarpet"
           }
          ],
          "scattergeo": [
           {
            "marker": {
             "colorbar": {
              "outlinewidth": 0,
              "ticks": ""
             }
            },
            "type": "scattergeo"
           }
          ],
          "scattergl": [
           {
            "marker": {
             "colorbar": {
              "outlinewidth": 0,
              "ticks": ""
             }
            },
            "type": "scattergl"
           }
          ],
          "scattermapbox": [
           {
            "marker": {
             "colorbar": {
              "outlinewidth": 0,
              "ticks": ""
             }
            },
            "type": "scattermapbox"
           }
          ],
          "scatterpolar": [
           {
            "marker": {
             "colorbar": {
              "outlinewidth": 0,
              "ticks": ""
             }
            },
            "type": "scatterpolar"
           }
          ],
          "scatterpolargl": [
           {
            "marker": {
             "colorbar": {
              "outlinewidth": 0,
              "ticks": ""
             }
            },
            "type": "scatterpolargl"
           }
          ],
          "scatterternary": [
           {
            "marker": {
             "colorbar": {
              "outlinewidth": 0,
              "ticks": ""
             }
            },
            "type": "scatterternary"
           }
          ],
          "surface": [
           {
            "colorbar": {
             "outlinewidth": 0,
             "ticks": ""
            },
            "colorscale": [
             [
              0,
              "#0d0887"
             ],
             [
              0.1111111111111111,
              "#46039f"
             ],
             [
              0.2222222222222222,
              "#7201a8"
             ],
             [
              0.3333333333333333,
              "#9c179e"
             ],
             [
              0.4444444444444444,
              "#bd3786"
             ],
             [
              0.5555555555555556,
              "#d8576b"
             ],
             [
              0.6666666666666666,
              "#ed7953"
             ],
             [
              0.7777777777777778,
              "#fb9f3a"
             ],
             [
              0.8888888888888888,
              "#fdca26"
             ],
             [
              1,
              "#f0f921"
             ]
            ],
            "type": "surface"
           }
          ],
          "table": [
           {
            "cells": {
             "fill": {
              "color": "#EBF0F8"
             },
             "line": {
              "color": "white"
             }
            },
            "header": {
             "fill": {
              "color": "#C8D4E3"
             },
             "line": {
              "color": "white"
             }
            },
            "type": "table"
           }
          ]
         },
         "layout": {
          "annotationdefaults": {
           "arrowcolor": "#2a3f5f",
           "arrowhead": 0,
           "arrowwidth": 1
          },
          "autotypenumbers": "strict",
          "coloraxis": {
           "colorbar": {
            "outlinewidth": 0,
            "ticks": ""
           }
          },
          "colorscale": {
           "diverging": [
            [
             0,
             "#8e0152"
            ],
            [
             0.1,
             "#c51b7d"
            ],
            [
             0.2,
             "#de77ae"
            ],
            [
             0.3,
             "#f1b6da"
            ],
            [
             0.4,
             "#fde0ef"
            ],
            [
             0.5,
             "#f7f7f7"
            ],
            [
             0.6,
             "#e6f5d0"
            ],
            [
             0.7,
             "#b8e186"
            ],
            [
             0.8,
             "#7fbc41"
            ],
            [
             0.9,
             "#4d9221"
            ],
            [
             1,
             "#276419"
            ]
           ],
           "sequential": [
            [
             0,
             "#0d0887"
            ],
            [
             0.1111111111111111,
             "#46039f"
            ],
            [
             0.2222222222222222,
             "#7201a8"
            ],
            [
             0.3333333333333333,
             "#9c179e"
            ],
            [
             0.4444444444444444,
             "#bd3786"
            ],
            [
             0.5555555555555556,
             "#d8576b"
            ],
            [
             0.6666666666666666,
             "#ed7953"
            ],
            [
             0.7777777777777778,
             "#fb9f3a"
            ],
            [
             0.8888888888888888,
             "#fdca26"
            ],
            [
             1,
             "#f0f921"
            ]
           ],
           "sequentialminus": [
            [
             0,
             "#0d0887"
            ],
            [
             0.1111111111111111,
             "#46039f"
            ],
            [
             0.2222222222222222,
             "#7201a8"
            ],
            [
             0.3333333333333333,
             "#9c179e"
            ],
            [
             0.4444444444444444,
             "#bd3786"
            ],
            [
             0.5555555555555556,
             "#d8576b"
            ],
            [
             0.6666666666666666,
             "#ed7953"
            ],
            [
             0.7777777777777778,
             "#fb9f3a"
            ],
            [
             0.8888888888888888,
             "#fdca26"
            ],
            [
             1,
             "#f0f921"
            ]
           ]
          },
          "colorway": [
           "#636efa",
           "#EF553B",
           "#00cc96",
           "#ab63fa",
           "#FFA15A",
           "#19d3f3",
           "#FF6692",
           "#B6E880",
           "#FF97FF",
           "#FECB52"
          ],
          "font": {
           "color": "#2a3f5f"
          },
          "geo": {
           "bgcolor": "white",
           "lakecolor": "white",
           "landcolor": "#E5ECF6",
           "showlakes": true,
           "showland": true,
           "subunitcolor": "white"
          },
          "hoverlabel": {
           "align": "left"
          },
          "hovermode": "closest",
          "mapbox": {
           "style": "light"
          },
          "paper_bgcolor": "white",
          "plot_bgcolor": "#E5ECF6",
          "polar": {
           "angularaxis": {
            "gridcolor": "white",
            "linecolor": "white",
            "ticks": ""
           },
           "bgcolor": "#E5ECF6",
           "radialaxis": {
            "gridcolor": "white",
            "linecolor": "white",
            "ticks": ""
           }
          },
          "scene": {
           "xaxis": {
            "backgroundcolor": "#E5ECF6",
            "gridcolor": "white",
            "gridwidth": 2,
            "linecolor": "white",
            "showbackground": true,
            "ticks": "",
            "zerolinecolor": "white"
           },
           "yaxis": {
            "backgroundcolor": "#E5ECF6",
            "gridcolor": "white",
            "gridwidth": 2,
            "linecolor": "white",
            "showbackground": true,
            "ticks": "",
            "zerolinecolor": "white"
           },
           "zaxis": {
            "backgroundcolor": "#E5ECF6",
            "gridcolor": "white",
            "gridwidth": 2,
            "linecolor": "white",
            "showbackground": true,
            "ticks": "",
            "zerolinecolor": "white"
           }
          },
          "shapedefaults": {
           "line": {
            "color": "#2a3f5f"
           }
          },
          "ternary": {
           "aaxis": {
            "gridcolor": "white",
            "linecolor": "white",
            "ticks": ""
           },
           "baxis": {
            "gridcolor": "white",
            "linecolor": "white",
            "ticks": ""
           },
           "bgcolor": "#E5ECF6",
           "caxis": {
            "gridcolor": "white",
            "linecolor": "white",
            "ticks": ""
           }
          },
          "title": {
           "x": 0.05
          },
          "xaxis": {
           "automargin": true,
           "gridcolor": "white",
           "linecolor": "white",
           "ticks": "",
           "title": {
            "standoff": 15
           },
           "zerolinecolor": "white",
           "zerolinewidth": 2
          },
          "yaxis": {
           "automargin": true,
           "gridcolor": "white",
           "linecolor": "white",
           "ticks": "",
           "title": {
            "standoff": 15
           },
           "zerolinecolor": "white",
           "zerolinewidth": 2
          }
         }
        },
        "title": {
         "text": "Распределение данных в зависимости от относительной светимости"
        },
        "xaxis": {
         "title": {
          "text": "Относительная светимость"
         }
        },
        "yaxis": {
         "title": {
          "text": "Количество"
         }
        }
       }
      }
     },
     "metadata": {},
     "output_type": "display_data"
    }
   ],
   "source": [
    "fig_star_lum = go.Figure()\n",
    "\n",
    "fig_star_lum.add_trace(\n",
    "    go.Histogram(\n",
    "        x = data_prepared['Luminosity(L/Lo)'],\n",
    "        marker_color='rgb(0,0,100)'\n",
    "    )\n",
    ")\n",
    "\n",
    "fig_star_lum.update_layout(title=\"Распределение данных в зависимости от относительной светимости\",\n",
    "                    xaxis_title=\"Относительная светимость\",\n",
    "                    yaxis_title=\"Количество\",\n",
    "                    bargap=0.15\n",
    "                   )\n",
    "\n",
    "fig_star_lum.show()"
   ]
  },
  {
   "cell_type": "markdown",
   "id": "af9aeaff",
   "metadata": {},
   "source": [
    "<b>Стоит отметить, что значительная часть значений в поле `Luminosity(L/Lo)` находится в правой части графика, что в купе с высоким коэффициентом корреляции (0.66) может сказаться на результатах работы сети.</b>"
   ]
  },
  {
   "cell_type": "code",
   "execution_count": 19,
   "id": "e03d2f0b",
   "metadata": {},
   "outputs": [
    {
     "data": {
      "application/vnd.plotly.v1+json": {
       "config": {
        "plotlyServerURL": "https://plot.ly"
       },
       "data": [
        {
         "marker": {
          "color": "rgb(0,0,100)"
         },
         "type": "histogram",
         "x": [
          0,
          0,
          0,
          0,
          0,
          0,
          0,
          0,
          0,
          0,
          1,
          1,
          1,
          1,
          1,
          1,
          1,
          1,
          1,
          1,
          2,
          2,
          2,
          2,
          2,
          2,
          2,
          2,
          2,
          2,
          3,
          3,
          3,
          3,
          3,
          3,
          3,
          3,
          3,
          3,
          4,
          4,
          4,
          4,
          4,
          4,
          4,
          4,
          4,
          4,
          5,
          5,
          5,
          5,
          5,
          5,
          5,
          5,
          5,
          5,
          0,
          0,
          0,
          0,
          0,
          0,
          0,
          0,
          0,
          0,
          1,
          1,
          1,
          1,
          1,
          1,
          1,
          1,
          1,
          1,
          2,
          2,
          2,
          2,
          2,
          2,
          2,
          2,
          2,
          2,
          3,
          3,
          3,
          3,
          3,
          3,
          3,
          3,
          3,
          3,
          4,
          4,
          4,
          4,
          4,
          4,
          4,
          4,
          4,
          4,
          5,
          5,
          5,
          5,
          5,
          5,
          5,
          5,
          5,
          5,
          0,
          0,
          0,
          0,
          0,
          0,
          0,
          0,
          0,
          0,
          1,
          1,
          1,
          1,
          1,
          1,
          1,
          1,
          1,
          1,
          2,
          2,
          2,
          2,
          2,
          2,
          2,
          2,
          2,
          2,
          3,
          3,
          3,
          3,
          3,
          3,
          3,
          3,
          3,
          3,
          4,
          4,
          4,
          4,
          4,
          4,
          4,
          4,
          4,
          4,
          5,
          5,
          5,
          5,
          5,
          5,
          5,
          5,
          5,
          5,
          0,
          0,
          0,
          0,
          0,
          0,
          0,
          0,
          0,
          0,
          1,
          1,
          1,
          1,
          1,
          1,
          1,
          1,
          1,
          1,
          2,
          2,
          2,
          2,
          2,
          2,
          2,
          2,
          2,
          2,
          3,
          3,
          3,
          3,
          3,
          3,
          3,
          3,
          3,
          3,
          4,
          4,
          4,
          4,
          4,
          4,
          4,
          4,
          4,
          4,
          5,
          5,
          5,
          5,
          5,
          5,
          5,
          5,
          5,
          5
         ]
        }
       ],
       "layout": {
        "bargap": 0.15,
        "template": {
         "data": {
          "bar": [
           {
            "error_x": {
             "color": "#2a3f5f"
            },
            "error_y": {
             "color": "#2a3f5f"
            },
            "marker": {
             "line": {
              "color": "#E5ECF6",
              "width": 0.5
             },
             "pattern": {
              "fillmode": "overlay",
              "size": 10,
              "solidity": 0.2
             }
            },
            "type": "bar"
           }
          ],
          "barpolar": [
           {
            "marker": {
             "line": {
              "color": "#E5ECF6",
              "width": 0.5
             },
             "pattern": {
              "fillmode": "overlay",
              "size": 10,
              "solidity": 0.2
             }
            },
            "type": "barpolar"
           }
          ],
          "carpet": [
           {
            "aaxis": {
             "endlinecolor": "#2a3f5f",
             "gridcolor": "white",
             "linecolor": "white",
             "minorgridcolor": "white",
             "startlinecolor": "#2a3f5f"
            },
            "baxis": {
             "endlinecolor": "#2a3f5f",
             "gridcolor": "white",
             "linecolor": "white",
             "minorgridcolor": "white",
             "startlinecolor": "#2a3f5f"
            },
            "type": "carpet"
           }
          ],
          "choropleth": [
           {
            "colorbar": {
             "outlinewidth": 0,
             "ticks": ""
            },
            "type": "choropleth"
           }
          ],
          "contour": [
           {
            "colorbar": {
             "outlinewidth": 0,
             "ticks": ""
            },
            "colorscale": [
             [
              0,
              "#0d0887"
             ],
             [
              0.1111111111111111,
              "#46039f"
             ],
             [
              0.2222222222222222,
              "#7201a8"
             ],
             [
              0.3333333333333333,
              "#9c179e"
             ],
             [
              0.4444444444444444,
              "#bd3786"
             ],
             [
              0.5555555555555556,
              "#d8576b"
             ],
             [
              0.6666666666666666,
              "#ed7953"
             ],
             [
              0.7777777777777778,
              "#fb9f3a"
             ],
             [
              0.8888888888888888,
              "#fdca26"
             ],
             [
              1,
              "#f0f921"
             ]
            ],
            "type": "contour"
           }
          ],
          "contourcarpet": [
           {
            "colorbar": {
             "outlinewidth": 0,
             "ticks": ""
            },
            "type": "contourcarpet"
           }
          ],
          "heatmap": [
           {
            "colorbar": {
             "outlinewidth": 0,
             "ticks": ""
            },
            "colorscale": [
             [
              0,
              "#0d0887"
             ],
             [
              0.1111111111111111,
              "#46039f"
             ],
             [
              0.2222222222222222,
              "#7201a8"
             ],
             [
              0.3333333333333333,
              "#9c179e"
             ],
             [
              0.4444444444444444,
              "#bd3786"
             ],
             [
              0.5555555555555556,
              "#d8576b"
             ],
             [
              0.6666666666666666,
              "#ed7953"
             ],
             [
              0.7777777777777778,
              "#fb9f3a"
             ],
             [
              0.8888888888888888,
              "#fdca26"
             ],
             [
              1,
              "#f0f921"
             ]
            ],
            "type": "heatmap"
           }
          ],
          "heatmapgl": [
           {
            "colorbar": {
             "outlinewidth": 0,
             "ticks": ""
            },
            "colorscale": [
             [
              0,
              "#0d0887"
             ],
             [
              0.1111111111111111,
              "#46039f"
             ],
             [
              0.2222222222222222,
              "#7201a8"
             ],
             [
              0.3333333333333333,
              "#9c179e"
             ],
             [
              0.4444444444444444,
              "#bd3786"
             ],
             [
              0.5555555555555556,
              "#d8576b"
             ],
             [
              0.6666666666666666,
              "#ed7953"
             ],
             [
              0.7777777777777778,
              "#fb9f3a"
             ],
             [
              0.8888888888888888,
              "#fdca26"
             ],
             [
              1,
              "#f0f921"
             ]
            ],
            "type": "heatmapgl"
           }
          ],
          "histogram": [
           {
            "marker": {
             "pattern": {
              "fillmode": "overlay",
              "size": 10,
              "solidity": 0.2
             }
            },
            "type": "histogram"
           }
          ],
          "histogram2d": [
           {
            "colorbar": {
             "outlinewidth": 0,
             "ticks": ""
            },
            "colorscale": [
             [
              0,
              "#0d0887"
             ],
             [
              0.1111111111111111,
              "#46039f"
             ],
             [
              0.2222222222222222,
              "#7201a8"
             ],
             [
              0.3333333333333333,
              "#9c179e"
             ],
             [
              0.4444444444444444,
              "#bd3786"
             ],
             [
              0.5555555555555556,
              "#d8576b"
             ],
             [
              0.6666666666666666,
              "#ed7953"
             ],
             [
              0.7777777777777778,
              "#fb9f3a"
             ],
             [
              0.8888888888888888,
              "#fdca26"
             ],
             [
              1,
              "#f0f921"
             ]
            ],
            "type": "histogram2d"
           }
          ],
          "histogram2dcontour": [
           {
            "colorbar": {
             "outlinewidth": 0,
             "ticks": ""
            },
            "colorscale": [
             [
              0,
              "#0d0887"
             ],
             [
              0.1111111111111111,
              "#46039f"
             ],
             [
              0.2222222222222222,
              "#7201a8"
             ],
             [
              0.3333333333333333,
              "#9c179e"
             ],
             [
              0.4444444444444444,
              "#bd3786"
             ],
             [
              0.5555555555555556,
              "#d8576b"
             ],
             [
              0.6666666666666666,
              "#ed7953"
             ],
             [
              0.7777777777777778,
              "#fb9f3a"
             ],
             [
              0.8888888888888888,
              "#fdca26"
             ],
             [
              1,
              "#f0f921"
             ]
            ],
            "type": "histogram2dcontour"
           }
          ],
          "mesh3d": [
           {
            "colorbar": {
             "outlinewidth": 0,
             "ticks": ""
            },
            "type": "mesh3d"
           }
          ],
          "parcoords": [
           {
            "line": {
             "colorbar": {
              "outlinewidth": 0,
              "ticks": ""
             }
            },
            "type": "parcoords"
           }
          ],
          "pie": [
           {
            "automargin": true,
            "type": "pie"
           }
          ],
          "scatter": [
           {
            "fillpattern": {
             "fillmode": "overlay",
             "size": 10,
             "solidity": 0.2
            },
            "type": "scatter"
           }
          ],
          "scatter3d": [
           {
            "line": {
             "colorbar": {
              "outlinewidth": 0,
              "ticks": ""
             }
            },
            "marker": {
             "colorbar": {
              "outlinewidth": 0,
              "ticks": ""
             }
            },
            "type": "scatter3d"
           }
          ],
          "scattercarpet": [
           {
            "marker": {
             "colorbar": {
              "outlinewidth": 0,
              "ticks": ""
             }
            },
            "type": "scattercarpet"
           }
          ],
          "scattergeo": [
           {
            "marker": {
             "colorbar": {
              "outlinewidth": 0,
              "ticks": ""
             }
            },
            "type": "scattergeo"
           }
          ],
          "scattergl": [
           {
            "marker": {
             "colorbar": {
              "outlinewidth": 0,
              "ticks": ""
             }
            },
            "type": "scattergl"
           }
          ],
          "scattermapbox": [
           {
            "marker": {
             "colorbar": {
              "outlinewidth": 0,
              "ticks": ""
             }
            },
            "type": "scattermapbox"
           }
          ],
          "scatterpolar": [
           {
            "marker": {
             "colorbar": {
              "outlinewidth": 0,
              "ticks": ""
             }
            },
            "type": "scatterpolar"
           }
          ],
          "scatterpolargl": [
           {
            "marker": {
             "colorbar": {
              "outlinewidth": 0,
              "ticks": ""
             }
            },
            "type": "scatterpolargl"
           }
          ],
          "scatterternary": [
           {
            "marker": {
             "colorbar": {
              "outlinewidth": 0,
              "ticks": ""
             }
            },
            "type": "scatterternary"
           }
          ],
          "surface": [
           {
            "colorbar": {
             "outlinewidth": 0,
             "ticks": ""
            },
            "colorscale": [
             [
              0,
              "#0d0887"
             ],
             [
              0.1111111111111111,
              "#46039f"
             ],
             [
              0.2222222222222222,
              "#7201a8"
             ],
             [
              0.3333333333333333,
              "#9c179e"
             ],
             [
              0.4444444444444444,
              "#bd3786"
             ],
             [
              0.5555555555555556,
              "#d8576b"
             ],
             [
              0.6666666666666666,
              "#ed7953"
             ],
             [
              0.7777777777777778,
              "#fb9f3a"
             ],
             [
              0.8888888888888888,
              "#fdca26"
             ],
             [
              1,
              "#f0f921"
             ]
            ],
            "type": "surface"
           }
          ],
          "table": [
           {
            "cells": {
             "fill": {
              "color": "#EBF0F8"
             },
             "line": {
              "color": "white"
             }
            },
            "header": {
             "fill": {
              "color": "#C8D4E3"
             },
             "line": {
              "color": "white"
             }
            },
            "type": "table"
           }
          ]
         },
         "layout": {
          "annotationdefaults": {
           "arrowcolor": "#2a3f5f",
           "arrowhead": 0,
           "arrowwidth": 1
          },
          "autotypenumbers": "strict",
          "coloraxis": {
           "colorbar": {
            "outlinewidth": 0,
            "ticks": ""
           }
          },
          "colorscale": {
           "diverging": [
            [
             0,
             "#8e0152"
            ],
            [
             0.1,
             "#c51b7d"
            ],
            [
             0.2,
             "#de77ae"
            ],
            [
             0.3,
             "#f1b6da"
            ],
            [
             0.4,
             "#fde0ef"
            ],
            [
             0.5,
             "#f7f7f7"
            ],
            [
             0.6,
             "#e6f5d0"
            ],
            [
             0.7,
             "#b8e186"
            ],
            [
             0.8,
             "#7fbc41"
            ],
            [
             0.9,
             "#4d9221"
            ],
            [
             1,
             "#276419"
            ]
           ],
           "sequential": [
            [
             0,
             "#0d0887"
            ],
            [
             0.1111111111111111,
             "#46039f"
            ],
            [
             0.2222222222222222,
             "#7201a8"
            ],
            [
             0.3333333333333333,
             "#9c179e"
            ],
            [
             0.4444444444444444,
             "#bd3786"
            ],
            [
             0.5555555555555556,
             "#d8576b"
            ],
            [
             0.6666666666666666,
             "#ed7953"
            ],
            [
             0.7777777777777778,
             "#fb9f3a"
            ],
            [
             0.8888888888888888,
             "#fdca26"
            ],
            [
             1,
             "#f0f921"
            ]
           ],
           "sequentialminus": [
            [
             0,
             "#0d0887"
            ],
            [
             0.1111111111111111,
             "#46039f"
            ],
            [
             0.2222222222222222,
             "#7201a8"
            ],
            [
             0.3333333333333333,
             "#9c179e"
            ],
            [
             0.4444444444444444,
             "#bd3786"
            ],
            [
             0.5555555555555556,
             "#d8576b"
            ],
            [
             0.6666666666666666,
             "#ed7953"
            ],
            [
             0.7777777777777778,
             "#fb9f3a"
            ],
            [
             0.8888888888888888,
             "#fdca26"
            ],
            [
             1,
             "#f0f921"
            ]
           ]
          },
          "colorway": [
           "#636efa",
           "#EF553B",
           "#00cc96",
           "#ab63fa",
           "#FFA15A",
           "#19d3f3",
           "#FF6692",
           "#B6E880",
           "#FF97FF",
           "#FECB52"
          ],
          "font": {
           "color": "#2a3f5f"
          },
          "geo": {
           "bgcolor": "white",
           "lakecolor": "white",
           "landcolor": "#E5ECF6",
           "showlakes": true,
           "showland": true,
           "subunitcolor": "white"
          },
          "hoverlabel": {
           "align": "left"
          },
          "hovermode": "closest",
          "mapbox": {
           "style": "light"
          },
          "paper_bgcolor": "white",
          "plot_bgcolor": "#E5ECF6",
          "polar": {
           "angularaxis": {
            "gridcolor": "white",
            "linecolor": "white",
            "ticks": ""
           },
           "bgcolor": "#E5ECF6",
           "radialaxis": {
            "gridcolor": "white",
            "linecolor": "white",
            "ticks": ""
           }
          },
          "scene": {
           "xaxis": {
            "backgroundcolor": "#E5ECF6",
            "gridcolor": "white",
            "gridwidth": 2,
            "linecolor": "white",
            "showbackground": true,
            "ticks": "",
            "zerolinecolor": "white"
           },
           "yaxis": {
            "backgroundcolor": "#E5ECF6",
            "gridcolor": "white",
            "gridwidth": 2,
            "linecolor": "white",
            "showbackground": true,
            "ticks": "",
            "zerolinecolor": "white"
           },
           "zaxis": {
            "backgroundcolor": "#E5ECF6",
            "gridcolor": "white",
            "gridwidth": 2,
            "linecolor": "white",
            "showbackground": true,
            "ticks": "",
            "zerolinecolor": "white"
           }
          },
          "shapedefaults": {
           "line": {
            "color": "#2a3f5f"
           }
          },
          "ternary": {
           "aaxis": {
            "gridcolor": "white",
            "linecolor": "white",
            "ticks": ""
           },
           "baxis": {
            "gridcolor": "white",
            "linecolor": "white",
            "ticks": ""
           },
           "bgcolor": "#E5ECF6",
           "caxis": {
            "gridcolor": "white",
            "linecolor": "white",
            "ticks": ""
           }
          },
          "title": {
           "x": 0.05
          },
          "xaxis": {
           "automargin": true,
           "gridcolor": "white",
           "linecolor": "white",
           "ticks": "",
           "title": {
            "standoff": 15
           },
           "zerolinecolor": "white",
           "zerolinewidth": 2
          },
          "yaxis": {
           "automargin": true,
           "gridcolor": "white",
           "linecolor": "white",
           "ticks": "",
           "title": {
            "standoff": 15
           },
           "zerolinecolor": "white",
           "zerolinewidth": 2
          }
         }
        },
        "title": {
         "text": "Распределение данных в зависимости от типа звезды"
        },
        "xaxis": {
         "title": {
          "text": "Тип звезды"
         }
        },
        "yaxis": {
         "title": {
          "text": "Количество"
         }
        }
       }
      }
     },
     "metadata": {},
     "output_type": "display_data"
    }
   ],
   "source": [
    "fig_star_type = go.Figure()\n",
    "\n",
    "fig_star_type.add_trace(\n",
    "    go.Histogram(\n",
    "        x = data_prepared['Star type'],\n",
    "        marker_color='rgb(0,0,100)'\n",
    "    )\n",
    ")\n",
    "\n",
    "fig_star_type.update_layout(title=\"Распределение данных в зависимости от типа звезды\",\n",
    "                    xaxis_title=\"Тип звезды\",\n",
    "                    yaxis_title=\"Количество\",\n",
    "                    bargap=0.15\n",
    "                   )\n",
    "\n",
    "fig_star_type.show()"
   ]
  },
  {
   "cell_type": "code",
   "execution_count": 20,
   "id": "3765b726",
   "metadata": {},
   "outputs": [
    {
     "data": {
      "application/vnd.plotly.v1+json": {
       "config": {
        "plotlyServerURL": "https://plot.ly"
       },
       "data": [
        {
         "marker": {
          "color": "rgb(0,0,100)"
         },
         "type": "histogram",
         "x": [
          0.17,
          0.1542,
          0.102,
          0.16,
          0.10300000000000001,
          0.11,
          0.127,
          0.096,
          0.11,
          0.13,
          0.51,
          0.3761,
          0.196,
          0.39299999999999996,
          0.14,
          0.24,
          0.16,
          0.47,
          0.1967,
          0.35100000000000003,
          0.0084,
          0.01234,
          0.011000000000000001,
          0.01,
          0.013999999999999999,
          0.00984,
          0.0097,
          0.0128,
          0.011000000000000001,
          0.013000000000000001,
          10.6,
          6.3,
          7.2,
          2.89,
          0.9,
          1.8,
          1.12,
          0.98,
          1.1059999999999999,
          0.99,
          19,
          23,
          88,
          17,
          25,
          29,
          45,
          89,
          84,
          26,
          1520,
          1260,
          1183,
          1648,
          1324,
          1349,
          1673,
          1284,
          955,
          1546,
          0.057,
          0.19,
          0.094,
          0.0918,
          0.11599999999999999,
          0.132,
          0.09300000000000001,
          0.0911,
          0.11800000000000001,
          0.12,
          0.273,
          0.38,
          0.18,
          0.35,
          0.29100000000000004,
          0.35,
          0.24,
          0.307,
          0.098,
          0.161,
          0.012,
          0.0092,
          0.0095,
          0.015,
          0.0089,
          0.0109,
          0.0092,
          0.0087,
          0.00892,
          0.0131,
          0.91,
          0.865,
          0.795,
          1.13,
          2.63,
          6.98,
          0.8759999999999999,
          1.34,
          7.01,
          10.2,
          12,
          14,
          36,
          83,
          12,
          42,
          63,
          36,
          57,
          67,
          1289,
          1124,
          1635,
          1486,
          1522,
          1324,
          1534,
          876,
          1467,
          1324,
          0.0912,
          0.0976,
          0.11,
          0.0932,
          0.109,
          0.121,
          0.0932,
          0.0899,
          0.0782,
          0.0856,
          0.49200000000000005,
          0.38,
          0.31,
          0.34,
          0.62,
          0.73,
          0.24,
          0.56,
          0.34,
          0.256,
          0.00981,
          0.0112,
          0.009340000000000001,
          0.00972,
          0.00898,
          0.008790000000000001,
          0.00945,
          0.00892,
          0.00878,
          0.00996,
          6.02,
          2.487,
          5.745,
          5.68,
          5.92,
          6.4,
          5.49,
          6.78,
          6.21,
          6.86,
          57,
          36,
          83,
          97,
          35,
          24,
          73,
          39,
          30,
          24,
          1480,
          1420,
          1315,
          1679,
          1190,
          1553,
          1045,
          1779,
          708.9,
          1134.5,
          0.0915,
          0.11599999999999999,
          0.126,
          0.0987,
          0.0773,
          0.0973,
          0.11900000000000001,
          0.0998,
          0.11199999999999999,
          0.129,
          0.14800000000000002,
          0.46,
          0.28,
          0.37799999999999995,
          0.319,
          0.67,
          0.258,
          0.336,
          0.47100000000000003,
          0.675,
          0.0121,
          0.0114,
          0.0113,
          0.0116,
          0.0124,
          0.0142,
          0.0127,
          0.0104,
          0.0106,
          0.00998,
          6.36,
          5.856,
          5.992000000000001,
          6.64,
          6.39,
          6.237,
          1.91,
          6.03,
          5.653,
          1.93,
          35,
          76,
          98,
          81,
          62,
          46,
          80,
          25,
          86,
          92,
          1494,
          1356,
          1948.5,
          1252,
          1130,
          1356,
          1194,
          1423,
          1112,
          1783
         ]
        }
       ],
       "layout": {
        "bargap": 0.15,
        "template": {
         "data": {
          "bar": [
           {
            "error_x": {
             "color": "#2a3f5f"
            },
            "error_y": {
             "color": "#2a3f5f"
            },
            "marker": {
             "line": {
              "color": "#E5ECF6",
              "width": 0.5
             },
             "pattern": {
              "fillmode": "overlay",
              "size": 10,
              "solidity": 0.2
             }
            },
            "type": "bar"
           }
          ],
          "barpolar": [
           {
            "marker": {
             "line": {
              "color": "#E5ECF6",
              "width": 0.5
             },
             "pattern": {
              "fillmode": "overlay",
              "size": 10,
              "solidity": 0.2
             }
            },
            "type": "barpolar"
           }
          ],
          "carpet": [
           {
            "aaxis": {
             "endlinecolor": "#2a3f5f",
             "gridcolor": "white",
             "linecolor": "white",
             "minorgridcolor": "white",
             "startlinecolor": "#2a3f5f"
            },
            "baxis": {
             "endlinecolor": "#2a3f5f",
             "gridcolor": "white",
             "linecolor": "white",
             "minorgridcolor": "white",
             "startlinecolor": "#2a3f5f"
            },
            "type": "carpet"
           }
          ],
          "choropleth": [
           {
            "colorbar": {
             "outlinewidth": 0,
             "ticks": ""
            },
            "type": "choropleth"
           }
          ],
          "contour": [
           {
            "colorbar": {
             "outlinewidth": 0,
             "ticks": ""
            },
            "colorscale": [
             [
              0,
              "#0d0887"
             ],
             [
              0.1111111111111111,
              "#46039f"
             ],
             [
              0.2222222222222222,
              "#7201a8"
             ],
             [
              0.3333333333333333,
              "#9c179e"
             ],
             [
              0.4444444444444444,
              "#bd3786"
             ],
             [
              0.5555555555555556,
              "#d8576b"
             ],
             [
              0.6666666666666666,
              "#ed7953"
             ],
             [
              0.7777777777777778,
              "#fb9f3a"
             ],
             [
              0.8888888888888888,
              "#fdca26"
             ],
             [
              1,
              "#f0f921"
             ]
            ],
            "type": "contour"
           }
          ],
          "contourcarpet": [
           {
            "colorbar": {
             "outlinewidth": 0,
             "ticks": ""
            },
            "type": "contourcarpet"
           }
          ],
          "heatmap": [
           {
            "colorbar": {
             "outlinewidth": 0,
             "ticks": ""
            },
            "colorscale": [
             [
              0,
              "#0d0887"
             ],
             [
              0.1111111111111111,
              "#46039f"
             ],
             [
              0.2222222222222222,
              "#7201a8"
             ],
             [
              0.3333333333333333,
              "#9c179e"
             ],
             [
              0.4444444444444444,
              "#bd3786"
             ],
             [
              0.5555555555555556,
              "#d8576b"
             ],
             [
              0.6666666666666666,
              "#ed7953"
             ],
             [
              0.7777777777777778,
              "#fb9f3a"
             ],
             [
              0.8888888888888888,
              "#fdca26"
             ],
             [
              1,
              "#f0f921"
             ]
            ],
            "type": "heatmap"
           }
          ],
          "heatmapgl": [
           {
            "colorbar": {
             "outlinewidth": 0,
             "ticks": ""
            },
            "colorscale": [
             [
              0,
              "#0d0887"
             ],
             [
              0.1111111111111111,
              "#46039f"
             ],
             [
              0.2222222222222222,
              "#7201a8"
             ],
             [
              0.3333333333333333,
              "#9c179e"
             ],
             [
              0.4444444444444444,
              "#bd3786"
             ],
             [
              0.5555555555555556,
              "#d8576b"
             ],
             [
              0.6666666666666666,
              "#ed7953"
             ],
             [
              0.7777777777777778,
              "#fb9f3a"
             ],
             [
              0.8888888888888888,
              "#fdca26"
             ],
             [
              1,
              "#f0f921"
             ]
            ],
            "type": "heatmapgl"
           }
          ],
          "histogram": [
           {
            "marker": {
             "pattern": {
              "fillmode": "overlay",
              "size": 10,
              "solidity": 0.2
             }
            },
            "type": "histogram"
           }
          ],
          "histogram2d": [
           {
            "colorbar": {
             "outlinewidth": 0,
             "ticks": ""
            },
            "colorscale": [
             [
              0,
              "#0d0887"
             ],
             [
              0.1111111111111111,
              "#46039f"
             ],
             [
              0.2222222222222222,
              "#7201a8"
             ],
             [
              0.3333333333333333,
              "#9c179e"
             ],
             [
              0.4444444444444444,
              "#bd3786"
             ],
             [
              0.5555555555555556,
              "#d8576b"
             ],
             [
              0.6666666666666666,
              "#ed7953"
             ],
             [
              0.7777777777777778,
              "#fb9f3a"
             ],
             [
              0.8888888888888888,
              "#fdca26"
             ],
             [
              1,
              "#f0f921"
             ]
            ],
            "type": "histogram2d"
           }
          ],
          "histogram2dcontour": [
           {
            "colorbar": {
             "outlinewidth": 0,
             "ticks": ""
            },
            "colorscale": [
             [
              0,
              "#0d0887"
             ],
             [
              0.1111111111111111,
              "#46039f"
             ],
             [
              0.2222222222222222,
              "#7201a8"
             ],
             [
              0.3333333333333333,
              "#9c179e"
             ],
             [
              0.4444444444444444,
              "#bd3786"
             ],
             [
              0.5555555555555556,
              "#d8576b"
             ],
             [
              0.6666666666666666,
              "#ed7953"
             ],
             [
              0.7777777777777778,
              "#fb9f3a"
             ],
             [
              0.8888888888888888,
              "#fdca26"
             ],
             [
              1,
              "#f0f921"
             ]
            ],
            "type": "histogram2dcontour"
           }
          ],
          "mesh3d": [
           {
            "colorbar": {
             "outlinewidth": 0,
             "ticks": ""
            },
            "type": "mesh3d"
           }
          ],
          "parcoords": [
           {
            "line": {
             "colorbar": {
              "outlinewidth": 0,
              "ticks": ""
             }
            },
            "type": "parcoords"
           }
          ],
          "pie": [
           {
            "automargin": true,
            "type": "pie"
           }
          ],
          "scatter": [
           {
            "fillpattern": {
             "fillmode": "overlay",
             "size": 10,
             "solidity": 0.2
            },
            "type": "scatter"
           }
          ],
          "scatter3d": [
           {
            "line": {
             "colorbar": {
              "outlinewidth": 0,
              "ticks": ""
             }
            },
            "marker": {
             "colorbar": {
              "outlinewidth": 0,
              "ticks": ""
             }
            },
            "type": "scatter3d"
           }
          ],
          "scattercarpet": [
           {
            "marker": {
             "colorbar": {
              "outlinewidth": 0,
              "ticks": ""
             }
            },
            "type": "scattercarpet"
           }
          ],
          "scattergeo": [
           {
            "marker": {
             "colorbar": {
              "outlinewidth": 0,
              "ticks": ""
             }
            },
            "type": "scattergeo"
           }
          ],
          "scattergl": [
           {
            "marker": {
             "colorbar": {
              "outlinewidth": 0,
              "ticks": ""
             }
            },
            "type": "scattergl"
           }
          ],
          "scattermapbox": [
           {
            "marker": {
             "colorbar": {
              "outlinewidth": 0,
              "ticks": ""
             }
            },
            "type": "scattermapbox"
           }
          ],
          "scatterpolar": [
           {
            "marker": {
             "colorbar": {
              "outlinewidth": 0,
              "ticks": ""
             }
            },
            "type": "scatterpolar"
           }
          ],
          "scatterpolargl": [
           {
            "marker": {
             "colorbar": {
              "outlinewidth": 0,
              "ticks": ""
             }
            },
            "type": "scatterpolargl"
           }
          ],
          "scatterternary": [
           {
            "marker": {
             "colorbar": {
              "outlinewidth": 0,
              "ticks": ""
             }
            },
            "type": "scatterternary"
           }
          ],
          "surface": [
           {
            "colorbar": {
             "outlinewidth": 0,
             "ticks": ""
            },
            "colorscale": [
             [
              0,
              "#0d0887"
             ],
             [
              0.1111111111111111,
              "#46039f"
             ],
             [
              0.2222222222222222,
              "#7201a8"
             ],
             [
              0.3333333333333333,
              "#9c179e"
             ],
             [
              0.4444444444444444,
              "#bd3786"
             ],
             [
              0.5555555555555556,
              "#d8576b"
             ],
             [
              0.6666666666666666,
              "#ed7953"
             ],
             [
              0.7777777777777778,
              "#fb9f3a"
             ],
             [
              0.8888888888888888,
              "#fdca26"
             ],
             [
              1,
              "#f0f921"
             ]
            ],
            "type": "surface"
           }
          ],
          "table": [
           {
            "cells": {
             "fill": {
              "color": "#EBF0F8"
             },
             "line": {
              "color": "white"
             }
            },
            "header": {
             "fill": {
              "color": "#C8D4E3"
             },
             "line": {
              "color": "white"
             }
            },
            "type": "table"
           }
          ]
         },
         "layout": {
          "annotationdefaults": {
           "arrowcolor": "#2a3f5f",
           "arrowhead": 0,
           "arrowwidth": 1
          },
          "autotypenumbers": "strict",
          "coloraxis": {
           "colorbar": {
            "outlinewidth": 0,
            "ticks": ""
           }
          },
          "colorscale": {
           "diverging": [
            [
             0,
             "#8e0152"
            ],
            [
             0.1,
             "#c51b7d"
            ],
            [
             0.2,
             "#de77ae"
            ],
            [
             0.3,
             "#f1b6da"
            ],
            [
             0.4,
             "#fde0ef"
            ],
            [
             0.5,
             "#f7f7f7"
            ],
            [
             0.6,
             "#e6f5d0"
            ],
            [
             0.7,
             "#b8e186"
            ],
            [
             0.8,
             "#7fbc41"
            ],
            [
             0.9,
             "#4d9221"
            ],
            [
             1,
             "#276419"
            ]
           ],
           "sequential": [
            [
             0,
             "#0d0887"
            ],
            [
             0.1111111111111111,
             "#46039f"
            ],
            [
             0.2222222222222222,
             "#7201a8"
            ],
            [
             0.3333333333333333,
             "#9c179e"
            ],
            [
             0.4444444444444444,
             "#bd3786"
            ],
            [
             0.5555555555555556,
             "#d8576b"
            ],
            [
             0.6666666666666666,
             "#ed7953"
            ],
            [
             0.7777777777777778,
             "#fb9f3a"
            ],
            [
             0.8888888888888888,
             "#fdca26"
            ],
            [
             1,
             "#f0f921"
            ]
           ],
           "sequentialminus": [
            [
             0,
             "#0d0887"
            ],
            [
             0.1111111111111111,
             "#46039f"
            ],
            [
             0.2222222222222222,
             "#7201a8"
            ],
            [
             0.3333333333333333,
             "#9c179e"
            ],
            [
             0.4444444444444444,
             "#bd3786"
            ],
            [
             0.5555555555555556,
             "#d8576b"
            ],
            [
             0.6666666666666666,
             "#ed7953"
            ],
            [
             0.7777777777777778,
             "#fb9f3a"
            ],
            [
             0.8888888888888888,
             "#fdca26"
            ],
            [
             1,
             "#f0f921"
            ]
           ]
          },
          "colorway": [
           "#636efa",
           "#EF553B",
           "#00cc96",
           "#ab63fa",
           "#FFA15A",
           "#19d3f3",
           "#FF6692",
           "#B6E880",
           "#FF97FF",
           "#FECB52"
          ],
          "font": {
           "color": "#2a3f5f"
          },
          "geo": {
           "bgcolor": "white",
           "lakecolor": "white",
           "landcolor": "#E5ECF6",
           "showlakes": true,
           "showland": true,
           "subunitcolor": "white"
          },
          "hoverlabel": {
           "align": "left"
          },
          "hovermode": "closest",
          "mapbox": {
           "style": "light"
          },
          "paper_bgcolor": "white",
          "plot_bgcolor": "#E5ECF6",
          "polar": {
           "angularaxis": {
            "gridcolor": "white",
            "linecolor": "white",
            "ticks": ""
           },
           "bgcolor": "#E5ECF6",
           "radialaxis": {
            "gridcolor": "white",
            "linecolor": "white",
            "ticks": ""
           }
          },
          "scene": {
           "xaxis": {
            "backgroundcolor": "#E5ECF6",
            "gridcolor": "white",
            "gridwidth": 2,
            "linecolor": "white",
            "showbackground": true,
            "ticks": "",
            "zerolinecolor": "white"
           },
           "yaxis": {
            "backgroundcolor": "#E5ECF6",
            "gridcolor": "white",
            "gridwidth": 2,
            "linecolor": "white",
            "showbackground": true,
            "ticks": "",
            "zerolinecolor": "white"
           },
           "zaxis": {
            "backgroundcolor": "#E5ECF6",
            "gridcolor": "white",
            "gridwidth": 2,
            "linecolor": "white",
            "showbackground": true,
            "ticks": "",
            "zerolinecolor": "white"
           }
          },
          "shapedefaults": {
           "line": {
            "color": "#2a3f5f"
           }
          },
          "ternary": {
           "aaxis": {
            "gridcolor": "white",
            "linecolor": "white",
            "ticks": ""
           },
           "baxis": {
            "gridcolor": "white",
            "linecolor": "white",
            "ticks": ""
           },
           "bgcolor": "#E5ECF6",
           "caxis": {
            "gridcolor": "white",
            "linecolor": "white",
            "ticks": ""
           }
          },
          "title": {
           "x": 0.05
          },
          "xaxis": {
           "automargin": true,
           "gridcolor": "white",
           "linecolor": "white",
           "ticks": "",
           "title": {
            "standoff": 15
           },
           "zerolinecolor": "white",
           "zerolinewidth": 2
          },
          "yaxis": {
           "automargin": true,
           "gridcolor": "white",
           "linecolor": "white",
           "ticks": "",
           "title": {
            "standoff": 15
           },
           "zerolinecolor": "white",
           "zerolinewidth": 2
          }
         }
        },
        "title": {
         "text": "Распределение данных в зависимости от относительного радиуса"
        },
        "xaxis": {
         "title": {
          "text": "Относительный радиус"
         }
        },
        "yaxis": {
         "title": {
          "text": "Количество"
         }
        }
       }
      }
     },
     "metadata": {},
     "output_type": "display_data"
    }
   ],
   "source": [
    "fig_star_rad = go.Figure()\n",
    "\n",
    "fig_star_rad.add_trace(\n",
    "    go.Histogram(\n",
    "        x = data_prepared['Radius(R/Ro)'],\n",
    "        marker_color='rgb(0,0,100)'\n",
    "    )\n",
    ")\n",
    "\n",
    "fig_star_rad.update_layout(title=\"Распределение данных в зависимости от относительного радиуса\",\n",
    "                    xaxis_title=\"Относительный радиус\",\n",
    "                    yaxis_title=\"Количество\",\n",
    "                    bargap=0.15\n",
    "                   )\n",
    "\n",
    "fig_star_rad.show()"
   ]
  },
  {
   "cell_type": "code",
   "execution_count": 21,
   "id": "2038a7ac",
   "metadata": {},
   "outputs": [
    {
     "data": {
      "application/vnd.plotly.v1+json": {
       "config": {
        "plotlyServerURL": "https://plot.ly"
       },
       "data": [
        {
         "marker": {
          "color": "rgb(0,0,100)"
         },
         "type": "histogram",
         "x": [
          16.12,
          16.6,
          18.7,
          16.65,
          20.06,
          16.98,
          17.22,
          17.4,
          17.45,
          16.05,
          10.69,
          11.79,
          13.21,
          10.48,
          11.782,
          13.07,
          14.79,
          10.8,
          13.53,
          11.18,
          10.58,
          14.02,
          14.23,
          14.5,
          11.89,
          12.23,
          14.2,
          14.47,
          12.59,
          14.08,
          -4.7,
          -4.2,
          -1.97,
          0.16,
          5.05,
          2.42,
          2.41,
          2.93,
          4.46,
          5.03,
          -6.93,
          -6.2,
          -6.02,
          -7.22,
          -6,
          -6.6,
          -6.78,
          -5.24,
          -6.74,
          -6.1,
          -9.4,
          -7.63,
          -9.2,
          -8.05,
          -7.79,
          -11.75,
          -11.92,
          -11.28,
          -11.24,
          -11.36,
          16.23,
          16.94,
          16.09,
          16.96,
          18.89,
          17.13,
          18.34,
          16.45,
          17.39,
          19.43,
          12.3,
          10.12,
          13.2,
          11.94,
          10.89,
          11.76,
          13.46,
          11.87,
          12.81,
          13.98,
          14.09,
          12.02,
          13.78,
          12.45,
          12.17,
          13.98,
          12.13,
          11.19,
          12.97,
          11.34,
          5.49,
          6.506,
          6.228,
          4.78,
          1.45,
          -2.3,
          4.68,
          2.44,
          0.02,
          -4.4,
          -6.5,
          -6.23,
          -5.76,
          -6.89,
          -5.91,
          -6.12,
          -5.83,
          -6.34,
          -6.24,
          -5.79,
          -10.7,
          -10.81,
          -11.33,
          -10.92,
          -10.86,
          -11.03,
          -11.39,
          -10.25,
          -10.07,
          -10.7,
          17.16,
          19.94,
          20.02,
          16.92,
          17.12,
          19.63,
          16.88,
          16.71,
          19.56,
          18.09,
          10.87,
          10.34,
          11.17,
          13.12,
          14.23,
          14.75,
          11.43,
          14.26,
          12.23,
          14.33,
          13.67,
          11.52,
          12.78,
          11.92,
          11.38,
          14.87,
          12.83,
          12.89,
          14.81,
          11.23,
          -4.01,
          0.12,
          -2.04,
          -3.32,
          -3.98,
          -4.09,
          -3.8,
          -3.4,
          -1.38,
          -4.56,
          -5.92,
          -6.245,
          -5.62,
          -6.63,
          -7.34,
          -7.22,
          -5.69,
          -5.83,
          -6.09,
          -5.99,
          -7.58,
          -8.18,
          -9.2,
          -9.1,
          -7.89,
          -7.71,
          -8.3,
          -9.9,
          -7.84,
          -8.24,
          16.21,
          18.39,
          17.56,
          17.34,
          17.08,
          16.93,
          17.45,
          16.67,
          19.45,
          16.35,
          11.47,
          10.73,
          13.45,
          12.854000000000001,
          12.43,
          13.667,
          14.12,
          14.94,
          12.78,
          14.776,
          12.87,
          11.92,
          12.23,
          12.9,
          11.22,
          11.34,
          10.55,
          10.18,
          11.66,
          11.62,
          -3.67,
          0.013000000000000001,
          -0.12,
          -2.55,
          -4.57,
          -4.36,
          1.236,
          -3.08,
          -2.64,
          -0.98,
          -6.27,
          -7.02,
          -6.98,
          -5.975,
          -6.35,
          -7.45,
          -7.2620000000000005,
          -6.224,
          -5.905,
          -7.346,
          -8.84,
          -9.29,
          -10.84,
          -7.59,
          -7.67,
          -9.93,
          -10.63,
          -10.73,
          -11.23,
          -7.8
         ]
        }
       ],
       "layout": {
        "bargap": 0.15,
        "template": {
         "data": {
          "bar": [
           {
            "error_x": {
             "color": "#2a3f5f"
            },
            "error_y": {
             "color": "#2a3f5f"
            },
            "marker": {
             "line": {
              "color": "#E5ECF6",
              "width": 0.5
             },
             "pattern": {
              "fillmode": "overlay",
              "size": 10,
              "solidity": 0.2
             }
            },
            "type": "bar"
           }
          ],
          "barpolar": [
           {
            "marker": {
             "line": {
              "color": "#E5ECF6",
              "width": 0.5
             },
             "pattern": {
              "fillmode": "overlay",
              "size": 10,
              "solidity": 0.2
             }
            },
            "type": "barpolar"
           }
          ],
          "carpet": [
           {
            "aaxis": {
             "endlinecolor": "#2a3f5f",
             "gridcolor": "white",
             "linecolor": "white",
             "minorgridcolor": "white",
             "startlinecolor": "#2a3f5f"
            },
            "baxis": {
             "endlinecolor": "#2a3f5f",
             "gridcolor": "white",
             "linecolor": "white",
             "minorgridcolor": "white",
             "startlinecolor": "#2a3f5f"
            },
            "type": "carpet"
           }
          ],
          "choropleth": [
           {
            "colorbar": {
             "outlinewidth": 0,
             "ticks": ""
            },
            "type": "choropleth"
           }
          ],
          "contour": [
           {
            "colorbar": {
             "outlinewidth": 0,
             "ticks": ""
            },
            "colorscale": [
             [
              0,
              "#0d0887"
             ],
             [
              0.1111111111111111,
              "#46039f"
             ],
             [
              0.2222222222222222,
              "#7201a8"
             ],
             [
              0.3333333333333333,
              "#9c179e"
             ],
             [
              0.4444444444444444,
              "#bd3786"
             ],
             [
              0.5555555555555556,
              "#d8576b"
             ],
             [
              0.6666666666666666,
              "#ed7953"
             ],
             [
              0.7777777777777778,
              "#fb9f3a"
             ],
             [
              0.8888888888888888,
              "#fdca26"
             ],
             [
              1,
              "#f0f921"
             ]
            ],
            "type": "contour"
           }
          ],
          "contourcarpet": [
           {
            "colorbar": {
             "outlinewidth": 0,
             "ticks": ""
            },
            "type": "contourcarpet"
           }
          ],
          "heatmap": [
           {
            "colorbar": {
             "outlinewidth": 0,
             "ticks": ""
            },
            "colorscale": [
             [
              0,
              "#0d0887"
             ],
             [
              0.1111111111111111,
              "#46039f"
             ],
             [
              0.2222222222222222,
              "#7201a8"
             ],
             [
              0.3333333333333333,
              "#9c179e"
             ],
             [
              0.4444444444444444,
              "#bd3786"
             ],
             [
              0.5555555555555556,
              "#d8576b"
             ],
             [
              0.6666666666666666,
              "#ed7953"
             ],
             [
              0.7777777777777778,
              "#fb9f3a"
             ],
             [
              0.8888888888888888,
              "#fdca26"
             ],
             [
              1,
              "#f0f921"
             ]
            ],
            "type": "heatmap"
           }
          ],
          "heatmapgl": [
           {
            "colorbar": {
             "outlinewidth": 0,
             "ticks": ""
            },
            "colorscale": [
             [
              0,
              "#0d0887"
             ],
             [
              0.1111111111111111,
              "#46039f"
             ],
             [
              0.2222222222222222,
              "#7201a8"
             ],
             [
              0.3333333333333333,
              "#9c179e"
             ],
             [
              0.4444444444444444,
              "#bd3786"
             ],
             [
              0.5555555555555556,
              "#d8576b"
             ],
             [
              0.6666666666666666,
              "#ed7953"
             ],
             [
              0.7777777777777778,
              "#fb9f3a"
             ],
             [
              0.8888888888888888,
              "#fdca26"
             ],
             [
              1,
              "#f0f921"
             ]
            ],
            "type": "heatmapgl"
           }
          ],
          "histogram": [
           {
            "marker": {
             "pattern": {
              "fillmode": "overlay",
              "size": 10,
              "solidity": 0.2
             }
            },
            "type": "histogram"
           }
          ],
          "histogram2d": [
           {
            "colorbar": {
             "outlinewidth": 0,
             "ticks": ""
            },
            "colorscale": [
             [
              0,
              "#0d0887"
             ],
             [
              0.1111111111111111,
              "#46039f"
             ],
             [
              0.2222222222222222,
              "#7201a8"
             ],
             [
              0.3333333333333333,
              "#9c179e"
             ],
             [
              0.4444444444444444,
              "#bd3786"
             ],
             [
              0.5555555555555556,
              "#d8576b"
             ],
             [
              0.6666666666666666,
              "#ed7953"
             ],
             [
              0.7777777777777778,
              "#fb9f3a"
             ],
             [
              0.8888888888888888,
              "#fdca26"
             ],
             [
              1,
              "#f0f921"
             ]
            ],
            "type": "histogram2d"
           }
          ],
          "histogram2dcontour": [
           {
            "colorbar": {
             "outlinewidth": 0,
             "ticks": ""
            },
            "colorscale": [
             [
              0,
              "#0d0887"
             ],
             [
              0.1111111111111111,
              "#46039f"
             ],
             [
              0.2222222222222222,
              "#7201a8"
             ],
             [
              0.3333333333333333,
              "#9c179e"
             ],
             [
              0.4444444444444444,
              "#bd3786"
             ],
             [
              0.5555555555555556,
              "#d8576b"
             ],
             [
              0.6666666666666666,
              "#ed7953"
             ],
             [
              0.7777777777777778,
              "#fb9f3a"
             ],
             [
              0.8888888888888888,
              "#fdca26"
             ],
             [
              1,
              "#f0f921"
             ]
            ],
            "type": "histogram2dcontour"
           }
          ],
          "mesh3d": [
           {
            "colorbar": {
             "outlinewidth": 0,
             "ticks": ""
            },
            "type": "mesh3d"
           }
          ],
          "parcoords": [
           {
            "line": {
             "colorbar": {
              "outlinewidth": 0,
              "ticks": ""
             }
            },
            "type": "parcoords"
           }
          ],
          "pie": [
           {
            "automargin": true,
            "type": "pie"
           }
          ],
          "scatter": [
           {
            "fillpattern": {
             "fillmode": "overlay",
             "size": 10,
             "solidity": 0.2
            },
            "type": "scatter"
           }
          ],
          "scatter3d": [
           {
            "line": {
             "colorbar": {
              "outlinewidth": 0,
              "ticks": ""
             }
            },
            "marker": {
             "colorbar": {
              "outlinewidth": 0,
              "ticks": ""
             }
            },
            "type": "scatter3d"
           }
          ],
          "scattercarpet": [
           {
            "marker": {
             "colorbar": {
              "outlinewidth": 0,
              "ticks": ""
             }
            },
            "type": "scattercarpet"
           }
          ],
          "scattergeo": [
           {
            "marker": {
             "colorbar": {
              "outlinewidth": 0,
              "ticks": ""
             }
            },
            "type": "scattergeo"
           }
          ],
          "scattergl": [
           {
            "marker": {
             "colorbar": {
              "outlinewidth": 0,
              "ticks": ""
             }
            },
            "type": "scattergl"
           }
          ],
          "scattermapbox": [
           {
            "marker": {
             "colorbar": {
              "outlinewidth": 0,
              "ticks": ""
             }
            },
            "type": "scattermapbox"
           }
          ],
          "scatterpolar": [
           {
            "marker": {
             "colorbar": {
              "outlinewidth": 0,
              "ticks": ""
             }
            },
            "type": "scatterpolar"
           }
          ],
          "scatterpolargl": [
           {
            "marker": {
             "colorbar": {
              "outlinewidth": 0,
              "ticks": ""
             }
            },
            "type": "scatterpolargl"
           }
          ],
          "scatterternary": [
           {
            "marker": {
             "colorbar": {
              "outlinewidth": 0,
              "ticks": ""
             }
            },
            "type": "scatterternary"
           }
          ],
          "surface": [
           {
            "colorbar": {
             "outlinewidth": 0,
             "ticks": ""
            },
            "colorscale": [
             [
              0,
              "#0d0887"
             ],
             [
              0.1111111111111111,
              "#46039f"
             ],
             [
              0.2222222222222222,
              "#7201a8"
             ],
             [
              0.3333333333333333,
              "#9c179e"
             ],
             [
              0.4444444444444444,
              "#bd3786"
             ],
             [
              0.5555555555555556,
              "#d8576b"
             ],
             [
              0.6666666666666666,
              "#ed7953"
             ],
             [
              0.7777777777777778,
              "#fb9f3a"
             ],
             [
              0.8888888888888888,
              "#fdca26"
             ],
             [
              1,
              "#f0f921"
             ]
            ],
            "type": "surface"
           }
          ],
          "table": [
           {
            "cells": {
             "fill": {
              "color": "#EBF0F8"
             },
             "line": {
              "color": "white"
             }
            },
            "header": {
             "fill": {
              "color": "#C8D4E3"
             },
             "line": {
              "color": "white"
             }
            },
            "type": "table"
           }
          ]
         },
         "layout": {
          "annotationdefaults": {
           "arrowcolor": "#2a3f5f",
           "arrowhead": 0,
           "arrowwidth": 1
          },
          "autotypenumbers": "strict",
          "coloraxis": {
           "colorbar": {
            "outlinewidth": 0,
            "ticks": ""
           }
          },
          "colorscale": {
           "diverging": [
            [
             0,
             "#8e0152"
            ],
            [
             0.1,
             "#c51b7d"
            ],
            [
             0.2,
             "#de77ae"
            ],
            [
             0.3,
             "#f1b6da"
            ],
            [
             0.4,
             "#fde0ef"
            ],
            [
             0.5,
             "#f7f7f7"
            ],
            [
             0.6,
             "#e6f5d0"
            ],
            [
             0.7,
             "#b8e186"
            ],
            [
             0.8,
             "#7fbc41"
            ],
            [
             0.9,
             "#4d9221"
            ],
            [
             1,
             "#276419"
            ]
           ],
           "sequential": [
            [
             0,
             "#0d0887"
            ],
            [
             0.1111111111111111,
             "#46039f"
            ],
            [
             0.2222222222222222,
             "#7201a8"
            ],
            [
             0.3333333333333333,
             "#9c179e"
            ],
            [
             0.4444444444444444,
             "#bd3786"
            ],
            [
             0.5555555555555556,
             "#d8576b"
            ],
            [
             0.6666666666666666,
             "#ed7953"
            ],
            [
             0.7777777777777778,
             "#fb9f3a"
            ],
            [
             0.8888888888888888,
             "#fdca26"
            ],
            [
             1,
             "#f0f921"
            ]
           ],
           "sequentialminus": [
            [
             0,
             "#0d0887"
            ],
            [
             0.1111111111111111,
             "#46039f"
            ],
            [
             0.2222222222222222,
             "#7201a8"
            ],
            [
             0.3333333333333333,
             "#9c179e"
            ],
            [
             0.4444444444444444,
             "#bd3786"
            ],
            [
             0.5555555555555556,
             "#d8576b"
            ],
            [
             0.6666666666666666,
             "#ed7953"
            ],
            [
             0.7777777777777778,
             "#fb9f3a"
            ],
            [
             0.8888888888888888,
             "#fdca26"
            ],
            [
             1,
             "#f0f921"
            ]
           ]
          },
          "colorway": [
           "#636efa",
           "#EF553B",
           "#00cc96",
           "#ab63fa",
           "#FFA15A",
           "#19d3f3",
           "#FF6692",
           "#B6E880",
           "#FF97FF",
           "#FECB52"
          ],
          "font": {
           "color": "#2a3f5f"
          },
          "geo": {
           "bgcolor": "white",
           "lakecolor": "white",
           "landcolor": "#E5ECF6",
           "showlakes": true,
           "showland": true,
           "subunitcolor": "white"
          },
          "hoverlabel": {
           "align": "left"
          },
          "hovermode": "closest",
          "mapbox": {
           "style": "light"
          },
          "paper_bgcolor": "white",
          "plot_bgcolor": "#E5ECF6",
          "polar": {
           "angularaxis": {
            "gridcolor": "white",
            "linecolor": "white",
            "ticks": ""
           },
           "bgcolor": "#E5ECF6",
           "radialaxis": {
            "gridcolor": "white",
            "linecolor": "white",
            "ticks": ""
           }
          },
          "scene": {
           "xaxis": {
            "backgroundcolor": "#E5ECF6",
            "gridcolor": "white",
            "gridwidth": 2,
            "linecolor": "white",
            "showbackground": true,
            "ticks": "",
            "zerolinecolor": "white"
           },
           "yaxis": {
            "backgroundcolor": "#E5ECF6",
            "gridcolor": "white",
            "gridwidth": 2,
            "linecolor": "white",
            "showbackground": true,
            "ticks": "",
            "zerolinecolor": "white"
           },
           "zaxis": {
            "backgroundcolor": "#E5ECF6",
            "gridcolor": "white",
            "gridwidth": 2,
            "linecolor": "white",
            "showbackground": true,
            "ticks": "",
            "zerolinecolor": "white"
           }
          },
          "shapedefaults": {
           "line": {
            "color": "#2a3f5f"
           }
          },
          "ternary": {
           "aaxis": {
            "gridcolor": "white",
            "linecolor": "white",
            "ticks": ""
           },
           "baxis": {
            "gridcolor": "white",
            "linecolor": "white",
            "ticks": ""
           },
           "bgcolor": "#E5ECF6",
           "caxis": {
            "gridcolor": "white",
            "linecolor": "white",
            "ticks": ""
           }
          },
          "title": {
           "x": 0.05
          },
          "xaxis": {
           "automargin": true,
           "gridcolor": "white",
           "linecolor": "white",
           "ticks": "",
           "title": {
            "standoff": 15
           },
           "zerolinecolor": "white",
           "zerolinewidth": 2
          },
          "yaxis": {
           "automargin": true,
           "gridcolor": "white",
           "linecolor": "white",
           "ticks": "",
           "title": {
            "standoff": 15
           },
           "zerolinecolor": "white",
           "zerolinewidth": 2
          }
         }
        },
        "title": {
         "text": "Распределение данных в зависимости от абсолютной звездной величины"
        },
        "xaxis": {
         "title": {
          "text": "Тип звезды"
         }
        },
        "yaxis": {
         "title": {
          "text": "Количество"
         }
        }
       }
      }
     },
     "metadata": {},
     "output_type": "display_data"
    }
   ],
   "source": [
    "fig_star_mag = go.Figure()\n",
    "\n",
    "fig_star_mag.add_trace(\n",
    "    go.Histogram(\n",
    "        x = data_prepared['Absolute magnitude(Mv)'],\n",
    "        marker_color='rgb(0,0,100)'\n",
    "    )\n",
    ")\n",
    "\n",
    "fig_star_mag.update_layout(title=\"Распределение данных в зависимости от абсолютной звездной величины\",\n",
    "                    xaxis_title=\"Тип звезды\",\n",
    "                    yaxis_title=\"Количество\",\n",
    "                    bargap=0.15\n",
    "                   )\n",
    "\n",
    "fig_star_mag.show()"
   ]
  },
  {
   "cell_type": "markdown",
   "id": "ee85d746",
   "metadata": {},
   "source": [
    "### Разбиение исходного датасета на выборки, масштабирование и прямое кодирование признаков"
   ]
  },
  {
   "cell_type": "markdown",
   "id": "71b5b8ed",
   "metadata": {},
   "source": [
    "Для прямого кодирования признаков воспользуемся функцией библиотеки Pandas `.get_dummies()`. При вызове функции также укажем аргумент `drop_first=True`, что позовлит избежать т.н. дамми-ловушки.\n",
    "\n",
    "Для масштабирования признаков воспользуемся структурой `StandardScaler`, но для этого разделим выборку на обучающую и валидационную, а также выделим целевой признак. \n",
    "\n",
    "Ранее указанные для масштабирования столбцы сохраним в переменной `scale`.\n",
    "\n",
    "Также выполним категоризацию признаков по полю `Star color` чтобы избежать ошибок на следующих этапах из-за категорий, в которые попадает небольшое количество значений. "
   ]
  },
  {
   "cell_type": "code",
   "execution_count": 22,
   "id": "19715a12",
   "metadata": {},
   "outputs": [
    {
     "data": {
      "text/plain": [
       "red                   112\n",
       "blue                   56\n",
       "blue white             41\n",
       "white                  12\n",
       "yellow-white            9\n",
       "yellowish white         3\n",
       "yellow                  3\n",
       "orange                  2\n",
       "orange-red              1\n",
       "pale yellow orange      1\n",
       "Name: Star color, dtype: int64"
      ]
     },
     "execution_count": 22,
     "metadata": {},
     "output_type": "execute_result"
    }
   ],
   "source": [
    "data_prepared['Star color'].value_counts()"
   ]
  },
  {
   "cell_type": "markdown",
   "id": "f6f785c3",
   "metadata": {},
   "source": [
    "Объединим последние 5 позиций в 1 категорию"
   ]
  },
  {
   "cell_type": "code",
   "execution_count": 23,
   "id": "9c154b96",
   "metadata": {},
   "outputs": [],
   "source": [
    "data_prepared.loc[data_prepared['Star color'].isin(data_prepared['Star color'].value_counts().tail(5).index.tolist()), 'Star color'] = 'other'"
   ]
  },
  {
   "cell_type": "code",
   "execution_count": 24,
   "id": "771ca2fe",
   "metadata": {},
   "outputs": [
    {
     "data": {
      "text/plain": [
       "red             112\n",
       "blue             56\n",
       "blue white       41\n",
       "white            12\n",
       "other            10\n",
       "yellow-white      9\n",
       "Name: Star color, dtype: int64"
      ]
     },
     "execution_count": 24,
     "metadata": {},
     "output_type": "execute_result"
    }
   ],
   "source": [
    "data_prepared['Star color'].value_counts()"
   ]
  },
  {
   "cell_type": "code",
   "execution_count": 25,
   "id": "27f341f7",
   "metadata": {},
   "outputs": [],
   "source": [
    "target = data_prepared['Temperature (K)']\n",
    "features = data_prepared.drop('Temperature (K)', axis=1)"
   ]
  },
  {
   "cell_type": "code",
   "execution_count": 26,
   "id": "5e598e25",
   "metadata": {},
   "outputs": [],
   "source": [
    "features_train, features_test, target_train, target_test = train_test_split(\n",
    "    features, \n",
    "    target, \n",
    "    test_size=0.3, \n",
    "    random_state=42,\n",
    "    stratify=features['Star color'],                          \n",
    "    shuffle=True\n",
    ")\n",
    "\n",
    "num = ['Luminosity(L/Lo)','Radius(R/Ro)','Absolute magnitude(Mv)','Star type']\n",
    "cat = ['Star color']    \n",
    "\n",
    "\n",
    "col_transformer = ColumnTransformer(\n",
    "                    transformers=[\n",
    "                        ('ss', StandardScaler(), num),\n",
    "                        ('ohe', OneHotEncoder(drop='first', sparse=False), cat)\n",
    "                    ],\n",
    "                    remainder='drop',\n",
    "                    n_jobs=-1\n",
    "                    )"
   ]
  },
  {
   "cell_type": "code",
   "execution_count": 27,
   "id": "7efa697e",
   "metadata": {},
   "outputs": [],
   "source": [
    "features_train = col_transformer.fit_transform(features_train)\n",
    "features_test = col_transformer.transform(features_test)  "
   ]
  },
  {
   "cell_type": "code",
   "execution_count": 28,
   "id": "74d9e9cf",
   "metadata": {},
   "outputs": [],
   "source": [
    "features_train = torch.FloatTensor(features_train)\n",
    "features_test = torch.FloatTensor(features_test)\n",
    "target_train = torch.FloatTensor(target_train.values)\n",
    "target_test = torch.FloatTensor(target_test.values)"
   ]
  },
  {
   "cell_type": "markdown",
   "id": "1c4456e1",
   "metadata": {},
   "source": [
    "### Выводы по результатам предобработки и анализа данных"
   ]
  },
  {
   "cell_type": "markdown",
   "id": "7f379fe2",
   "metadata": {},
   "source": [
    "В ходе предобработки данных:\n",
    "1. Устранены неявные дубликаты по полю `Star color`.\n",
    "2. Обнаружены выбросы в полях `Luminosity(L/Lo)` и `Radius(R/Ro)`, при этом:\n",
    "    1. В поле `Luminosity(L/Lo)` доля выбросов составляет 5% от всего датасета, эти выбросы можно удалить. \n",
    "    2. Нельзя однозначно утверждать, что выбросы в поле `Radius(R/Ro)` можно изменить без вреда для остального датасета, нам для этого не хватает компетенции. Оставим данное поле без изменений.\n",
    "\n",
    "В результате графического анализа выявлено, что значительная часть значений в поле `Luminosity(L/Lo)` находится в правой части графика, что в купе с высоким коэффициентом корреляции (0.66) может сказаться на результатах работы сети. \n",
    "\n",
    "В ходе подготовки обучающей и тестовой выборки выполнены следующие действия:\n",
    "1. Проведено прямое кодирование категориальных признаков. \n",
    "2. Проведено масштабирование количественных признаков."
   ]
  },
  {
   "cell_type": "markdown",
   "id": "funded-electric",
   "metadata": {},
   "source": [
    "## Построение базовой нейронной сети"
   ]
  },
  {
   "cell_type": "markdown",
   "id": "1018ccd2",
   "metadata": {},
   "source": [
    "Создадим несколько базовых нейронных сетей - будем менять функцию активации, количество скрытых слоев и количество нейронов. \n",
    "\n",
    "В качестве метрики примем RMSE."
   ]
  },
  {
   "cell_type": "markdown",
   "id": "d4552df4",
   "metadata": {},
   "source": [
    "### Базовая модель 1"
   ]
  },
  {
   "cell_type": "markdown",
   "id": "9de9ab61",
   "metadata": {},
   "source": [
    "В данной модели: \n",
    "1. 3 скрытых слоя; \n",
    "2. функция активации - `ReLU()`;\n",
    "3. 1000 нейронов на каждом слое."
   ]
  },
  {
   "cell_type": "code",
   "execution_count": 29,
   "id": "bb74a93a",
   "metadata": {},
   "outputs": [],
   "source": [
    "n_in_neurons = 9\n",
    "n_hidden_neurons_1 = 1000\n",
    "n_hidden_neurons_2 = 1000\n",
    "n_hidden_neurons_3 = 1000\n",
    "n_out_neurons = 1 "
   ]
  },
  {
   "cell_type": "code",
   "execution_count": 30,
   "id": "0c0f39f6",
   "metadata": {},
   "outputs": [
    {
     "name": "stdout",
     "output_type": "stream",
     "text": [
      "tensor(13330.2109)\n",
      "tensor(7196.6836)\n",
      "tensor(5071.9233)\n",
      "tensor(4457.4941)\n",
      "tensor(4370.7378)\n",
      "tensor(4426.3608)\n",
      "tensor(4493.7495)\n",
      "tensor(4667.4219)\n",
      "tensor(4840.1660)\n",
      "tensor(4899.3989)\n",
      "tensor(4889.8325)\n"
     ]
    }
   ],
   "source": [
    "net_1 = nn.Sequential(\n",
    "    nn.Linear(n_in_neurons, n_hidden_neurons_1),\n",
    "    nn.ReLU(),\n",
    "    nn.Linear(n_hidden_neurons_1, n_hidden_neurons_2),\n",
    "    nn.ReLU(),\n",
    "    nn.Linear(n_hidden_neurons_2, n_hidden_neurons_3),\n",
    "    nn.ReLU(),\n",
    "    nn.Linear(n_hidden_neurons_3, n_out_neurons)\n",
    ")\n",
    "\n",
    "optimizer = torch.optim.Adam(net_1.parameters(), lr=1.0e-3)\n",
    "\n",
    "loss = nn.MSELoss()\n",
    "\n",
    "num_epochs = 1000\n",
    "\n",
    "for epoch in range(num_epochs):\n",
    "    net_1.train()\n",
    "    optimizer.zero_grad()\n",
    "    \n",
    "    preds = net_1(features_train).flatten()\n",
    "    \n",
    "    loss_value = torch.sqrt(loss(preds, target_train))\n",
    "    loss_value.backward()\n",
    "    optimizer.step()\n",
    "    \n",
    "    if epoch % 100 == 0 or epoch == max(range(num_epochs)):\n",
    "        with torch.no_grad():\n",
    "            net_1.eval()\n",
    "            test_preds = net_1(features_test).flatten()\n",
    "            loss_rmse = torch.sqrt(loss(test_preds, target_test))\n",
    "            print(loss_rmse)"
   ]
  },
  {
   "cell_type": "code",
   "execution_count": 31,
   "id": "b560c1bb",
   "metadata": {},
   "outputs": [
    {
     "name": "stdout",
     "output_type": "stream",
     "text": [
      "     Actual     Predicted\n",
      "0    3463.0   3134.772461\n",
      "1    7100.0    875.189819\n",
      "2    3752.0   2090.677734\n",
      "3    3095.0   3292.237793\n",
      "4    2650.0   2933.456543\n",
      "..      ...           ...\n",
      "67   8930.0   9033.605469\n",
      "68  19923.0  25622.996094\n",
      "69   3574.0   6677.494141\n",
      "70   2871.0   2979.238037\n",
      "71   7282.0  10137.290039\n",
      "\n",
      "[72 rows x 2 columns]\n"
     ]
    }
   ],
   "source": [
    "test_preds = [test_preds[x].item() for x in range(len(test_preds))]\n",
    "\n",
    "df_1 = {}\n",
    "df_1['Actual'] = target_test\n",
    "df_1['Predicted'] = test_preds\n",
    "df_1 = pd.DataFrame(df_1)\n",
    "print(df_1)"
   ]
  },
  {
   "cell_type": "code",
   "execution_count": 32,
   "id": "02844908",
   "metadata": {},
   "outputs": [
    {
     "data": {
      "application/vnd.plotly.v1+json": {
       "config": {
        "plotlyServerURL": "https://plot.ly"
       },
       "data": [
        {
         "marker": {
          "color": "rgb(0,0,100)"
         },
         "name": "Фактическая температура",
         "type": "bar",
         "x": [
          0,
          1,
          2,
          3,
          4,
          5,
          6,
          7,
          8,
          9,
          10,
          11,
          12,
          13,
          14,
          15,
          16,
          17,
          18,
          19,
          20,
          21,
          22,
          23,
          24,
          25,
          26,
          27,
          28,
          29,
          30,
          31,
          32,
          33,
          34,
          35,
          36,
          37,
          38,
          39,
          40,
          41,
          42,
          43,
          44,
          45,
          46,
          47,
          48,
          49,
          50,
          51,
          52,
          53,
          54,
          55,
          56,
          57,
          58,
          59,
          60,
          61,
          62,
          63,
          64,
          65,
          66,
          67,
          68,
          69,
          70,
          71
         ],
         "y": [
          3463,
          7100,
          3752,
          3095,
          2650,
          9383,
          24145,
          2983,
          9700,
          5752,
          37882,
          9320,
          17200,
          5300,
          2600,
          24020,
          24630,
          12990,
          4015,
          3660,
          2835,
          14060,
          22012,
          3129,
          18000,
          3511,
          21020,
          2774,
          3212,
          3628,
          3650,
          2637,
          3399,
          3295,
          34190,
          14100,
          16500,
          10574,
          3324,
          3462,
          3600,
          1939,
          8924,
          4980,
          2650,
          8829,
          19860,
          17120,
          11567,
          30000,
          6380,
          3575,
          13420,
          9675,
          3146,
          19360,
          10980,
          7230,
          2731,
          3541,
          12749,
          38234,
          3270,
          3068,
          3450,
          3598,
          16787,
          8930,
          19923,
          3574,
          2871,
          7282
         ]
        },
        {
         "marker": {
          "color": "rgb(0,200,200)"
         },
         "name": "Предсказания",
         "type": "bar",
         "x": [
          0,
          1,
          2,
          3,
          4,
          5,
          6,
          7,
          8,
          9,
          10,
          11,
          12,
          13,
          14,
          15,
          16,
          17,
          18,
          19,
          20,
          21,
          22,
          23,
          24,
          25,
          26,
          27,
          28,
          29,
          30,
          31,
          32,
          33,
          34,
          35,
          36,
          37,
          38,
          39,
          40,
          41,
          42,
          43,
          44,
          45,
          46,
          47,
          48,
          49,
          50,
          51,
          52,
          53,
          54,
          55,
          56,
          57,
          58,
          59,
          60,
          61,
          62,
          63,
          64,
          65,
          66,
          67,
          68,
          69,
          70,
          71
         ],
         "y": [
          3134.7724609375,
          875.1898193359375,
          2090.677734375,
          3292.23779296875,
          2933.45654296875,
          15893.6884765625,
          19530.90234375,
          2891.0166015625,
          3735.17041015625,
          21843.3671875,
          23350.87109375,
          8865.1015625,
          12089.0244140625,
          5485.0224609375,
          2938.2001953125,
          21371.91015625,
          22989.80078125,
          12744.98046875,
          2687.75048828125,
          453.7304382324219,
          2929.48779296875,
          13353,
          16736.78515625,
          3128.731201171875,
          41900.33984375,
          2932.1513671875,
          18049.5625,
          2933.0009765625,
          3033.671630859375,
          3360.4228515625,
          3368.10498046875,
          2932.11865234375,
          2664.847412109375,
          2931.51806640625,
          36151.53125,
          12718.5107421875,
          13349.1015625,
          18483.732421875,
          3036.694091796875,
          3176.22509765625,
          4518.326171875,
          3074.605224609375,
          6690.3115234375,
          4839.00341796875,
          3135.013671875,
          7172.7353515625,
          18598.60546875,
          18978.1640625,
          24477.62890625,
          27256.998046875,
          6748.97265625,
          1109.7928466796875,
          9347.8740234375,
          8653.4580078125,
          2928.43505859375,
          17747.890625,
          15772.2646484375,
          8210.9970703125,
          2936.4951171875,
          3109.3779296875,
          15459.4130859375,
          33536.5078125,
          4774.6630859375,
          2891.606689453125,
          2378.81494140625,
          3097.53857421875,
          23905.017578125,
          9033.60546875,
          25622.99609375,
          6677.494140625,
          2979.238037109375,
          10137.2900390625
         ]
        }
       ],
       "layout": {
        "legend": {
         "orientation": "h",
         "x": 0.5,
         "xanchor": "center",
         "y": -0.3,
         "yanchor": "bottom"
        },
        "template": {
         "data": {
          "bar": [
           {
            "error_x": {
             "color": "#2a3f5f"
            },
            "error_y": {
             "color": "#2a3f5f"
            },
            "marker": {
             "line": {
              "color": "#E5ECF6",
              "width": 0.5
             },
             "pattern": {
              "fillmode": "overlay",
              "size": 10,
              "solidity": 0.2
             }
            },
            "type": "bar"
           }
          ],
          "barpolar": [
           {
            "marker": {
             "line": {
              "color": "#E5ECF6",
              "width": 0.5
             },
             "pattern": {
              "fillmode": "overlay",
              "size": 10,
              "solidity": 0.2
             }
            },
            "type": "barpolar"
           }
          ],
          "carpet": [
           {
            "aaxis": {
             "endlinecolor": "#2a3f5f",
             "gridcolor": "white",
             "linecolor": "white",
             "minorgridcolor": "white",
             "startlinecolor": "#2a3f5f"
            },
            "baxis": {
             "endlinecolor": "#2a3f5f",
             "gridcolor": "white",
             "linecolor": "white",
             "minorgridcolor": "white",
             "startlinecolor": "#2a3f5f"
            },
            "type": "carpet"
           }
          ],
          "choropleth": [
           {
            "colorbar": {
             "outlinewidth": 0,
             "ticks": ""
            },
            "type": "choropleth"
           }
          ],
          "contour": [
           {
            "colorbar": {
             "outlinewidth": 0,
             "ticks": ""
            },
            "colorscale": [
             [
              0,
              "#0d0887"
             ],
             [
              0.1111111111111111,
              "#46039f"
             ],
             [
              0.2222222222222222,
              "#7201a8"
             ],
             [
              0.3333333333333333,
              "#9c179e"
             ],
             [
              0.4444444444444444,
              "#bd3786"
             ],
             [
              0.5555555555555556,
              "#d8576b"
             ],
             [
              0.6666666666666666,
              "#ed7953"
             ],
             [
              0.7777777777777778,
              "#fb9f3a"
             ],
             [
              0.8888888888888888,
              "#fdca26"
             ],
             [
              1,
              "#f0f921"
             ]
            ],
            "type": "contour"
           }
          ],
          "contourcarpet": [
           {
            "colorbar": {
             "outlinewidth": 0,
             "ticks": ""
            },
            "type": "contourcarpet"
           }
          ],
          "heatmap": [
           {
            "colorbar": {
             "outlinewidth": 0,
             "ticks": ""
            },
            "colorscale": [
             [
              0,
              "#0d0887"
             ],
             [
              0.1111111111111111,
              "#46039f"
             ],
             [
              0.2222222222222222,
              "#7201a8"
             ],
             [
              0.3333333333333333,
              "#9c179e"
             ],
             [
              0.4444444444444444,
              "#bd3786"
             ],
             [
              0.5555555555555556,
              "#d8576b"
             ],
             [
              0.6666666666666666,
              "#ed7953"
             ],
             [
              0.7777777777777778,
              "#fb9f3a"
             ],
             [
              0.8888888888888888,
              "#fdca26"
             ],
             [
              1,
              "#f0f921"
             ]
            ],
            "type": "heatmap"
           }
          ],
          "heatmapgl": [
           {
            "colorbar": {
             "outlinewidth": 0,
             "ticks": ""
            },
            "colorscale": [
             [
              0,
              "#0d0887"
             ],
             [
              0.1111111111111111,
              "#46039f"
             ],
             [
              0.2222222222222222,
              "#7201a8"
             ],
             [
              0.3333333333333333,
              "#9c179e"
             ],
             [
              0.4444444444444444,
              "#bd3786"
             ],
             [
              0.5555555555555556,
              "#d8576b"
             ],
             [
              0.6666666666666666,
              "#ed7953"
             ],
             [
              0.7777777777777778,
              "#fb9f3a"
             ],
             [
              0.8888888888888888,
              "#fdca26"
             ],
             [
              1,
              "#f0f921"
             ]
            ],
            "type": "heatmapgl"
           }
          ],
          "histogram": [
           {
            "marker": {
             "pattern": {
              "fillmode": "overlay",
              "size": 10,
              "solidity": 0.2
             }
            },
            "type": "histogram"
           }
          ],
          "histogram2d": [
           {
            "colorbar": {
             "outlinewidth": 0,
             "ticks": ""
            },
            "colorscale": [
             [
              0,
              "#0d0887"
             ],
             [
              0.1111111111111111,
              "#46039f"
             ],
             [
              0.2222222222222222,
              "#7201a8"
             ],
             [
              0.3333333333333333,
              "#9c179e"
             ],
             [
              0.4444444444444444,
              "#bd3786"
             ],
             [
              0.5555555555555556,
              "#d8576b"
             ],
             [
              0.6666666666666666,
              "#ed7953"
             ],
             [
              0.7777777777777778,
              "#fb9f3a"
             ],
             [
              0.8888888888888888,
              "#fdca26"
             ],
             [
              1,
              "#f0f921"
             ]
            ],
            "type": "histogram2d"
           }
          ],
          "histogram2dcontour": [
           {
            "colorbar": {
             "outlinewidth": 0,
             "ticks": ""
            },
            "colorscale": [
             [
              0,
              "#0d0887"
             ],
             [
              0.1111111111111111,
              "#46039f"
             ],
             [
              0.2222222222222222,
              "#7201a8"
             ],
             [
              0.3333333333333333,
              "#9c179e"
             ],
             [
              0.4444444444444444,
              "#bd3786"
             ],
             [
              0.5555555555555556,
              "#d8576b"
             ],
             [
              0.6666666666666666,
              "#ed7953"
             ],
             [
              0.7777777777777778,
              "#fb9f3a"
             ],
             [
              0.8888888888888888,
              "#fdca26"
             ],
             [
              1,
              "#f0f921"
             ]
            ],
            "type": "histogram2dcontour"
           }
          ],
          "mesh3d": [
           {
            "colorbar": {
             "outlinewidth": 0,
             "ticks": ""
            },
            "type": "mesh3d"
           }
          ],
          "parcoords": [
           {
            "line": {
             "colorbar": {
              "outlinewidth": 0,
              "ticks": ""
             }
            },
            "type": "parcoords"
           }
          ],
          "pie": [
           {
            "automargin": true,
            "type": "pie"
           }
          ],
          "scatter": [
           {
            "fillpattern": {
             "fillmode": "overlay",
             "size": 10,
             "solidity": 0.2
            },
            "type": "scatter"
           }
          ],
          "scatter3d": [
           {
            "line": {
             "colorbar": {
              "outlinewidth": 0,
              "ticks": ""
             }
            },
            "marker": {
             "colorbar": {
              "outlinewidth": 0,
              "ticks": ""
             }
            },
            "type": "scatter3d"
           }
          ],
          "scattercarpet": [
           {
            "marker": {
             "colorbar": {
              "outlinewidth": 0,
              "ticks": ""
             }
            },
            "type": "scattercarpet"
           }
          ],
          "scattergeo": [
           {
            "marker": {
             "colorbar": {
              "outlinewidth": 0,
              "ticks": ""
             }
            },
            "type": "scattergeo"
           }
          ],
          "scattergl": [
           {
            "marker": {
             "colorbar": {
              "outlinewidth": 0,
              "ticks": ""
             }
            },
            "type": "scattergl"
           }
          ],
          "scattermapbox": [
           {
            "marker": {
             "colorbar": {
              "outlinewidth": 0,
              "ticks": ""
             }
            },
            "type": "scattermapbox"
           }
          ],
          "scatterpolar": [
           {
            "marker": {
             "colorbar": {
              "outlinewidth": 0,
              "ticks": ""
             }
            },
            "type": "scatterpolar"
           }
          ],
          "scatterpolargl": [
           {
            "marker": {
             "colorbar": {
              "outlinewidth": 0,
              "ticks": ""
             }
            },
            "type": "scatterpolargl"
           }
          ],
          "scatterternary": [
           {
            "marker": {
             "colorbar": {
              "outlinewidth": 0,
              "ticks": ""
             }
            },
            "type": "scatterternary"
           }
          ],
          "surface": [
           {
            "colorbar": {
             "outlinewidth": 0,
             "ticks": ""
            },
            "colorscale": [
             [
              0,
              "#0d0887"
             ],
             [
              0.1111111111111111,
              "#46039f"
             ],
             [
              0.2222222222222222,
              "#7201a8"
             ],
             [
              0.3333333333333333,
              "#9c179e"
             ],
             [
              0.4444444444444444,
              "#bd3786"
             ],
             [
              0.5555555555555556,
              "#d8576b"
             ],
             [
              0.6666666666666666,
              "#ed7953"
             ],
             [
              0.7777777777777778,
              "#fb9f3a"
             ],
             [
              0.8888888888888888,
              "#fdca26"
             ],
             [
              1,
              "#f0f921"
             ]
            ],
            "type": "surface"
           }
          ],
          "table": [
           {
            "cells": {
             "fill": {
              "color": "#EBF0F8"
             },
             "line": {
              "color": "white"
             }
            },
            "header": {
             "fill": {
              "color": "#C8D4E3"
             },
             "line": {
              "color": "white"
             }
            },
            "type": "table"
           }
          ]
         },
         "layout": {
          "annotationdefaults": {
           "arrowcolor": "#2a3f5f",
           "arrowhead": 0,
           "arrowwidth": 1
          },
          "autotypenumbers": "strict",
          "coloraxis": {
           "colorbar": {
            "outlinewidth": 0,
            "ticks": ""
           }
          },
          "colorscale": {
           "diverging": [
            [
             0,
             "#8e0152"
            ],
            [
             0.1,
             "#c51b7d"
            ],
            [
             0.2,
             "#de77ae"
            ],
            [
             0.3,
             "#f1b6da"
            ],
            [
             0.4,
             "#fde0ef"
            ],
            [
             0.5,
             "#f7f7f7"
            ],
            [
             0.6,
             "#e6f5d0"
            ],
            [
             0.7,
             "#b8e186"
            ],
            [
             0.8,
             "#7fbc41"
            ],
            [
             0.9,
             "#4d9221"
            ],
            [
             1,
             "#276419"
            ]
           ],
           "sequential": [
            [
             0,
             "#0d0887"
            ],
            [
             0.1111111111111111,
             "#46039f"
            ],
            [
             0.2222222222222222,
             "#7201a8"
            ],
            [
             0.3333333333333333,
             "#9c179e"
            ],
            [
             0.4444444444444444,
             "#bd3786"
            ],
            [
             0.5555555555555556,
             "#d8576b"
            ],
            [
             0.6666666666666666,
             "#ed7953"
            ],
            [
             0.7777777777777778,
             "#fb9f3a"
            ],
            [
             0.8888888888888888,
             "#fdca26"
            ],
            [
             1,
             "#f0f921"
            ]
           ],
           "sequentialminus": [
            [
             0,
             "#0d0887"
            ],
            [
             0.1111111111111111,
             "#46039f"
            ],
            [
             0.2222222222222222,
             "#7201a8"
            ],
            [
             0.3333333333333333,
             "#9c179e"
            ],
            [
             0.4444444444444444,
             "#bd3786"
            ],
            [
             0.5555555555555556,
             "#d8576b"
            ],
            [
             0.6666666666666666,
             "#ed7953"
            ],
            [
             0.7777777777777778,
             "#fb9f3a"
            ],
            [
             0.8888888888888888,
             "#fdca26"
            ],
            [
             1,
             "#f0f921"
            ]
           ]
          },
          "colorway": [
           "#636efa",
           "#EF553B",
           "#00cc96",
           "#ab63fa",
           "#FFA15A",
           "#19d3f3",
           "#FF6692",
           "#B6E880",
           "#FF97FF",
           "#FECB52"
          ],
          "font": {
           "color": "#2a3f5f"
          },
          "geo": {
           "bgcolor": "white",
           "lakecolor": "white",
           "landcolor": "#E5ECF6",
           "showlakes": true,
           "showland": true,
           "subunitcolor": "white"
          },
          "hoverlabel": {
           "align": "left"
          },
          "hovermode": "closest",
          "mapbox": {
           "style": "light"
          },
          "paper_bgcolor": "white",
          "plot_bgcolor": "#E5ECF6",
          "polar": {
           "angularaxis": {
            "gridcolor": "white",
            "linecolor": "white",
            "ticks": ""
           },
           "bgcolor": "#E5ECF6",
           "radialaxis": {
            "gridcolor": "white",
            "linecolor": "white",
            "ticks": ""
           }
          },
          "scene": {
           "xaxis": {
            "backgroundcolor": "#E5ECF6",
            "gridcolor": "white",
            "gridwidth": 2,
            "linecolor": "white",
            "showbackground": true,
            "ticks": "",
            "zerolinecolor": "white"
           },
           "yaxis": {
            "backgroundcolor": "#E5ECF6",
            "gridcolor": "white",
            "gridwidth": 2,
            "linecolor": "white",
            "showbackground": true,
            "ticks": "",
            "zerolinecolor": "white"
           },
           "zaxis": {
            "backgroundcolor": "#E5ECF6",
            "gridcolor": "white",
            "gridwidth": 2,
            "linecolor": "white",
            "showbackground": true,
            "ticks": "",
            "zerolinecolor": "white"
           }
          },
          "shapedefaults": {
           "line": {
            "color": "#2a3f5f"
           }
          },
          "ternary": {
           "aaxis": {
            "gridcolor": "white",
            "linecolor": "white",
            "ticks": ""
           },
           "baxis": {
            "gridcolor": "white",
            "linecolor": "white",
            "ticks": ""
           },
           "bgcolor": "#E5ECF6",
           "caxis": {
            "gridcolor": "white",
            "linecolor": "white",
            "ticks": ""
           }
          },
          "title": {
           "x": 0.05
          },
          "xaxis": {
           "automargin": true,
           "gridcolor": "white",
           "linecolor": "white",
           "ticks": "",
           "title": {
            "standoff": 15
           },
           "zerolinecolor": "white",
           "zerolinewidth": 2
          },
          "yaxis": {
           "automargin": true,
           "gridcolor": "white",
           "linecolor": "white",
           "ticks": "",
           "title": {
            "standoff": 15
           },
           "zerolinecolor": "white",
           "zerolinewidth": 2
          }
         }
        },
        "title": {
         "text": "Сравнение предсказаний нейронной сети и фактических температур"
        },
        "xaxis": {
         "title": {
          "text": "Условный номер звезды"
         }
        },
        "yaxis": {
         "title": {
          "text": "Температура звезды, К"
         }
        }
       }
      }
     },
     "metadata": {},
     "output_type": "display_data"
    }
   ],
   "source": [
    "fig_1 = go.Figure()\n",
    "\n",
    "fig_1.add_trace(\n",
    "    go.Bar(\n",
    "        x = df_1.index, \n",
    "        y = df_1['Actual'],\n",
    "        name='Фактическая температура',\n",
    "        marker_color='rgb(0,0,100)'\n",
    "    )\n",
    ")\n",
    "\n",
    "fig_1.add_trace(\n",
    "    go.Bar(\n",
    "        x = df_1.index, \n",
    "        y = df_1['Predicted'],\n",
    "        name='Предсказания',\n",
    "        marker_color='rgb(0,200,200)'\n",
    "    )\n",
    ")\n",
    "\n",
    "fig_1.update_layout(title=\"Сравнение предсказаний нейронной сети и фактических температур\",\n",
    "                    xaxis_title=\"Условный номер звезды\",\n",
    "                    yaxis_title=\"Температура звезды, К\",\n",
    "                    legend=dict(x=.5, xanchor=\"center\", yanchor=\"bottom\", y=-.3, orientation=\"h\"),\n",
    "                   )\n",
    "\n",
    "fig_1.show()"
   ]
  },
  {
   "cell_type": "markdown",
   "id": "61cd9a50",
   "metadata": {},
   "source": [
    "<b>График показывает, что наибольшие трудности у сети появляются при предсказании температур для звезд с высокой температурой на поверхности - предсказание в каждом из случаев ниже. Попробуем увеличить количество слоев</b>"
   ]
  },
  {
   "cell_type": "markdown",
   "id": "023bd4e2",
   "metadata": {},
   "source": [
    "### Базовая модель 2"
   ]
  },
  {
   "cell_type": "markdown",
   "id": "08e22dd5",
   "metadata": {},
   "source": [
    "В данной модели: \n",
    "1. 5 скрытых слоев; \n",
    "2. функция активации - `ReLU()`;\n",
    "3. 1000 нейронов на каждом слое."
   ]
  },
  {
   "cell_type": "code",
   "execution_count": 33,
   "id": "a540c321",
   "metadata": {},
   "outputs": [],
   "source": [
    "n_in_neurons = 9\n",
    "n_hidden_neurons_1 = 1000\n",
    "n_hidden_neurons_2 = 1000\n",
    "n_hidden_neurons_3 = 1000\n",
    "n_hidden_neurons_4 = 1000\n",
    "n_hidden_neurons_5 = 1000\n",
    "n_out_neurons = 1 "
   ]
  },
  {
   "cell_type": "code",
   "execution_count": 34,
   "id": "e802364c",
   "metadata": {},
   "outputs": [
    {
     "name": "stdout",
     "output_type": "stream",
     "text": [
      "tensor(13330.6016)\n",
      "tensor(4703.6099)\n",
      "tensor(4719.1001)\n",
      "tensor(4442.8994)\n",
      "tensor(4471.5664)\n",
      "tensor(4252.2095)\n",
      "tensor(4034.5486)\n",
      "tensor(4074.1475)\n",
      "tensor(4021.1863)\n",
      "tensor(3668.4448)\n",
      "tensor(3529.5161)\n"
     ]
    }
   ],
   "source": [
    "net_2 = nn.Sequential(\n",
    "    nn.Linear(n_in_neurons, n_hidden_neurons_1),\n",
    "    nn.ReLU(),\n",
    "    nn.Linear(n_hidden_neurons_1, n_hidden_neurons_2),\n",
    "    nn.ReLU(),\n",
    "    nn.Linear(n_hidden_neurons_2, n_hidden_neurons_3),\n",
    "    nn.ReLU(),\n",
    "    nn.Linear(n_hidden_neurons_3, n_hidden_neurons_4),\n",
    "    nn.ReLU(),\n",
    "    nn.Linear(n_hidden_neurons_4, n_hidden_neurons_5),\n",
    "    nn.ReLU(),\n",
    "    nn.Linear(n_hidden_neurons_5, n_out_neurons)\n",
    ")\n",
    "\n",
    "optimizer = torch.optim.Adam(net_2.parameters(), lr=1.0e-3)\n",
    "\n",
    "loss = nn.MSELoss()\n",
    "\n",
    "num_epochs = 1000\n",
    "\n",
    "for epoch in range(num_epochs):\n",
    "    net_2.train()\n",
    "    optimizer.zero_grad()\n",
    "    \n",
    "    preds = net_2(features_train).flatten()\n",
    "    \n",
    "    loss_value = torch.sqrt(loss(preds, target_train))\n",
    "    loss_value.backward()\n",
    "    optimizer.step()\n",
    "    \n",
    "    if epoch % 100 == 0 or epoch == max(range(num_epochs)):\n",
    "        with torch.no_grad():\n",
    "            net_2.eval()\n",
    "            test_preds = net_2(features_test).flatten()\n",
    "            loss_rmse = torch.sqrt(loss(test_preds, target_test))\n",
    "            print(loss_rmse)"
   ]
  },
  {
   "cell_type": "code",
   "execution_count": 35,
   "id": "928ad71e",
   "metadata": {},
   "outputs": [
    {
     "name": "stdout",
     "output_type": "stream",
     "text": [
      "     Actual     Predicted\n",
      "0    3463.0   2910.401855\n",
      "1    7100.0   4212.903320\n",
      "2    3752.0   3985.748291\n",
      "3    3095.0   3304.943115\n",
      "4    2650.0   2852.616455\n",
      "..      ...           ...\n",
      "67   8930.0   8401.390625\n",
      "68  19923.0  23013.718750\n",
      "69   3574.0   3580.163330\n",
      "70   2871.0   2759.996338\n",
      "71   7282.0  10745.459961\n",
      "\n",
      "[72 rows x 2 columns]\n"
     ]
    }
   ],
   "source": [
    "test_preds = [test_preds[x].item() for x in range(len(test_preds))]\n",
    "\n",
    "df_2 = {}\n",
    "df_2['Actual'] = target_test\n",
    "df_2['Predicted'] = test_preds\n",
    "df_2 = pd.DataFrame(df_2)\n",
    "print(df_2)"
   ]
  },
  {
   "cell_type": "code",
   "execution_count": 36,
   "id": "760a22fe",
   "metadata": {},
   "outputs": [
    {
     "data": {
      "application/vnd.plotly.v1+json": {
       "config": {
        "plotlyServerURL": "https://plot.ly"
       },
       "data": [
        {
         "marker": {
          "color": "rgb(0,0,100)"
         },
         "name": "Фактическая температура",
         "type": "bar",
         "x": [
          0,
          1,
          2,
          3,
          4,
          5,
          6,
          7,
          8,
          9,
          10,
          11,
          12,
          13,
          14,
          15,
          16,
          17,
          18,
          19,
          20,
          21,
          22,
          23,
          24,
          25,
          26,
          27,
          28,
          29,
          30,
          31,
          32,
          33,
          34,
          35,
          36,
          37,
          38,
          39,
          40,
          41,
          42,
          43,
          44,
          45,
          46,
          47,
          48,
          49,
          50,
          51,
          52,
          53,
          54,
          55,
          56,
          57,
          58,
          59,
          60,
          61,
          62,
          63,
          64,
          65,
          66,
          67,
          68,
          69,
          70,
          71
         ],
         "y": [
          3463,
          7100,
          3752,
          3095,
          2650,
          9383,
          24145,
          2983,
          9700,
          5752,
          37882,
          9320,
          17200,
          5300,
          2600,
          24020,
          24630,
          12990,
          4015,
          3660,
          2835,
          14060,
          22012,
          3129,
          18000,
          3511,
          21020,
          2774,
          3212,
          3628,
          3650,
          2637,
          3399,
          3295,
          34190,
          14100,
          16500,
          10574,
          3324,
          3462,
          3600,
          1939,
          8924,
          4980,
          2650,
          8829,
          19860,
          17120,
          11567,
          30000,
          6380,
          3575,
          13420,
          9675,
          3146,
          19360,
          10980,
          7230,
          2731,
          3541,
          12749,
          38234,
          3270,
          3068,
          3450,
          3598,
          16787,
          8930,
          19923,
          3574,
          2871,
          7282
         ]
        },
        {
         "marker": {
          "color": "rgb(0,200,200)"
         },
         "name": "Предсказания",
         "type": "bar",
         "x": [
          0,
          1,
          2,
          3,
          4,
          5,
          6,
          7,
          8,
          9,
          10,
          11,
          12,
          13,
          14,
          15,
          16,
          17,
          18,
          19,
          20,
          21,
          22,
          23,
          24,
          25,
          26,
          27,
          28,
          29,
          30,
          31,
          32,
          33,
          34,
          35,
          36,
          37,
          38,
          39,
          40,
          41,
          42,
          43,
          44,
          45,
          46,
          47,
          48,
          49,
          50,
          51,
          52,
          53,
          54,
          55,
          56,
          57,
          58,
          59,
          60,
          61,
          62,
          63,
          64,
          65,
          66,
          67,
          68,
          69,
          70,
          71
         ],
         "y": [
          2910.40185546875,
          4212.9033203125,
          3985.748291015625,
          3304.943115234375,
          2852.616455078125,
          13055.2021484375,
          22464.0078125,
          2900.997314453125,
          8651.0927734375,
          14045.677734375,
          22956.90234375,
          8545.3642578125,
          11235.7041015625,
          5273.9951171875,
          2789.356689453125,
          19829.20703125,
          22327.197265625,
          11588.5869140625,
          3902.673095703125,
          3594.572998046875,
          2866.914306640625,
          13258.5263671875,
          15756.6787109375,
          3180.736083984375,
          30063.677734375,
          2863.28662109375,
          16521.611328125,
          2854.130615234375,
          3059.760498046875,
          3356.496826171875,
          4144.2822265625,
          2859.79345703125,
          3406.147705078125,
          2862.787841796875,
          35157.43359375,
          11552.6845703125,
          11853.1298828125,
          17131.828125,
          3067.029052734375,
          3220.016357421875,
          4531.962890625,
          2787.006103515625,
          8155.55810546875,
          4619.8203125,
          3182.96875,
          11967.6708984375,
          17037.16015625,
          13603.2490234375,
          22046.16015625,
          30250.8359375,
          6750.2021484375,
          2827.5263671875,
          9514.09765625,
          9070.240234375,
          2867.730712890625,
          16259.33984375,
          13392.935546875,
          8086.12890625,
          2828.95458984375,
          2950.697509765625,
          12544.8916015625,
          31820.904296875,
          3251.535400390625,
          2898.50390625,
          4089.280517578125,
          2954.168701171875,
          16875.404296875,
          8401.390625,
          23013.71875,
          3580.163330078125,
          2759.996337890625,
          10745.4599609375
         ]
        }
       ],
       "layout": {
        "legend": {
         "orientation": "h",
         "x": 0.5,
         "xanchor": "center",
         "y": -0.3,
         "yanchor": "bottom"
        },
        "template": {
         "data": {
          "bar": [
           {
            "error_x": {
             "color": "#2a3f5f"
            },
            "error_y": {
             "color": "#2a3f5f"
            },
            "marker": {
             "line": {
              "color": "#E5ECF6",
              "width": 0.5
             },
             "pattern": {
              "fillmode": "overlay",
              "size": 10,
              "solidity": 0.2
             }
            },
            "type": "bar"
           }
          ],
          "barpolar": [
           {
            "marker": {
             "line": {
              "color": "#E5ECF6",
              "width": 0.5
             },
             "pattern": {
              "fillmode": "overlay",
              "size": 10,
              "solidity": 0.2
             }
            },
            "type": "barpolar"
           }
          ],
          "carpet": [
           {
            "aaxis": {
             "endlinecolor": "#2a3f5f",
             "gridcolor": "white",
             "linecolor": "white",
             "minorgridcolor": "white",
             "startlinecolor": "#2a3f5f"
            },
            "baxis": {
             "endlinecolor": "#2a3f5f",
             "gridcolor": "white",
             "linecolor": "white",
             "minorgridcolor": "white",
             "startlinecolor": "#2a3f5f"
            },
            "type": "carpet"
           }
          ],
          "choropleth": [
           {
            "colorbar": {
             "outlinewidth": 0,
             "ticks": ""
            },
            "type": "choropleth"
           }
          ],
          "contour": [
           {
            "colorbar": {
             "outlinewidth": 0,
             "ticks": ""
            },
            "colorscale": [
             [
              0,
              "#0d0887"
             ],
             [
              0.1111111111111111,
              "#46039f"
             ],
             [
              0.2222222222222222,
              "#7201a8"
             ],
             [
              0.3333333333333333,
              "#9c179e"
             ],
             [
              0.4444444444444444,
              "#bd3786"
             ],
             [
              0.5555555555555556,
              "#d8576b"
             ],
             [
              0.6666666666666666,
              "#ed7953"
             ],
             [
              0.7777777777777778,
              "#fb9f3a"
             ],
             [
              0.8888888888888888,
              "#fdca26"
             ],
             [
              1,
              "#f0f921"
             ]
            ],
            "type": "contour"
           }
          ],
          "contourcarpet": [
           {
            "colorbar": {
             "outlinewidth": 0,
             "ticks": ""
            },
            "type": "contourcarpet"
           }
          ],
          "heatmap": [
           {
            "colorbar": {
             "outlinewidth": 0,
             "ticks": ""
            },
            "colorscale": [
             [
              0,
              "#0d0887"
             ],
             [
              0.1111111111111111,
              "#46039f"
             ],
             [
              0.2222222222222222,
              "#7201a8"
             ],
             [
              0.3333333333333333,
              "#9c179e"
             ],
             [
              0.4444444444444444,
              "#bd3786"
             ],
             [
              0.5555555555555556,
              "#d8576b"
             ],
             [
              0.6666666666666666,
              "#ed7953"
             ],
             [
              0.7777777777777778,
              "#fb9f3a"
             ],
             [
              0.8888888888888888,
              "#fdca26"
             ],
             [
              1,
              "#f0f921"
             ]
            ],
            "type": "heatmap"
           }
          ],
          "heatmapgl": [
           {
            "colorbar": {
             "outlinewidth": 0,
             "ticks": ""
            },
            "colorscale": [
             [
              0,
              "#0d0887"
             ],
             [
              0.1111111111111111,
              "#46039f"
             ],
             [
              0.2222222222222222,
              "#7201a8"
             ],
             [
              0.3333333333333333,
              "#9c179e"
             ],
             [
              0.4444444444444444,
              "#bd3786"
             ],
             [
              0.5555555555555556,
              "#d8576b"
             ],
             [
              0.6666666666666666,
              "#ed7953"
             ],
             [
              0.7777777777777778,
              "#fb9f3a"
             ],
             [
              0.8888888888888888,
              "#fdca26"
             ],
             [
              1,
              "#f0f921"
             ]
            ],
            "type": "heatmapgl"
           }
          ],
          "histogram": [
           {
            "marker": {
             "pattern": {
              "fillmode": "overlay",
              "size": 10,
              "solidity": 0.2
             }
            },
            "type": "histogram"
           }
          ],
          "histogram2d": [
           {
            "colorbar": {
             "outlinewidth": 0,
             "ticks": ""
            },
            "colorscale": [
             [
              0,
              "#0d0887"
             ],
             [
              0.1111111111111111,
              "#46039f"
             ],
             [
              0.2222222222222222,
              "#7201a8"
             ],
             [
              0.3333333333333333,
              "#9c179e"
             ],
             [
              0.4444444444444444,
              "#bd3786"
             ],
             [
              0.5555555555555556,
              "#d8576b"
             ],
             [
              0.6666666666666666,
              "#ed7953"
             ],
             [
              0.7777777777777778,
              "#fb9f3a"
             ],
             [
              0.8888888888888888,
              "#fdca26"
             ],
             [
              1,
              "#f0f921"
             ]
            ],
            "type": "histogram2d"
           }
          ],
          "histogram2dcontour": [
           {
            "colorbar": {
             "outlinewidth": 0,
             "ticks": ""
            },
            "colorscale": [
             [
              0,
              "#0d0887"
             ],
             [
              0.1111111111111111,
              "#46039f"
             ],
             [
              0.2222222222222222,
              "#7201a8"
             ],
             [
              0.3333333333333333,
              "#9c179e"
             ],
             [
              0.4444444444444444,
              "#bd3786"
             ],
             [
              0.5555555555555556,
              "#d8576b"
             ],
             [
              0.6666666666666666,
              "#ed7953"
             ],
             [
              0.7777777777777778,
              "#fb9f3a"
             ],
             [
              0.8888888888888888,
              "#fdca26"
             ],
             [
              1,
              "#f0f921"
             ]
            ],
            "type": "histogram2dcontour"
           }
          ],
          "mesh3d": [
           {
            "colorbar": {
             "outlinewidth": 0,
             "ticks": ""
            },
            "type": "mesh3d"
           }
          ],
          "parcoords": [
           {
            "line": {
             "colorbar": {
              "outlinewidth": 0,
              "ticks": ""
             }
            },
            "type": "parcoords"
           }
          ],
          "pie": [
           {
            "automargin": true,
            "type": "pie"
           }
          ],
          "scatter": [
           {
            "fillpattern": {
             "fillmode": "overlay",
             "size": 10,
             "solidity": 0.2
            },
            "type": "scatter"
           }
          ],
          "scatter3d": [
           {
            "line": {
             "colorbar": {
              "outlinewidth": 0,
              "ticks": ""
             }
            },
            "marker": {
             "colorbar": {
              "outlinewidth": 0,
              "ticks": ""
             }
            },
            "type": "scatter3d"
           }
          ],
          "scattercarpet": [
           {
            "marker": {
             "colorbar": {
              "outlinewidth": 0,
              "ticks": ""
             }
            },
            "type": "scattercarpet"
           }
          ],
          "scattergeo": [
           {
            "marker": {
             "colorbar": {
              "outlinewidth": 0,
              "ticks": ""
             }
            },
            "type": "scattergeo"
           }
          ],
          "scattergl": [
           {
            "marker": {
             "colorbar": {
              "outlinewidth": 0,
              "ticks": ""
             }
            },
            "type": "scattergl"
           }
          ],
          "scattermapbox": [
           {
            "marker": {
             "colorbar": {
              "outlinewidth": 0,
              "ticks": ""
             }
            },
            "type": "scattermapbox"
           }
          ],
          "scatterpolar": [
           {
            "marker": {
             "colorbar": {
              "outlinewidth": 0,
              "ticks": ""
             }
            },
            "type": "scatterpolar"
           }
          ],
          "scatterpolargl": [
           {
            "marker": {
             "colorbar": {
              "outlinewidth": 0,
              "ticks": ""
             }
            },
            "type": "scatterpolargl"
           }
          ],
          "scatterternary": [
           {
            "marker": {
             "colorbar": {
              "outlinewidth": 0,
              "ticks": ""
             }
            },
            "type": "scatterternary"
           }
          ],
          "surface": [
           {
            "colorbar": {
             "outlinewidth": 0,
             "ticks": ""
            },
            "colorscale": [
             [
              0,
              "#0d0887"
             ],
             [
              0.1111111111111111,
              "#46039f"
             ],
             [
              0.2222222222222222,
              "#7201a8"
             ],
             [
              0.3333333333333333,
              "#9c179e"
             ],
             [
              0.4444444444444444,
              "#bd3786"
             ],
             [
              0.5555555555555556,
              "#d8576b"
             ],
             [
              0.6666666666666666,
              "#ed7953"
             ],
             [
              0.7777777777777778,
              "#fb9f3a"
             ],
             [
              0.8888888888888888,
              "#fdca26"
             ],
             [
              1,
              "#f0f921"
             ]
            ],
            "type": "surface"
           }
          ],
          "table": [
           {
            "cells": {
             "fill": {
              "color": "#EBF0F8"
             },
             "line": {
              "color": "white"
             }
            },
            "header": {
             "fill": {
              "color": "#C8D4E3"
             },
             "line": {
              "color": "white"
             }
            },
            "type": "table"
           }
          ]
         },
         "layout": {
          "annotationdefaults": {
           "arrowcolor": "#2a3f5f",
           "arrowhead": 0,
           "arrowwidth": 1
          },
          "autotypenumbers": "strict",
          "coloraxis": {
           "colorbar": {
            "outlinewidth": 0,
            "ticks": ""
           }
          },
          "colorscale": {
           "diverging": [
            [
             0,
             "#8e0152"
            ],
            [
             0.1,
             "#c51b7d"
            ],
            [
             0.2,
             "#de77ae"
            ],
            [
             0.3,
             "#f1b6da"
            ],
            [
             0.4,
             "#fde0ef"
            ],
            [
             0.5,
             "#f7f7f7"
            ],
            [
             0.6,
             "#e6f5d0"
            ],
            [
             0.7,
             "#b8e186"
            ],
            [
             0.8,
             "#7fbc41"
            ],
            [
             0.9,
             "#4d9221"
            ],
            [
             1,
             "#276419"
            ]
           ],
           "sequential": [
            [
             0,
             "#0d0887"
            ],
            [
             0.1111111111111111,
             "#46039f"
            ],
            [
             0.2222222222222222,
             "#7201a8"
            ],
            [
             0.3333333333333333,
             "#9c179e"
            ],
            [
             0.4444444444444444,
             "#bd3786"
            ],
            [
             0.5555555555555556,
             "#d8576b"
            ],
            [
             0.6666666666666666,
             "#ed7953"
            ],
            [
             0.7777777777777778,
             "#fb9f3a"
            ],
            [
             0.8888888888888888,
             "#fdca26"
            ],
            [
             1,
             "#f0f921"
            ]
           ],
           "sequentialminus": [
            [
             0,
             "#0d0887"
            ],
            [
             0.1111111111111111,
             "#46039f"
            ],
            [
             0.2222222222222222,
             "#7201a8"
            ],
            [
             0.3333333333333333,
             "#9c179e"
            ],
            [
             0.4444444444444444,
             "#bd3786"
            ],
            [
             0.5555555555555556,
             "#d8576b"
            ],
            [
             0.6666666666666666,
             "#ed7953"
            ],
            [
             0.7777777777777778,
             "#fb9f3a"
            ],
            [
             0.8888888888888888,
             "#fdca26"
            ],
            [
             1,
             "#f0f921"
            ]
           ]
          },
          "colorway": [
           "#636efa",
           "#EF553B",
           "#00cc96",
           "#ab63fa",
           "#FFA15A",
           "#19d3f3",
           "#FF6692",
           "#B6E880",
           "#FF97FF",
           "#FECB52"
          ],
          "font": {
           "color": "#2a3f5f"
          },
          "geo": {
           "bgcolor": "white",
           "lakecolor": "white",
           "landcolor": "#E5ECF6",
           "showlakes": true,
           "showland": true,
           "subunitcolor": "white"
          },
          "hoverlabel": {
           "align": "left"
          },
          "hovermode": "closest",
          "mapbox": {
           "style": "light"
          },
          "paper_bgcolor": "white",
          "plot_bgcolor": "#E5ECF6",
          "polar": {
           "angularaxis": {
            "gridcolor": "white",
            "linecolor": "white",
            "ticks": ""
           },
           "bgcolor": "#E5ECF6",
           "radialaxis": {
            "gridcolor": "white",
            "linecolor": "white",
            "ticks": ""
           }
          },
          "scene": {
           "xaxis": {
            "backgroundcolor": "#E5ECF6",
            "gridcolor": "white",
            "gridwidth": 2,
            "linecolor": "white",
            "showbackground": true,
            "ticks": "",
            "zerolinecolor": "white"
           },
           "yaxis": {
            "backgroundcolor": "#E5ECF6",
            "gridcolor": "white",
            "gridwidth": 2,
            "linecolor": "white",
            "showbackground": true,
            "ticks": "",
            "zerolinecolor": "white"
           },
           "zaxis": {
            "backgroundcolor": "#E5ECF6",
            "gridcolor": "white",
            "gridwidth": 2,
            "linecolor": "white",
            "showbackground": true,
            "ticks": "",
            "zerolinecolor": "white"
           }
          },
          "shapedefaults": {
           "line": {
            "color": "#2a3f5f"
           }
          },
          "ternary": {
           "aaxis": {
            "gridcolor": "white",
            "linecolor": "white",
            "ticks": ""
           },
           "baxis": {
            "gridcolor": "white",
            "linecolor": "white",
            "ticks": ""
           },
           "bgcolor": "#E5ECF6",
           "caxis": {
            "gridcolor": "white",
            "linecolor": "white",
            "ticks": ""
           }
          },
          "title": {
           "x": 0.05
          },
          "xaxis": {
           "automargin": true,
           "gridcolor": "white",
           "linecolor": "white",
           "ticks": "",
           "title": {
            "standoff": 15
           },
           "zerolinecolor": "white",
           "zerolinewidth": 2
          },
          "yaxis": {
           "automargin": true,
           "gridcolor": "white",
           "linecolor": "white",
           "ticks": "",
           "title": {
            "standoff": 15
           },
           "zerolinecolor": "white",
           "zerolinewidth": 2
          }
         }
        },
        "title": {
         "text": "Сравнение предсказаний нейронной сети и фактических температур"
        },
        "xaxis": {
         "title": {
          "text": "Условный номер звезды"
         }
        },
        "yaxis": {
         "title": {
          "text": "Температура звезды, К"
         }
        }
       }
      }
     },
     "metadata": {},
     "output_type": "display_data"
    }
   ],
   "source": [
    "fig_2 = go.Figure()\n",
    "\n",
    "fig_2.add_trace(\n",
    "    go.Bar(\n",
    "        x = df_2.index, \n",
    "        y = df_2['Actual'],\n",
    "        name='Фактическая температура',\n",
    "        marker_color='rgb(0,0,100)'\n",
    "    )\n",
    ")\n",
    "\n",
    "fig_2.add_trace(\n",
    "    go.Bar(\n",
    "        x = df_2.index, \n",
    "        y = df_2['Predicted'],\n",
    "        name='Предсказания',\n",
    "        marker_color='rgb(0,200,200)'\n",
    "    )\n",
    ")\n",
    "\n",
    "fig_2.update_layout(title=\"Сравнение предсказаний нейронной сети и фактических температур\",\n",
    "                    xaxis_title=\"Условный номер звезды\",\n",
    "                    yaxis_title=\"Температура звезды, К\",\n",
    "                    legend=dict(x=.5, xanchor=\"center\", yanchor=\"bottom\", y=-.3, orientation=\"h\"),\n",
    "                   )\n",
    "\n",
    "fig_2.show()"
   ]
  },
  {
   "cell_type": "markdown",
   "id": "2ae44619",
   "metadata": {},
   "source": [
    "<b>Сеть стала лучше определять значения для звезд с высокой температурой на поверхности, значение метрики RMSE также уменьшилось. Попробуем изменить функцию активации</b>"
   ]
  },
  {
   "cell_type": "markdown",
   "id": "7f28f347",
   "metadata": {},
   "source": [
    "### Базовая модель 3"
   ]
  },
  {
   "cell_type": "markdown",
   "id": "a981d888",
   "metadata": {},
   "source": [
    "В данной модели: \n",
    "1. 5 скрытых слоев; \n",
    "2. функция активации - `Sigmoid()`;\n",
    "3. 1000 нейронов на каждом слое."
   ]
  },
  {
   "cell_type": "code",
   "execution_count": 37,
   "id": "cb83d88c",
   "metadata": {},
   "outputs": [],
   "source": [
    "n_in_neurons = 9\n",
    "n_hidden_neurons_1 = 1000\n",
    "n_hidden_neurons_2 = 1000\n",
    "n_hidden_neurons_3 = 1000\n",
    "n_hidden_neurons_4 = 1000\n",
    "n_hidden_neurons_5 = 1000\n",
    "n_out_neurons = 1 "
   ]
  },
  {
   "cell_type": "code",
   "execution_count": 38,
   "id": "d5db5a50",
   "metadata": {},
   "outputs": [
    {
     "name": "stdout",
     "output_type": "stream",
     "text": [
      "tensor(13328.7080)\n",
      "tensor(13280.9551)\n",
      "tensor(13236.7051)\n",
      "tensor(13192.5098)\n",
      "tensor(13147.5615)\n",
      "tensor(13102.5264)\n",
      "tensor(13056.9326)\n",
      "tensor(13011.4248)\n",
      "tensor(12965.1406)\n",
      "tensor(12918.6855)\n",
      "tensor(12872.9717)\n"
     ]
    }
   ],
   "source": [
    "net_3 = nn.Sequential(\n",
    "    nn.Linear(n_in_neurons, n_hidden_neurons_1),\n",
    "    nn.Sigmoid(),\n",
    "    nn.Linear(n_hidden_neurons_1, n_hidden_neurons_2),\n",
    "    nn.Sigmoid(),\n",
    "    nn.Linear(n_hidden_neurons_2, n_hidden_neurons_3),\n",
    "    nn.Sigmoid(),\n",
    "    nn.Linear(n_hidden_neurons_3, n_hidden_neurons_4),\n",
    "    nn.Sigmoid(),\n",
    "    nn.Linear(n_hidden_neurons_4, n_hidden_neurons_5),\n",
    "    nn.Sigmoid(),\n",
    "    nn.Linear(n_hidden_neurons_5, n_out_neurons)\n",
    ")\n",
    "\n",
    "optimizer = torch.optim.Adam(net_3.parameters(), lr=1.0e-3)\n",
    "\n",
    "loss = nn.MSELoss()\n",
    "\n",
    "num_epochs = 1000\n",
    "\n",
    "for epoch in range(num_epochs):\n",
    "    net_3.train()\n",
    "    optimizer.zero_grad()\n",
    "    \n",
    "    preds = net_3(features_train).flatten()\n",
    "    \n",
    "    loss_value = torch.sqrt(loss(preds, target_train))\n",
    "    loss_value.backward()\n",
    "    optimizer.step()\n",
    "    \n",
    "    if epoch % 100 == 0 or epoch == max(range(num_epochs)):\n",
    "        with torch.no_grad():\n",
    "            net_3.eval()\n",
    "            test_preds = net_3(features_test).flatten()\n",
    "            loss_rmse = torch.sqrt(loss(test_preds, target_test))\n",
    "            print(loss_rmse)"
   ]
  },
  {
   "cell_type": "code",
   "execution_count": 39,
   "id": "efcfb5e0",
   "metadata": {},
   "outputs": [
    {
     "name": "stdout",
     "output_type": "stream",
     "text": [
      "     Actual   Predicted\n",
      "0    3463.0  622.829224\n",
      "1    7100.0  622.829224\n",
      "2    3752.0  622.829224\n",
      "3    3095.0  622.829224\n",
      "4    2650.0  622.829224\n",
      "..      ...         ...\n",
      "67   8930.0  622.829224\n",
      "68  19923.0  622.829224\n",
      "69   3574.0  622.829224\n",
      "70   2871.0  622.829224\n",
      "71   7282.0  622.829224\n",
      "\n",
      "[72 rows x 2 columns]\n"
     ]
    }
   ],
   "source": [
    "test_preds = [test_preds[x].item() for x in range(len(test_preds))]\n",
    "\n",
    "df_3 = {}\n",
    "df_3['Actual'] = target_test\n",
    "df_3['Predicted'] = test_preds\n",
    "df_3 = pd.DataFrame(df_3)\n",
    "print(df_3)"
   ]
  },
  {
   "cell_type": "code",
   "execution_count": 40,
   "id": "27e50c96",
   "metadata": {},
   "outputs": [
    {
     "data": {
      "application/vnd.plotly.v1+json": {
       "config": {
        "plotlyServerURL": "https://plot.ly"
       },
       "data": [
        {
         "marker": {
          "color": "rgb(0,0,100)"
         },
         "name": "Фактическая температура",
         "type": "bar",
         "x": [
          0,
          1,
          2,
          3,
          4,
          5,
          6,
          7,
          8,
          9,
          10,
          11,
          12,
          13,
          14,
          15,
          16,
          17,
          18,
          19,
          20,
          21,
          22,
          23,
          24,
          25,
          26,
          27,
          28,
          29,
          30,
          31,
          32,
          33,
          34,
          35,
          36,
          37,
          38,
          39,
          40,
          41,
          42,
          43,
          44,
          45,
          46,
          47,
          48,
          49,
          50,
          51,
          52,
          53,
          54,
          55,
          56,
          57,
          58,
          59,
          60,
          61,
          62,
          63,
          64,
          65,
          66,
          67,
          68,
          69,
          70,
          71
         ],
         "y": [
          3463,
          7100,
          3752,
          3095,
          2650,
          9383,
          24145,
          2983,
          9700,
          5752,
          37882,
          9320,
          17200,
          5300,
          2600,
          24020,
          24630,
          12990,
          4015,
          3660,
          2835,
          14060,
          22012,
          3129,
          18000,
          3511,
          21020,
          2774,
          3212,
          3628,
          3650,
          2637,
          3399,
          3295,
          34190,
          14100,
          16500,
          10574,
          3324,
          3462,
          3600,
          1939,
          8924,
          4980,
          2650,
          8829,
          19860,
          17120,
          11567,
          30000,
          6380,
          3575,
          13420,
          9675,
          3146,
          19360,
          10980,
          7230,
          2731,
          3541,
          12749,
          38234,
          3270,
          3068,
          3450,
          3598,
          16787,
          8930,
          19923,
          3574,
          2871,
          7282
         ]
        },
        {
         "marker": {
          "color": "rgb(0,200,200)"
         },
         "name": "Предсказания",
         "type": "bar",
         "x": [
          0,
          1,
          2,
          3,
          4,
          5,
          6,
          7,
          8,
          9,
          10,
          11,
          12,
          13,
          14,
          15,
          16,
          17,
          18,
          19,
          20,
          21,
          22,
          23,
          24,
          25,
          26,
          27,
          28,
          29,
          30,
          31,
          32,
          33,
          34,
          35,
          36,
          37,
          38,
          39,
          40,
          41,
          42,
          43,
          44,
          45,
          46,
          47,
          48,
          49,
          50,
          51,
          52,
          53,
          54,
          55,
          56,
          57,
          58,
          59,
          60,
          61,
          62,
          63,
          64,
          65,
          66,
          67,
          68,
          69,
          70,
          71
         ],
         "y": [
          622.8292236328125,
          622.8292236328125,
          622.8292236328125,
          622.8292236328125,
          622.8292236328125,
          622.8292236328125,
          622.8292236328125,
          622.8292236328125,
          622.8292236328125,
          622.8292236328125,
          622.8292236328125,
          622.8292236328125,
          622.8292236328125,
          622.8292236328125,
          622.8292236328125,
          622.8292236328125,
          622.8292236328125,
          622.8292236328125,
          622.8292236328125,
          622.8292236328125,
          622.8292236328125,
          622.8292236328125,
          622.8292236328125,
          622.8292236328125,
          622.8292236328125,
          622.8292236328125,
          622.8292236328125,
          622.8292236328125,
          622.8292236328125,
          622.8292236328125,
          622.8292236328125,
          622.8292236328125,
          622.8292236328125,
          622.8292236328125,
          622.8292236328125,
          622.8292236328125,
          622.8292236328125,
          622.8292236328125,
          622.8292236328125,
          622.8292236328125,
          622.8292236328125,
          622.8292236328125,
          622.8292236328125,
          622.8292236328125,
          622.8292236328125,
          622.8292236328125,
          622.8292236328125,
          622.8292236328125,
          622.8292236328125,
          622.8292236328125,
          622.8292236328125,
          622.8292236328125,
          622.8292236328125,
          622.8292236328125,
          622.8292236328125,
          622.8292236328125,
          622.8292236328125,
          622.8292236328125,
          622.8292236328125,
          622.8292236328125,
          622.8292236328125,
          622.8292236328125,
          622.8292236328125,
          622.8292236328125,
          622.8292236328125,
          622.8292236328125,
          622.8292236328125,
          622.8292236328125,
          622.8292236328125,
          622.8292236328125,
          622.8292236328125,
          622.8292236328125
         ]
        }
       ],
       "layout": {
        "legend": {
         "orientation": "h",
         "x": 0.5,
         "xanchor": "center",
         "y": -0.3,
         "yanchor": "bottom"
        },
        "template": {
         "data": {
          "bar": [
           {
            "error_x": {
             "color": "#2a3f5f"
            },
            "error_y": {
             "color": "#2a3f5f"
            },
            "marker": {
             "line": {
              "color": "#E5ECF6",
              "width": 0.5
             },
             "pattern": {
              "fillmode": "overlay",
              "size": 10,
              "solidity": 0.2
             }
            },
            "type": "bar"
           }
          ],
          "barpolar": [
           {
            "marker": {
             "line": {
              "color": "#E5ECF6",
              "width": 0.5
             },
             "pattern": {
              "fillmode": "overlay",
              "size": 10,
              "solidity": 0.2
             }
            },
            "type": "barpolar"
           }
          ],
          "carpet": [
           {
            "aaxis": {
             "endlinecolor": "#2a3f5f",
             "gridcolor": "white",
             "linecolor": "white",
             "minorgridcolor": "white",
             "startlinecolor": "#2a3f5f"
            },
            "baxis": {
             "endlinecolor": "#2a3f5f",
             "gridcolor": "white",
             "linecolor": "white",
             "minorgridcolor": "white",
             "startlinecolor": "#2a3f5f"
            },
            "type": "carpet"
           }
          ],
          "choropleth": [
           {
            "colorbar": {
             "outlinewidth": 0,
             "ticks": ""
            },
            "type": "choropleth"
           }
          ],
          "contour": [
           {
            "colorbar": {
             "outlinewidth": 0,
             "ticks": ""
            },
            "colorscale": [
             [
              0,
              "#0d0887"
             ],
             [
              0.1111111111111111,
              "#46039f"
             ],
             [
              0.2222222222222222,
              "#7201a8"
             ],
             [
              0.3333333333333333,
              "#9c179e"
             ],
             [
              0.4444444444444444,
              "#bd3786"
             ],
             [
              0.5555555555555556,
              "#d8576b"
             ],
             [
              0.6666666666666666,
              "#ed7953"
             ],
             [
              0.7777777777777778,
              "#fb9f3a"
             ],
             [
              0.8888888888888888,
              "#fdca26"
             ],
             [
              1,
              "#f0f921"
             ]
            ],
            "type": "contour"
           }
          ],
          "contourcarpet": [
           {
            "colorbar": {
             "outlinewidth": 0,
             "ticks": ""
            },
            "type": "contourcarpet"
           }
          ],
          "heatmap": [
           {
            "colorbar": {
             "outlinewidth": 0,
             "ticks": ""
            },
            "colorscale": [
             [
              0,
              "#0d0887"
             ],
             [
              0.1111111111111111,
              "#46039f"
             ],
             [
              0.2222222222222222,
              "#7201a8"
             ],
             [
              0.3333333333333333,
              "#9c179e"
             ],
             [
              0.4444444444444444,
              "#bd3786"
             ],
             [
              0.5555555555555556,
              "#d8576b"
             ],
             [
              0.6666666666666666,
              "#ed7953"
             ],
             [
              0.7777777777777778,
              "#fb9f3a"
             ],
             [
              0.8888888888888888,
              "#fdca26"
             ],
             [
              1,
              "#f0f921"
             ]
            ],
            "type": "heatmap"
           }
          ],
          "heatmapgl": [
           {
            "colorbar": {
             "outlinewidth": 0,
             "ticks": ""
            },
            "colorscale": [
             [
              0,
              "#0d0887"
             ],
             [
              0.1111111111111111,
              "#46039f"
             ],
             [
              0.2222222222222222,
              "#7201a8"
             ],
             [
              0.3333333333333333,
              "#9c179e"
             ],
             [
              0.4444444444444444,
              "#bd3786"
             ],
             [
              0.5555555555555556,
              "#d8576b"
             ],
             [
              0.6666666666666666,
              "#ed7953"
             ],
             [
              0.7777777777777778,
              "#fb9f3a"
             ],
             [
              0.8888888888888888,
              "#fdca26"
             ],
             [
              1,
              "#f0f921"
             ]
            ],
            "type": "heatmapgl"
           }
          ],
          "histogram": [
           {
            "marker": {
             "pattern": {
              "fillmode": "overlay",
              "size": 10,
              "solidity": 0.2
             }
            },
            "type": "histogram"
           }
          ],
          "histogram2d": [
           {
            "colorbar": {
             "outlinewidth": 0,
             "ticks": ""
            },
            "colorscale": [
             [
              0,
              "#0d0887"
             ],
             [
              0.1111111111111111,
              "#46039f"
             ],
             [
              0.2222222222222222,
              "#7201a8"
             ],
             [
              0.3333333333333333,
              "#9c179e"
             ],
             [
              0.4444444444444444,
              "#bd3786"
             ],
             [
              0.5555555555555556,
              "#d8576b"
             ],
             [
              0.6666666666666666,
              "#ed7953"
             ],
             [
              0.7777777777777778,
              "#fb9f3a"
             ],
             [
              0.8888888888888888,
              "#fdca26"
             ],
             [
              1,
              "#f0f921"
             ]
            ],
            "type": "histogram2d"
           }
          ],
          "histogram2dcontour": [
           {
            "colorbar": {
             "outlinewidth": 0,
             "ticks": ""
            },
            "colorscale": [
             [
              0,
              "#0d0887"
             ],
             [
              0.1111111111111111,
              "#46039f"
             ],
             [
              0.2222222222222222,
              "#7201a8"
             ],
             [
              0.3333333333333333,
              "#9c179e"
             ],
             [
              0.4444444444444444,
              "#bd3786"
             ],
             [
              0.5555555555555556,
              "#d8576b"
             ],
             [
              0.6666666666666666,
              "#ed7953"
             ],
             [
              0.7777777777777778,
              "#fb9f3a"
             ],
             [
              0.8888888888888888,
              "#fdca26"
             ],
             [
              1,
              "#f0f921"
             ]
            ],
            "type": "histogram2dcontour"
           }
          ],
          "mesh3d": [
           {
            "colorbar": {
             "outlinewidth": 0,
             "ticks": ""
            },
            "type": "mesh3d"
           }
          ],
          "parcoords": [
           {
            "line": {
             "colorbar": {
              "outlinewidth": 0,
              "ticks": ""
             }
            },
            "type": "parcoords"
           }
          ],
          "pie": [
           {
            "automargin": true,
            "type": "pie"
           }
          ],
          "scatter": [
           {
            "fillpattern": {
             "fillmode": "overlay",
             "size": 10,
             "solidity": 0.2
            },
            "type": "scatter"
           }
          ],
          "scatter3d": [
           {
            "line": {
             "colorbar": {
              "outlinewidth": 0,
              "ticks": ""
             }
            },
            "marker": {
             "colorbar": {
              "outlinewidth": 0,
              "ticks": ""
             }
            },
            "type": "scatter3d"
           }
          ],
          "scattercarpet": [
           {
            "marker": {
             "colorbar": {
              "outlinewidth": 0,
              "ticks": ""
             }
            },
            "type": "scattercarpet"
           }
          ],
          "scattergeo": [
           {
            "marker": {
             "colorbar": {
              "outlinewidth": 0,
              "ticks": ""
             }
            },
            "type": "scattergeo"
           }
          ],
          "scattergl": [
           {
            "marker": {
             "colorbar": {
              "outlinewidth": 0,
              "ticks": ""
             }
            },
            "type": "scattergl"
           }
          ],
          "scattermapbox": [
           {
            "marker": {
             "colorbar": {
              "outlinewidth": 0,
              "ticks": ""
             }
            },
            "type": "scattermapbox"
           }
          ],
          "scatterpolar": [
           {
            "marker": {
             "colorbar": {
              "outlinewidth": 0,
              "ticks": ""
             }
            },
            "type": "scatterpolar"
           }
          ],
          "scatterpolargl": [
           {
            "marker": {
             "colorbar": {
              "outlinewidth": 0,
              "ticks": ""
             }
            },
            "type": "scatterpolargl"
           }
          ],
          "scatterternary": [
           {
            "marker": {
             "colorbar": {
              "outlinewidth": 0,
              "ticks": ""
             }
            },
            "type": "scatterternary"
           }
          ],
          "surface": [
           {
            "colorbar": {
             "outlinewidth": 0,
             "ticks": ""
            },
            "colorscale": [
             [
              0,
              "#0d0887"
             ],
             [
              0.1111111111111111,
              "#46039f"
             ],
             [
              0.2222222222222222,
              "#7201a8"
             ],
             [
              0.3333333333333333,
              "#9c179e"
             ],
             [
              0.4444444444444444,
              "#bd3786"
             ],
             [
              0.5555555555555556,
              "#d8576b"
             ],
             [
              0.6666666666666666,
              "#ed7953"
             ],
             [
              0.7777777777777778,
              "#fb9f3a"
             ],
             [
              0.8888888888888888,
              "#fdca26"
             ],
             [
              1,
              "#f0f921"
             ]
            ],
            "type": "surface"
           }
          ],
          "table": [
           {
            "cells": {
             "fill": {
              "color": "#EBF0F8"
             },
             "line": {
              "color": "white"
             }
            },
            "header": {
             "fill": {
              "color": "#C8D4E3"
             },
             "line": {
              "color": "white"
             }
            },
            "type": "table"
           }
          ]
         },
         "layout": {
          "annotationdefaults": {
           "arrowcolor": "#2a3f5f",
           "arrowhead": 0,
           "arrowwidth": 1
          },
          "autotypenumbers": "strict",
          "coloraxis": {
           "colorbar": {
            "outlinewidth": 0,
            "ticks": ""
           }
          },
          "colorscale": {
           "diverging": [
            [
             0,
             "#8e0152"
            ],
            [
             0.1,
             "#c51b7d"
            ],
            [
             0.2,
             "#de77ae"
            ],
            [
             0.3,
             "#f1b6da"
            ],
            [
             0.4,
             "#fde0ef"
            ],
            [
             0.5,
             "#f7f7f7"
            ],
            [
             0.6,
             "#e6f5d0"
            ],
            [
             0.7,
             "#b8e186"
            ],
            [
             0.8,
             "#7fbc41"
            ],
            [
             0.9,
             "#4d9221"
            ],
            [
             1,
             "#276419"
            ]
           ],
           "sequential": [
            [
             0,
             "#0d0887"
            ],
            [
             0.1111111111111111,
             "#46039f"
            ],
            [
             0.2222222222222222,
             "#7201a8"
            ],
            [
             0.3333333333333333,
             "#9c179e"
            ],
            [
             0.4444444444444444,
             "#bd3786"
            ],
            [
             0.5555555555555556,
             "#d8576b"
            ],
            [
             0.6666666666666666,
             "#ed7953"
            ],
            [
             0.7777777777777778,
             "#fb9f3a"
            ],
            [
             0.8888888888888888,
             "#fdca26"
            ],
            [
             1,
             "#f0f921"
            ]
           ],
           "sequentialminus": [
            [
             0,
             "#0d0887"
            ],
            [
             0.1111111111111111,
             "#46039f"
            ],
            [
             0.2222222222222222,
             "#7201a8"
            ],
            [
             0.3333333333333333,
             "#9c179e"
            ],
            [
             0.4444444444444444,
             "#bd3786"
            ],
            [
             0.5555555555555556,
             "#d8576b"
            ],
            [
             0.6666666666666666,
             "#ed7953"
            ],
            [
             0.7777777777777778,
             "#fb9f3a"
            ],
            [
             0.8888888888888888,
             "#fdca26"
            ],
            [
             1,
             "#f0f921"
            ]
           ]
          },
          "colorway": [
           "#636efa",
           "#EF553B",
           "#00cc96",
           "#ab63fa",
           "#FFA15A",
           "#19d3f3",
           "#FF6692",
           "#B6E880",
           "#FF97FF",
           "#FECB52"
          ],
          "font": {
           "color": "#2a3f5f"
          },
          "geo": {
           "bgcolor": "white",
           "lakecolor": "white",
           "landcolor": "#E5ECF6",
           "showlakes": true,
           "showland": true,
           "subunitcolor": "white"
          },
          "hoverlabel": {
           "align": "left"
          },
          "hovermode": "closest",
          "mapbox": {
           "style": "light"
          },
          "paper_bgcolor": "white",
          "plot_bgcolor": "#E5ECF6",
          "polar": {
           "angularaxis": {
            "gridcolor": "white",
            "linecolor": "white",
            "ticks": ""
           },
           "bgcolor": "#E5ECF6",
           "radialaxis": {
            "gridcolor": "white",
            "linecolor": "white",
            "ticks": ""
           }
          },
          "scene": {
           "xaxis": {
            "backgroundcolor": "#E5ECF6",
            "gridcolor": "white",
            "gridwidth": 2,
            "linecolor": "white",
            "showbackground": true,
            "ticks": "",
            "zerolinecolor": "white"
           },
           "yaxis": {
            "backgroundcolor": "#E5ECF6",
            "gridcolor": "white",
            "gridwidth": 2,
            "linecolor": "white",
            "showbackground": true,
            "ticks": "",
            "zerolinecolor": "white"
           },
           "zaxis": {
            "backgroundcolor": "#E5ECF6",
            "gridcolor": "white",
            "gridwidth": 2,
            "linecolor": "white",
            "showbackground": true,
            "ticks": "",
            "zerolinecolor": "white"
           }
          },
          "shapedefaults": {
           "line": {
            "color": "#2a3f5f"
           }
          },
          "ternary": {
           "aaxis": {
            "gridcolor": "white",
            "linecolor": "white",
            "ticks": ""
           },
           "baxis": {
            "gridcolor": "white",
            "linecolor": "white",
            "ticks": ""
           },
           "bgcolor": "#E5ECF6",
           "caxis": {
            "gridcolor": "white",
            "linecolor": "white",
            "ticks": ""
           }
          },
          "title": {
           "x": 0.05
          },
          "xaxis": {
           "automargin": true,
           "gridcolor": "white",
           "linecolor": "white",
           "ticks": "",
           "title": {
            "standoff": 15
           },
           "zerolinecolor": "white",
           "zerolinewidth": 2
          },
          "yaxis": {
           "automargin": true,
           "gridcolor": "white",
           "linecolor": "white",
           "ticks": "",
           "title": {
            "standoff": 15
           },
           "zerolinecolor": "white",
           "zerolinewidth": 2
          }
         }
        },
        "title": {
         "text": "Сравнение предсказаний нейронной сети и фактических температур"
        },
        "xaxis": {
         "title": {
          "text": "Условный номер звезды"
         }
        },
        "yaxis": {
         "title": {
          "text": "Температура звезды, К"
         }
        }
       }
      }
     },
     "metadata": {},
     "output_type": "display_data"
    }
   ],
   "source": [
    "fig_3 = go.Figure()\n",
    "\n",
    "fig_3.add_trace(\n",
    "    go.Bar(\n",
    "        x = df_3.index, \n",
    "        y = df_3['Actual'],\n",
    "        name='Фактическая температура',\n",
    "        marker_color='rgb(0,0,100)'\n",
    "    )\n",
    ")\n",
    "\n",
    "fig_3.add_trace(\n",
    "    go.Bar(\n",
    "        x = df_3.index, \n",
    "        y = df_3['Predicted'],\n",
    "        name='Предсказания',\n",
    "        marker_color='rgb(0,200,200)'\n",
    "    )\n",
    ")\n",
    "\n",
    "fig_3.update_layout(title=\"Сравнение предсказаний нейронной сети и фактических температур\",\n",
    "                    xaxis_title=\"Условный номер звезды\",\n",
    "                    yaxis_title=\"Температура звезды, К\",\n",
    "                    legend=dict(x=.5, xanchor=\"center\", yanchor=\"bottom\", y=-.3, orientation=\"h\"),\n",
    "                   )\n",
    "\n",
    "fig_3.show()"
   ]
  },
  {
   "cell_type": "markdown",
   "id": "7d7fd503",
   "metadata": {},
   "source": [
    "<b>Данная базовая модель работает хуже, чем модель под номером 2</b>"
   ]
  },
  {
   "cell_type": "markdown",
   "id": "dd139e0b",
   "metadata": {},
   "source": [
    "### Базовая модель 4"
   ]
  },
  {
   "cell_type": "markdown",
   "id": "bf79a85f",
   "metadata": {},
   "source": [
    "В данной модели: \n",
    "1. 5 скрытых слоев; \n",
    "2. функция активации - `Tanh()`;\n",
    "3. 1000 нейронов на каждом слое."
   ]
  },
  {
   "cell_type": "code",
   "execution_count": 41,
   "id": "883ea4b0",
   "metadata": {},
   "outputs": [],
   "source": [
    "n_in_neurons = 9\n",
    "n_hidden_neurons_1 = 1000\n",
    "n_hidden_neurons_2 = 1000\n",
    "n_hidden_neurons_3 = 1000\n",
    "n_hidden_neurons_4 = 1000\n",
    "n_hidden_neurons_5 = 1000\n",
    "n_out_neurons = 1 "
   ]
  },
  {
   "cell_type": "code",
   "execution_count": 42,
   "id": "c321b6e7",
   "metadata": {},
   "outputs": [
    {
     "name": "stdout",
     "output_type": "stream",
     "text": [
      "tensor(13329.9678)\n",
      "tensor(13244.0264)\n",
      "tensor(13169.4043)\n",
      "tensor(13095.5967)\n",
      "tensor(13022.4160)\n",
      "tensor(12949.8076)\n",
      "tensor(12877.7461)\n",
      "tensor(12806.2178)\n",
      "tensor(12735.2188)\n",
      "tensor(12664.7451)\n",
      "tensor(12595.4922)\n"
     ]
    }
   ],
   "source": [
    "net_4 = nn.Sequential(\n",
    "    nn.Linear(n_in_neurons, n_hidden_neurons_1),\n",
    "    nn.Tanh(),\n",
    "    nn.Linear(n_hidden_neurons_1, n_hidden_neurons_2),\n",
    "    nn.Tanh(),\n",
    "    nn.Linear(n_hidden_neurons_2, n_hidden_neurons_3),\n",
    "    nn.Tanh(),\n",
    "    nn.Linear(n_hidden_neurons_3, n_hidden_neurons_4),\n",
    "    nn.Tanh(),\n",
    "    nn.Linear(n_hidden_neurons_4, n_hidden_neurons_5),\n",
    "    nn.Tanh(),\n",
    "    nn.Linear(n_hidden_neurons_5, n_out_neurons)\n",
    ")\n",
    "\n",
    "optimizer = torch.optim.Adam(net_4.parameters(), lr=1.0e-3)\n",
    "\n",
    "loss = nn.MSELoss()\n",
    "\n",
    "num_epochs = 1000\n",
    "\n",
    "for epoch in range(num_epochs):\n",
    "    net_4.train()\n",
    "    optimizer.zero_grad()\n",
    "    \n",
    "    preds = net_4(features_train).flatten()\n",
    "    \n",
    "    loss_value = torch.sqrt(loss(preds, target_train))\n",
    "    loss_value.backward()\n",
    "    optimizer.step()\n",
    "    \n",
    "    if epoch % 100 == 0 or epoch == max(range(num_epochs)):\n",
    "        with torch.no_grad():\n",
    "            net_4.eval()\n",
    "            test_preds = net_4(features_test).flatten()\n",
    "            loss_rmse = torch.sqrt(loss(test_preds, target_test))\n",
    "            print(loss_rmse)"
   ]
  },
  {
   "cell_type": "code",
   "execution_count": 43,
   "id": "3614bce6",
   "metadata": {},
   "outputs": [
    {
     "name": "stdout",
     "output_type": "stream",
     "text": [
      "     Actual    Predicted\n",
      "0    3463.0  1009.813721\n",
      "1    7100.0  1009.813721\n",
      "2    3752.0  1009.813721\n",
      "3    3095.0  1009.813721\n",
      "4    2650.0  1009.813721\n",
      "..      ...          ...\n",
      "67   8930.0  1009.813721\n",
      "68  19923.0  1009.813721\n",
      "69   3574.0  1009.813721\n",
      "70   2871.0  1009.813721\n",
      "71   7282.0  1009.813721\n",
      "\n",
      "[72 rows x 2 columns]\n"
     ]
    }
   ],
   "source": [
    "test_preds = [test_preds[x].item() for x in range(len(test_preds))]\n",
    "\n",
    "df_4 = {}\n",
    "df_4['Actual'] = target_test\n",
    "df_4['Predicted'] = test_preds\n",
    "df_4 = pd.DataFrame(df_4)\n",
    "print(df_4)"
   ]
  },
  {
   "cell_type": "code",
   "execution_count": 44,
   "id": "9e3f28c3",
   "metadata": {},
   "outputs": [
    {
     "data": {
      "application/vnd.plotly.v1+json": {
       "config": {
        "plotlyServerURL": "https://plot.ly"
       },
       "data": [
        {
         "marker": {
          "color": "rgb(0,0,100)"
         },
         "name": "Фактическая температура",
         "type": "bar",
         "x": [
          0,
          1,
          2,
          3,
          4,
          5,
          6,
          7,
          8,
          9,
          10,
          11,
          12,
          13,
          14,
          15,
          16,
          17,
          18,
          19,
          20,
          21,
          22,
          23,
          24,
          25,
          26,
          27,
          28,
          29,
          30,
          31,
          32,
          33,
          34,
          35,
          36,
          37,
          38,
          39,
          40,
          41,
          42,
          43,
          44,
          45,
          46,
          47,
          48,
          49,
          50,
          51,
          52,
          53,
          54,
          55,
          56,
          57,
          58,
          59,
          60,
          61,
          62,
          63,
          64,
          65,
          66,
          67,
          68,
          69,
          70,
          71
         ],
         "y": [
          3463,
          7100,
          3752,
          3095,
          2650,
          9383,
          24145,
          2983,
          9700,
          5752,
          37882,
          9320,
          17200,
          5300,
          2600,
          24020,
          24630,
          12990,
          4015,
          3660,
          2835,
          14060,
          22012,
          3129,
          18000,
          3511,
          21020,
          2774,
          3212,
          3628,
          3650,
          2637,
          3399,
          3295,
          34190,
          14100,
          16500,
          10574,
          3324,
          3462,
          3600,
          1939,
          8924,
          4980,
          2650,
          8829,
          19860,
          17120,
          11567,
          30000,
          6380,
          3575,
          13420,
          9675,
          3146,
          19360,
          10980,
          7230,
          2731,
          3541,
          12749,
          38234,
          3270,
          3068,
          3450,
          3598,
          16787,
          8930,
          19923,
          3574,
          2871,
          7282
         ]
        },
        {
         "marker": {
          "color": "rgb(0,200,200)"
         },
         "name": "Предсказания",
         "type": "bar",
         "x": [
          0,
          1,
          2,
          3,
          4,
          5,
          6,
          7,
          8,
          9,
          10,
          11,
          12,
          13,
          14,
          15,
          16,
          17,
          18,
          19,
          20,
          21,
          22,
          23,
          24,
          25,
          26,
          27,
          28,
          29,
          30,
          31,
          32,
          33,
          34,
          35,
          36,
          37,
          38,
          39,
          40,
          41,
          42,
          43,
          44,
          45,
          46,
          47,
          48,
          49,
          50,
          51,
          52,
          53,
          54,
          55,
          56,
          57,
          58,
          59,
          60,
          61,
          62,
          63,
          64,
          65,
          66,
          67,
          68,
          69,
          70,
          71
         ],
         "y": [
          1009.813720703125,
          1009.813720703125,
          1009.813720703125,
          1009.813720703125,
          1009.813720703125,
          1009.813720703125,
          1009.813720703125,
          1009.813720703125,
          1009.813720703125,
          1009.813720703125,
          1009.813720703125,
          1009.813720703125,
          1009.813720703125,
          1009.813720703125,
          1009.813720703125,
          1009.813720703125,
          1009.813720703125,
          1009.813720703125,
          1009.813720703125,
          1009.813720703125,
          1009.813720703125,
          1009.813720703125,
          1009.813720703125,
          1009.813720703125,
          1009.813720703125,
          1009.813720703125,
          1009.813720703125,
          1009.813720703125,
          1009.813720703125,
          1009.813720703125,
          1009.813720703125,
          1009.813720703125,
          1009.813720703125,
          1009.813720703125,
          1009.813720703125,
          1009.813720703125,
          1009.813720703125,
          1009.813720703125,
          1009.813720703125,
          1009.813720703125,
          1009.813720703125,
          1009.813720703125,
          1009.813720703125,
          1009.813720703125,
          1009.813720703125,
          1009.813720703125,
          1009.813720703125,
          1009.813720703125,
          1009.813720703125,
          1009.813720703125,
          1009.813720703125,
          1009.813720703125,
          1009.813720703125,
          1009.813720703125,
          1009.813720703125,
          1009.813720703125,
          1009.813720703125,
          1009.813720703125,
          1009.813720703125,
          1009.813720703125,
          1009.813720703125,
          1009.813720703125,
          1009.813720703125,
          1009.813720703125,
          1009.813720703125,
          1009.813720703125,
          1009.813720703125,
          1009.813720703125,
          1009.813720703125,
          1009.813720703125,
          1009.813720703125,
          1009.813720703125
         ]
        }
       ],
       "layout": {
        "legend": {
         "orientation": "h",
         "x": 0.5,
         "xanchor": "center",
         "y": -0.3,
         "yanchor": "bottom"
        },
        "template": {
         "data": {
          "bar": [
           {
            "error_x": {
             "color": "#2a3f5f"
            },
            "error_y": {
             "color": "#2a3f5f"
            },
            "marker": {
             "line": {
              "color": "#E5ECF6",
              "width": 0.5
             },
             "pattern": {
              "fillmode": "overlay",
              "size": 10,
              "solidity": 0.2
             }
            },
            "type": "bar"
           }
          ],
          "barpolar": [
           {
            "marker": {
             "line": {
              "color": "#E5ECF6",
              "width": 0.5
             },
             "pattern": {
              "fillmode": "overlay",
              "size": 10,
              "solidity": 0.2
             }
            },
            "type": "barpolar"
           }
          ],
          "carpet": [
           {
            "aaxis": {
             "endlinecolor": "#2a3f5f",
             "gridcolor": "white",
             "linecolor": "white",
             "minorgridcolor": "white",
             "startlinecolor": "#2a3f5f"
            },
            "baxis": {
             "endlinecolor": "#2a3f5f",
             "gridcolor": "white",
             "linecolor": "white",
             "minorgridcolor": "white",
             "startlinecolor": "#2a3f5f"
            },
            "type": "carpet"
           }
          ],
          "choropleth": [
           {
            "colorbar": {
             "outlinewidth": 0,
             "ticks": ""
            },
            "type": "choropleth"
           }
          ],
          "contour": [
           {
            "colorbar": {
             "outlinewidth": 0,
             "ticks": ""
            },
            "colorscale": [
             [
              0,
              "#0d0887"
             ],
             [
              0.1111111111111111,
              "#46039f"
             ],
             [
              0.2222222222222222,
              "#7201a8"
             ],
             [
              0.3333333333333333,
              "#9c179e"
             ],
             [
              0.4444444444444444,
              "#bd3786"
             ],
             [
              0.5555555555555556,
              "#d8576b"
             ],
             [
              0.6666666666666666,
              "#ed7953"
             ],
             [
              0.7777777777777778,
              "#fb9f3a"
             ],
             [
              0.8888888888888888,
              "#fdca26"
             ],
             [
              1,
              "#f0f921"
             ]
            ],
            "type": "contour"
           }
          ],
          "contourcarpet": [
           {
            "colorbar": {
             "outlinewidth": 0,
             "ticks": ""
            },
            "type": "contourcarpet"
           }
          ],
          "heatmap": [
           {
            "colorbar": {
             "outlinewidth": 0,
             "ticks": ""
            },
            "colorscale": [
             [
              0,
              "#0d0887"
             ],
             [
              0.1111111111111111,
              "#46039f"
             ],
             [
              0.2222222222222222,
              "#7201a8"
             ],
             [
              0.3333333333333333,
              "#9c179e"
             ],
             [
              0.4444444444444444,
              "#bd3786"
             ],
             [
              0.5555555555555556,
              "#d8576b"
             ],
             [
              0.6666666666666666,
              "#ed7953"
             ],
             [
              0.7777777777777778,
              "#fb9f3a"
             ],
             [
              0.8888888888888888,
              "#fdca26"
             ],
             [
              1,
              "#f0f921"
             ]
            ],
            "type": "heatmap"
           }
          ],
          "heatmapgl": [
           {
            "colorbar": {
             "outlinewidth": 0,
             "ticks": ""
            },
            "colorscale": [
             [
              0,
              "#0d0887"
             ],
             [
              0.1111111111111111,
              "#46039f"
             ],
             [
              0.2222222222222222,
              "#7201a8"
             ],
             [
              0.3333333333333333,
              "#9c179e"
             ],
             [
              0.4444444444444444,
              "#bd3786"
             ],
             [
              0.5555555555555556,
              "#d8576b"
             ],
             [
              0.6666666666666666,
              "#ed7953"
             ],
             [
              0.7777777777777778,
              "#fb9f3a"
             ],
             [
              0.8888888888888888,
              "#fdca26"
             ],
             [
              1,
              "#f0f921"
             ]
            ],
            "type": "heatmapgl"
           }
          ],
          "histogram": [
           {
            "marker": {
             "pattern": {
              "fillmode": "overlay",
              "size": 10,
              "solidity": 0.2
             }
            },
            "type": "histogram"
           }
          ],
          "histogram2d": [
           {
            "colorbar": {
             "outlinewidth": 0,
             "ticks": ""
            },
            "colorscale": [
             [
              0,
              "#0d0887"
             ],
             [
              0.1111111111111111,
              "#46039f"
             ],
             [
              0.2222222222222222,
              "#7201a8"
             ],
             [
              0.3333333333333333,
              "#9c179e"
             ],
             [
              0.4444444444444444,
              "#bd3786"
             ],
             [
              0.5555555555555556,
              "#d8576b"
             ],
             [
              0.6666666666666666,
              "#ed7953"
             ],
             [
              0.7777777777777778,
              "#fb9f3a"
             ],
             [
              0.8888888888888888,
              "#fdca26"
             ],
             [
              1,
              "#f0f921"
             ]
            ],
            "type": "histogram2d"
           }
          ],
          "histogram2dcontour": [
           {
            "colorbar": {
             "outlinewidth": 0,
             "ticks": ""
            },
            "colorscale": [
             [
              0,
              "#0d0887"
             ],
             [
              0.1111111111111111,
              "#46039f"
             ],
             [
              0.2222222222222222,
              "#7201a8"
             ],
             [
              0.3333333333333333,
              "#9c179e"
             ],
             [
              0.4444444444444444,
              "#bd3786"
             ],
             [
              0.5555555555555556,
              "#d8576b"
             ],
             [
              0.6666666666666666,
              "#ed7953"
             ],
             [
              0.7777777777777778,
              "#fb9f3a"
             ],
             [
              0.8888888888888888,
              "#fdca26"
             ],
             [
              1,
              "#f0f921"
             ]
            ],
            "type": "histogram2dcontour"
           }
          ],
          "mesh3d": [
           {
            "colorbar": {
             "outlinewidth": 0,
             "ticks": ""
            },
            "type": "mesh3d"
           }
          ],
          "parcoords": [
           {
            "line": {
             "colorbar": {
              "outlinewidth": 0,
              "ticks": ""
             }
            },
            "type": "parcoords"
           }
          ],
          "pie": [
           {
            "automargin": true,
            "type": "pie"
           }
          ],
          "scatter": [
           {
            "fillpattern": {
             "fillmode": "overlay",
             "size": 10,
             "solidity": 0.2
            },
            "type": "scatter"
           }
          ],
          "scatter3d": [
           {
            "line": {
             "colorbar": {
              "outlinewidth": 0,
              "ticks": ""
             }
            },
            "marker": {
             "colorbar": {
              "outlinewidth": 0,
              "ticks": ""
             }
            },
            "type": "scatter3d"
           }
          ],
          "scattercarpet": [
           {
            "marker": {
             "colorbar": {
              "outlinewidth": 0,
              "ticks": ""
             }
            },
            "type": "scattercarpet"
           }
          ],
          "scattergeo": [
           {
            "marker": {
             "colorbar": {
              "outlinewidth": 0,
              "ticks": ""
             }
            },
            "type": "scattergeo"
           }
          ],
          "scattergl": [
           {
            "marker": {
             "colorbar": {
              "outlinewidth": 0,
              "ticks": ""
             }
            },
            "type": "scattergl"
           }
          ],
          "scattermapbox": [
           {
            "marker": {
             "colorbar": {
              "outlinewidth": 0,
              "ticks": ""
             }
            },
            "type": "scattermapbox"
           }
          ],
          "scatterpolar": [
           {
            "marker": {
             "colorbar": {
              "outlinewidth": 0,
              "ticks": ""
             }
            },
            "type": "scatterpolar"
           }
          ],
          "scatterpolargl": [
           {
            "marker": {
             "colorbar": {
              "outlinewidth": 0,
              "ticks": ""
             }
            },
            "type": "scatterpolargl"
           }
          ],
          "scatterternary": [
           {
            "marker": {
             "colorbar": {
              "outlinewidth": 0,
              "ticks": ""
             }
            },
            "type": "scatterternary"
           }
          ],
          "surface": [
           {
            "colorbar": {
             "outlinewidth": 0,
             "ticks": ""
            },
            "colorscale": [
             [
              0,
              "#0d0887"
             ],
             [
              0.1111111111111111,
              "#46039f"
             ],
             [
              0.2222222222222222,
              "#7201a8"
             ],
             [
              0.3333333333333333,
              "#9c179e"
             ],
             [
              0.4444444444444444,
              "#bd3786"
             ],
             [
              0.5555555555555556,
              "#d8576b"
             ],
             [
              0.6666666666666666,
              "#ed7953"
             ],
             [
              0.7777777777777778,
              "#fb9f3a"
             ],
             [
              0.8888888888888888,
              "#fdca26"
             ],
             [
              1,
              "#f0f921"
             ]
            ],
            "type": "surface"
           }
          ],
          "table": [
           {
            "cells": {
             "fill": {
              "color": "#EBF0F8"
             },
             "line": {
              "color": "white"
             }
            },
            "header": {
             "fill": {
              "color": "#C8D4E3"
             },
             "line": {
              "color": "white"
             }
            },
            "type": "table"
           }
          ]
         },
         "layout": {
          "annotationdefaults": {
           "arrowcolor": "#2a3f5f",
           "arrowhead": 0,
           "arrowwidth": 1
          },
          "autotypenumbers": "strict",
          "coloraxis": {
           "colorbar": {
            "outlinewidth": 0,
            "ticks": ""
           }
          },
          "colorscale": {
           "diverging": [
            [
             0,
             "#8e0152"
            ],
            [
             0.1,
             "#c51b7d"
            ],
            [
             0.2,
             "#de77ae"
            ],
            [
             0.3,
             "#f1b6da"
            ],
            [
             0.4,
             "#fde0ef"
            ],
            [
             0.5,
             "#f7f7f7"
            ],
            [
             0.6,
             "#e6f5d0"
            ],
            [
             0.7,
             "#b8e186"
            ],
            [
             0.8,
             "#7fbc41"
            ],
            [
             0.9,
             "#4d9221"
            ],
            [
             1,
             "#276419"
            ]
           ],
           "sequential": [
            [
             0,
             "#0d0887"
            ],
            [
             0.1111111111111111,
             "#46039f"
            ],
            [
             0.2222222222222222,
             "#7201a8"
            ],
            [
             0.3333333333333333,
             "#9c179e"
            ],
            [
             0.4444444444444444,
             "#bd3786"
            ],
            [
             0.5555555555555556,
             "#d8576b"
            ],
            [
             0.6666666666666666,
             "#ed7953"
            ],
            [
             0.7777777777777778,
             "#fb9f3a"
            ],
            [
             0.8888888888888888,
             "#fdca26"
            ],
            [
             1,
             "#f0f921"
            ]
           ],
           "sequentialminus": [
            [
             0,
             "#0d0887"
            ],
            [
             0.1111111111111111,
             "#46039f"
            ],
            [
             0.2222222222222222,
             "#7201a8"
            ],
            [
             0.3333333333333333,
             "#9c179e"
            ],
            [
             0.4444444444444444,
             "#bd3786"
            ],
            [
             0.5555555555555556,
             "#d8576b"
            ],
            [
             0.6666666666666666,
             "#ed7953"
            ],
            [
             0.7777777777777778,
             "#fb9f3a"
            ],
            [
             0.8888888888888888,
             "#fdca26"
            ],
            [
             1,
             "#f0f921"
            ]
           ]
          },
          "colorway": [
           "#636efa",
           "#EF553B",
           "#00cc96",
           "#ab63fa",
           "#FFA15A",
           "#19d3f3",
           "#FF6692",
           "#B6E880",
           "#FF97FF",
           "#FECB52"
          ],
          "font": {
           "color": "#2a3f5f"
          },
          "geo": {
           "bgcolor": "white",
           "lakecolor": "white",
           "landcolor": "#E5ECF6",
           "showlakes": true,
           "showland": true,
           "subunitcolor": "white"
          },
          "hoverlabel": {
           "align": "left"
          },
          "hovermode": "closest",
          "mapbox": {
           "style": "light"
          },
          "paper_bgcolor": "white",
          "plot_bgcolor": "#E5ECF6",
          "polar": {
           "angularaxis": {
            "gridcolor": "white",
            "linecolor": "white",
            "ticks": ""
           },
           "bgcolor": "#E5ECF6",
           "radialaxis": {
            "gridcolor": "white",
            "linecolor": "white",
            "ticks": ""
           }
          },
          "scene": {
           "xaxis": {
            "backgroundcolor": "#E5ECF6",
            "gridcolor": "white",
            "gridwidth": 2,
            "linecolor": "white",
            "showbackground": true,
            "ticks": "",
            "zerolinecolor": "white"
           },
           "yaxis": {
            "backgroundcolor": "#E5ECF6",
            "gridcolor": "white",
            "gridwidth": 2,
            "linecolor": "white",
            "showbackground": true,
            "ticks": "",
            "zerolinecolor": "white"
           },
           "zaxis": {
            "backgroundcolor": "#E5ECF6",
            "gridcolor": "white",
            "gridwidth": 2,
            "linecolor": "white",
            "showbackground": true,
            "ticks": "",
            "zerolinecolor": "white"
           }
          },
          "shapedefaults": {
           "line": {
            "color": "#2a3f5f"
           }
          },
          "ternary": {
           "aaxis": {
            "gridcolor": "white",
            "linecolor": "white",
            "ticks": ""
           },
           "baxis": {
            "gridcolor": "white",
            "linecolor": "white",
            "ticks": ""
           },
           "bgcolor": "#E5ECF6",
           "caxis": {
            "gridcolor": "white",
            "linecolor": "white",
            "ticks": ""
           }
          },
          "title": {
           "x": 0.05
          },
          "xaxis": {
           "automargin": true,
           "gridcolor": "white",
           "linecolor": "white",
           "ticks": "",
           "title": {
            "standoff": 15
           },
           "zerolinecolor": "white",
           "zerolinewidth": 2
          },
          "yaxis": {
           "automargin": true,
           "gridcolor": "white",
           "linecolor": "white",
           "ticks": "",
           "title": {
            "standoff": 15
           },
           "zerolinecolor": "white",
           "zerolinewidth": 2
          }
         }
        },
        "title": {
         "text": "Сравнение предсказаний нейронной сети и фактических температур"
        },
        "xaxis": {
         "title": {
          "text": "Условный номер звезды"
         }
        },
        "yaxis": {
         "title": {
          "text": "Температура звезды, К"
         }
        }
       }
      }
     },
     "metadata": {},
     "output_type": "display_data"
    }
   ],
   "source": [
    "fig_4 = go.Figure()\n",
    "\n",
    "fig_4.add_trace(\n",
    "    go.Bar(\n",
    "        x = df_4.index, \n",
    "        y = df_4['Actual'],\n",
    "        name='Фактическая температура',\n",
    "        marker_color='rgb(0,0,100)'\n",
    "    )\n",
    ")\n",
    "\n",
    "fig_4.add_trace(\n",
    "    go.Bar(\n",
    "        x = df_4.index, \n",
    "        y = df_4['Predicted'],\n",
    "        name='Предсказания',\n",
    "        marker_color='rgb(0,200,200)'\n",
    "    )\n",
    ")\n",
    "\n",
    "fig_4.update_layout(title=\"Сравнение предсказаний нейронной сети и фактических температур\",\n",
    "                    xaxis_title=\"Условный номер звезды\",\n",
    "                    yaxis_title=\"Температура звезды, К\",\n",
    "                    legend=dict(x=.5, xanchor=\"center\", yanchor=\"bottom\", y=-.3, orientation=\"h\"),\n",
    "                   )\n",
    "\n",
    "fig_4.show()"
   ]
  },
  {
   "cell_type": "markdown",
   "id": "5e4472b8",
   "metadata": {},
   "source": [
    "<b>Данная базовая модель работает хуже, чем модель под номером 2</b>"
   ]
  },
  {
   "cell_type": "markdown",
   "id": "5acd9deb",
   "metadata": {},
   "source": [
    "### Базовая модель 5"
   ]
  },
  {
   "cell_type": "markdown",
   "id": "6c165048",
   "metadata": {},
   "source": [
    "В данной модели: \n",
    "1. 5 скрытых слоев; \n",
    "2. функции активации - `ReLU()`,`Sigmoid()`,`Tanh()`;\n",
    "3. 1000 нейронов на каждом слое."
   ]
  },
  {
   "cell_type": "code",
   "execution_count": 45,
   "id": "e0b42b66",
   "metadata": {},
   "outputs": [],
   "source": [
    "n_in_neurons = 9\n",
    "n_hidden_neurons_1 = 1000\n",
    "n_hidden_neurons_2 = 1000\n",
    "n_hidden_neurons_3 = 1000\n",
    "n_hidden_neurons_4 = 1000\n",
    "n_hidden_neurons_5 = 1000\n",
    "n_out_neurons = 1 "
   ]
  },
  {
   "cell_type": "code",
   "execution_count": 46,
   "id": "aa4e0b10",
   "metadata": {},
   "outputs": [
    {
     "name": "stdout",
     "output_type": "stream",
     "text": [
      "tensor(13328.8672)\n",
      "tensor(9279.1240)\n",
      "tensor(8908.8145)\n",
      "tensor(8910.0107)\n",
      "tensor(8910.0186)\n",
      "tensor(5680.3340)\n",
      "tensor(4795.8042)\n",
      "tensor(5183.8081)\n",
      "tensor(4695.9116)\n",
      "tensor(4215.5884)\n",
      "tensor(4063.7649)\n"
     ]
    }
   ],
   "source": [
    "net_5 = nn.Sequential(\n",
    "    nn.Linear(n_in_neurons, n_hidden_neurons_1),\n",
    "    nn.Tanh(),\n",
    "    nn.Linear(n_hidden_neurons_1, n_hidden_neurons_2),\n",
    "    nn.ReLU(),\n",
    "    nn.Linear(n_hidden_neurons_2, n_hidden_neurons_3),\n",
    "    nn.Sigmoid(),\n",
    "    nn.Linear(n_hidden_neurons_3, n_hidden_neurons_4),\n",
    "    nn.Tanh(),\n",
    "    nn.Linear(n_hidden_neurons_4, n_hidden_neurons_5),\n",
    "    nn.ReLU(),\n",
    "    nn.Linear(n_hidden_neurons_5, n_out_neurons)\n",
    ")\n",
    "\n",
    "optimizer = torch.optim.Adam(net_5.parameters(), lr=1.0e-3)\n",
    "\n",
    "loss = nn.MSELoss()\n",
    "\n",
    "num_epochs = 1000\n",
    "\n",
    "for epoch in range(num_epochs):\n",
    "    net_5.train()\n",
    "    optimizer.zero_grad()\n",
    "    \n",
    "    preds = net_5(features_train).flatten()\n",
    "    \n",
    "    loss_value = torch.sqrt(loss(preds, target_train))\n",
    "    loss_value.backward()\n",
    "    optimizer.step()\n",
    "    \n",
    "    if epoch % 100 == 0 or epoch == max(range(num_epochs)):\n",
    "        with torch.no_grad():\n",
    "            net_5.eval()\n",
    "            test_preds = net_5(features_test).flatten()\n",
    "            loss_rmse = torch.sqrt(loss(test_preds, target_test))\n",
    "            print(loss_rmse)"
   ]
  },
  {
   "cell_type": "code",
   "execution_count": 47,
   "id": "4d4fdad1",
   "metadata": {},
   "outputs": [
    {
     "name": "stdout",
     "output_type": "stream",
     "text": [
      "     Actual     Predicted\n",
      "0    3463.0   3146.536621\n",
      "1    7100.0   7440.766602\n",
      "2    3752.0   4382.371094\n",
      "3    3095.0   3388.552734\n",
      "4    2650.0   3011.329346\n",
      "..      ...           ...\n",
      "67   8930.0   7775.949707\n",
      "68  19923.0  23592.867188\n",
      "69   3574.0   3689.953125\n",
      "70   2871.0   2871.394775\n",
      "71   7282.0  21711.732422\n",
      "\n",
      "[72 rows x 2 columns]\n"
     ]
    }
   ],
   "source": [
    "test_preds = [test_preds[x].item() for x in range(len(test_preds))]\n",
    "\n",
    "df_5 = {}\n",
    "df_5['Actual'] = target_test\n",
    "df_5['Predicted'] = test_preds\n",
    "df_5 = pd.DataFrame(df_5)\n",
    "print(df_5)"
   ]
  },
  {
   "cell_type": "code",
   "execution_count": 48,
   "id": "2a1ffe46",
   "metadata": {},
   "outputs": [
    {
     "data": {
      "application/vnd.plotly.v1+json": {
       "config": {
        "plotlyServerURL": "https://plot.ly"
       },
       "data": [
        {
         "marker": {
          "color": "rgb(0,0,100)"
         },
         "name": "Фактическая температура",
         "type": "bar",
         "x": [
          0,
          1,
          2,
          3,
          4,
          5,
          6,
          7,
          8,
          9,
          10,
          11,
          12,
          13,
          14,
          15,
          16,
          17,
          18,
          19,
          20,
          21,
          22,
          23,
          24,
          25,
          26,
          27,
          28,
          29,
          30,
          31,
          32,
          33,
          34,
          35,
          36,
          37,
          38,
          39,
          40,
          41,
          42,
          43,
          44,
          45,
          46,
          47,
          48,
          49,
          50,
          51,
          52,
          53,
          54,
          55,
          56,
          57,
          58,
          59,
          60,
          61,
          62,
          63,
          64,
          65,
          66,
          67,
          68,
          69,
          70,
          71
         ],
         "y": [
          3463,
          7100,
          3752,
          3095,
          2650,
          9383,
          24145,
          2983,
          9700,
          5752,
          37882,
          9320,
          17200,
          5300,
          2600,
          24020,
          24630,
          12990,
          4015,
          3660,
          2835,
          14060,
          22012,
          3129,
          18000,
          3511,
          21020,
          2774,
          3212,
          3628,
          3650,
          2637,
          3399,
          3295,
          34190,
          14100,
          16500,
          10574,
          3324,
          3462,
          3600,
          1939,
          8924,
          4980,
          2650,
          8829,
          19860,
          17120,
          11567,
          30000,
          6380,
          3575,
          13420,
          9675,
          3146,
          19360,
          10980,
          7230,
          2731,
          3541,
          12749,
          38234,
          3270,
          3068,
          3450,
          3598,
          16787,
          8930,
          19923,
          3574,
          2871,
          7282
         ]
        },
        {
         "marker": {
          "color": "rgb(0,200,200)"
         },
         "name": "Предсказания",
         "type": "bar",
         "x": [
          0,
          1,
          2,
          3,
          4,
          5,
          6,
          7,
          8,
          9,
          10,
          11,
          12,
          13,
          14,
          15,
          16,
          17,
          18,
          19,
          20,
          21,
          22,
          23,
          24,
          25,
          26,
          27,
          28,
          29,
          30,
          31,
          32,
          33,
          34,
          35,
          36,
          37,
          38,
          39,
          40,
          41,
          42,
          43,
          44,
          45,
          46,
          47,
          48,
          49,
          50,
          51,
          52,
          53,
          54,
          55,
          56,
          57,
          58,
          59,
          60,
          61,
          62,
          63,
          64,
          65,
          66,
          67,
          68,
          69,
          70,
          71
         ],
         "y": [
          3146.53662109375,
          7440.7666015625,
          4382.37109375,
          3388.552734375,
          3011.329345703125,
          13563.16015625,
          28493.56640625,
          2813.3671875,
          7536.4482421875,
          12198.326171875,
          23652.32421875,
          8976.8955078125,
          12431.85546875,
          5515.92822265625,
          2830.26025390625,
          22164.623046875,
          29761.35546875,
          11441.3662109375,
          3457.0283203125,
          3419.887939453125,
          3073.9326171875,
          13407.9560546875,
          17352.32421875,
          3192.517578125,
          12007.6640625,
          3074.71044921875,
          18282.548828125,
          3013.8154296875,
          3043.7451171875,
          3483.65869140625,
          3484.61474609375,
          3050.06103515625,
          3496.6904296875,
          3073.00244140625,
          36783.14453125,
          12564.5693359375,
          13017.4794921875,
          14369.0546875,
          3050.95458984375,
          3197.29248046875,
          5194.4931640625,
          3283.18701171875,
          8238.3447265625,
          5077.4189453125,
          3192.49169921875,
          15434.0439453125,
          18539.3984375,
          9893.3896484375,
          22833.49609375,
          30480.04296875,
          6736.33154296875,
          4055.63916015625,
          8958.98046875,
          8285.583984375,
          3068.90283203125,
          17783.064453125,
          12738.7158203125,
          7565.55859375,
          2918.771484375,
          3172.3330078125,
          14573.2734375,
          22203.189453125,
          4027.7900390625,
          2842.17138671875,
          4061.495361328125,
          3178.12646484375,
          18573.865234375,
          7775.94970703125,
          23592.8671875,
          3689.953125,
          2871.394775390625,
          21711.732421875
         ]
        }
       ],
       "layout": {
        "legend": {
         "orientation": "h",
         "x": 0.5,
         "xanchor": "center",
         "y": -0.3,
         "yanchor": "bottom"
        },
        "template": {
         "data": {
          "bar": [
           {
            "error_x": {
             "color": "#2a3f5f"
            },
            "error_y": {
             "color": "#2a3f5f"
            },
            "marker": {
             "line": {
              "color": "#E5ECF6",
              "width": 0.5
             },
             "pattern": {
              "fillmode": "overlay",
              "size": 10,
              "solidity": 0.2
             }
            },
            "type": "bar"
           }
          ],
          "barpolar": [
           {
            "marker": {
             "line": {
              "color": "#E5ECF6",
              "width": 0.5
             },
             "pattern": {
              "fillmode": "overlay",
              "size": 10,
              "solidity": 0.2
             }
            },
            "type": "barpolar"
           }
          ],
          "carpet": [
           {
            "aaxis": {
             "endlinecolor": "#2a3f5f",
             "gridcolor": "white",
             "linecolor": "white",
             "minorgridcolor": "white",
             "startlinecolor": "#2a3f5f"
            },
            "baxis": {
             "endlinecolor": "#2a3f5f",
             "gridcolor": "white",
             "linecolor": "white",
             "minorgridcolor": "white",
             "startlinecolor": "#2a3f5f"
            },
            "type": "carpet"
           }
          ],
          "choropleth": [
           {
            "colorbar": {
             "outlinewidth": 0,
             "ticks": ""
            },
            "type": "choropleth"
           }
          ],
          "contour": [
           {
            "colorbar": {
             "outlinewidth": 0,
             "ticks": ""
            },
            "colorscale": [
             [
              0,
              "#0d0887"
             ],
             [
              0.1111111111111111,
              "#46039f"
             ],
             [
              0.2222222222222222,
              "#7201a8"
             ],
             [
              0.3333333333333333,
              "#9c179e"
             ],
             [
              0.4444444444444444,
              "#bd3786"
             ],
             [
              0.5555555555555556,
              "#d8576b"
             ],
             [
              0.6666666666666666,
              "#ed7953"
             ],
             [
              0.7777777777777778,
              "#fb9f3a"
             ],
             [
              0.8888888888888888,
              "#fdca26"
             ],
             [
              1,
              "#f0f921"
             ]
            ],
            "type": "contour"
           }
          ],
          "contourcarpet": [
           {
            "colorbar": {
             "outlinewidth": 0,
             "ticks": ""
            },
            "type": "contourcarpet"
           }
          ],
          "heatmap": [
           {
            "colorbar": {
             "outlinewidth": 0,
             "ticks": ""
            },
            "colorscale": [
             [
              0,
              "#0d0887"
             ],
             [
              0.1111111111111111,
              "#46039f"
             ],
             [
              0.2222222222222222,
              "#7201a8"
             ],
             [
              0.3333333333333333,
              "#9c179e"
             ],
             [
              0.4444444444444444,
              "#bd3786"
             ],
             [
              0.5555555555555556,
              "#d8576b"
             ],
             [
              0.6666666666666666,
              "#ed7953"
             ],
             [
              0.7777777777777778,
              "#fb9f3a"
             ],
             [
              0.8888888888888888,
              "#fdca26"
             ],
             [
              1,
              "#f0f921"
             ]
            ],
            "type": "heatmap"
           }
          ],
          "heatmapgl": [
           {
            "colorbar": {
             "outlinewidth": 0,
             "ticks": ""
            },
            "colorscale": [
             [
              0,
              "#0d0887"
             ],
             [
              0.1111111111111111,
              "#46039f"
             ],
             [
              0.2222222222222222,
              "#7201a8"
             ],
             [
              0.3333333333333333,
              "#9c179e"
             ],
             [
              0.4444444444444444,
              "#bd3786"
             ],
             [
              0.5555555555555556,
              "#d8576b"
             ],
             [
              0.6666666666666666,
              "#ed7953"
             ],
             [
              0.7777777777777778,
              "#fb9f3a"
             ],
             [
              0.8888888888888888,
              "#fdca26"
             ],
             [
              1,
              "#f0f921"
             ]
            ],
            "type": "heatmapgl"
           }
          ],
          "histogram": [
           {
            "marker": {
             "pattern": {
              "fillmode": "overlay",
              "size": 10,
              "solidity": 0.2
             }
            },
            "type": "histogram"
           }
          ],
          "histogram2d": [
           {
            "colorbar": {
             "outlinewidth": 0,
             "ticks": ""
            },
            "colorscale": [
             [
              0,
              "#0d0887"
             ],
             [
              0.1111111111111111,
              "#46039f"
             ],
             [
              0.2222222222222222,
              "#7201a8"
             ],
             [
              0.3333333333333333,
              "#9c179e"
             ],
             [
              0.4444444444444444,
              "#bd3786"
             ],
             [
              0.5555555555555556,
              "#d8576b"
             ],
             [
              0.6666666666666666,
              "#ed7953"
             ],
             [
              0.7777777777777778,
              "#fb9f3a"
             ],
             [
              0.8888888888888888,
              "#fdca26"
             ],
             [
              1,
              "#f0f921"
             ]
            ],
            "type": "histogram2d"
           }
          ],
          "histogram2dcontour": [
           {
            "colorbar": {
             "outlinewidth": 0,
             "ticks": ""
            },
            "colorscale": [
             [
              0,
              "#0d0887"
             ],
             [
              0.1111111111111111,
              "#46039f"
             ],
             [
              0.2222222222222222,
              "#7201a8"
             ],
             [
              0.3333333333333333,
              "#9c179e"
             ],
             [
              0.4444444444444444,
              "#bd3786"
             ],
             [
              0.5555555555555556,
              "#d8576b"
             ],
             [
              0.6666666666666666,
              "#ed7953"
             ],
             [
              0.7777777777777778,
              "#fb9f3a"
             ],
             [
              0.8888888888888888,
              "#fdca26"
             ],
             [
              1,
              "#f0f921"
             ]
            ],
            "type": "histogram2dcontour"
           }
          ],
          "mesh3d": [
           {
            "colorbar": {
             "outlinewidth": 0,
             "ticks": ""
            },
            "type": "mesh3d"
           }
          ],
          "parcoords": [
           {
            "line": {
             "colorbar": {
              "outlinewidth": 0,
              "ticks": ""
             }
            },
            "type": "parcoords"
           }
          ],
          "pie": [
           {
            "automargin": true,
            "type": "pie"
           }
          ],
          "scatter": [
           {
            "fillpattern": {
             "fillmode": "overlay",
             "size": 10,
             "solidity": 0.2
            },
            "type": "scatter"
           }
          ],
          "scatter3d": [
           {
            "line": {
             "colorbar": {
              "outlinewidth": 0,
              "ticks": ""
             }
            },
            "marker": {
             "colorbar": {
              "outlinewidth": 0,
              "ticks": ""
             }
            },
            "type": "scatter3d"
           }
          ],
          "scattercarpet": [
           {
            "marker": {
             "colorbar": {
              "outlinewidth": 0,
              "ticks": ""
             }
            },
            "type": "scattercarpet"
           }
          ],
          "scattergeo": [
           {
            "marker": {
             "colorbar": {
              "outlinewidth": 0,
              "ticks": ""
             }
            },
            "type": "scattergeo"
           }
          ],
          "scattergl": [
           {
            "marker": {
             "colorbar": {
              "outlinewidth": 0,
              "ticks": ""
             }
            },
            "type": "scattergl"
           }
          ],
          "scattermapbox": [
           {
            "marker": {
             "colorbar": {
              "outlinewidth": 0,
              "ticks": ""
             }
            },
            "type": "scattermapbox"
           }
          ],
          "scatterpolar": [
           {
            "marker": {
             "colorbar": {
              "outlinewidth": 0,
              "ticks": ""
             }
            },
            "type": "scatterpolar"
           }
          ],
          "scatterpolargl": [
           {
            "marker": {
             "colorbar": {
              "outlinewidth": 0,
              "ticks": ""
             }
            },
            "type": "scatterpolargl"
           }
          ],
          "scatterternary": [
           {
            "marker": {
             "colorbar": {
              "outlinewidth": 0,
              "ticks": ""
             }
            },
            "type": "scatterternary"
           }
          ],
          "surface": [
           {
            "colorbar": {
             "outlinewidth": 0,
             "ticks": ""
            },
            "colorscale": [
             [
              0,
              "#0d0887"
             ],
             [
              0.1111111111111111,
              "#46039f"
             ],
             [
              0.2222222222222222,
              "#7201a8"
             ],
             [
              0.3333333333333333,
              "#9c179e"
             ],
             [
              0.4444444444444444,
              "#bd3786"
             ],
             [
              0.5555555555555556,
              "#d8576b"
             ],
             [
              0.6666666666666666,
              "#ed7953"
             ],
             [
              0.7777777777777778,
              "#fb9f3a"
             ],
             [
              0.8888888888888888,
              "#fdca26"
             ],
             [
              1,
              "#f0f921"
             ]
            ],
            "type": "surface"
           }
          ],
          "table": [
           {
            "cells": {
             "fill": {
              "color": "#EBF0F8"
             },
             "line": {
              "color": "white"
             }
            },
            "header": {
             "fill": {
              "color": "#C8D4E3"
             },
             "line": {
              "color": "white"
             }
            },
            "type": "table"
           }
          ]
         },
         "layout": {
          "annotationdefaults": {
           "arrowcolor": "#2a3f5f",
           "arrowhead": 0,
           "arrowwidth": 1
          },
          "autotypenumbers": "strict",
          "coloraxis": {
           "colorbar": {
            "outlinewidth": 0,
            "ticks": ""
           }
          },
          "colorscale": {
           "diverging": [
            [
             0,
             "#8e0152"
            ],
            [
             0.1,
             "#c51b7d"
            ],
            [
             0.2,
             "#de77ae"
            ],
            [
             0.3,
             "#f1b6da"
            ],
            [
             0.4,
             "#fde0ef"
            ],
            [
             0.5,
             "#f7f7f7"
            ],
            [
             0.6,
             "#e6f5d0"
            ],
            [
             0.7,
             "#b8e186"
            ],
            [
             0.8,
             "#7fbc41"
            ],
            [
             0.9,
             "#4d9221"
            ],
            [
             1,
             "#276419"
            ]
           ],
           "sequential": [
            [
             0,
             "#0d0887"
            ],
            [
             0.1111111111111111,
             "#46039f"
            ],
            [
             0.2222222222222222,
             "#7201a8"
            ],
            [
             0.3333333333333333,
             "#9c179e"
            ],
            [
             0.4444444444444444,
             "#bd3786"
            ],
            [
             0.5555555555555556,
             "#d8576b"
            ],
            [
             0.6666666666666666,
             "#ed7953"
            ],
            [
             0.7777777777777778,
             "#fb9f3a"
            ],
            [
             0.8888888888888888,
             "#fdca26"
            ],
            [
             1,
             "#f0f921"
            ]
           ],
           "sequentialminus": [
            [
             0,
             "#0d0887"
            ],
            [
             0.1111111111111111,
             "#46039f"
            ],
            [
             0.2222222222222222,
             "#7201a8"
            ],
            [
             0.3333333333333333,
             "#9c179e"
            ],
            [
             0.4444444444444444,
             "#bd3786"
            ],
            [
             0.5555555555555556,
             "#d8576b"
            ],
            [
             0.6666666666666666,
             "#ed7953"
            ],
            [
             0.7777777777777778,
             "#fb9f3a"
            ],
            [
             0.8888888888888888,
             "#fdca26"
            ],
            [
             1,
             "#f0f921"
            ]
           ]
          },
          "colorway": [
           "#636efa",
           "#EF553B",
           "#00cc96",
           "#ab63fa",
           "#FFA15A",
           "#19d3f3",
           "#FF6692",
           "#B6E880",
           "#FF97FF",
           "#FECB52"
          ],
          "font": {
           "color": "#2a3f5f"
          },
          "geo": {
           "bgcolor": "white",
           "lakecolor": "white",
           "landcolor": "#E5ECF6",
           "showlakes": true,
           "showland": true,
           "subunitcolor": "white"
          },
          "hoverlabel": {
           "align": "left"
          },
          "hovermode": "closest",
          "mapbox": {
           "style": "light"
          },
          "paper_bgcolor": "white",
          "plot_bgcolor": "#E5ECF6",
          "polar": {
           "angularaxis": {
            "gridcolor": "white",
            "linecolor": "white",
            "ticks": ""
           },
           "bgcolor": "#E5ECF6",
           "radialaxis": {
            "gridcolor": "white",
            "linecolor": "white",
            "ticks": ""
           }
          },
          "scene": {
           "xaxis": {
            "backgroundcolor": "#E5ECF6",
            "gridcolor": "white",
            "gridwidth": 2,
            "linecolor": "white",
            "showbackground": true,
            "ticks": "",
            "zerolinecolor": "white"
           },
           "yaxis": {
            "backgroundcolor": "#E5ECF6",
            "gridcolor": "white",
            "gridwidth": 2,
            "linecolor": "white",
            "showbackground": true,
            "ticks": "",
            "zerolinecolor": "white"
           },
           "zaxis": {
            "backgroundcolor": "#E5ECF6",
            "gridcolor": "white",
            "gridwidth": 2,
            "linecolor": "white",
            "showbackground": true,
            "ticks": "",
            "zerolinecolor": "white"
           }
          },
          "shapedefaults": {
           "line": {
            "color": "#2a3f5f"
           }
          },
          "ternary": {
           "aaxis": {
            "gridcolor": "white",
            "linecolor": "white",
            "ticks": ""
           },
           "baxis": {
            "gridcolor": "white",
            "linecolor": "white",
            "ticks": ""
           },
           "bgcolor": "#E5ECF6",
           "caxis": {
            "gridcolor": "white",
            "linecolor": "white",
            "ticks": ""
           }
          },
          "title": {
           "x": 0.05
          },
          "xaxis": {
           "automargin": true,
           "gridcolor": "white",
           "linecolor": "white",
           "ticks": "",
           "title": {
            "standoff": 15
           },
           "zerolinecolor": "white",
           "zerolinewidth": 2
          },
          "yaxis": {
           "automargin": true,
           "gridcolor": "white",
           "linecolor": "white",
           "ticks": "",
           "title": {
            "standoff": 15
           },
           "zerolinecolor": "white",
           "zerolinewidth": 2
          }
         }
        },
        "title": {
         "text": "Сравнение предсказаний нейронной сети и фактических температур"
        },
        "xaxis": {
         "title": {
          "text": "Условный номер звезды"
         }
        },
        "yaxis": {
         "title": {
          "text": "Температура звезды, К"
         }
        }
       }
      }
     },
     "metadata": {},
     "output_type": "display_data"
    }
   ],
   "source": [
    "fig_5 = go.Figure()\n",
    "\n",
    "fig_5.add_trace(\n",
    "    go.Bar(\n",
    "        x = df_5.index, \n",
    "        y = df_5['Actual'],\n",
    "        name='Фактическая температура',\n",
    "        marker_color='rgb(0,0,100)'\n",
    "    )\n",
    ")\n",
    "\n",
    "fig_5.add_trace(\n",
    "    go.Bar(\n",
    "        x = df_5.index, \n",
    "        y = df_5['Predicted'],\n",
    "        name='Предсказания',\n",
    "        marker_color='rgb(0,200,200)'\n",
    "    )\n",
    ")\n",
    "\n",
    "fig_5.update_layout(title=\"Сравнение предсказаний нейронной сети и фактических температур\",\n",
    "                    xaxis_title=\"Условный номер звезды\",\n",
    "                    yaxis_title=\"Температура звезды, К\",\n",
    "                    legend=dict(x=.5, xanchor=\"center\", yanchor=\"bottom\", y=-.3, orientation=\"h\"),\n",
    "                   )\n",
    "\n",
    "fig_5.show()"
   ]
  },
  {
   "cell_type": "markdown",
   "id": "017070e2",
   "metadata": {},
   "source": [
    "<b>Данная базовая модель работает хуже, чем модель под номером 2</b>"
   ]
  },
  {
   "cell_type": "markdown",
   "id": "38b7683a",
   "metadata": {},
   "source": [
    "### Вывод по результатам построения базовой модели"
   ]
  },
  {
   "cell_type": "markdown",
   "id": "02e00936",
   "metadata": {},
   "source": [
    "По результатам анализа работы моделей для работы была выбрана базовая модель №2 со следующими параметрами:\n",
    "1. 5 скрытых слоев; \n",
    "2. функция активации - `ReLU()`;\n",
    "3. 1000 нейронов на каждом слое."
   ]
  },
  {
   "cell_type": "markdown",
   "id": "growing-supply",
   "metadata": {},
   "source": [
    "## Улучшение нейронной сети"
   ]
  },
  {
   "cell_type": "markdown",
   "id": "bfb488aa",
   "metadata": {},
   "source": [
    "### Batch Normalization"
   ]
  },
  {
   "cell_type": "code",
   "execution_count": 49,
   "id": "ac6fe8e5",
   "metadata": {},
   "outputs": [
    {
     "name": "stdout",
     "output_type": "stream",
     "text": [
      "tensor(13331.0449)\n",
      "tensor(13243.6621)\n",
      "tensor(13124.7393)\n",
      "tensor(12972.0225)\n",
      "tensor(12711.5029)\n",
      "tensor(12420.8711)\n",
      "tensor(12016.3857)\n",
      "tensor(11665.4941)\n",
      "tensor(11167.5459)\n",
      "tensor(10657.9492)\n",
      "tensor(10112.0342)\n"
     ]
    }
   ],
   "source": [
    "net_bn = nn.Sequential(\n",
    "    nn.Linear(n_in_neurons, n_hidden_neurons_1),\n",
    "    nn.ReLU(),\n",
    "    nn.BatchNorm1d(n_hidden_neurons_1),\n",
    "    nn.Linear(n_hidden_neurons_1, n_hidden_neurons_2),\n",
    "    nn.ReLU(),\n",
    "    nn.BatchNorm1d(n_hidden_neurons_2),\n",
    "    nn.Linear(n_hidden_neurons_2, n_hidden_neurons_3),\n",
    "    nn.ReLU(),\n",
    "    nn.BatchNorm1d(n_hidden_neurons_3),\n",
    "    nn.Linear(n_hidden_neurons_3, n_hidden_neurons_4),\n",
    "    nn.ReLU(),\n",
    "    nn.BatchNorm1d(n_hidden_neurons_4),\n",
    "    nn.Linear(n_hidden_neurons_4, n_hidden_neurons_5),\n",
    "    nn.ReLU(),\n",
    "    nn.BatchNorm1d(n_hidden_neurons_5),\n",
    "    nn.Linear(n_hidden_neurons_5, n_out_neurons)\n",
    ")\n",
    "\n",
    "optimizer = torch.optim.Adam(net_bn.parameters(), lr=1.0e-3)\n",
    "\n",
    "loss = nn.MSELoss()\n",
    "\n",
    "num_epochs = 1000\n",
    "\n",
    "for epoch in range(num_epochs):\n",
    "    net_bn.train()\n",
    "    optimizer.zero_grad()\n",
    "    \n",
    "    preds = net_bn(features_train).flatten()\n",
    "    \n",
    "    loss_value = torch.sqrt(loss(preds, target_train))\n",
    "    loss_value.backward()\n",
    "    optimizer.step()\n",
    "    \n",
    "    if epoch % 100 == 0 or epoch == max(range(num_epochs)):\n",
    "        with torch.no_grad():\n",
    "            net_bn.eval()\n",
    "            test_preds = net_bn(features_test).flatten()\n",
    "            loss_rmse = torch.sqrt(loss(test_preds, target_test))\n",
    "            print(loss_rmse)"
   ]
  },
  {
   "cell_type": "code",
   "execution_count": 50,
   "id": "17f368ee",
   "metadata": {},
   "outputs": [
    {
     "name": "stdout",
     "output_type": "stream",
     "text": [
      "     Actual    Predicted\n",
      "0    3463.0  -530.814941\n",
      "1    7100.0  1316.833008\n",
      "2    3752.0  -411.074860\n",
      "3    3095.0  -472.825043\n",
      "4    2650.0  -568.705078\n",
      "..      ...          ...\n",
      "67   8930.0  1271.137451\n",
      "68  19923.0  7558.516113\n",
      "69   3574.0  -403.854645\n",
      "70   2871.0  -563.539185\n",
      "71   7282.0  4343.213379\n",
      "\n",
      "[72 rows x 2 columns]\n"
     ]
    }
   ],
   "source": [
    "test_preds = [test_preds[x].item() for x in range(len(test_preds))]\n",
    "\n",
    "df_bn = {}\n",
    "df_bn['Actual'] = target_test\n",
    "df_bn['Predicted'] = test_preds\n",
    "df_bn = pd.DataFrame(df_bn)\n",
    "print(df_bn)"
   ]
  },
  {
   "cell_type": "code",
   "execution_count": 51,
   "id": "f5fb4480",
   "metadata": {},
   "outputs": [
    {
     "data": {
      "application/vnd.plotly.v1+json": {
       "config": {
        "plotlyServerURL": "https://plot.ly"
       },
       "data": [
        {
         "marker": {
          "color": "rgb(0,0,100)"
         },
         "name": "Фактическая температура",
         "type": "bar",
         "x": [
          0,
          1,
          2,
          3,
          4,
          5,
          6,
          7,
          8,
          9,
          10,
          11,
          12,
          13,
          14,
          15,
          16,
          17,
          18,
          19,
          20,
          21,
          22,
          23,
          24,
          25,
          26,
          27,
          28,
          29,
          30,
          31,
          32,
          33,
          34,
          35,
          36,
          37,
          38,
          39,
          40,
          41,
          42,
          43,
          44,
          45,
          46,
          47,
          48,
          49,
          50,
          51,
          52,
          53,
          54,
          55,
          56,
          57,
          58,
          59,
          60,
          61,
          62,
          63,
          64,
          65,
          66,
          67,
          68,
          69,
          70,
          71
         ],
         "y": [
          3463,
          7100,
          3752,
          3095,
          2650,
          9383,
          24145,
          2983,
          9700,
          5752,
          37882,
          9320,
          17200,
          5300,
          2600,
          24020,
          24630,
          12990,
          4015,
          3660,
          2835,
          14060,
          22012,
          3129,
          18000,
          3511,
          21020,
          2774,
          3212,
          3628,
          3650,
          2637,
          3399,
          3295,
          34190,
          14100,
          16500,
          10574,
          3324,
          3462,
          3600,
          1939,
          8924,
          4980,
          2650,
          8829,
          19860,
          17120,
          11567,
          30000,
          6380,
          3575,
          13420,
          9675,
          3146,
          19360,
          10980,
          7230,
          2731,
          3541,
          12749,
          38234,
          3270,
          3068,
          3450,
          3598,
          16787,
          8930,
          19923,
          3574,
          2871,
          7282
         ]
        },
        {
         "marker": {
          "color": "rgb(0,200,200)"
         },
         "name": "Предсказания",
         "type": "bar",
         "x": [
          0,
          1,
          2,
          3,
          4,
          5,
          6,
          7,
          8,
          9,
          10,
          11,
          12,
          13,
          14,
          15,
          16,
          17,
          18,
          19,
          20,
          21,
          22,
          23,
          24,
          25,
          26,
          27,
          28,
          29,
          30,
          31,
          32,
          33,
          34,
          35,
          36,
          37,
          38,
          39,
          40,
          41,
          42,
          43,
          44,
          45,
          46,
          47,
          48,
          49,
          50,
          51,
          52,
          53,
          54,
          55,
          56,
          57,
          58,
          59,
          60,
          61,
          62,
          63,
          64,
          65,
          66,
          67,
          68,
          69,
          70,
          71
         ],
         "y": [
          -530.81494140625,
          1316.8330078125,
          -411.0748596191406,
          -472.8250427246094,
          -568.705078125,
          3549.074462890625,
          6908.28662109375,
          -568.3060302734375,
          848.0203857421875,
          3549.074462890625,
          6927.2197265625,
          2194.517822265625,
          3121.906982421875,
          200.8092803955078,
          -570.2786865234375,
          6149.56103515625,
          7493.23486328125,
          2697.800537109375,
          -417.6634521484375,
          -109.97647094726562,
          -568.46240234375,
          3986.072021484375,
          4765.97802734375,
          -512.7611083984375,
          8678.560546875,
          -568.4925537109375,
          4917.361328125,
          -568.6715087890625,
          -537.1461791992188,
          -453.21533203125,
          -423.68048095703125,
          -568.5991821289062,
          -485.6228942871094,
          -568.4983520507812,
          9930.73046875,
          3100.414794921875,
          3166.109619140625,
          4147.35888671875,
          -536.1261596679688,
          -501.5790710449219,
          -371.823486328125,
          -546.80712890625,
          1249.231689453125,
          118.1250228881836,
          -512.6189575195312,
          6541.89697265625,
          5114.30712890625,
          3549.074462890625,
          7040.80029296875,
          8802.5400390625,
          695.998291015625,
          -386.9849548339844,
          2125.880126953125,
          1573.0791015625,
          -568.4923095703125,
          4775.3203125,
          2743.192626953125,
          1273.6240234375,
          -569.4505615234375,
          -533.9146728515625,
          3549.074462890625,
          9089.49609375,
          -449.2642517089844,
          -568.303955078125,
          -287.5324401855469,
          -534.3049926757812,
          3549.074462890625,
          1271.137451171875,
          7558.51611328125,
          -403.8546447753906,
          -563.5391845703125,
          4343.21337890625
         ]
        }
       ],
       "layout": {
        "legend": {
         "orientation": "h",
         "x": 0.5,
         "xanchor": "center",
         "y": -0.3,
         "yanchor": "bottom"
        },
        "template": {
         "data": {
          "bar": [
           {
            "error_x": {
             "color": "#2a3f5f"
            },
            "error_y": {
             "color": "#2a3f5f"
            },
            "marker": {
             "line": {
              "color": "#E5ECF6",
              "width": 0.5
             },
             "pattern": {
              "fillmode": "overlay",
              "size": 10,
              "solidity": 0.2
             }
            },
            "type": "bar"
           }
          ],
          "barpolar": [
           {
            "marker": {
             "line": {
              "color": "#E5ECF6",
              "width": 0.5
             },
             "pattern": {
              "fillmode": "overlay",
              "size": 10,
              "solidity": 0.2
             }
            },
            "type": "barpolar"
           }
          ],
          "carpet": [
           {
            "aaxis": {
             "endlinecolor": "#2a3f5f",
             "gridcolor": "white",
             "linecolor": "white",
             "minorgridcolor": "white",
             "startlinecolor": "#2a3f5f"
            },
            "baxis": {
             "endlinecolor": "#2a3f5f",
             "gridcolor": "white",
             "linecolor": "white",
             "minorgridcolor": "white",
             "startlinecolor": "#2a3f5f"
            },
            "type": "carpet"
           }
          ],
          "choropleth": [
           {
            "colorbar": {
             "outlinewidth": 0,
             "ticks": ""
            },
            "type": "choropleth"
           }
          ],
          "contour": [
           {
            "colorbar": {
             "outlinewidth": 0,
             "ticks": ""
            },
            "colorscale": [
             [
              0,
              "#0d0887"
             ],
             [
              0.1111111111111111,
              "#46039f"
             ],
             [
              0.2222222222222222,
              "#7201a8"
             ],
             [
              0.3333333333333333,
              "#9c179e"
             ],
             [
              0.4444444444444444,
              "#bd3786"
             ],
             [
              0.5555555555555556,
              "#d8576b"
             ],
             [
              0.6666666666666666,
              "#ed7953"
             ],
             [
              0.7777777777777778,
              "#fb9f3a"
             ],
             [
              0.8888888888888888,
              "#fdca26"
             ],
             [
              1,
              "#f0f921"
             ]
            ],
            "type": "contour"
           }
          ],
          "contourcarpet": [
           {
            "colorbar": {
             "outlinewidth": 0,
             "ticks": ""
            },
            "type": "contourcarpet"
           }
          ],
          "heatmap": [
           {
            "colorbar": {
             "outlinewidth": 0,
             "ticks": ""
            },
            "colorscale": [
             [
              0,
              "#0d0887"
             ],
             [
              0.1111111111111111,
              "#46039f"
             ],
             [
              0.2222222222222222,
              "#7201a8"
             ],
             [
              0.3333333333333333,
              "#9c179e"
             ],
             [
              0.4444444444444444,
              "#bd3786"
             ],
             [
              0.5555555555555556,
              "#d8576b"
             ],
             [
              0.6666666666666666,
              "#ed7953"
             ],
             [
              0.7777777777777778,
              "#fb9f3a"
             ],
             [
              0.8888888888888888,
              "#fdca26"
             ],
             [
              1,
              "#f0f921"
             ]
            ],
            "type": "heatmap"
           }
          ],
          "heatmapgl": [
           {
            "colorbar": {
             "outlinewidth": 0,
             "ticks": ""
            },
            "colorscale": [
             [
              0,
              "#0d0887"
             ],
             [
              0.1111111111111111,
              "#46039f"
             ],
             [
              0.2222222222222222,
              "#7201a8"
             ],
             [
              0.3333333333333333,
              "#9c179e"
             ],
             [
              0.4444444444444444,
              "#bd3786"
             ],
             [
              0.5555555555555556,
              "#d8576b"
             ],
             [
              0.6666666666666666,
              "#ed7953"
             ],
             [
              0.7777777777777778,
              "#fb9f3a"
             ],
             [
              0.8888888888888888,
              "#fdca26"
             ],
             [
              1,
              "#f0f921"
             ]
            ],
            "type": "heatmapgl"
           }
          ],
          "histogram": [
           {
            "marker": {
             "pattern": {
              "fillmode": "overlay",
              "size": 10,
              "solidity": 0.2
             }
            },
            "type": "histogram"
           }
          ],
          "histogram2d": [
           {
            "colorbar": {
             "outlinewidth": 0,
             "ticks": ""
            },
            "colorscale": [
             [
              0,
              "#0d0887"
             ],
             [
              0.1111111111111111,
              "#46039f"
             ],
             [
              0.2222222222222222,
              "#7201a8"
             ],
             [
              0.3333333333333333,
              "#9c179e"
             ],
             [
              0.4444444444444444,
              "#bd3786"
             ],
             [
              0.5555555555555556,
              "#d8576b"
             ],
             [
              0.6666666666666666,
              "#ed7953"
             ],
             [
              0.7777777777777778,
              "#fb9f3a"
             ],
             [
              0.8888888888888888,
              "#fdca26"
             ],
             [
              1,
              "#f0f921"
             ]
            ],
            "type": "histogram2d"
           }
          ],
          "histogram2dcontour": [
           {
            "colorbar": {
             "outlinewidth": 0,
             "ticks": ""
            },
            "colorscale": [
             [
              0,
              "#0d0887"
             ],
             [
              0.1111111111111111,
              "#46039f"
             ],
             [
              0.2222222222222222,
              "#7201a8"
             ],
             [
              0.3333333333333333,
              "#9c179e"
             ],
             [
              0.4444444444444444,
              "#bd3786"
             ],
             [
              0.5555555555555556,
              "#d8576b"
             ],
             [
              0.6666666666666666,
              "#ed7953"
             ],
             [
              0.7777777777777778,
              "#fb9f3a"
             ],
             [
              0.8888888888888888,
              "#fdca26"
             ],
             [
              1,
              "#f0f921"
             ]
            ],
            "type": "histogram2dcontour"
           }
          ],
          "mesh3d": [
           {
            "colorbar": {
             "outlinewidth": 0,
             "ticks": ""
            },
            "type": "mesh3d"
           }
          ],
          "parcoords": [
           {
            "line": {
             "colorbar": {
              "outlinewidth": 0,
              "ticks": ""
             }
            },
            "type": "parcoords"
           }
          ],
          "pie": [
           {
            "automargin": true,
            "type": "pie"
           }
          ],
          "scatter": [
           {
            "fillpattern": {
             "fillmode": "overlay",
             "size": 10,
             "solidity": 0.2
            },
            "type": "scatter"
           }
          ],
          "scatter3d": [
           {
            "line": {
             "colorbar": {
              "outlinewidth": 0,
              "ticks": ""
             }
            },
            "marker": {
             "colorbar": {
              "outlinewidth": 0,
              "ticks": ""
             }
            },
            "type": "scatter3d"
           }
          ],
          "scattercarpet": [
           {
            "marker": {
             "colorbar": {
              "outlinewidth": 0,
              "ticks": ""
             }
            },
            "type": "scattercarpet"
           }
          ],
          "scattergeo": [
           {
            "marker": {
             "colorbar": {
              "outlinewidth": 0,
              "ticks": ""
             }
            },
            "type": "scattergeo"
           }
          ],
          "scattergl": [
           {
            "marker": {
             "colorbar": {
              "outlinewidth": 0,
              "ticks": ""
             }
            },
            "type": "scattergl"
           }
          ],
          "scattermapbox": [
           {
            "marker": {
             "colorbar": {
              "outlinewidth": 0,
              "ticks": ""
             }
            },
            "type": "scattermapbox"
           }
          ],
          "scatterpolar": [
           {
            "marker": {
             "colorbar": {
              "outlinewidth": 0,
              "ticks": ""
             }
            },
            "type": "scatterpolar"
           }
          ],
          "scatterpolargl": [
           {
            "marker": {
             "colorbar": {
              "outlinewidth": 0,
              "ticks": ""
             }
            },
            "type": "scatterpolargl"
           }
          ],
          "scatterternary": [
           {
            "marker": {
             "colorbar": {
              "outlinewidth": 0,
              "ticks": ""
             }
            },
            "type": "scatterternary"
           }
          ],
          "surface": [
           {
            "colorbar": {
             "outlinewidth": 0,
             "ticks": ""
            },
            "colorscale": [
             [
              0,
              "#0d0887"
             ],
             [
              0.1111111111111111,
              "#46039f"
             ],
             [
              0.2222222222222222,
              "#7201a8"
             ],
             [
              0.3333333333333333,
              "#9c179e"
             ],
             [
              0.4444444444444444,
              "#bd3786"
             ],
             [
              0.5555555555555556,
              "#d8576b"
             ],
             [
              0.6666666666666666,
              "#ed7953"
             ],
             [
              0.7777777777777778,
              "#fb9f3a"
             ],
             [
              0.8888888888888888,
              "#fdca26"
             ],
             [
              1,
              "#f0f921"
             ]
            ],
            "type": "surface"
           }
          ],
          "table": [
           {
            "cells": {
             "fill": {
              "color": "#EBF0F8"
             },
             "line": {
              "color": "white"
             }
            },
            "header": {
             "fill": {
              "color": "#C8D4E3"
             },
             "line": {
              "color": "white"
             }
            },
            "type": "table"
           }
          ]
         },
         "layout": {
          "annotationdefaults": {
           "arrowcolor": "#2a3f5f",
           "arrowhead": 0,
           "arrowwidth": 1
          },
          "autotypenumbers": "strict",
          "coloraxis": {
           "colorbar": {
            "outlinewidth": 0,
            "ticks": ""
           }
          },
          "colorscale": {
           "diverging": [
            [
             0,
             "#8e0152"
            ],
            [
             0.1,
             "#c51b7d"
            ],
            [
             0.2,
             "#de77ae"
            ],
            [
             0.3,
             "#f1b6da"
            ],
            [
             0.4,
             "#fde0ef"
            ],
            [
             0.5,
             "#f7f7f7"
            ],
            [
             0.6,
             "#e6f5d0"
            ],
            [
             0.7,
             "#b8e186"
            ],
            [
             0.8,
             "#7fbc41"
            ],
            [
             0.9,
             "#4d9221"
            ],
            [
             1,
             "#276419"
            ]
           ],
           "sequential": [
            [
             0,
             "#0d0887"
            ],
            [
             0.1111111111111111,
             "#46039f"
            ],
            [
             0.2222222222222222,
             "#7201a8"
            ],
            [
             0.3333333333333333,
             "#9c179e"
            ],
            [
             0.4444444444444444,
             "#bd3786"
            ],
            [
             0.5555555555555556,
             "#d8576b"
            ],
            [
             0.6666666666666666,
             "#ed7953"
            ],
            [
             0.7777777777777778,
             "#fb9f3a"
            ],
            [
             0.8888888888888888,
             "#fdca26"
            ],
            [
             1,
             "#f0f921"
            ]
           ],
           "sequentialminus": [
            [
             0,
             "#0d0887"
            ],
            [
             0.1111111111111111,
             "#46039f"
            ],
            [
             0.2222222222222222,
             "#7201a8"
            ],
            [
             0.3333333333333333,
             "#9c179e"
            ],
            [
             0.4444444444444444,
             "#bd3786"
            ],
            [
             0.5555555555555556,
             "#d8576b"
            ],
            [
             0.6666666666666666,
             "#ed7953"
            ],
            [
             0.7777777777777778,
             "#fb9f3a"
            ],
            [
             0.8888888888888888,
             "#fdca26"
            ],
            [
             1,
             "#f0f921"
            ]
           ]
          },
          "colorway": [
           "#636efa",
           "#EF553B",
           "#00cc96",
           "#ab63fa",
           "#FFA15A",
           "#19d3f3",
           "#FF6692",
           "#B6E880",
           "#FF97FF",
           "#FECB52"
          ],
          "font": {
           "color": "#2a3f5f"
          },
          "geo": {
           "bgcolor": "white",
           "lakecolor": "white",
           "landcolor": "#E5ECF6",
           "showlakes": true,
           "showland": true,
           "subunitcolor": "white"
          },
          "hoverlabel": {
           "align": "left"
          },
          "hovermode": "closest",
          "mapbox": {
           "style": "light"
          },
          "paper_bgcolor": "white",
          "plot_bgcolor": "#E5ECF6",
          "polar": {
           "angularaxis": {
            "gridcolor": "white",
            "linecolor": "white",
            "ticks": ""
           },
           "bgcolor": "#E5ECF6",
           "radialaxis": {
            "gridcolor": "white",
            "linecolor": "white",
            "ticks": ""
           }
          },
          "scene": {
           "xaxis": {
            "backgroundcolor": "#E5ECF6",
            "gridcolor": "white",
            "gridwidth": 2,
            "linecolor": "white",
            "showbackground": true,
            "ticks": "",
            "zerolinecolor": "white"
           },
           "yaxis": {
            "backgroundcolor": "#E5ECF6",
            "gridcolor": "white",
            "gridwidth": 2,
            "linecolor": "white",
            "showbackground": true,
            "ticks": "",
            "zerolinecolor": "white"
           },
           "zaxis": {
            "backgroundcolor": "#E5ECF6",
            "gridcolor": "white",
            "gridwidth": 2,
            "linecolor": "white",
            "showbackground": true,
            "ticks": "",
            "zerolinecolor": "white"
           }
          },
          "shapedefaults": {
           "line": {
            "color": "#2a3f5f"
           }
          },
          "ternary": {
           "aaxis": {
            "gridcolor": "white",
            "linecolor": "white",
            "ticks": ""
           },
           "baxis": {
            "gridcolor": "white",
            "linecolor": "white",
            "ticks": ""
           },
           "bgcolor": "#E5ECF6",
           "caxis": {
            "gridcolor": "white",
            "linecolor": "white",
            "ticks": ""
           }
          },
          "title": {
           "x": 0.05
          },
          "xaxis": {
           "automargin": true,
           "gridcolor": "white",
           "linecolor": "white",
           "ticks": "",
           "title": {
            "standoff": 15
           },
           "zerolinecolor": "white",
           "zerolinewidth": 2
          },
          "yaxis": {
           "automargin": true,
           "gridcolor": "white",
           "linecolor": "white",
           "ticks": "",
           "title": {
            "standoff": 15
           },
           "zerolinecolor": "white",
           "zerolinewidth": 2
          }
         }
        },
        "title": {
         "text": "Сравнение предсказаний нейронной сети и фактических температур"
        },
        "xaxis": {
         "title": {
          "text": "Условный номер звезды"
         }
        },
        "yaxis": {
         "title": {
          "text": "Температура звезды, К"
         }
        }
       }
      }
     },
     "metadata": {},
     "output_type": "display_data"
    }
   ],
   "source": [
    "fig_bn = go.Figure()\n",
    "\n",
    "fig_bn.add_trace(\n",
    "    go.Bar(\n",
    "        x = df_bn.index, \n",
    "        y = df_bn['Actual'],\n",
    "        name='Фактическая температура',\n",
    "        marker_color='rgb(0,0,100)'\n",
    "    )\n",
    ")\n",
    "\n",
    "fig_bn.add_trace(\n",
    "    go.Bar(\n",
    "        x = df_bn.index, \n",
    "        y = df_bn['Predicted'],\n",
    "        name='Предсказания',\n",
    "        marker_color='rgb(0,200,200)'\n",
    "    )\n",
    ")\n",
    "\n",
    "fig_bn.update_layout(title=\"Сравнение предсказаний нейронной сети и фактических температур\",\n",
    "                    xaxis_title=\"Условный номер звезды\",\n",
    "                    yaxis_title=\"Температура звезды, К\",\n",
    "                    legend=dict(x=.5, xanchor=\"center\", yanchor=\"bottom\", y=-.3, orientation=\"h\"),\n",
    "                   )\n",
    "\n",
    "fig_bn.show()"
   ]
  },
  {
   "cell_type": "markdown",
   "id": "95f62916",
   "metadata": {},
   "source": [
    "### Dropout"
   ]
  },
  {
   "cell_type": "markdown",
   "id": "35dc300a",
   "metadata": {},
   "source": [
    "#### Значение p=0.1"
   ]
  },
  {
   "cell_type": "code",
   "execution_count": 52,
   "id": "ed54aba0",
   "metadata": {},
   "outputs": [
    {
     "name": "stdout",
     "output_type": "stream",
     "text": [
      "tensor(13330.5518)\n",
      "tensor(4724.8101)\n",
      "tensor(4568.5088)\n",
      "tensor(4618.8164)\n",
      "tensor(4556.7261)\n",
      "tensor(4507.2290)\n",
      "tensor(4318.4468)\n",
      "tensor(4224.9424)\n",
      "tensor(3968.2302)\n",
      "tensor(4261.9375)\n",
      "tensor(3884.6729)\n"
     ]
    }
   ],
   "source": [
    "net_do_1 = nn.Sequential(\n",
    "    nn.Linear(n_in_neurons, n_hidden_neurons_1),\n",
    "    nn.Dropout(p=0.1),\n",
    "    nn.ReLU(),\n",
    "    nn.Linear(n_hidden_neurons_1, n_hidden_neurons_2),\n",
    "    nn.Dropout(p=0.1),\n",
    "    nn.ReLU(),\n",
    "    nn.Linear(n_hidden_neurons_2, n_hidden_neurons_3),\n",
    "    nn.Dropout(p=0.1),\n",
    "    nn.ReLU(),\n",
    "    nn.Linear(n_hidden_neurons_3, n_hidden_neurons_4),\n",
    "    nn.Dropout(p=0.1),\n",
    "    nn.ReLU(),\n",
    "    nn.Linear(n_hidden_neurons_4, n_hidden_neurons_5),\n",
    "    nn.Dropout(p=0.1),\n",
    "    nn.ReLU(),\n",
    "    nn.Linear(n_hidden_neurons_5, n_out_neurons)\n",
    ")\n",
    "\n",
    "optimizer = torch.optim.Adam(net_do_1.parameters(), lr=1.0e-3)\n",
    "\n",
    "loss = nn.MSELoss()\n",
    "\n",
    "num_epochs = 1000\n",
    "\n",
    "for epoch in range(num_epochs):\n",
    "    net_do_1.train()\n",
    "    optimizer.zero_grad()\n",
    "    \n",
    "    preds = net_do_1(features_train).flatten()\n",
    "    \n",
    "    loss_value = torch.sqrt(loss(preds, target_train))\n",
    "    loss_value.backward()\n",
    "    optimizer.step()\n",
    "    \n",
    "    if epoch % 100 == 0 or epoch == max(range(num_epochs)):\n",
    "        with torch.no_grad():\n",
    "            net_do_1.eval()\n",
    "            test_preds = net_do_1(features_test).flatten()\n",
    "            loss_rmse = torch.sqrt(loss(test_preds, target_test))\n",
    "            print(loss_rmse)"
   ]
  },
  {
   "cell_type": "code",
   "execution_count": 53,
   "id": "6dcf97cc",
   "metadata": {},
   "outputs": [
    {
     "name": "stdout",
     "output_type": "stream",
     "text": [
      "     Actual     Predicted\n",
      "0    3463.0   3246.656250\n",
      "1    7100.0   6379.769531\n",
      "2    3752.0   3959.069092\n",
      "3    3095.0   3431.015137\n",
      "4    2650.0   3169.526611\n",
      "..      ...           ...\n",
      "67   8930.0   8153.163574\n",
      "68  19923.0  24060.794922\n",
      "69   3574.0   3824.202148\n",
      "70   2871.0   3244.929443\n",
      "71   7282.0  13699.666992\n",
      "\n",
      "[72 rows x 2 columns]\n"
     ]
    }
   ],
   "source": [
    "test_preds = [test_preds[x].item() for x in range(len(test_preds))]\n",
    "\n",
    "df_do_1 = {}\n",
    "df_do_1['Actual'] = target_test\n",
    "df_do_1['Predicted'] = test_preds\n",
    "df_do_1 = pd.DataFrame(df_do_1)\n",
    "print(df_do_1)"
   ]
  },
  {
   "cell_type": "code",
   "execution_count": 54,
   "id": "ba813b49",
   "metadata": {},
   "outputs": [
    {
     "data": {
      "application/vnd.plotly.v1+json": {
       "config": {
        "plotlyServerURL": "https://plot.ly"
       },
       "data": [
        {
         "marker": {
          "color": "rgb(0,0,100)"
         },
         "name": "Фактическая температура",
         "type": "bar",
         "x": [
          0,
          1,
          2,
          3,
          4,
          5,
          6,
          7,
          8,
          9,
          10,
          11,
          12,
          13,
          14,
          15,
          16,
          17,
          18,
          19,
          20,
          21,
          22,
          23,
          24,
          25,
          26,
          27,
          28,
          29,
          30,
          31,
          32,
          33,
          34,
          35,
          36,
          37,
          38,
          39,
          40,
          41,
          42,
          43,
          44,
          45,
          46,
          47,
          48,
          49,
          50,
          51,
          52,
          53,
          54,
          55,
          56,
          57,
          58,
          59,
          60,
          61,
          62,
          63,
          64,
          65,
          66,
          67,
          68,
          69,
          70,
          71
         ],
         "y": [
          3463,
          7100,
          3752,
          3095,
          2650,
          9383,
          24145,
          2983,
          9700,
          5752,
          37882,
          9320,
          17200,
          5300,
          2600,
          24020,
          24630,
          12990,
          4015,
          3660,
          2835,
          14060,
          22012,
          3129,
          18000,
          3511,
          21020,
          2774,
          3212,
          3628,
          3650,
          2637,
          3399,
          3295,
          34190,
          14100,
          16500,
          10574,
          3324,
          3462,
          3600,
          1939,
          8924,
          4980,
          2650,
          8829,
          19860,
          17120,
          11567,
          30000,
          6380,
          3575,
          13420,
          9675,
          3146,
          19360,
          10980,
          7230,
          2731,
          3541,
          12749,
          38234,
          3270,
          3068,
          3450,
          3598,
          16787,
          8930,
          19923,
          3574,
          2871,
          7282
         ]
        },
        {
         "marker": {
          "color": "rgb(0,200,200)"
         },
         "name": "Предсказания",
         "type": "bar",
         "x": [
          0,
          1,
          2,
          3,
          4,
          5,
          6,
          7,
          8,
          9,
          10,
          11,
          12,
          13,
          14,
          15,
          16,
          17,
          18,
          19,
          20,
          21,
          22,
          23,
          24,
          25,
          26,
          27,
          28,
          29,
          30,
          31,
          32,
          33,
          34,
          35,
          36,
          37,
          38,
          39,
          40,
          41,
          42,
          43,
          44,
          45,
          46,
          47,
          48,
          49,
          50,
          51,
          52,
          53,
          54,
          55,
          56,
          57,
          58,
          59,
          60,
          61,
          62,
          63,
          64,
          65,
          66,
          67,
          68,
          69,
          70,
          71
         ],
         "y": [
          3246.65625,
          6379.76953125,
          3959.069091796875,
          3431.01513671875,
          3169.526611328125,
          17162.076171875,
          25570.69140625,
          3109.517822265625,
          7777.4970703125,
          19323.65625,
          22106.119140625,
          9549.072265625,
          12217.93359375,
          5681.82763671875,
          3212.525390625,
          20747.693359375,
          23742.380859375,
          12295.3857421875,
          4855.37646484375,
          5187.4794921875,
          3155.50830078125,
          13960.7822265625,
          15942.5810546875,
          3294.188232421875,
          21257.5234375,
          3161.889404296875,
          17549.90625,
          3168.166259765625,
          3264.069580078125,
          3515.690185546875,
          4189.2236328125,
          3164.267333984375,
          3647.101806640625,
          3162.072509765625,
          36998.94140625,
          12625.71484375,
          13029.9541015625,
          17153.060546875,
          3263.314453125,
          3323.825927734375,
          4239.77880859375,
          3286.458984375,
          8910.1015625,
          4826.40625,
          3295.848876953125,
          14133.4580078125,
          18028.087890625,
          17802.283203125,
          24022.32421875,
          29765.130859375,
          6895.07666015625,
          3998.012451171875,
          10319.4697265625,
          9848.3310546875,
          3153.53076171875,
          17300.787109375,
          14668.5908203125,
          8150.970703125,
          3189.7421875,
          3253.173095703125,
          16793.470703125,
          28587.998046875,
          3876.455322265625,
          3110.821533203125,
          4662.31787109375,
          3252.541259765625,
          22305.18359375,
          8153.16357421875,
          24060.794921875,
          3824.2021484375,
          3244.929443359375,
          13699.6669921875
         ]
        }
       ],
       "layout": {
        "legend": {
         "orientation": "h",
         "x": 0.5,
         "xanchor": "center",
         "y": -0.3,
         "yanchor": "bottom"
        },
        "template": {
         "data": {
          "bar": [
           {
            "error_x": {
             "color": "#2a3f5f"
            },
            "error_y": {
             "color": "#2a3f5f"
            },
            "marker": {
             "line": {
              "color": "#E5ECF6",
              "width": 0.5
             },
             "pattern": {
              "fillmode": "overlay",
              "size": 10,
              "solidity": 0.2
             }
            },
            "type": "bar"
           }
          ],
          "barpolar": [
           {
            "marker": {
             "line": {
              "color": "#E5ECF6",
              "width": 0.5
             },
             "pattern": {
              "fillmode": "overlay",
              "size": 10,
              "solidity": 0.2
             }
            },
            "type": "barpolar"
           }
          ],
          "carpet": [
           {
            "aaxis": {
             "endlinecolor": "#2a3f5f",
             "gridcolor": "white",
             "linecolor": "white",
             "minorgridcolor": "white",
             "startlinecolor": "#2a3f5f"
            },
            "baxis": {
             "endlinecolor": "#2a3f5f",
             "gridcolor": "white",
             "linecolor": "white",
             "minorgridcolor": "white",
             "startlinecolor": "#2a3f5f"
            },
            "type": "carpet"
           }
          ],
          "choropleth": [
           {
            "colorbar": {
             "outlinewidth": 0,
             "ticks": ""
            },
            "type": "choropleth"
           }
          ],
          "contour": [
           {
            "colorbar": {
             "outlinewidth": 0,
             "ticks": ""
            },
            "colorscale": [
             [
              0,
              "#0d0887"
             ],
             [
              0.1111111111111111,
              "#46039f"
             ],
             [
              0.2222222222222222,
              "#7201a8"
             ],
             [
              0.3333333333333333,
              "#9c179e"
             ],
             [
              0.4444444444444444,
              "#bd3786"
             ],
             [
              0.5555555555555556,
              "#d8576b"
             ],
             [
              0.6666666666666666,
              "#ed7953"
             ],
             [
              0.7777777777777778,
              "#fb9f3a"
             ],
             [
              0.8888888888888888,
              "#fdca26"
             ],
             [
              1,
              "#f0f921"
             ]
            ],
            "type": "contour"
           }
          ],
          "contourcarpet": [
           {
            "colorbar": {
             "outlinewidth": 0,
             "ticks": ""
            },
            "type": "contourcarpet"
           }
          ],
          "heatmap": [
           {
            "colorbar": {
             "outlinewidth": 0,
             "ticks": ""
            },
            "colorscale": [
             [
              0,
              "#0d0887"
             ],
             [
              0.1111111111111111,
              "#46039f"
             ],
             [
              0.2222222222222222,
              "#7201a8"
             ],
             [
              0.3333333333333333,
              "#9c179e"
             ],
             [
              0.4444444444444444,
              "#bd3786"
             ],
             [
              0.5555555555555556,
              "#d8576b"
             ],
             [
              0.6666666666666666,
              "#ed7953"
             ],
             [
              0.7777777777777778,
              "#fb9f3a"
             ],
             [
              0.8888888888888888,
              "#fdca26"
             ],
             [
              1,
              "#f0f921"
             ]
            ],
            "type": "heatmap"
           }
          ],
          "heatmapgl": [
           {
            "colorbar": {
             "outlinewidth": 0,
             "ticks": ""
            },
            "colorscale": [
             [
              0,
              "#0d0887"
             ],
             [
              0.1111111111111111,
              "#46039f"
             ],
             [
              0.2222222222222222,
              "#7201a8"
             ],
             [
              0.3333333333333333,
              "#9c179e"
             ],
             [
              0.4444444444444444,
              "#bd3786"
             ],
             [
              0.5555555555555556,
              "#d8576b"
             ],
             [
              0.6666666666666666,
              "#ed7953"
             ],
             [
              0.7777777777777778,
              "#fb9f3a"
             ],
             [
              0.8888888888888888,
              "#fdca26"
             ],
             [
              1,
              "#f0f921"
             ]
            ],
            "type": "heatmapgl"
           }
          ],
          "histogram": [
           {
            "marker": {
             "pattern": {
              "fillmode": "overlay",
              "size": 10,
              "solidity": 0.2
             }
            },
            "type": "histogram"
           }
          ],
          "histogram2d": [
           {
            "colorbar": {
             "outlinewidth": 0,
             "ticks": ""
            },
            "colorscale": [
             [
              0,
              "#0d0887"
             ],
             [
              0.1111111111111111,
              "#46039f"
             ],
             [
              0.2222222222222222,
              "#7201a8"
             ],
             [
              0.3333333333333333,
              "#9c179e"
             ],
             [
              0.4444444444444444,
              "#bd3786"
             ],
             [
              0.5555555555555556,
              "#d8576b"
             ],
             [
              0.6666666666666666,
              "#ed7953"
             ],
             [
              0.7777777777777778,
              "#fb9f3a"
             ],
             [
              0.8888888888888888,
              "#fdca26"
             ],
             [
              1,
              "#f0f921"
             ]
            ],
            "type": "histogram2d"
           }
          ],
          "histogram2dcontour": [
           {
            "colorbar": {
             "outlinewidth": 0,
             "ticks": ""
            },
            "colorscale": [
             [
              0,
              "#0d0887"
             ],
             [
              0.1111111111111111,
              "#46039f"
             ],
             [
              0.2222222222222222,
              "#7201a8"
             ],
             [
              0.3333333333333333,
              "#9c179e"
             ],
             [
              0.4444444444444444,
              "#bd3786"
             ],
             [
              0.5555555555555556,
              "#d8576b"
             ],
             [
              0.6666666666666666,
              "#ed7953"
             ],
             [
              0.7777777777777778,
              "#fb9f3a"
             ],
             [
              0.8888888888888888,
              "#fdca26"
             ],
             [
              1,
              "#f0f921"
             ]
            ],
            "type": "histogram2dcontour"
           }
          ],
          "mesh3d": [
           {
            "colorbar": {
             "outlinewidth": 0,
             "ticks": ""
            },
            "type": "mesh3d"
           }
          ],
          "parcoords": [
           {
            "line": {
             "colorbar": {
              "outlinewidth": 0,
              "ticks": ""
             }
            },
            "type": "parcoords"
           }
          ],
          "pie": [
           {
            "automargin": true,
            "type": "pie"
           }
          ],
          "scatter": [
           {
            "fillpattern": {
             "fillmode": "overlay",
             "size": 10,
             "solidity": 0.2
            },
            "type": "scatter"
           }
          ],
          "scatter3d": [
           {
            "line": {
             "colorbar": {
              "outlinewidth": 0,
              "ticks": ""
             }
            },
            "marker": {
             "colorbar": {
              "outlinewidth": 0,
              "ticks": ""
             }
            },
            "type": "scatter3d"
           }
          ],
          "scattercarpet": [
           {
            "marker": {
             "colorbar": {
              "outlinewidth": 0,
              "ticks": ""
             }
            },
            "type": "scattercarpet"
           }
          ],
          "scattergeo": [
           {
            "marker": {
             "colorbar": {
              "outlinewidth": 0,
              "ticks": ""
             }
            },
            "type": "scattergeo"
           }
          ],
          "scattergl": [
           {
            "marker": {
             "colorbar": {
              "outlinewidth": 0,
              "ticks": ""
             }
            },
            "type": "scattergl"
           }
          ],
          "scattermapbox": [
           {
            "marker": {
             "colorbar": {
              "outlinewidth": 0,
              "ticks": ""
             }
            },
            "type": "scattermapbox"
           }
          ],
          "scatterpolar": [
           {
            "marker": {
             "colorbar": {
              "outlinewidth": 0,
              "ticks": ""
             }
            },
            "type": "scatterpolar"
           }
          ],
          "scatterpolargl": [
           {
            "marker": {
             "colorbar": {
              "outlinewidth": 0,
              "ticks": ""
             }
            },
            "type": "scatterpolargl"
           }
          ],
          "scatterternary": [
           {
            "marker": {
             "colorbar": {
              "outlinewidth": 0,
              "ticks": ""
             }
            },
            "type": "scatterternary"
           }
          ],
          "surface": [
           {
            "colorbar": {
             "outlinewidth": 0,
             "ticks": ""
            },
            "colorscale": [
             [
              0,
              "#0d0887"
             ],
             [
              0.1111111111111111,
              "#46039f"
             ],
             [
              0.2222222222222222,
              "#7201a8"
             ],
             [
              0.3333333333333333,
              "#9c179e"
             ],
             [
              0.4444444444444444,
              "#bd3786"
             ],
             [
              0.5555555555555556,
              "#d8576b"
             ],
             [
              0.6666666666666666,
              "#ed7953"
             ],
             [
              0.7777777777777778,
              "#fb9f3a"
             ],
             [
              0.8888888888888888,
              "#fdca26"
             ],
             [
              1,
              "#f0f921"
             ]
            ],
            "type": "surface"
           }
          ],
          "table": [
           {
            "cells": {
             "fill": {
              "color": "#EBF0F8"
             },
             "line": {
              "color": "white"
             }
            },
            "header": {
             "fill": {
              "color": "#C8D4E3"
             },
             "line": {
              "color": "white"
             }
            },
            "type": "table"
           }
          ]
         },
         "layout": {
          "annotationdefaults": {
           "arrowcolor": "#2a3f5f",
           "arrowhead": 0,
           "arrowwidth": 1
          },
          "autotypenumbers": "strict",
          "coloraxis": {
           "colorbar": {
            "outlinewidth": 0,
            "ticks": ""
           }
          },
          "colorscale": {
           "diverging": [
            [
             0,
             "#8e0152"
            ],
            [
             0.1,
             "#c51b7d"
            ],
            [
             0.2,
             "#de77ae"
            ],
            [
             0.3,
             "#f1b6da"
            ],
            [
             0.4,
             "#fde0ef"
            ],
            [
             0.5,
             "#f7f7f7"
            ],
            [
             0.6,
             "#e6f5d0"
            ],
            [
             0.7,
             "#b8e186"
            ],
            [
             0.8,
             "#7fbc41"
            ],
            [
             0.9,
             "#4d9221"
            ],
            [
             1,
             "#276419"
            ]
           ],
           "sequential": [
            [
             0,
             "#0d0887"
            ],
            [
             0.1111111111111111,
             "#46039f"
            ],
            [
             0.2222222222222222,
             "#7201a8"
            ],
            [
             0.3333333333333333,
             "#9c179e"
            ],
            [
             0.4444444444444444,
             "#bd3786"
            ],
            [
             0.5555555555555556,
             "#d8576b"
            ],
            [
             0.6666666666666666,
             "#ed7953"
            ],
            [
             0.7777777777777778,
             "#fb9f3a"
            ],
            [
             0.8888888888888888,
             "#fdca26"
            ],
            [
             1,
             "#f0f921"
            ]
           ],
           "sequentialminus": [
            [
             0,
             "#0d0887"
            ],
            [
             0.1111111111111111,
             "#46039f"
            ],
            [
             0.2222222222222222,
             "#7201a8"
            ],
            [
             0.3333333333333333,
             "#9c179e"
            ],
            [
             0.4444444444444444,
             "#bd3786"
            ],
            [
             0.5555555555555556,
             "#d8576b"
            ],
            [
             0.6666666666666666,
             "#ed7953"
            ],
            [
             0.7777777777777778,
             "#fb9f3a"
            ],
            [
             0.8888888888888888,
             "#fdca26"
            ],
            [
             1,
             "#f0f921"
            ]
           ]
          },
          "colorway": [
           "#636efa",
           "#EF553B",
           "#00cc96",
           "#ab63fa",
           "#FFA15A",
           "#19d3f3",
           "#FF6692",
           "#B6E880",
           "#FF97FF",
           "#FECB52"
          ],
          "font": {
           "color": "#2a3f5f"
          },
          "geo": {
           "bgcolor": "white",
           "lakecolor": "white",
           "landcolor": "#E5ECF6",
           "showlakes": true,
           "showland": true,
           "subunitcolor": "white"
          },
          "hoverlabel": {
           "align": "left"
          },
          "hovermode": "closest",
          "mapbox": {
           "style": "light"
          },
          "paper_bgcolor": "white",
          "plot_bgcolor": "#E5ECF6",
          "polar": {
           "angularaxis": {
            "gridcolor": "white",
            "linecolor": "white",
            "ticks": ""
           },
           "bgcolor": "#E5ECF6",
           "radialaxis": {
            "gridcolor": "white",
            "linecolor": "white",
            "ticks": ""
           }
          },
          "scene": {
           "xaxis": {
            "backgroundcolor": "#E5ECF6",
            "gridcolor": "white",
            "gridwidth": 2,
            "linecolor": "white",
            "showbackground": true,
            "ticks": "",
            "zerolinecolor": "white"
           },
           "yaxis": {
            "backgroundcolor": "#E5ECF6",
            "gridcolor": "white",
            "gridwidth": 2,
            "linecolor": "white",
            "showbackground": true,
            "ticks": "",
            "zerolinecolor": "white"
           },
           "zaxis": {
            "backgroundcolor": "#E5ECF6",
            "gridcolor": "white",
            "gridwidth": 2,
            "linecolor": "white",
            "showbackground": true,
            "ticks": "",
            "zerolinecolor": "white"
           }
          },
          "shapedefaults": {
           "line": {
            "color": "#2a3f5f"
           }
          },
          "ternary": {
           "aaxis": {
            "gridcolor": "white",
            "linecolor": "white",
            "ticks": ""
           },
           "baxis": {
            "gridcolor": "white",
            "linecolor": "white",
            "ticks": ""
           },
           "bgcolor": "#E5ECF6",
           "caxis": {
            "gridcolor": "white",
            "linecolor": "white",
            "ticks": ""
           }
          },
          "title": {
           "x": 0.05
          },
          "xaxis": {
           "automargin": true,
           "gridcolor": "white",
           "linecolor": "white",
           "ticks": "",
           "title": {
            "standoff": 15
           },
           "zerolinecolor": "white",
           "zerolinewidth": 2
          },
          "yaxis": {
           "automargin": true,
           "gridcolor": "white",
           "linecolor": "white",
           "ticks": "",
           "title": {
            "standoff": 15
           },
           "zerolinecolor": "white",
           "zerolinewidth": 2
          }
         }
        },
        "title": {
         "text": "Сравнение предсказаний нейронной сети и фактических температур"
        },
        "xaxis": {
         "title": {
          "text": "Условный номер звезды"
         }
        },
        "yaxis": {
         "title": {
          "text": "Температура звезды, К"
         }
        }
       }
      }
     },
     "metadata": {},
     "output_type": "display_data"
    }
   ],
   "source": [
    "fig_do = go.Figure()\n",
    "\n",
    "fig_do.add_trace(\n",
    "    go.Bar(\n",
    "        x = df_do_1.index, \n",
    "        y = df_do_1['Actual'],\n",
    "        name='Фактическая температура',\n",
    "        marker_color='rgb(0,0,100)'\n",
    "    )\n",
    ")\n",
    "\n",
    "fig_do.add_trace(\n",
    "    go.Bar(\n",
    "        x = df_do_1.index, \n",
    "        y = df_do_1['Predicted'],\n",
    "        name='Предсказания',\n",
    "        marker_color='rgb(0,200,200)'\n",
    "    )\n",
    ")\n",
    "\n",
    "fig_do.update_layout(title=\"Сравнение предсказаний нейронной сети и фактических температур\",\n",
    "                    xaxis_title=\"Условный номер звезды\",\n",
    "                    yaxis_title=\"Температура звезды, К\",\n",
    "                    legend=dict(x=.5, xanchor=\"center\", yanchor=\"bottom\", y=-.3, orientation=\"h\"),\n",
    "                   )\n",
    "\n",
    "fig_do.show()"
   ]
  },
  {
   "cell_type": "markdown",
   "id": "0f4f38b9",
   "metadata": {},
   "source": [
    "#### Значение p=0.3"
   ]
  },
  {
   "cell_type": "code",
   "execution_count": 55,
   "id": "912deb8a",
   "metadata": {},
   "outputs": [
    {
     "name": "stdout",
     "output_type": "stream",
     "text": [
      "tensor(13330.6201)\n",
      "tensor(4861.4429)\n",
      "tensor(4534.6895)\n",
      "tensor(4589.3501)\n",
      "tensor(4699.8813)\n",
      "tensor(4668.7803)\n",
      "tensor(4733.6152)\n",
      "tensor(4412.1582)\n",
      "tensor(4298.8330)\n",
      "tensor(4807.6431)\n",
      "tensor(4447.1895)\n"
     ]
    }
   ],
   "source": [
    "net_do_2 = nn.Sequential(\n",
    "    nn.Linear(n_in_neurons, n_hidden_neurons_1),\n",
    "    nn.Dropout(p=0.3),\n",
    "    nn.ReLU(),\n",
    "    nn.Linear(n_hidden_neurons_1, n_hidden_neurons_2),\n",
    "    nn.Dropout(p=0.3),\n",
    "    nn.ReLU(),\n",
    "    nn.Linear(n_hidden_neurons_2, n_hidden_neurons_3),\n",
    "    nn.Dropout(p=0.3),\n",
    "    nn.ReLU(),\n",
    "    nn.Linear(n_hidden_neurons_3, n_hidden_neurons_4),\n",
    "    nn.Dropout(p=0.3),\n",
    "    nn.ReLU(),\n",
    "    nn.Linear(n_hidden_neurons_4, n_hidden_neurons_5),\n",
    "    nn.Dropout(p=0.3),\n",
    "    nn.ReLU(),\n",
    "    nn.Linear(n_hidden_neurons_5, n_out_neurons)\n",
    ")\n",
    "\n",
    "optimizer = torch.optim.Adam(net_do_2.parameters(), lr=1.0e-3)\n",
    "\n",
    "loss = nn.MSELoss()\n",
    "\n",
    "num_epochs = 1000\n",
    "\n",
    "for epoch in range(num_epochs):\n",
    "    net_do_2.train()\n",
    "    optimizer.zero_grad()\n",
    "    \n",
    "    preds = net_do_2(features_train).flatten()\n",
    "    \n",
    "    loss_value = torch.sqrt(loss(preds, target_train))\n",
    "    loss_value.backward()\n",
    "    optimizer.step()\n",
    "    \n",
    "    if epoch % 100 == 0 or epoch == max(range(num_epochs)):\n",
    "        with torch.no_grad():\n",
    "            net_do_2.eval()\n",
    "            test_preds = net_do_2(features_test).flatten()\n",
    "            loss_rmse = torch.sqrt(loss(test_preds, target_test))\n",
    "            print(loss_rmse)"
   ]
  },
  {
   "cell_type": "code",
   "execution_count": 56,
   "id": "1dfbb581",
   "metadata": {},
   "outputs": [
    {
     "name": "stdout",
     "output_type": "stream",
     "text": [
      "     Actual     Predicted\n",
      "0    3463.0   3340.022461\n",
      "1    7100.0   4720.095215\n",
      "2    3752.0   3743.205078\n",
      "3    3095.0   3520.898438\n",
      "4    2650.0   3270.444824\n",
      "..      ...           ...\n",
      "67   8930.0   9711.011719\n",
      "68  19923.0  21963.062500\n",
      "69   3574.0   3405.049805\n",
      "70   2871.0   3310.909668\n",
      "71   7282.0  16874.878906\n",
      "\n",
      "[72 rows x 2 columns]\n"
     ]
    }
   ],
   "source": [
    "test_preds = [test_preds[x].item() for x in range(len(test_preds))]\n",
    "\n",
    "df_do_2 = {}\n",
    "df_do_2['Actual'] = target_test\n",
    "df_do_2['Predicted'] = test_preds\n",
    "df_do_2 = pd.DataFrame(df_do_2)\n",
    "print(df_do_2)"
   ]
  },
  {
   "cell_type": "code",
   "execution_count": 57,
   "id": "a68c08d7",
   "metadata": {},
   "outputs": [
    {
     "data": {
      "application/vnd.plotly.v1+json": {
       "config": {
        "plotlyServerURL": "https://plot.ly"
       },
       "data": [
        {
         "marker": {
          "color": "rgb(0,0,100)"
         },
         "name": "Фактическая температура",
         "type": "bar",
         "x": [
          0,
          1,
          2,
          3,
          4,
          5,
          6,
          7,
          8,
          9,
          10,
          11,
          12,
          13,
          14,
          15,
          16,
          17,
          18,
          19,
          20,
          21,
          22,
          23,
          24,
          25,
          26,
          27,
          28,
          29,
          30,
          31,
          32,
          33,
          34,
          35,
          36,
          37,
          38,
          39,
          40,
          41,
          42,
          43,
          44,
          45,
          46,
          47,
          48,
          49,
          50,
          51,
          52,
          53,
          54,
          55,
          56,
          57,
          58,
          59,
          60,
          61,
          62,
          63,
          64,
          65,
          66,
          67,
          68,
          69,
          70,
          71
         ],
         "y": [
          3463,
          7100,
          3752,
          3095,
          2650,
          9383,
          24145,
          2983,
          9700,
          5752,
          37882,
          9320,
          17200,
          5300,
          2600,
          24020,
          24630,
          12990,
          4015,
          3660,
          2835,
          14060,
          22012,
          3129,
          18000,
          3511,
          21020,
          2774,
          3212,
          3628,
          3650,
          2637,
          3399,
          3295,
          34190,
          14100,
          16500,
          10574,
          3324,
          3462,
          3600,
          1939,
          8924,
          4980,
          2650,
          8829,
          19860,
          17120,
          11567,
          30000,
          6380,
          3575,
          13420,
          9675,
          3146,
          19360,
          10980,
          7230,
          2731,
          3541,
          12749,
          38234,
          3270,
          3068,
          3450,
          3598,
          16787,
          8930,
          19923,
          3574,
          2871,
          7282
         ]
        },
        {
         "marker": {
          "color": "rgb(0,200,200)"
         },
         "name": "Предсказания",
         "type": "bar",
         "x": [
          0,
          1,
          2,
          3,
          4,
          5,
          6,
          7,
          8,
          9,
          10,
          11,
          12,
          13,
          14,
          15,
          16,
          17,
          18,
          19,
          20,
          21,
          22,
          23,
          24,
          25,
          26,
          27,
          28,
          29,
          30,
          31,
          32,
          33,
          34,
          35,
          36,
          37,
          38,
          39,
          40,
          41,
          42,
          43,
          44,
          45,
          46,
          47,
          48,
          49,
          50,
          51,
          52,
          53,
          54,
          55,
          56,
          57,
          58,
          59,
          60,
          61,
          62,
          63,
          64,
          65,
          66,
          67,
          68,
          69,
          70,
          71
         ],
         "y": [
          3340.0224609375,
          4720.09521484375,
          3743.205078125,
          3520.8984375,
          3270.44482421875,
          22292.45703125,
          25828.80078125,
          3271.333984375,
          7919.49462890625,
          22469.61328125,
          22161.62109375,
          10425.654296875,
          12563.7255859375,
          5847.35888671875,
          3290.363525390625,
          21181.169921875,
          22728.419921875,
          11553.32421875,
          4341.05810546875,
          5056.74365234375,
          3269.416748046875,
          14239.734375,
          16413.171875,
          3452.119140625,
          24519.7734375,
          3269.33203125,
          18108.78515625,
          3270.1904296875,
          3403.66552734375,
          3552.003662109375,
          3860.846435546875,
          3269.5087890625,
          3765.367919921875,
          3269.30712890625,
          36971.53515625,
          13142.236328125,
          13792.974609375,
          15384.095703125,
          3406.52392578125,
          3474.764404296875,
          3808.2177734375,
          3331.007080078125,
          8888.6845703125,
          4757.54443359375,
          3453.29931640625,
          14073.12890625,
          18568.794921875,
          21342.47265625,
          24388.40234375,
          29273.94921875,
          6942.787109375,
          3869.80908203125,
          10425.482421875,
          9975.826171875,
          3269.440185546875,
          17873.28515625,
          16475.7421875,
          8251.158203125,
          3276.48095703125,
          3353.234619140625,
          22195.716796875,
          30291.6796875,
          3692.85205078125,
          3271.088134765625,
          4122.82421875,
          3354.107177734375,
          23748.25390625,
          9711.01171875,
          21963.0625,
          3405.0498046875,
          3310.90966796875,
          16874.87890625
         ]
        }
       ],
       "layout": {
        "legend": {
         "orientation": "h",
         "x": 0.5,
         "xanchor": "center",
         "y": -0.3,
         "yanchor": "bottom"
        },
        "template": {
         "data": {
          "bar": [
           {
            "error_x": {
             "color": "#2a3f5f"
            },
            "error_y": {
             "color": "#2a3f5f"
            },
            "marker": {
             "line": {
              "color": "#E5ECF6",
              "width": 0.5
             },
             "pattern": {
              "fillmode": "overlay",
              "size": 10,
              "solidity": 0.2
             }
            },
            "type": "bar"
           }
          ],
          "barpolar": [
           {
            "marker": {
             "line": {
              "color": "#E5ECF6",
              "width": 0.5
             },
             "pattern": {
              "fillmode": "overlay",
              "size": 10,
              "solidity": 0.2
             }
            },
            "type": "barpolar"
           }
          ],
          "carpet": [
           {
            "aaxis": {
             "endlinecolor": "#2a3f5f",
             "gridcolor": "white",
             "linecolor": "white",
             "minorgridcolor": "white",
             "startlinecolor": "#2a3f5f"
            },
            "baxis": {
             "endlinecolor": "#2a3f5f",
             "gridcolor": "white",
             "linecolor": "white",
             "minorgridcolor": "white",
             "startlinecolor": "#2a3f5f"
            },
            "type": "carpet"
           }
          ],
          "choropleth": [
           {
            "colorbar": {
             "outlinewidth": 0,
             "ticks": ""
            },
            "type": "choropleth"
           }
          ],
          "contour": [
           {
            "colorbar": {
             "outlinewidth": 0,
             "ticks": ""
            },
            "colorscale": [
             [
              0,
              "#0d0887"
             ],
             [
              0.1111111111111111,
              "#46039f"
             ],
             [
              0.2222222222222222,
              "#7201a8"
             ],
             [
              0.3333333333333333,
              "#9c179e"
             ],
             [
              0.4444444444444444,
              "#bd3786"
             ],
             [
              0.5555555555555556,
              "#d8576b"
             ],
             [
              0.6666666666666666,
              "#ed7953"
             ],
             [
              0.7777777777777778,
              "#fb9f3a"
             ],
             [
              0.8888888888888888,
              "#fdca26"
             ],
             [
              1,
              "#f0f921"
             ]
            ],
            "type": "contour"
           }
          ],
          "contourcarpet": [
           {
            "colorbar": {
             "outlinewidth": 0,
             "ticks": ""
            },
            "type": "contourcarpet"
           }
          ],
          "heatmap": [
           {
            "colorbar": {
             "outlinewidth": 0,
             "ticks": ""
            },
            "colorscale": [
             [
              0,
              "#0d0887"
             ],
             [
              0.1111111111111111,
              "#46039f"
             ],
             [
              0.2222222222222222,
              "#7201a8"
             ],
             [
              0.3333333333333333,
              "#9c179e"
             ],
             [
              0.4444444444444444,
              "#bd3786"
             ],
             [
              0.5555555555555556,
              "#d8576b"
             ],
             [
              0.6666666666666666,
              "#ed7953"
             ],
             [
              0.7777777777777778,
              "#fb9f3a"
             ],
             [
              0.8888888888888888,
              "#fdca26"
             ],
             [
              1,
              "#f0f921"
             ]
            ],
            "type": "heatmap"
           }
          ],
          "heatmapgl": [
           {
            "colorbar": {
             "outlinewidth": 0,
             "ticks": ""
            },
            "colorscale": [
             [
              0,
              "#0d0887"
             ],
             [
              0.1111111111111111,
              "#46039f"
             ],
             [
              0.2222222222222222,
              "#7201a8"
             ],
             [
              0.3333333333333333,
              "#9c179e"
             ],
             [
              0.4444444444444444,
              "#bd3786"
             ],
             [
              0.5555555555555556,
              "#d8576b"
             ],
             [
              0.6666666666666666,
              "#ed7953"
             ],
             [
              0.7777777777777778,
              "#fb9f3a"
             ],
             [
              0.8888888888888888,
              "#fdca26"
             ],
             [
              1,
              "#f0f921"
             ]
            ],
            "type": "heatmapgl"
           }
          ],
          "histogram": [
           {
            "marker": {
             "pattern": {
              "fillmode": "overlay",
              "size": 10,
              "solidity": 0.2
             }
            },
            "type": "histogram"
           }
          ],
          "histogram2d": [
           {
            "colorbar": {
             "outlinewidth": 0,
             "ticks": ""
            },
            "colorscale": [
             [
              0,
              "#0d0887"
             ],
             [
              0.1111111111111111,
              "#46039f"
             ],
             [
              0.2222222222222222,
              "#7201a8"
             ],
             [
              0.3333333333333333,
              "#9c179e"
             ],
             [
              0.4444444444444444,
              "#bd3786"
             ],
             [
              0.5555555555555556,
              "#d8576b"
             ],
             [
              0.6666666666666666,
              "#ed7953"
             ],
             [
              0.7777777777777778,
              "#fb9f3a"
             ],
             [
              0.8888888888888888,
              "#fdca26"
             ],
             [
              1,
              "#f0f921"
             ]
            ],
            "type": "histogram2d"
           }
          ],
          "histogram2dcontour": [
           {
            "colorbar": {
             "outlinewidth": 0,
             "ticks": ""
            },
            "colorscale": [
             [
              0,
              "#0d0887"
             ],
             [
              0.1111111111111111,
              "#46039f"
             ],
             [
              0.2222222222222222,
              "#7201a8"
             ],
             [
              0.3333333333333333,
              "#9c179e"
             ],
             [
              0.4444444444444444,
              "#bd3786"
             ],
             [
              0.5555555555555556,
              "#d8576b"
             ],
             [
              0.6666666666666666,
              "#ed7953"
             ],
             [
              0.7777777777777778,
              "#fb9f3a"
             ],
             [
              0.8888888888888888,
              "#fdca26"
             ],
             [
              1,
              "#f0f921"
             ]
            ],
            "type": "histogram2dcontour"
           }
          ],
          "mesh3d": [
           {
            "colorbar": {
             "outlinewidth": 0,
             "ticks": ""
            },
            "type": "mesh3d"
           }
          ],
          "parcoords": [
           {
            "line": {
             "colorbar": {
              "outlinewidth": 0,
              "ticks": ""
             }
            },
            "type": "parcoords"
           }
          ],
          "pie": [
           {
            "automargin": true,
            "type": "pie"
           }
          ],
          "scatter": [
           {
            "fillpattern": {
             "fillmode": "overlay",
             "size": 10,
             "solidity": 0.2
            },
            "type": "scatter"
           }
          ],
          "scatter3d": [
           {
            "line": {
             "colorbar": {
              "outlinewidth": 0,
              "ticks": ""
             }
            },
            "marker": {
             "colorbar": {
              "outlinewidth": 0,
              "ticks": ""
             }
            },
            "type": "scatter3d"
           }
          ],
          "scattercarpet": [
           {
            "marker": {
             "colorbar": {
              "outlinewidth": 0,
              "ticks": ""
             }
            },
            "type": "scattercarpet"
           }
          ],
          "scattergeo": [
           {
            "marker": {
             "colorbar": {
              "outlinewidth": 0,
              "ticks": ""
             }
            },
            "type": "scattergeo"
           }
          ],
          "scattergl": [
           {
            "marker": {
             "colorbar": {
              "outlinewidth": 0,
              "ticks": ""
             }
            },
            "type": "scattergl"
           }
          ],
          "scattermapbox": [
           {
            "marker": {
             "colorbar": {
              "outlinewidth": 0,
              "ticks": ""
             }
            },
            "type": "scattermapbox"
           }
          ],
          "scatterpolar": [
           {
            "marker": {
             "colorbar": {
              "outlinewidth": 0,
              "ticks": ""
             }
            },
            "type": "scatterpolar"
           }
          ],
          "scatterpolargl": [
           {
            "marker": {
             "colorbar": {
              "outlinewidth": 0,
              "ticks": ""
             }
            },
            "type": "scatterpolargl"
           }
          ],
          "scatterternary": [
           {
            "marker": {
             "colorbar": {
              "outlinewidth": 0,
              "ticks": ""
             }
            },
            "type": "scatterternary"
           }
          ],
          "surface": [
           {
            "colorbar": {
             "outlinewidth": 0,
             "ticks": ""
            },
            "colorscale": [
             [
              0,
              "#0d0887"
             ],
             [
              0.1111111111111111,
              "#46039f"
             ],
             [
              0.2222222222222222,
              "#7201a8"
             ],
             [
              0.3333333333333333,
              "#9c179e"
             ],
             [
              0.4444444444444444,
              "#bd3786"
             ],
             [
              0.5555555555555556,
              "#d8576b"
             ],
             [
              0.6666666666666666,
              "#ed7953"
             ],
             [
              0.7777777777777778,
              "#fb9f3a"
             ],
             [
              0.8888888888888888,
              "#fdca26"
             ],
             [
              1,
              "#f0f921"
             ]
            ],
            "type": "surface"
           }
          ],
          "table": [
           {
            "cells": {
             "fill": {
              "color": "#EBF0F8"
             },
             "line": {
              "color": "white"
             }
            },
            "header": {
             "fill": {
              "color": "#C8D4E3"
             },
             "line": {
              "color": "white"
             }
            },
            "type": "table"
           }
          ]
         },
         "layout": {
          "annotationdefaults": {
           "arrowcolor": "#2a3f5f",
           "arrowhead": 0,
           "arrowwidth": 1
          },
          "autotypenumbers": "strict",
          "coloraxis": {
           "colorbar": {
            "outlinewidth": 0,
            "ticks": ""
           }
          },
          "colorscale": {
           "diverging": [
            [
             0,
             "#8e0152"
            ],
            [
             0.1,
             "#c51b7d"
            ],
            [
             0.2,
             "#de77ae"
            ],
            [
             0.3,
             "#f1b6da"
            ],
            [
             0.4,
             "#fde0ef"
            ],
            [
             0.5,
             "#f7f7f7"
            ],
            [
             0.6,
             "#e6f5d0"
            ],
            [
             0.7,
             "#b8e186"
            ],
            [
             0.8,
             "#7fbc41"
            ],
            [
             0.9,
             "#4d9221"
            ],
            [
             1,
             "#276419"
            ]
           ],
           "sequential": [
            [
             0,
             "#0d0887"
            ],
            [
             0.1111111111111111,
             "#46039f"
            ],
            [
             0.2222222222222222,
             "#7201a8"
            ],
            [
             0.3333333333333333,
             "#9c179e"
            ],
            [
             0.4444444444444444,
             "#bd3786"
            ],
            [
             0.5555555555555556,
             "#d8576b"
            ],
            [
             0.6666666666666666,
             "#ed7953"
            ],
            [
             0.7777777777777778,
             "#fb9f3a"
            ],
            [
             0.8888888888888888,
             "#fdca26"
            ],
            [
             1,
             "#f0f921"
            ]
           ],
           "sequentialminus": [
            [
             0,
             "#0d0887"
            ],
            [
             0.1111111111111111,
             "#46039f"
            ],
            [
             0.2222222222222222,
             "#7201a8"
            ],
            [
             0.3333333333333333,
             "#9c179e"
            ],
            [
             0.4444444444444444,
             "#bd3786"
            ],
            [
             0.5555555555555556,
             "#d8576b"
            ],
            [
             0.6666666666666666,
             "#ed7953"
            ],
            [
             0.7777777777777778,
             "#fb9f3a"
            ],
            [
             0.8888888888888888,
             "#fdca26"
            ],
            [
             1,
             "#f0f921"
            ]
           ]
          },
          "colorway": [
           "#636efa",
           "#EF553B",
           "#00cc96",
           "#ab63fa",
           "#FFA15A",
           "#19d3f3",
           "#FF6692",
           "#B6E880",
           "#FF97FF",
           "#FECB52"
          ],
          "font": {
           "color": "#2a3f5f"
          },
          "geo": {
           "bgcolor": "white",
           "lakecolor": "white",
           "landcolor": "#E5ECF6",
           "showlakes": true,
           "showland": true,
           "subunitcolor": "white"
          },
          "hoverlabel": {
           "align": "left"
          },
          "hovermode": "closest",
          "mapbox": {
           "style": "light"
          },
          "paper_bgcolor": "white",
          "plot_bgcolor": "#E5ECF6",
          "polar": {
           "angularaxis": {
            "gridcolor": "white",
            "linecolor": "white",
            "ticks": ""
           },
           "bgcolor": "#E5ECF6",
           "radialaxis": {
            "gridcolor": "white",
            "linecolor": "white",
            "ticks": ""
           }
          },
          "scene": {
           "xaxis": {
            "backgroundcolor": "#E5ECF6",
            "gridcolor": "white",
            "gridwidth": 2,
            "linecolor": "white",
            "showbackground": true,
            "ticks": "",
            "zerolinecolor": "white"
           },
           "yaxis": {
            "backgroundcolor": "#E5ECF6",
            "gridcolor": "white",
            "gridwidth": 2,
            "linecolor": "white",
            "showbackground": true,
            "ticks": "",
            "zerolinecolor": "white"
           },
           "zaxis": {
            "backgroundcolor": "#E5ECF6",
            "gridcolor": "white",
            "gridwidth": 2,
            "linecolor": "white",
            "showbackground": true,
            "ticks": "",
            "zerolinecolor": "white"
           }
          },
          "shapedefaults": {
           "line": {
            "color": "#2a3f5f"
           }
          },
          "ternary": {
           "aaxis": {
            "gridcolor": "white",
            "linecolor": "white",
            "ticks": ""
           },
           "baxis": {
            "gridcolor": "white",
            "linecolor": "white",
            "ticks": ""
           },
           "bgcolor": "#E5ECF6",
           "caxis": {
            "gridcolor": "white",
            "linecolor": "white",
            "ticks": ""
           }
          },
          "title": {
           "x": 0.05
          },
          "xaxis": {
           "automargin": true,
           "gridcolor": "white",
           "linecolor": "white",
           "ticks": "",
           "title": {
            "standoff": 15
           },
           "zerolinecolor": "white",
           "zerolinewidth": 2
          },
          "yaxis": {
           "automargin": true,
           "gridcolor": "white",
           "linecolor": "white",
           "ticks": "",
           "title": {
            "standoff": 15
           },
           "zerolinecolor": "white",
           "zerolinewidth": 2
          }
         }
        },
        "title": {
         "text": "Сравнение предсказаний нейронной сети и фактических температур"
        },
        "xaxis": {
         "title": {
          "text": "Условный номер звезды"
         }
        },
        "yaxis": {
         "title": {
          "text": "Температура звезды, К"
         }
        }
       }
      }
     },
     "metadata": {},
     "output_type": "display_data"
    }
   ],
   "source": [
    "fig_do = go.Figure()\n",
    "\n",
    "fig_do.add_trace(\n",
    "    go.Bar(\n",
    "        x = df_do_2.index, \n",
    "        y = df_do_2['Actual'],\n",
    "        name='Фактическая температура',\n",
    "        marker_color='rgb(0,0,100)'\n",
    "    )\n",
    ")\n",
    "\n",
    "fig_do.add_trace(\n",
    "    go.Bar(\n",
    "        x = df_do_2.index, \n",
    "        y = df_do_2['Predicted'],\n",
    "        name='Предсказания',\n",
    "        marker_color='rgb(0,200,200)'\n",
    "    )\n",
    ")\n",
    "\n",
    "fig_do.update_layout(title=\"Сравнение предсказаний нейронной сети и фактических температур\",\n",
    "                    xaxis_title=\"Условный номер звезды\",\n",
    "                    yaxis_title=\"Температура звезды, К\",\n",
    "                    legend=dict(x=.5, xanchor=\"center\", yanchor=\"bottom\", y=-.3, orientation=\"h\"),\n",
    "                   )\n",
    "\n",
    "fig_do.show()"
   ]
  },
  {
   "cell_type": "markdown",
   "id": "17679e3f",
   "metadata": {},
   "source": [
    "#### Значение p=0.5"
   ]
  },
  {
   "cell_type": "code",
   "execution_count": 58,
   "id": "a2fd0ab9",
   "metadata": {},
   "outputs": [
    {
     "name": "stdout",
     "output_type": "stream",
     "text": [
      "tensor(13330.7422)\n",
      "tensor(5259.5522)\n",
      "tensor(4550.1318)\n",
      "tensor(4464.6147)\n",
      "tensor(4484.7617)\n",
      "tensor(4380.8164)\n",
      "tensor(4760.6650)\n",
      "tensor(4538.6001)\n",
      "tensor(4732.9434)\n",
      "tensor(4492.3462)\n",
      "tensor(4631.8228)\n"
     ]
    }
   ],
   "source": [
    "net_do_3 = nn.Sequential(\n",
    "    nn.Linear(n_in_neurons, n_hidden_neurons_1),\n",
    "    nn.Dropout(p=0.5),\n",
    "    nn.ReLU(),\n",
    "    nn.Linear(n_hidden_neurons_1, n_hidden_neurons_2),\n",
    "    nn.Dropout(p=0.5),\n",
    "    nn.ReLU(),\n",
    "    nn.Linear(n_hidden_neurons_2, n_hidden_neurons_3),\n",
    "    nn.Dropout(p=0.5),\n",
    "    nn.ReLU(),\n",
    "    nn.Linear(n_hidden_neurons_3, n_hidden_neurons_4),\n",
    "    nn.Dropout(p=0.5),\n",
    "    nn.ReLU(),\n",
    "    nn.Linear(n_hidden_neurons_4, n_hidden_neurons_5),\n",
    "    nn.Dropout(p=0.5),\n",
    "    nn.ReLU(),\n",
    "    nn.Linear(n_hidden_neurons_5, n_out_neurons)\n",
    ")\n",
    "\n",
    "optimizer = torch.optim.Adam(net_do_3.parameters(), lr=1.0e-3)\n",
    "\n",
    "loss = nn.MSELoss()\n",
    "\n",
    "num_epochs = 1000\n",
    "\n",
    "for epoch in range(num_epochs):\n",
    "    net_do_3.train()\n",
    "    optimizer.zero_grad()\n",
    "    \n",
    "    preds = net_do_3(features_train).flatten()\n",
    "    \n",
    "    loss_value = torch.sqrt(loss(preds, target_train))\n",
    "    loss_value.backward()\n",
    "    optimizer.step()\n",
    "    \n",
    "    if epoch % 100 == 0 or epoch == max(range(num_epochs)):\n",
    "        with torch.no_grad():\n",
    "            net_do_3.eval()\n",
    "            test_preds = net_do_3(features_test).flatten()\n",
    "            loss_rmse = torch.sqrt(loss(test_preds, target_test))\n",
    "            print(loss_rmse)"
   ]
  },
  {
   "cell_type": "code",
   "execution_count": 59,
   "id": "ab0c13fc",
   "metadata": {},
   "outputs": [
    {
     "name": "stdout",
     "output_type": "stream",
     "text": [
      "     Actual     Predicted\n",
      "0    3463.0   3139.450439\n",
      "1    7100.0   5105.043457\n",
      "2    3752.0   3354.107910\n",
      "3    3095.0   3289.897949\n",
      "4    2650.0   3044.379639\n",
      "..      ...           ...\n",
      "67   8930.0   9154.006836\n",
      "68  19923.0  20191.525391\n",
      "69   3574.0   3258.898926\n",
      "70   2871.0   3060.272949\n",
      "71   7282.0  17863.666016\n",
      "\n",
      "[72 rows x 2 columns]\n"
     ]
    }
   ],
   "source": [
    "test_preds = [test_preds[x].item() for x in range(len(test_preds))]\n",
    "\n",
    "df_do_3 = {}\n",
    "df_do_3['Actual'] = target_test\n",
    "df_do_3['Predicted'] = test_preds\n",
    "df_do_3 = pd.DataFrame(df_do_3)\n",
    "print(df_do_3)"
   ]
  },
  {
   "cell_type": "code",
   "execution_count": 60,
   "id": "7117b73a",
   "metadata": {},
   "outputs": [
    {
     "data": {
      "application/vnd.plotly.v1+json": {
       "config": {
        "plotlyServerURL": "https://plot.ly"
       },
       "data": [
        {
         "marker": {
          "color": "rgb(0,0,100)"
         },
         "name": "Фактическая температура",
         "type": "bar",
         "x": [
          0,
          1,
          2,
          3,
          4,
          5,
          6,
          7,
          8,
          9,
          10,
          11,
          12,
          13,
          14,
          15,
          16,
          17,
          18,
          19,
          20,
          21,
          22,
          23,
          24,
          25,
          26,
          27,
          28,
          29,
          30,
          31,
          32,
          33,
          34,
          35,
          36,
          37,
          38,
          39,
          40,
          41,
          42,
          43,
          44,
          45,
          46,
          47,
          48,
          49,
          50,
          51,
          52,
          53,
          54,
          55,
          56,
          57,
          58,
          59,
          60,
          61,
          62,
          63,
          64,
          65,
          66,
          67,
          68,
          69,
          70,
          71
         ],
         "y": [
          3463,
          7100,
          3752,
          3095,
          2650,
          9383,
          24145,
          2983,
          9700,
          5752,
          37882,
          9320,
          17200,
          5300,
          2600,
          24020,
          24630,
          12990,
          4015,
          3660,
          2835,
          14060,
          22012,
          3129,
          18000,
          3511,
          21020,
          2774,
          3212,
          3628,
          3650,
          2637,
          3399,
          3295,
          34190,
          14100,
          16500,
          10574,
          3324,
          3462,
          3600,
          1939,
          8924,
          4980,
          2650,
          8829,
          19860,
          17120,
          11567,
          30000,
          6380,
          3575,
          13420,
          9675,
          3146,
          19360,
          10980,
          7230,
          2731,
          3541,
          12749,
          38234,
          3270,
          3068,
          3450,
          3598,
          16787,
          8930,
          19923,
          3574,
          2871,
          7282
         ]
        },
        {
         "marker": {
          "color": "rgb(0,200,200)"
         },
         "name": "Предсказания",
         "type": "bar",
         "x": [
          0,
          1,
          2,
          3,
          4,
          5,
          6,
          7,
          8,
          9,
          10,
          11,
          12,
          13,
          14,
          15,
          16,
          17,
          18,
          19,
          20,
          21,
          22,
          23,
          24,
          25,
          26,
          27,
          28,
          29,
          30,
          31,
          32,
          33,
          34,
          35,
          36,
          37,
          38,
          39,
          40,
          41,
          42,
          43,
          44,
          45,
          46,
          47,
          48,
          49,
          50,
          51,
          52,
          53,
          54,
          55,
          56,
          57,
          58,
          59,
          60,
          61,
          62,
          63,
          64,
          65,
          66,
          67,
          68,
          69,
          70,
          71
         ],
         "y": [
          3139.450439453125,
          5105.04345703125,
          3354.10791015625,
          3289.89794921875,
          3044.379638671875,
          22505.712890625,
          23334.03515625,
          3064.687255859375,
          7896.3505859375,
          22321.068359375,
          18917.326171875,
          9266.193359375,
          11413.8935546875,
          5801.9189453125,
          3049.41650390625,
          20207.302734375,
          21958.767578125,
          10680.4892578125,
          3779.286865234375,
          4214.9140625,
          3047.13037109375,
          13116.2626953125,
          15696.4404296875,
          3241.97119140625,
          20620.951171875,
          3045.48046875,
          17510.716796875,
          3044.488037109375,
          3200.8212890625,
          3311.397216796875,
          3531.89599609375,
          3044.822509765625,
          3516.43359375,
          3045.359130859375,
          35361.46484375,
          12058.1435546875,
          12765.1611328125,
          12364.3037109375,
          3203.1181640625,
          3257.2470703125,
          3380.103515625,
          3070.663818359375,
          8071.330078125,
          4610.4248046875,
          3242.6806640625,
          12167.234375,
          17995.751953125,
          21724.072265625,
          23092.37890625,
          26790.662109375,
          6664.0166015625,
          3623.20263671875,
          9397.6474609375,
          9013.6083984375,
          3047.675048828125,
          17257.283203125,
          14882.6005859375,
          8022.392578125,
          3043.1962890625,
          3151.11474609375,
          22470.068359375,
          27140.833984375,
          3434.08544921875,
          3063.623291015625,
          3569.490234375,
          3152.5458984375,
          22823.326171875,
          9154.0068359375,
          20191.525390625,
          3258.89892578125,
          3060.27294921875,
          17863.666015625
         ]
        }
       ],
       "layout": {
        "legend": {
         "orientation": "h",
         "x": 0.5,
         "xanchor": "center",
         "y": -0.3,
         "yanchor": "bottom"
        },
        "template": {
         "data": {
          "bar": [
           {
            "error_x": {
             "color": "#2a3f5f"
            },
            "error_y": {
             "color": "#2a3f5f"
            },
            "marker": {
             "line": {
              "color": "#E5ECF6",
              "width": 0.5
             },
             "pattern": {
              "fillmode": "overlay",
              "size": 10,
              "solidity": 0.2
             }
            },
            "type": "bar"
           }
          ],
          "barpolar": [
           {
            "marker": {
             "line": {
              "color": "#E5ECF6",
              "width": 0.5
             },
             "pattern": {
              "fillmode": "overlay",
              "size": 10,
              "solidity": 0.2
             }
            },
            "type": "barpolar"
           }
          ],
          "carpet": [
           {
            "aaxis": {
             "endlinecolor": "#2a3f5f",
             "gridcolor": "white",
             "linecolor": "white",
             "minorgridcolor": "white",
             "startlinecolor": "#2a3f5f"
            },
            "baxis": {
             "endlinecolor": "#2a3f5f",
             "gridcolor": "white",
             "linecolor": "white",
             "minorgridcolor": "white",
             "startlinecolor": "#2a3f5f"
            },
            "type": "carpet"
           }
          ],
          "choropleth": [
           {
            "colorbar": {
             "outlinewidth": 0,
             "ticks": ""
            },
            "type": "choropleth"
           }
          ],
          "contour": [
           {
            "colorbar": {
             "outlinewidth": 0,
             "ticks": ""
            },
            "colorscale": [
             [
              0,
              "#0d0887"
             ],
             [
              0.1111111111111111,
              "#46039f"
             ],
             [
              0.2222222222222222,
              "#7201a8"
             ],
             [
              0.3333333333333333,
              "#9c179e"
             ],
             [
              0.4444444444444444,
              "#bd3786"
             ],
             [
              0.5555555555555556,
              "#d8576b"
             ],
             [
              0.6666666666666666,
              "#ed7953"
             ],
             [
              0.7777777777777778,
              "#fb9f3a"
             ],
             [
              0.8888888888888888,
              "#fdca26"
             ],
             [
              1,
              "#f0f921"
             ]
            ],
            "type": "contour"
           }
          ],
          "contourcarpet": [
           {
            "colorbar": {
             "outlinewidth": 0,
             "ticks": ""
            },
            "type": "contourcarpet"
           }
          ],
          "heatmap": [
           {
            "colorbar": {
             "outlinewidth": 0,
             "ticks": ""
            },
            "colorscale": [
             [
              0,
              "#0d0887"
             ],
             [
              0.1111111111111111,
              "#46039f"
             ],
             [
              0.2222222222222222,
              "#7201a8"
             ],
             [
              0.3333333333333333,
              "#9c179e"
             ],
             [
              0.4444444444444444,
              "#bd3786"
             ],
             [
              0.5555555555555556,
              "#d8576b"
             ],
             [
              0.6666666666666666,
              "#ed7953"
             ],
             [
              0.7777777777777778,
              "#fb9f3a"
             ],
             [
              0.8888888888888888,
              "#fdca26"
             ],
             [
              1,
              "#f0f921"
             ]
            ],
            "type": "heatmap"
           }
          ],
          "heatmapgl": [
           {
            "colorbar": {
             "outlinewidth": 0,
             "ticks": ""
            },
            "colorscale": [
             [
              0,
              "#0d0887"
             ],
             [
              0.1111111111111111,
              "#46039f"
             ],
             [
              0.2222222222222222,
              "#7201a8"
             ],
             [
              0.3333333333333333,
              "#9c179e"
             ],
             [
              0.4444444444444444,
              "#bd3786"
             ],
             [
              0.5555555555555556,
              "#d8576b"
             ],
             [
              0.6666666666666666,
              "#ed7953"
             ],
             [
              0.7777777777777778,
              "#fb9f3a"
             ],
             [
              0.8888888888888888,
              "#fdca26"
             ],
             [
              1,
              "#f0f921"
             ]
            ],
            "type": "heatmapgl"
           }
          ],
          "histogram": [
           {
            "marker": {
             "pattern": {
              "fillmode": "overlay",
              "size": 10,
              "solidity": 0.2
             }
            },
            "type": "histogram"
           }
          ],
          "histogram2d": [
           {
            "colorbar": {
             "outlinewidth": 0,
             "ticks": ""
            },
            "colorscale": [
             [
              0,
              "#0d0887"
             ],
             [
              0.1111111111111111,
              "#46039f"
             ],
             [
              0.2222222222222222,
              "#7201a8"
             ],
             [
              0.3333333333333333,
              "#9c179e"
             ],
             [
              0.4444444444444444,
              "#bd3786"
             ],
             [
              0.5555555555555556,
              "#d8576b"
             ],
             [
              0.6666666666666666,
              "#ed7953"
             ],
             [
              0.7777777777777778,
              "#fb9f3a"
             ],
             [
              0.8888888888888888,
              "#fdca26"
             ],
             [
              1,
              "#f0f921"
             ]
            ],
            "type": "histogram2d"
           }
          ],
          "histogram2dcontour": [
           {
            "colorbar": {
             "outlinewidth": 0,
             "ticks": ""
            },
            "colorscale": [
             [
              0,
              "#0d0887"
             ],
             [
              0.1111111111111111,
              "#46039f"
             ],
             [
              0.2222222222222222,
              "#7201a8"
             ],
             [
              0.3333333333333333,
              "#9c179e"
             ],
             [
              0.4444444444444444,
              "#bd3786"
             ],
             [
              0.5555555555555556,
              "#d8576b"
             ],
             [
              0.6666666666666666,
              "#ed7953"
             ],
             [
              0.7777777777777778,
              "#fb9f3a"
             ],
             [
              0.8888888888888888,
              "#fdca26"
             ],
             [
              1,
              "#f0f921"
             ]
            ],
            "type": "histogram2dcontour"
           }
          ],
          "mesh3d": [
           {
            "colorbar": {
             "outlinewidth": 0,
             "ticks": ""
            },
            "type": "mesh3d"
           }
          ],
          "parcoords": [
           {
            "line": {
             "colorbar": {
              "outlinewidth": 0,
              "ticks": ""
             }
            },
            "type": "parcoords"
           }
          ],
          "pie": [
           {
            "automargin": true,
            "type": "pie"
           }
          ],
          "scatter": [
           {
            "fillpattern": {
             "fillmode": "overlay",
             "size": 10,
             "solidity": 0.2
            },
            "type": "scatter"
           }
          ],
          "scatter3d": [
           {
            "line": {
             "colorbar": {
              "outlinewidth": 0,
              "ticks": ""
             }
            },
            "marker": {
             "colorbar": {
              "outlinewidth": 0,
              "ticks": ""
             }
            },
            "type": "scatter3d"
           }
          ],
          "scattercarpet": [
           {
            "marker": {
             "colorbar": {
              "outlinewidth": 0,
              "ticks": ""
             }
            },
            "type": "scattercarpet"
           }
          ],
          "scattergeo": [
           {
            "marker": {
             "colorbar": {
              "outlinewidth": 0,
              "ticks": ""
             }
            },
            "type": "scattergeo"
           }
          ],
          "scattergl": [
           {
            "marker": {
             "colorbar": {
              "outlinewidth": 0,
              "ticks": ""
             }
            },
            "type": "scattergl"
           }
          ],
          "scattermapbox": [
           {
            "marker": {
             "colorbar": {
              "outlinewidth": 0,
              "ticks": ""
             }
            },
            "type": "scattermapbox"
           }
          ],
          "scatterpolar": [
           {
            "marker": {
             "colorbar": {
              "outlinewidth": 0,
              "ticks": ""
             }
            },
            "type": "scatterpolar"
           }
          ],
          "scatterpolargl": [
           {
            "marker": {
             "colorbar": {
              "outlinewidth": 0,
              "ticks": ""
             }
            },
            "type": "scatterpolargl"
           }
          ],
          "scatterternary": [
           {
            "marker": {
             "colorbar": {
              "outlinewidth": 0,
              "ticks": ""
             }
            },
            "type": "scatterternary"
           }
          ],
          "surface": [
           {
            "colorbar": {
             "outlinewidth": 0,
             "ticks": ""
            },
            "colorscale": [
             [
              0,
              "#0d0887"
             ],
             [
              0.1111111111111111,
              "#46039f"
             ],
             [
              0.2222222222222222,
              "#7201a8"
             ],
             [
              0.3333333333333333,
              "#9c179e"
             ],
             [
              0.4444444444444444,
              "#bd3786"
             ],
             [
              0.5555555555555556,
              "#d8576b"
             ],
             [
              0.6666666666666666,
              "#ed7953"
             ],
             [
              0.7777777777777778,
              "#fb9f3a"
             ],
             [
              0.8888888888888888,
              "#fdca26"
             ],
             [
              1,
              "#f0f921"
             ]
            ],
            "type": "surface"
           }
          ],
          "table": [
           {
            "cells": {
             "fill": {
              "color": "#EBF0F8"
             },
             "line": {
              "color": "white"
             }
            },
            "header": {
             "fill": {
              "color": "#C8D4E3"
             },
             "line": {
              "color": "white"
             }
            },
            "type": "table"
           }
          ]
         },
         "layout": {
          "annotationdefaults": {
           "arrowcolor": "#2a3f5f",
           "arrowhead": 0,
           "arrowwidth": 1
          },
          "autotypenumbers": "strict",
          "coloraxis": {
           "colorbar": {
            "outlinewidth": 0,
            "ticks": ""
           }
          },
          "colorscale": {
           "diverging": [
            [
             0,
             "#8e0152"
            ],
            [
             0.1,
             "#c51b7d"
            ],
            [
             0.2,
             "#de77ae"
            ],
            [
             0.3,
             "#f1b6da"
            ],
            [
             0.4,
             "#fde0ef"
            ],
            [
             0.5,
             "#f7f7f7"
            ],
            [
             0.6,
             "#e6f5d0"
            ],
            [
             0.7,
             "#b8e186"
            ],
            [
             0.8,
             "#7fbc41"
            ],
            [
             0.9,
             "#4d9221"
            ],
            [
             1,
             "#276419"
            ]
           ],
           "sequential": [
            [
             0,
             "#0d0887"
            ],
            [
             0.1111111111111111,
             "#46039f"
            ],
            [
             0.2222222222222222,
             "#7201a8"
            ],
            [
             0.3333333333333333,
             "#9c179e"
            ],
            [
             0.4444444444444444,
             "#bd3786"
            ],
            [
             0.5555555555555556,
             "#d8576b"
            ],
            [
             0.6666666666666666,
             "#ed7953"
            ],
            [
             0.7777777777777778,
             "#fb9f3a"
            ],
            [
             0.8888888888888888,
             "#fdca26"
            ],
            [
             1,
             "#f0f921"
            ]
           ],
           "sequentialminus": [
            [
             0,
             "#0d0887"
            ],
            [
             0.1111111111111111,
             "#46039f"
            ],
            [
             0.2222222222222222,
             "#7201a8"
            ],
            [
             0.3333333333333333,
             "#9c179e"
            ],
            [
             0.4444444444444444,
             "#bd3786"
            ],
            [
             0.5555555555555556,
             "#d8576b"
            ],
            [
             0.6666666666666666,
             "#ed7953"
            ],
            [
             0.7777777777777778,
             "#fb9f3a"
            ],
            [
             0.8888888888888888,
             "#fdca26"
            ],
            [
             1,
             "#f0f921"
            ]
           ]
          },
          "colorway": [
           "#636efa",
           "#EF553B",
           "#00cc96",
           "#ab63fa",
           "#FFA15A",
           "#19d3f3",
           "#FF6692",
           "#B6E880",
           "#FF97FF",
           "#FECB52"
          ],
          "font": {
           "color": "#2a3f5f"
          },
          "geo": {
           "bgcolor": "white",
           "lakecolor": "white",
           "landcolor": "#E5ECF6",
           "showlakes": true,
           "showland": true,
           "subunitcolor": "white"
          },
          "hoverlabel": {
           "align": "left"
          },
          "hovermode": "closest",
          "mapbox": {
           "style": "light"
          },
          "paper_bgcolor": "white",
          "plot_bgcolor": "#E5ECF6",
          "polar": {
           "angularaxis": {
            "gridcolor": "white",
            "linecolor": "white",
            "ticks": ""
           },
           "bgcolor": "#E5ECF6",
           "radialaxis": {
            "gridcolor": "white",
            "linecolor": "white",
            "ticks": ""
           }
          },
          "scene": {
           "xaxis": {
            "backgroundcolor": "#E5ECF6",
            "gridcolor": "white",
            "gridwidth": 2,
            "linecolor": "white",
            "showbackground": true,
            "ticks": "",
            "zerolinecolor": "white"
           },
           "yaxis": {
            "backgroundcolor": "#E5ECF6",
            "gridcolor": "white",
            "gridwidth": 2,
            "linecolor": "white",
            "showbackground": true,
            "ticks": "",
            "zerolinecolor": "white"
           },
           "zaxis": {
            "backgroundcolor": "#E5ECF6",
            "gridcolor": "white",
            "gridwidth": 2,
            "linecolor": "white",
            "showbackground": true,
            "ticks": "",
            "zerolinecolor": "white"
           }
          },
          "shapedefaults": {
           "line": {
            "color": "#2a3f5f"
           }
          },
          "ternary": {
           "aaxis": {
            "gridcolor": "white",
            "linecolor": "white",
            "ticks": ""
           },
           "baxis": {
            "gridcolor": "white",
            "linecolor": "white",
            "ticks": ""
           },
           "bgcolor": "#E5ECF6",
           "caxis": {
            "gridcolor": "white",
            "linecolor": "white",
            "ticks": ""
           }
          },
          "title": {
           "x": 0.05
          },
          "xaxis": {
           "automargin": true,
           "gridcolor": "white",
           "linecolor": "white",
           "ticks": "",
           "title": {
            "standoff": 15
           },
           "zerolinecolor": "white",
           "zerolinewidth": 2
          },
          "yaxis": {
           "automargin": true,
           "gridcolor": "white",
           "linecolor": "white",
           "ticks": "",
           "title": {
            "standoff": 15
           },
           "zerolinecolor": "white",
           "zerolinewidth": 2
          }
         }
        },
        "title": {
         "text": "Сравнение предсказаний нейронной сети и фактических температур"
        },
        "xaxis": {
         "title": {
          "text": "Условный номер звезды"
         }
        },
        "yaxis": {
         "title": {
          "text": "Температура звезды, К"
         }
        }
       }
      }
     },
     "metadata": {},
     "output_type": "display_data"
    }
   ],
   "source": [
    "fig_do = go.Figure()\n",
    "\n",
    "fig_do.add_trace(\n",
    "    go.Bar(\n",
    "        x = df_do_3.index, \n",
    "        y = df_do_3['Actual'],\n",
    "        name='Фактическая температура',\n",
    "        marker_color='rgb(0,0,100)'\n",
    "    )\n",
    ")\n",
    "\n",
    "fig_do.add_trace(\n",
    "    go.Bar(\n",
    "        x = df_do_3.index, \n",
    "        y = df_do_3['Predicted'],\n",
    "        name='Предсказания',\n",
    "        marker_color='rgb(0,200,200)'\n",
    "    )\n",
    ")\n",
    "\n",
    "fig_do.update_layout(title=\"Сравнение предсказаний нейронной сети и фактических температур\",\n",
    "                    xaxis_title=\"Условный номер звезды\",\n",
    "                    yaxis_title=\"Температура звезды, К\",\n",
    "                    legend=dict(x=.5, xanchor=\"center\", yanchor=\"bottom\", y=-.3, orientation=\"h\"),\n",
    "                   )\n",
    "\n",
    "fig_do.show()"
   ]
  },
  {
   "cell_type": "markdown",
   "id": "850763f5",
   "metadata": {},
   "source": [
    "### Выводы по результатам улучшения модели"
   ]
  },
  {
   "cell_type": "markdown",
   "id": "9edec94c",
   "metadata": {},
   "source": [
    "<b>Значительного улучшения метрики `RMSE` получить не удалось. Видно, что модель все также плохо определяет звезды с высокой температурой на поверхности, что, возможно, объясняется небольшим количеством таких звезд в выборке.</b>"
   ]
  },
  {
   "cell_type": "markdown",
   "id": "accurate-infrastructure",
   "metadata": {},
   "source": [
    "## Общие выводы"
   ]
  },
  {
   "cell_type": "markdown",
   "id": "abefed0c",
   "metadata": {},
   "source": [
    "Выведем на общий график результаты предсказаний базовой модели и результаты, полученные после применения методов `Batch Normalization` и `Dropout`, а также фактические температуры звезд"
   ]
  },
  {
   "cell_type": "code",
   "execution_count": 61,
   "id": "92810e1d",
   "metadata": {},
   "outputs": [
    {
     "data": {
      "application/vnd.plotly.v1+json": {
       "config": {
        "plotlyServerURL": "https://plot.ly"
       },
       "data": [
        {
         "marker": {
          "color": "rgb(0,0,100)"
         },
         "name": "Фактическая температура",
         "type": "bar",
         "x": [
          0,
          1,
          2,
          3,
          4,
          5,
          6,
          7,
          8,
          9,
          10,
          11,
          12,
          13,
          14,
          15,
          16,
          17,
          18,
          19,
          20,
          21,
          22,
          23,
          24,
          25,
          26,
          27,
          28,
          29,
          30,
          31,
          32,
          33,
          34,
          35,
          36,
          37,
          38,
          39,
          40,
          41,
          42,
          43,
          44,
          45,
          46,
          47,
          48,
          49,
          50,
          51,
          52,
          53,
          54,
          55,
          56,
          57,
          58,
          59,
          60,
          61,
          62,
          63,
          64,
          65,
          66,
          67,
          68,
          69,
          70,
          71
         ],
         "y": [
          3463,
          7100,
          3752,
          3095,
          2650,
          9383,
          24145,
          2983,
          9700,
          5752,
          37882,
          9320,
          17200,
          5300,
          2600,
          24020,
          24630,
          12990,
          4015,
          3660,
          2835,
          14060,
          22012,
          3129,
          18000,
          3511,
          21020,
          2774,
          3212,
          3628,
          3650,
          2637,
          3399,
          3295,
          34190,
          14100,
          16500,
          10574,
          3324,
          3462,
          3600,
          1939,
          8924,
          4980,
          2650,
          8829,
          19860,
          17120,
          11567,
          30000,
          6380,
          3575,
          13420,
          9675,
          3146,
          19360,
          10980,
          7230,
          2731,
          3541,
          12749,
          38234,
          3270,
          3068,
          3450,
          3598,
          16787,
          8930,
          19923,
          3574,
          2871,
          7282
         ]
        },
        {
         "marker": {
          "color": "rgb(0,200,200)"
         },
         "name": "Предсказания базовой модели",
         "type": "bar",
         "x": [
          0,
          1,
          2,
          3,
          4,
          5,
          6,
          7,
          8,
          9,
          10,
          11,
          12,
          13,
          14,
          15,
          16,
          17,
          18,
          19,
          20,
          21,
          22,
          23,
          24,
          25,
          26,
          27,
          28,
          29,
          30,
          31,
          32,
          33,
          34,
          35,
          36,
          37,
          38,
          39,
          40,
          41,
          42,
          43,
          44,
          45,
          46,
          47,
          48,
          49,
          50,
          51,
          52,
          53,
          54,
          55,
          56,
          57,
          58,
          59,
          60,
          61,
          62,
          63,
          64,
          65,
          66,
          67,
          68,
          69,
          70,
          71
         ],
         "y": [
          2910.40185546875,
          4212.9033203125,
          3985.748291015625,
          3304.943115234375,
          2852.616455078125,
          13055.2021484375,
          22464.0078125,
          2900.997314453125,
          8651.0927734375,
          14045.677734375,
          22956.90234375,
          8545.3642578125,
          11235.7041015625,
          5273.9951171875,
          2789.356689453125,
          19829.20703125,
          22327.197265625,
          11588.5869140625,
          3902.673095703125,
          3594.572998046875,
          2866.914306640625,
          13258.5263671875,
          15756.6787109375,
          3180.736083984375,
          30063.677734375,
          2863.28662109375,
          16521.611328125,
          2854.130615234375,
          3059.760498046875,
          3356.496826171875,
          4144.2822265625,
          2859.79345703125,
          3406.147705078125,
          2862.787841796875,
          35157.43359375,
          11552.6845703125,
          11853.1298828125,
          17131.828125,
          3067.029052734375,
          3220.016357421875,
          4531.962890625,
          2787.006103515625,
          8155.55810546875,
          4619.8203125,
          3182.96875,
          11967.6708984375,
          17037.16015625,
          13603.2490234375,
          22046.16015625,
          30250.8359375,
          6750.2021484375,
          2827.5263671875,
          9514.09765625,
          9070.240234375,
          2867.730712890625,
          16259.33984375,
          13392.935546875,
          8086.12890625,
          2828.95458984375,
          2950.697509765625,
          12544.8916015625,
          31820.904296875,
          3251.535400390625,
          2898.50390625,
          4089.280517578125,
          2954.168701171875,
          16875.404296875,
          8401.390625,
          23013.71875,
          3580.163330078125,
          2759.996337890625,
          10745.4599609375
         ]
        },
        {
         "marker": {
          "color": "rgb(0,150,150)"
         },
         "name": "Предсказания с Batch Normalization",
         "type": "bar",
         "x": [
          0,
          1,
          2,
          3,
          4,
          5,
          6,
          7,
          8,
          9,
          10,
          11,
          12,
          13,
          14,
          15,
          16,
          17,
          18,
          19,
          20,
          21,
          22,
          23,
          24,
          25,
          26,
          27,
          28,
          29,
          30,
          31,
          32,
          33,
          34,
          35,
          36,
          37,
          38,
          39,
          40,
          41,
          42,
          43,
          44,
          45,
          46,
          47,
          48,
          49,
          50,
          51,
          52,
          53,
          54,
          55,
          56,
          57,
          58,
          59,
          60,
          61,
          62,
          63,
          64,
          65,
          66,
          67,
          68,
          69,
          70,
          71
         ],
         "y": [
          -530.81494140625,
          1316.8330078125,
          -411.0748596191406,
          -472.8250427246094,
          -568.705078125,
          3549.074462890625,
          6908.28662109375,
          -568.3060302734375,
          848.0203857421875,
          3549.074462890625,
          6927.2197265625,
          2194.517822265625,
          3121.906982421875,
          200.8092803955078,
          -570.2786865234375,
          6149.56103515625,
          7493.23486328125,
          2697.800537109375,
          -417.6634521484375,
          -109.97647094726562,
          -568.46240234375,
          3986.072021484375,
          4765.97802734375,
          -512.7611083984375,
          8678.560546875,
          -568.4925537109375,
          4917.361328125,
          -568.6715087890625,
          -537.1461791992188,
          -453.21533203125,
          -423.68048095703125,
          -568.5991821289062,
          -485.6228942871094,
          -568.4983520507812,
          9930.73046875,
          3100.414794921875,
          3166.109619140625,
          4147.35888671875,
          -536.1261596679688,
          -501.5790710449219,
          -371.823486328125,
          -546.80712890625,
          1249.231689453125,
          118.1250228881836,
          -512.6189575195312,
          6541.89697265625,
          5114.30712890625,
          3549.074462890625,
          7040.80029296875,
          8802.5400390625,
          695.998291015625,
          -386.9849548339844,
          2125.880126953125,
          1573.0791015625,
          -568.4923095703125,
          4775.3203125,
          2743.192626953125,
          1273.6240234375,
          -569.4505615234375,
          -533.9146728515625,
          3549.074462890625,
          9089.49609375,
          -449.2642517089844,
          -568.303955078125,
          -287.5324401855469,
          -534.3049926757812,
          3549.074462890625,
          1271.137451171875,
          7558.51611328125,
          -403.8546447753906,
          -563.5391845703125,
          4343.21337890625
         ]
        },
        {
         "marker": {
          "color": "rgb(0,100,200)"
         },
         "name": "Предсказания с Dropout",
         "type": "bar",
         "x": [
          0,
          1,
          2,
          3,
          4,
          5,
          6,
          7,
          8,
          9,
          10,
          11,
          12,
          13,
          14,
          15,
          16,
          17,
          18,
          19,
          20,
          21,
          22,
          23,
          24,
          25,
          26,
          27,
          28,
          29,
          30,
          31,
          32,
          33,
          34,
          35,
          36,
          37,
          38,
          39,
          40,
          41,
          42,
          43,
          44,
          45,
          46,
          47,
          48,
          49,
          50,
          51,
          52,
          53,
          54,
          55,
          56,
          57,
          58,
          59,
          60,
          61,
          62,
          63,
          64,
          65,
          66,
          67,
          68,
          69,
          70,
          71
         ],
         "y": [
          3246.65625,
          6379.76953125,
          3959.069091796875,
          3431.01513671875,
          3169.526611328125,
          17162.076171875,
          25570.69140625,
          3109.517822265625,
          7777.4970703125,
          19323.65625,
          22106.119140625,
          9549.072265625,
          12217.93359375,
          5681.82763671875,
          3212.525390625,
          20747.693359375,
          23742.380859375,
          12295.3857421875,
          4855.37646484375,
          5187.4794921875,
          3155.50830078125,
          13960.7822265625,
          15942.5810546875,
          3294.188232421875,
          21257.5234375,
          3161.889404296875,
          17549.90625,
          3168.166259765625,
          3264.069580078125,
          3515.690185546875,
          4189.2236328125,
          3164.267333984375,
          3647.101806640625,
          3162.072509765625,
          36998.94140625,
          12625.71484375,
          13029.9541015625,
          17153.060546875,
          3263.314453125,
          3323.825927734375,
          4239.77880859375,
          3286.458984375,
          8910.1015625,
          4826.40625,
          3295.848876953125,
          14133.4580078125,
          18028.087890625,
          17802.283203125,
          24022.32421875,
          29765.130859375,
          6895.07666015625,
          3998.012451171875,
          10319.4697265625,
          9848.3310546875,
          3153.53076171875,
          17300.787109375,
          14668.5908203125,
          8150.970703125,
          3189.7421875,
          3253.173095703125,
          16793.470703125,
          28587.998046875,
          3876.455322265625,
          3110.821533203125,
          4662.31787109375,
          3252.541259765625,
          22305.18359375,
          8153.16357421875,
          24060.794921875,
          3824.2021484375,
          3244.929443359375,
          13699.6669921875
         ]
        }
       ],
       "layout": {
        "legend": {
         "orientation": "h",
         "x": 0.5,
         "xanchor": "center",
         "y": -0.7,
         "yanchor": "bottom"
        },
        "template": {
         "data": {
          "bar": [
           {
            "error_x": {
             "color": "#2a3f5f"
            },
            "error_y": {
             "color": "#2a3f5f"
            },
            "marker": {
             "line": {
              "color": "#E5ECF6",
              "width": 0.5
             },
             "pattern": {
              "fillmode": "overlay",
              "size": 10,
              "solidity": 0.2
             }
            },
            "type": "bar"
           }
          ],
          "barpolar": [
           {
            "marker": {
             "line": {
              "color": "#E5ECF6",
              "width": 0.5
             },
             "pattern": {
              "fillmode": "overlay",
              "size": 10,
              "solidity": 0.2
             }
            },
            "type": "barpolar"
           }
          ],
          "carpet": [
           {
            "aaxis": {
             "endlinecolor": "#2a3f5f",
             "gridcolor": "white",
             "linecolor": "white",
             "minorgridcolor": "white",
             "startlinecolor": "#2a3f5f"
            },
            "baxis": {
             "endlinecolor": "#2a3f5f",
             "gridcolor": "white",
             "linecolor": "white",
             "minorgridcolor": "white",
             "startlinecolor": "#2a3f5f"
            },
            "type": "carpet"
           }
          ],
          "choropleth": [
           {
            "colorbar": {
             "outlinewidth": 0,
             "ticks": ""
            },
            "type": "choropleth"
           }
          ],
          "contour": [
           {
            "colorbar": {
             "outlinewidth": 0,
             "ticks": ""
            },
            "colorscale": [
             [
              0,
              "#0d0887"
             ],
             [
              0.1111111111111111,
              "#46039f"
             ],
             [
              0.2222222222222222,
              "#7201a8"
             ],
             [
              0.3333333333333333,
              "#9c179e"
             ],
             [
              0.4444444444444444,
              "#bd3786"
             ],
             [
              0.5555555555555556,
              "#d8576b"
             ],
             [
              0.6666666666666666,
              "#ed7953"
             ],
             [
              0.7777777777777778,
              "#fb9f3a"
             ],
             [
              0.8888888888888888,
              "#fdca26"
             ],
             [
              1,
              "#f0f921"
             ]
            ],
            "type": "contour"
           }
          ],
          "contourcarpet": [
           {
            "colorbar": {
             "outlinewidth": 0,
             "ticks": ""
            },
            "type": "contourcarpet"
           }
          ],
          "heatmap": [
           {
            "colorbar": {
             "outlinewidth": 0,
             "ticks": ""
            },
            "colorscale": [
             [
              0,
              "#0d0887"
             ],
             [
              0.1111111111111111,
              "#46039f"
             ],
             [
              0.2222222222222222,
              "#7201a8"
             ],
             [
              0.3333333333333333,
              "#9c179e"
             ],
             [
              0.4444444444444444,
              "#bd3786"
             ],
             [
              0.5555555555555556,
              "#d8576b"
             ],
             [
              0.6666666666666666,
              "#ed7953"
             ],
             [
              0.7777777777777778,
              "#fb9f3a"
             ],
             [
              0.8888888888888888,
              "#fdca26"
             ],
             [
              1,
              "#f0f921"
             ]
            ],
            "type": "heatmap"
           }
          ],
          "heatmapgl": [
           {
            "colorbar": {
             "outlinewidth": 0,
             "ticks": ""
            },
            "colorscale": [
             [
              0,
              "#0d0887"
             ],
             [
              0.1111111111111111,
              "#46039f"
             ],
             [
              0.2222222222222222,
              "#7201a8"
             ],
             [
              0.3333333333333333,
              "#9c179e"
             ],
             [
              0.4444444444444444,
              "#bd3786"
             ],
             [
              0.5555555555555556,
              "#d8576b"
             ],
             [
              0.6666666666666666,
              "#ed7953"
             ],
             [
              0.7777777777777778,
              "#fb9f3a"
             ],
             [
              0.8888888888888888,
              "#fdca26"
             ],
             [
              1,
              "#f0f921"
             ]
            ],
            "type": "heatmapgl"
           }
          ],
          "histogram": [
           {
            "marker": {
             "pattern": {
              "fillmode": "overlay",
              "size": 10,
              "solidity": 0.2
             }
            },
            "type": "histogram"
           }
          ],
          "histogram2d": [
           {
            "colorbar": {
             "outlinewidth": 0,
             "ticks": ""
            },
            "colorscale": [
             [
              0,
              "#0d0887"
             ],
             [
              0.1111111111111111,
              "#46039f"
             ],
             [
              0.2222222222222222,
              "#7201a8"
             ],
             [
              0.3333333333333333,
              "#9c179e"
             ],
             [
              0.4444444444444444,
              "#bd3786"
             ],
             [
              0.5555555555555556,
              "#d8576b"
             ],
             [
              0.6666666666666666,
              "#ed7953"
             ],
             [
              0.7777777777777778,
              "#fb9f3a"
             ],
             [
              0.8888888888888888,
              "#fdca26"
             ],
             [
              1,
              "#f0f921"
             ]
            ],
            "type": "histogram2d"
           }
          ],
          "histogram2dcontour": [
           {
            "colorbar": {
             "outlinewidth": 0,
             "ticks": ""
            },
            "colorscale": [
             [
              0,
              "#0d0887"
             ],
             [
              0.1111111111111111,
              "#46039f"
             ],
             [
              0.2222222222222222,
              "#7201a8"
             ],
             [
              0.3333333333333333,
              "#9c179e"
             ],
             [
              0.4444444444444444,
              "#bd3786"
             ],
             [
              0.5555555555555556,
              "#d8576b"
             ],
             [
              0.6666666666666666,
              "#ed7953"
             ],
             [
              0.7777777777777778,
              "#fb9f3a"
             ],
             [
              0.8888888888888888,
              "#fdca26"
             ],
             [
              1,
              "#f0f921"
             ]
            ],
            "type": "histogram2dcontour"
           }
          ],
          "mesh3d": [
           {
            "colorbar": {
             "outlinewidth": 0,
             "ticks": ""
            },
            "type": "mesh3d"
           }
          ],
          "parcoords": [
           {
            "line": {
             "colorbar": {
              "outlinewidth": 0,
              "ticks": ""
             }
            },
            "type": "parcoords"
           }
          ],
          "pie": [
           {
            "automargin": true,
            "type": "pie"
           }
          ],
          "scatter": [
           {
            "fillpattern": {
             "fillmode": "overlay",
             "size": 10,
             "solidity": 0.2
            },
            "type": "scatter"
           }
          ],
          "scatter3d": [
           {
            "line": {
             "colorbar": {
              "outlinewidth": 0,
              "ticks": ""
             }
            },
            "marker": {
             "colorbar": {
              "outlinewidth": 0,
              "ticks": ""
             }
            },
            "type": "scatter3d"
           }
          ],
          "scattercarpet": [
           {
            "marker": {
             "colorbar": {
              "outlinewidth": 0,
              "ticks": ""
             }
            },
            "type": "scattercarpet"
           }
          ],
          "scattergeo": [
           {
            "marker": {
             "colorbar": {
              "outlinewidth": 0,
              "ticks": ""
             }
            },
            "type": "scattergeo"
           }
          ],
          "scattergl": [
           {
            "marker": {
             "colorbar": {
              "outlinewidth": 0,
              "ticks": ""
             }
            },
            "type": "scattergl"
           }
          ],
          "scattermapbox": [
           {
            "marker": {
             "colorbar": {
              "outlinewidth": 0,
              "ticks": ""
             }
            },
            "type": "scattermapbox"
           }
          ],
          "scatterpolar": [
           {
            "marker": {
             "colorbar": {
              "outlinewidth": 0,
              "ticks": ""
             }
            },
            "type": "scatterpolar"
           }
          ],
          "scatterpolargl": [
           {
            "marker": {
             "colorbar": {
              "outlinewidth": 0,
              "ticks": ""
             }
            },
            "type": "scatterpolargl"
           }
          ],
          "scatterternary": [
           {
            "marker": {
             "colorbar": {
              "outlinewidth": 0,
              "ticks": ""
             }
            },
            "type": "scatterternary"
           }
          ],
          "surface": [
           {
            "colorbar": {
             "outlinewidth": 0,
             "ticks": ""
            },
            "colorscale": [
             [
              0,
              "#0d0887"
             ],
             [
              0.1111111111111111,
              "#46039f"
             ],
             [
              0.2222222222222222,
              "#7201a8"
             ],
             [
              0.3333333333333333,
              "#9c179e"
             ],
             [
              0.4444444444444444,
              "#bd3786"
             ],
             [
              0.5555555555555556,
              "#d8576b"
             ],
             [
              0.6666666666666666,
              "#ed7953"
             ],
             [
              0.7777777777777778,
              "#fb9f3a"
             ],
             [
              0.8888888888888888,
              "#fdca26"
             ],
             [
              1,
              "#f0f921"
             ]
            ],
            "type": "surface"
           }
          ],
          "table": [
           {
            "cells": {
             "fill": {
              "color": "#EBF0F8"
             },
             "line": {
              "color": "white"
             }
            },
            "header": {
             "fill": {
              "color": "#C8D4E3"
             },
             "line": {
              "color": "white"
             }
            },
            "type": "table"
           }
          ]
         },
         "layout": {
          "annotationdefaults": {
           "arrowcolor": "#2a3f5f",
           "arrowhead": 0,
           "arrowwidth": 1
          },
          "autotypenumbers": "strict",
          "coloraxis": {
           "colorbar": {
            "outlinewidth": 0,
            "ticks": ""
           }
          },
          "colorscale": {
           "diverging": [
            [
             0,
             "#8e0152"
            ],
            [
             0.1,
             "#c51b7d"
            ],
            [
             0.2,
             "#de77ae"
            ],
            [
             0.3,
             "#f1b6da"
            ],
            [
             0.4,
             "#fde0ef"
            ],
            [
             0.5,
             "#f7f7f7"
            ],
            [
             0.6,
             "#e6f5d0"
            ],
            [
             0.7,
             "#b8e186"
            ],
            [
             0.8,
             "#7fbc41"
            ],
            [
             0.9,
             "#4d9221"
            ],
            [
             1,
             "#276419"
            ]
           ],
           "sequential": [
            [
             0,
             "#0d0887"
            ],
            [
             0.1111111111111111,
             "#46039f"
            ],
            [
             0.2222222222222222,
             "#7201a8"
            ],
            [
             0.3333333333333333,
             "#9c179e"
            ],
            [
             0.4444444444444444,
             "#bd3786"
            ],
            [
             0.5555555555555556,
             "#d8576b"
            ],
            [
             0.6666666666666666,
             "#ed7953"
            ],
            [
             0.7777777777777778,
             "#fb9f3a"
            ],
            [
             0.8888888888888888,
             "#fdca26"
            ],
            [
             1,
             "#f0f921"
            ]
           ],
           "sequentialminus": [
            [
             0,
             "#0d0887"
            ],
            [
             0.1111111111111111,
             "#46039f"
            ],
            [
             0.2222222222222222,
             "#7201a8"
            ],
            [
             0.3333333333333333,
             "#9c179e"
            ],
            [
             0.4444444444444444,
             "#bd3786"
            ],
            [
             0.5555555555555556,
             "#d8576b"
            ],
            [
             0.6666666666666666,
             "#ed7953"
            ],
            [
             0.7777777777777778,
             "#fb9f3a"
            ],
            [
             0.8888888888888888,
             "#fdca26"
            ],
            [
             1,
             "#f0f921"
            ]
           ]
          },
          "colorway": [
           "#636efa",
           "#EF553B",
           "#00cc96",
           "#ab63fa",
           "#FFA15A",
           "#19d3f3",
           "#FF6692",
           "#B6E880",
           "#FF97FF",
           "#FECB52"
          ],
          "font": {
           "color": "#2a3f5f"
          },
          "geo": {
           "bgcolor": "white",
           "lakecolor": "white",
           "landcolor": "#E5ECF6",
           "showlakes": true,
           "showland": true,
           "subunitcolor": "white"
          },
          "hoverlabel": {
           "align": "left"
          },
          "hovermode": "closest",
          "mapbox": {
           "style": "light"
          },
          "paper_bgcolor": "white",
          "plot_bgcolor": "#E5ECF6",
          "polar": {
           "angularaxis": {
            "gridcolor": "white",
            "linecolor": "white",
            "ticks": ""
           },
           "bgcolor": "#E5ECF6",
           "radialaxis": {
            "gridcolor": "white",
            "linecolor": "white",
            "ticks": ""
           }
          },
          "scene": {
           "xaxis": {
            "backgroundcolor": "#E5ECF6",
            "gridcolor": "white",
            "gridwidth": 2,
            "linecolor": "white",
            "showbackground": true,
            "ticks": "",
            "zerolinecolor": "white"
           },
           "yaxis": {
            "backgroundcolor": "#E5ECF6",
            "gridcolor": "white",
            "gridwidth": 2,
            "linecolor": "white",
            "showbackground": true,
            "ticks": "",
            "zerolinecolor": "white"
           },
           "zaxis": {
            "backgroundcolor": "#E5ECF6",
            "gridcolor": "white",
            "gridwidth": 2,
            "linecolor": "white",
            "showbackground": true,
            "ticks": "",
            "zerolinecolor": "white"
           }
          },
          "shapedefaults": {
           "line": {
            "color": "#2a3f5f"
           }
          },
          "ternary": {
           "aaxis": {
            "gridcolor": "white",
            "linecolor": "white",
            "ticks": ""
           },
           "baxis": {
            "gridcolor": "white",
            "linecolor": "white",
            "ticks": ""
           },
           "bgcolor": "#E5ECF6",
           "caxis": {
            "gridcolor": "white",
            "linecolor": "white",
            "ticks": ""
           }
          },
          "title": {
           "x": 0.05
          },
          "xaxis": {
           "automargin": true,
           "gridcolor": "white",
           "linecolor": "white",
           "ticks": "",
           "title": {
            "standoff": 15
           },
           "zerolinecolor": "white",
           "zerolinewidth": 2
          },
          "yaxis": {
           "automargin": true,
           "gridcolor": "white",
           "linecolor": "white",
           "ticks": "",
           "title": {
            "standoff": 15
           },
           "zerolinecolor": "white",
           "zerolinewidth": 2
          }
         }
        },
        "title": {
         "text": "Сравнение предсказаний нейронной сети и фактических температур"
        },
        "xaxis": {
         "rangeslider": {
          "visible": true
         },
         "title": {
          "text": "Условный номер звезды"
         },
         "type": "linear"
        },
        "yaxis": {
         "title": {
          "text": "Температура звезды, К"
         }
        }
       }
      }
     },
     "metadata": {},
     "output_type": "display_data"
    }
   ],
   "source": [
    "fig_final = go.Figure()\n",
    "\n",
    "fig_final.add_trace(\n",
    "    go.Bar(\n",
    "        x = df_2.index, \n",
    "        y = df_2['Actual'],\n",
    "        name='Фактическая температура',\n",
    "        marker_color='rgb(0,0,100)'\n",
    "    )\n",
    ")\n",
    "\n",
    "fig_final.add_trace(\n",
    "    go.Bar(\n",
    "        x = df_2.index, \n",
    "        y = df_2['Predicted'],\n",
    "        name='Предсказания базовой модели',\n",
    "        marker_color='rgb(0,200,200)'\n",
    "    )\n",
    ")\n",
    "\n",
    "fig_final.add_trace(\n",
    "    go.Bar(\n",
    "        x = df_bn.index, \n",
    "        y = df_bn['Predicted'],\n",
    "        name='Предсказания с Batch Normalization',\n",
    "        marker_color='rgb(0,150,150)'\n",
    "    )\n",
    ")\n",
    "\n",
    "fig_final.add_trace(\n",
    "    go.Bar(\n",
    "        x = df_do_1.index, \n",
    "        y = df_do_1['Predicted'],\n",
    "        name='Предсказания с Dropout',\n",
    "        marker_color='rgb(0,100,200)'\n",
    "    )\n",
    ")\n",
    "\n",
    "fig_final.update_layout(title=\"Сравнение предсказаний нейронной сети и фактических температур\",\n",
    "                    xaxis_title=\"Условный номер звезды\",\n",
    "                    yaxis_title=\"Температура звезды, К\",\n",
    "                    legend=dict(x=.5, xanchor=\"center\", yanchor=\"bottom\", y=-.7, orientation=\"h\"),\n",
    "                    xaxis=dict(rangeslider=dict(visible=True),type=\"linear\")\n",
    "                   )\n",
    "\n",
    "fig_final.show()"
   ]
  },
  {
   "cell_type": "markdown",
   "id": "fa63474c",
   "metadata": {},
   "source": [
    "В ходе выполнения работы выполнены следующие действия:\n",
    "\n",
    "<b>Предварительный осмотр данных</b>\n",
    "\n",
    "По результатам предварительного осмотра данных можно сделать слендующие выводы:\n",
    "1. В представленных данных отсутствуют пропуски. \n",
    "2. Поле под названием `Unnamed: 0` является полем с индексами, так как при общем количестве строк в 240 значения указанного поля изменяются от 0 до 239. Данное поле следует удалить из датасет. \n",
    "3. Для полей `Luminosity(L/Lo)` и `Radius(R/Ro)`, содержащих количественные признаки, наблюдается значительный разброс значений. Чтобы нейронная сеть работала более корректно, признаки в данных столбцах следует масштабировать. \n",
    "4. Для целевого признака, содержащегося в поле `Temperature (K)` наибольшие значения коэффициента корреляции имеют поля `Star color` и `Absolute magnitude(Mv)`. При этом стоит отметить, что коэффициент корреляции почти по всем столбцам больше 0,5.\n",
    "\n",
    "<b>Предобработка и анализ данных</b>\n",
    "\n",
    "В ходе предобработки данных:\n",
    "1. Устранены неявные дубликаты по полю `Star color`.\n",
    "2. Обнаружены выбросы в полях `Luminosity(L/Lo)` и `Radius(R/Ro)`, при этом:\n",
    "    1. В поле `Luminosity(L/Lo)` доля выбросов составляет 5% от всего датасета, эти выбросы можно удалить. \n",
    "    2. Нельзя однозначно утверждать, что выбросы в поле `Radius(R/Ro)` можно изменить без вреда для остального датасета, нам для этого не хватает компетенции. Оставим данное поле без изменений.\n",
    "\n",
    "В результате графического анализа выявлено, что значительная часть значений в поле `Luminosity(L/Lo)` находится в правой части графика, что в купе с высоким коэффициентом корреляции (0.66) может сказаться на результатах работы сети. \n",
    "\n",
    "В ходе подготовки обучающей и тестовой выборки выполнены следующие действия:\n",
    "1. Проведено прямое кодирование категориальных признаков. \n",
    "2. Проведено масштабирование количественных признаков.\n",
    "\n",
    "<b>Построение и анализ работы разных бызовых моделей</b>\n",
    "\n",
    "По результатам анализа работы моделей для работы была выбрана базовая модель №2 со следующими параметрами:\n",
    "1. 5 скрытых слоев; \n",
    "2. функция активации - `ReLU()`;\n",
    "3. 1000 нейронов на каждом слое.\n",
    "\n",
    "<b>Улучшение нейронной сети</b>\n",
    "\n",
    "Значительного улучшения метрики `RMSE` получить не удалось. \n",
    "    \n",
    "    \n",
    "<b>Видно (в том числе на последнем графике), что модель все также плохо определяет звезды с высокой температурой на поверхности, что, возможно, объясняется небольшим количеством таких звезд в выборке.</b>"
   ]
  }
 ],
 "metadata": {
  "ExecuteTimeLog": [
   {
    "duration": 57,
    "start_time": "2023-03-20T17:52:00.722Z"
   },
   {
    "duration": 1375,
    "start_time": "2023-03-20T17:52:05.619Z"
   },
   {
    "duration": 101,
    "start_time": "2023-03-20T17:52:06.997Z"
   },
   {
    "duration": 892,
    "start_time": "2023-03-20T17:57:46.068Z"
   },
   {
    "duration": 0,
    "start_time": "2023-03-20T17:57:46.962Z"
   },
   {
    "duration": 0,
    "start_time": "2023-03-20T17:57:46.964Z"
   },
   {
    "duration": 0,
    "start_time": "2023-03-20T17:57:46.967Z"
   },
   {
    "duration": 0,
    "start_time": "2023-03-20T17:57:46.968Z"
   },
   {
    "duration": 0,
    "start_time": "2023-03-20T17:57:46.970Z"
   },
   {
    "duration": 0,
    "start_time": "2023-03-20T17:57:46.973Z"
   },
   {
    "duration": 3331,
    "start_time": "2023-03-20T17:58:10.668Z"
   },
   {
    "duration": 2288,
    "start_time": "2023-03-20T17:58:19.410Z"
   },
   {
    "duration": 1304,
    "start_time": "2023-03-20T17:58:21.701Z"
   },
   {
    "duration": 47,
    "start_time": "2023-03-20T17:58:23.008Z"
   },
   {
    "duration": 7,
    "start_time": "2023-03-20T17:58:23.057Z"
   },
   {
    "duration": 27,
    "start_time": "2023-03-20T17:58:23.066Z"
   },
   {
    "duration": 204,
    "start_time": "2023-03-20T17:58:23.094Z"
   },
   {
    "duration": 12,
    "start_time": "2023-03-20T17:58:23.303Z"
   },
   {
    "duration": 951,
    "start_time": "2023-03-20T17:58:23.317Z"
   },
   {
    "duration": 2298,
    "start_time": "2023-03-20T17:58:59.741Z"
   },
   {
    "duration": 1290,
    "start_time": "2023-03-20T17:59:02.041Z"
   },
   {
    "duration": 49,
    "start_time": "2023-03-20T17:59:03.332Z"
   },
   {
    "duration": 6,
    "start_time": "2023-03-20T17:59:03.384Z"
   },
   {
    "duration": 41,
    "start_time": "2023-03-20T17:59:03.393Z"
   },
   {
    "duration": 245,
    "start_time": "2023-03-20T17:59:03.436Z"
   },
   {
    "duration": 24,
    "start_time": "2023-03-20T17:59:03.683Z"
   },
   {
    "duration": 969,
    "start_time": "2023-03-20T17:59:03.711Z"
   },
   {
    "duration": 3,
    "start_time": "2023-03-20T18:19:18.974Z"
   },
   {
    "duration": 5,
    "start_time": "2023-03-20T18:19:30.543Z"
   },
   {
    "duration": 116,
    "start_time": "2023-03-20T18:26:38.928Z"
   },
   {
    "duration": 6,
    "start_time": "2023-03-20T18:26:45.076Z"
   },
   {
    "duration": 27,
    "start_time": "2023-03-20T18:26:55.597Z"
   },
   {
    "duration": 10,
    "start_time": "2023-03-20T18:27:08.803Z"
   },
   {
    "duration": 5,
    "start_time": "2023-03-20T18:29:28.379Z"
   },
   {
    "duration": 6,
    "start_time": "2023-03-20T18:29:29.979Z"
   },
   {
    "duration": 7,
    "start_time": "2023-03-20T18:47:38.834Z"
   },
   {
    "duration": 5,
    "start_time": "2023-03-20T18:47:41.090Z"
   },
   {
    "duration": 7,
    "start_time": "2023-03-20T18:48:23.439Z"
   },
   {
    "duration": 5,
    "start_time": "2023-03-20T18:48:25.770Z"
   },
   {
    "duration": 7,
    "start_time": "2023-03-20T18:50:01.922Z"
   },
   {
    "duration": 8,
    "start_time": "2023-03-20T18:51:17.014Z"
   },
   {
    "duration": 10,
    "start_time": "2023-03-20T18:52:28.871Z"
   },
   {
    "duration": 1269,
    "start_time": "2023-03-20T18:52:45.789Z"
   },
   {
    "duration": 12,
    "start_time": "2023-03-20T18:53:10.455Z"
   },
   {
    "duration": 39,
    "start_time": "2023-03-20T18:59:27.893Z"
   },
   {
    "duration": 17,
    "start_time": "2023-03-20T18:59:49.015Z"
   },
   {
    "duration": 32,
    "start_time": "2023-03-20T18:59:59.218Z"
   },
   {
    "duration": 7,
    "start_time": "2023-03-20T19:02:09.133Z"
   },
   {
    "duration": 2261,
    "start_time": "2023-03-20T19:12:17.522Z"
   },
   {
    "duration": 1480,
    "start_time": "2023-03-20T19:12:19.786Z"
   },
   {
    "duration": 43,
    "start_time": "2023-03-20T19:12:21.268Z"
   },
   {
    "duration": 6,
    "start_time": "2023-03-20T19:12:21.318Z"
   },
   {
    "duration": 45,
    "start_time": "2023-03-20T19:12:21.327Z"
   },
   {
    "duration": 303,
    "start_time": "2023-03-20T19:12:21.375Z"
   },
   {
    "duration": 30,
    "start_time": "2023-03-20T19:12:21.681Z"
   },
   {
    "duration": 1046,
    "start_time": "2023-03-20T19:12:21.716Z"
   },
   {
    "duration": 5,
    "start_time": "2023-03-20T19:12:22.764Z"
   },
   {
    "duration": 19,
    "start_time": "2023-03-20T19:12:22.771Z"
   },
   {
    "duration": 11,
    "start_time": "2023-03-20T19:12:22.792Z"
   },
   {
    "duration": 15,
    "start_time": "2023-03-20T19:12:22.806Z"
   },
   {
    "duration": 7,
    "start_time": "2023-03-20T19:12:22.824Z"
   },
   {
    "duration": 17,
    "start_time": "2023-03-20T19:12:22.835Z"
   },
   {
    "duration": 14,
    "start_time": "2023-03-20T19:12:22.854Z"
   },
   {
    "duration": 7,
    "start_time": "2023-03-20T19:12:22.870Z"
   },
   {
    "duration": 18,
    "start_time": "2023-03-20T19:12:22.879Z"
   },
   {
    "duration": 6,
    "start_time": "2023-03-20T19:12:22.902Z"
   },
   {
    "duration": 8,
    "start_time": "2023-03-20T19:15:45.498Z"
   },
   {
    "duration": 128,
    "start_time": "2023-03-20T19:21:31.185Z"
   },
   {
    "duration": 6,
    "start_time": "2023-03-20T19:21:46.184Z"
   },
   {
    "duration": 19,
    "start_time": "2023-03-20T19:21:48.155Z"
   },
   {
    "duration": 23,
    "start_time": "2023-03-20T19:21:51.549Z"
   },
   {
    "duration": 14,
    "start_time": "2023-03-20T19:21:54.332Z"
   },
   {
    "duration": 10,
    "start_time": "2023-03-20T19:23:56.485Z"
   },
   {
    "duration": 2314,
    "start_time": "2023-03-20T19:24:01.879Z"
   },
   {
    "duration": 2117,
    "start_time": "2023-03-20T19:24:04.196Z"
   },
   {
    "duration": 0,
    "start_time": "2023-03-20T19:24:06.324Z"
   },
   {
    "duration": 0,
    "start_time": "2023-03-20T19:24:06.325Z"
   },
   {
    "duration": 0,
    "start_time": "2023-03-20T19:24:06.326Z"
   },
   {
    "duration": 0,
    "start_time": "2023-03-20T19:24:06.328Z"
   },
   {
    "duration": 0,
    "start_time": "2023-03-20T19:24:06.330Z"
   },
   {
    "duration": 0,
    "start_time": "2023-03-20T19:24:06.331Z"
   },
   {
    "duration": 0,
    "start_time": "2023-03-20T19:24:06.332Z"
   },
   {
    "duration": 0,
    "start_time": "2023-03-20T19:24:06.334Z"
   },
   {
    "duration": 0,
    "start_time": "2023-03-20T19:24:06.336Z"
   },
   {
    "duration": 0,
    "start_time": "2023-03-20T19:24:06.338Z"
   },
   {
    "duration": 0,
    "start_time": "2023-03-20T19:24:06.341Z"
   },
   {
    "duration": 0,
    "start_time": "2023-03-20T19:24:06.342Z"
   },
   {
    "duration": 0,
    "start_time": "2023-03-20T19:24:06.343Z"
   },
   {
    "duration": 0,
    "start_time": "2023-03-20T19:24:06.347Z"
   },
   {
    "duration": 0,
    "start_time": "2023-03-20T19:24:06.348Z"
   },
   {
    "duration": 0,
    "start_time": "2023-03-20T19:24:06.350Z"
   },
   {
    "duration": 0,
    "start_time": "2023-03-20T19:24:06.351Z"
   },
   {
    "duration": 0,
    "start_time": "2023-03-20T19:24:06.353Z"
   },
   {
    "duration": 0,
    "start_time": "2023-03-20T19:24:06.354Z"
   },
   {
    "duration": 0,
    "start_time": "2023-03-20T19:24:06.355Z"
   },
   {
    "duration": 0,
    "start_time": "2023-03-20T19:24:06.356Z"
   },
   {
    "duration": 2366,
    "start_time": "2023-03-20T19:24:35.090Z"
   },
   {
    "duration": 30159,
    "start_time": "2023-03-20T19:24:37.458Z"
   },
   {
    "duration": 2715,
    "start_time": "2023-03-20T19:25:07.623Z"
   },
   {
    "duration": 0,
    "start_time": "2023-03-20T19:25:10.342Z"
   },
   {
    "duration": 0,
    "start_time": "2023-03-20T19:25:10.343Z"
   },
   {
    "duration": 0,
    "start_time": "2023-03-20T19:25:10.344Z"
   },
   {
    "duration": 0,
    "start_time": "2023-03-20T19:25:10.346Z"
   },
   {
    "duration": 0,
    "start_time": "2023-03-20T19:25:10.348Z"
   },
   {
    "duration": 0,
    "start_time": "2023-03-20T19:25:10.350Z"
   },
   {
    "duration": 0,
    "start_time": "2023-03-20T19:25:10.351Z"
   },
   {
    "duration": 0,
    "start_time": "2023-03-20T19:25:10.353Z"
   },
   {
    "duration": 0,
    "start_time": "2023-03-20T19:25:10.354Z"
   },
   {
    "duration": 0,
    "start_time": "2023-03-20T19:25:10.357Z"
   },
   {
    "duration": 0,
    "start_time": "2023-03-20T19:25:10.358Z"
   },
   {
    "duration": 0,
    "start_time": "2023-03-20T19:25:10.360Z"
   },
   {
    "duration": 0,
    "start_time": "2023-03-20T19:25:10.362Z"
   },
   {
    "duration": 0,
    "start_time": "2023-03-20T19:25:10.363Z"
   },
   {
    "duration": 0,
    "start_time": "2023-03-20T19:25:10.365Z"
   },
   {
    "duration": 0,
    "start_time": "2023-03-20T19:25:10.405Z"
   },
   {
    "duration": 0,
    "start_time": "2023-03-20T19:25:10.407Z"
   },
   {
    "duration": 0,
    "start_time": "2023-03-20T19:25:10.408Z"
   },
   {
    "duration": 0,
    "start_time": "2023-03-20T19:25:10.409Z"
   },
   {
    "duration": 0,
    "start_time": "2023-03-20T19:25:10.410Z"
   },
   {
    "duration": 0,
    "start_time": "2023-03-20T19:25:10.411Z"
   },
   {
    "duration": 2162,
    "start_time": "2023-03-20T19:25:23.804Z"
   },
   {
    "duration": 17,
    "start_time": "2023-03-20T19:25:29.227Z"
   },
   {
    "duration": 2956,
    "start_time": "2023-03-20T19:25:59.977Z"
   },
   {
    "duration": 2700,
    "start_time": "2023-03-20T19:26:02.936Z"
   },
   {
    "duration": 2624,
    "start_time": "2023-03-20T19:26:05.638Z"
   },
   {
    "duration": 48,
    "start_time": "2023-03-20T19:26:08.264Z"
   },
   {
    "duration": 9,
    "start_time": "2023-03-20T19:26:08.314Z"
   },
   {
    "duration": 35,
    "start_time": "2023-03-20T19:26:08.326Z"
   },
   {
    "duration": 358,
    "start_time": "2023-03-20T19:26:08.363Z"
   },
   {
    "duration": 21,
    "start_time": "2023-03-20T19:26:08.739Z"
   },
   {
    "duration": 1061,
    "start_time": "2023-03-20T19:26:08.763Z"
   },
   {
    "duration": 10,
    "start_time": "2023-03-20T19:26:09.828Z"
   },
   {
    "duration": 5,
    "start_time": "2023-03-20T19:26:09.841Z"
   },
   {
    "duration": 8,
    "start_time": "2023-03-20T19:26:09.847Z"
   },
   {
    "duration": 7,
    "start_time": "2023-03-20T19:26:09.857Z"
   },
   {
    "duration": 11,
    "start_time": "2023-03-20T19:26:09.866Z"
   },
   {
    "duration": 29,
    "start_time": "2023-03-20T19:26:09.879Z"
   },
   {
    "duration": 13,
    "start_time": "2023-03-20T19:26:09.912Z"
   },
   {
    "duration": 11,
    "start_time": "2023-03-20T19:26:09.928Z"
   },
   {
    "duration": 22,
    "start_time": "2023-03-20T19:26:09.942Z"
   },
   {
    "duration": 12,
    "start_time": "2023-03-20T19:26:09.967Z"
   },
   {
    "duration": 33,
    "start_time": "2023-03-20T19:26:09.981Z"
   },
   {
    "duration": 24,
    "start_time": "2023-03-20T19:26:10.016Z"
   },
   {
    "duration": 28,
    "start_time": "2023-03-20T19:26:10.042Z"
   },
   {
    "duration": 15,
    "start_time": "2023-03-20T19:26:10.072Z"
   },
   {
    "duration": 16,
    "start_time": "2023-03-20T19:26:10.090Z"
   },
   {
    "duration": 3220,
    "start_time": "2023-03-21T17:10:50.693Z"
   },
   {
    "duration": 23273,
    "start_time": "2023-03-21T17:10:53.915Z"
   },
   {
    "duration": 2037,
    "start_time": "2023-03-21T17:11:17.190Z"
   },
   {
    "duration": 0,
    "start_time": "2023-03-21T17:11:19.229Z"
   },
   {
    "duration": 0,
    "start_time": "2023-03-21T17:11:19.230Z"
   },
   {
    "duration": 0,
    "start_time": "2023-03-21T17:11:19.232Z"
   },
   {
    "duration": 0,
    "start_time": "2023-03-21T17:11:19.239Z"
   },
   {
    "duration": 0,
    "start_time": "2023-03-21T17:11:19.240Z"
   },
   {
    "duration": 0,
    "start_time": "2023-03-21T17:11:19.240Z"
   },
   {
    "duration": 0,
    "start_time": "2023-03-21T17:11:19.241Z"
   },
   {
    "duration": 0,
    "start_time": "2023-03-21T17:11:19.241Z"
   },
   {
    "duration": 0,
    "start_time": "2023-03-21T17:11:19.242Z"
   },
   {
    "duration": 0,
    "start_time": "2023-03-21T17:11:19.242Z"
   },
   {
    "duration": 0,
    "start_time": "2023-03-21T17:11:19.243Z"
   },
   {
    "duration": 0,
    "start_time": "2023-03-21T17:11:19.243Z"
   },
   {
    "duration": 0,
    "start_time": "2023-03-21T17:11:19.249Z"
   },
   {
    "duration": 0,
    "start_time": "2023-03-21T17:11:19.250Z"
   },
   {
    "duration": 0,
    "start_time": "2023-03-21T17:11:19.250Z"
   },
   {
    "duration": 0,
    "start_time": "2023-03-21T17:11:19.250Z"
   },
   {
    "duration": 0,
    "start_time": "2023-03-21T17:11:19.251Z"
   },
   {
    "duration": 0,
    "start_time": "2023-03-21T17:11:19.251Z"
   },
   {
    "duration": 0,
    "start_time": "2023-03-21T17:11:19.252Z"
   },
   {
    "duration": 0,
    "start_time": "2023-03-21T17:11:19.252Z"
   },
   {
    "duration": 0,
    "start_time": "2023-03-21T17:11:19.253Z"
   },
   {
    "duration": 0,
    "start_time": "2023-03-21T17:11:19.254Z"
   },
   {
    "duration": 0,
    "start_time": "2023-03-21T17:11:19.254Z"
   },
   {
    "duration": 2154,
    "start_time": "2023-03-21T17:11:36.157Z"
   },
   {
    "duration": 2010,
    "start_time": "2023-03-21T17:11:38.313Z"
   },
   {
    "duration": 3145,
    "start_time": "2023-03-21T17:11:40.325Z"
   },
   {
    "duration": 96,
    "start_time": "2023-03-21T17:11:43.472Z"
   },
   {
    "duration": 2360,
    "start_time": "2023-03-21T17:11:43.570Z"
   },
   {
    "duration": 1798,
    "start_time": "2023-03-21T17:11:45.931Z"
   },
   {
    "duration": 3780,
    "start_time": "2023-03-21T17:11:47.731Z"
   },
   {
    "duration": 2258,
    "start_time": "2023-03-21T17:11:51.513Z"
   },
   {
    "duration": 852,
    "start_time": "2023-03-21T17:11:53.773Z"
   },
   {
    "duration": 4,
    "start_time": "2023-03-21T17:11:54.626Z"
   },
   {
    "duration": 9,
    "start_time": "2023-03-21T17:11:54.640Z"
   },
   {
    "duration": 12,
    "start_time": "2023-03-21T17:11:54.650Z"
   },
   {
    "duration": 5,
    "start_time": "2023-03-21T17:11:54.663Z"
   },
   {
    "duration": 8,
    "start_time": "2023-03-21T17:11:54.672Z"
   },
   {
    "duration": 7,
    "start_time": "2023-03-21T17:11:54.681Z"
   },
   {
    "duration": 10,
    "start_time": "2023-03-21T17:11:54.689Z"
   },
   {
    "duration": 8,
    "start_time": "2023-03-21T17:11:54.701Z"
   },
   {
    "duration": 42,
    "start_time": "2023-03-21T17:11:54.711Z"
   },
   {
    "duration": 6,
    "start_time": "2023-03-21T17:11:54.757Z"
   },
   {
    "duration": 9,
    "start_time": "2023-03-21T17:11:54.765Z"
   },
   {
    "duration": 14,
    "start_time": "2023-03-21T17:11:54.776Z"
   },
   {
    "duration": 13,
    "start_time": "2023-03-21T17:11:54.791Z"
   },
   {
    "duration": 12,
    "start_time": "2023-03-21T17:11:54.805Z"
   },
   {
    "duration": 39,
    "start_time": "2023-03-21T17:11:54.819Z"
   },
   {
    "duration": 3,
    "start_time": "2023-03-21T17:11:54.860Z"
   },
   {
    "duration": 165,
    "start_time": "2023-03-21T17:11:54.865Z"
   },
   {
    "duration": 49,
    "start_time": "2023-03-21T17:12:06.512Z"
   },
   {
    "duration": 25,
    "start_time": "2023-03-21T17:15:43.487Z"
   },
   {
    "duration": 6,
    "start_time": "2023-03-21T17:16:00.951Z"
   },
   {
    "duration": 10,
    "start_time": "2023-03-21T17:16:02.577Z"
   },
   {
    "duration": 17,
    "start_time": "2023-03-21T17:20:20.157Z"
   },
   {
    "duration": 17,
    "start_time": "2023-03-21T17:21:26.289Z"
   },
   {
    "duration": 14,
    "start_time": "2023-03-21T17:21:35.819Z"
   },
   {
    "duration": 44,
    "start_time": "2023-03-21T17:21:43.836Z"
   },
   {
    "duration": 3,
    "start_time": "2023-03-21T17:21:56.352Z"
   },
   {
    "duration": 3,
    "start_time": "2023-03-21T17:22:17.580Z"
   },
   {
    "duration": 34,
    "start_time": "2023-03-21T17:24:05.822Z"
   },
   {
    "duration": 3,
    "start_time": "2023-03-21T17:24:19.096Z"
   },
   {
    "duration": 26,
    "start_time": "2023-03-21T17:24:21.281Z"
   },
   {
    "duration": 3,
    "start_time": "2023-03-21T17:24:29.212Z"
   },
   {
    "duration": 47,
    "start_time": "2023-03-21T17:24:32.030Z"
   },
   {
    "duration": 4,
    "start_time": "2023-03-21T17:24:40.003Z"
   },
   {
    "duration": 25,
    "start_time": "2023-03-21T17:24:41.511Z"
   },
   {
    "duration": 6,
    "start_time": "2023-03-21T17:24:52.557Z"
   },
   {
    "duration": 28,
    "start_time": "2023-03-21T17:24:54.097Z"
   },
   {
    "duration": 3,
    "start_time": "2023-03-21T17:25:01.188Z"
   },
   {
    "duration": 53,
    "start_time": "2023-03-21T17:25:02.432Z"
   },
   {
    "duration": 5,
    "start_time": "2023-03-21T17:28:19.092Z"
   },
   {
    "duration": 5,
    "start_time": "2023-03-21T17:30:13.194Z"
   },
   {
    "duration": 5,
    "start_time": "2023-03-21T17:30:19.092Z"
   },
   {
    "duration": 2217,
    "start_time": "2023-03-21T17:30:36.354Z"
   },
   {
    "duration": 2105,
    "start_time": "2023-03-21T17:30:38.574Z"
   },
   {
    "duration": 1801,
    "start_time": "2023-03-21T17:30:40.681Z"
   },
   {
    "duration": 40,
    "start_time": "2023-03-21T17:30:42.484Z"
   },
   {
    "duration": 7,
    "start_time": "2023-03-21T17:30:42.525Z"
   },
   {
    "duration": 25,
    "start_time": "2023-03-21T17:30:42.534Z"
   },
   {
    "duration": 169,
    "start_time": "2023-03-21T17:30:42.560Z"
   },
   {
    "duration": 13,
    "start_time": "2023-03-21T17:30:42.730Z"
   },
   {
    "duration": 820,
    "start_time": "2023-03-21T17:30:42.744Z"
   },
   {
    "duration": 3,
    "start_time": "2023-03-21T17:30:43.566Z"
   },
   {
    "duration": 4,
    "start_time": "2023-03-21T17:30:43.571Z"
   },
   {
    "duration": 5,
    "start_time": "2023-03-21T17:30:43.577Z"
   },
   {
    "duration": 5,
    "start_time": "2023-03-21T17:30:43.584Z"
   },
   {
    "duration": 7,
    "start_time": "2023-03-21T17:30:43.590Z"
   },
   {
    "duration": 6,
    "start_time": "2023-03-21T17:30:43.598Z"
   },
   {
    "duration": 47,
    "start_time": "2023-03-21T17:30:43.605Z"
   },
   {
    "duration": 6,
    "start_time": "2023-03-21T17:30:43.653Z"
   },
   {
    "duration": 12,
    "start_time": "2023-03-21T17:30:43.660Z"
   },
   {
    "duration": 4,
    "start_time": "2023-03-21T17:30:43.673Z"
   },
   {
    "duration": 14,
    "start_time": "2023-03-21T17:30:43.679Z"
   },
   {
    "duration": 8,
    "start_time": "2023-03-21T17:30:43.694Z"
   },
   {
    "duration": 8,
    "start_time": "2023-03-21T17:30:43.704Z"
   },
   {
    "duration": 6,
    "start_time": "2023-03-21T17:30:43.714Z"
   },
   {
    "duration": 34,
    "start_time": "2023-03-21T17:30:43.721Z"
   },
   {
    "duration": 12,
    "start_time": "2023-03-21T17:30:43.756Z"
   },
   {
    "duration": 11,
    "start_time": "2023-03-21T17:30:43.770Z"
   },
   {
    "duration": 4,
    "start_time": "2023-03-21T17:30:43.783Z"
   },
   {
    "duration": 2,
    "start_time": "2023-03-21T17:30:43.790Z"
   },
   {
    "duration": 194,
    "start_time": "2023-03-21T17:30:43.794Z"
   },
   {
    "duration": 3,
    "start_time": "2023-03-21T17:31:32.482Z"
   },
   {
    "duration": 444,
    "start_time": "2023-03-21T17:31:34.318Z"
   },
   {
    "duration": 419,
    "start_time": "2023-03-21T17:32:18.346Z"
   },
   {
    "duration": 339,
    "start_time": "2023-03-21T17:38:19.303Z"
   },
   {
    "duration": 250,
    "start_time": "2023-03-21T17:39:38.493Z"
   },
   {
    "duration": 6,
    "start_time": "2023-03-21T17:40:38.318Z"
   },
   {
    "duration": 6,
    "start_time": "2023-03-21T17:40:59.311Z"
   },
   {
    "duration": 4,
    "start_time": "2023-03-21T17:44:08.288Z"
   },
   {
    "duration": 9,
    "start_time": "2023-03-21T17:44:20.615Z"
   },
   {
    "duration": 10,
    "start_time": "2023-03-21T17:44:37.791Z"
   },
   {
    "duration": 4,
    "start_time": "2023-03-21T17:44:43.186Z"
   },
   {
    "duration": 14,
    "start_time": "2023-03-21T17:46:10.066Z"
   },
   {
    "duration": 1211,
    "start_time": "2023-03-21T17:49:01.139Z"
   },
   {
    "duration": 10,
    "start_time": "2023-03-21T17:49:39.399Z"
   },
   {
    "duration": 242,
    "start_time": "2023-03-21T17:50:15.109Z"
   },
   {
    "duration": 2,
    "start_time": "2023-03-21T17:50:20.203Z"
   },
   {
    "duration": 245,
    "start_time": "2023-03-21T17:50:21.811Z"
   },
   {
    "duration": 2191,
    "start_time": "2023-03-21T17:50:53.240Z"
   },
   {
    "duration": 2252,
    "start_time": "2023-03-21T17:50:55.434Z"
   },
   {
    "duration": 1795,
    "start_time": "2023-03-21T17:50:57.688Z"
   },
   {
    "duration": 37,
    "start_time": "2023-03-21T17:50:59.486Z"
   },
   {
    "duration": 6,
    "start_time": "2023-03-21T17:50:59.524Z"
   },
   {
    "duration": 35,
    "start_time": "2023-03-21T17:50:59.531Z"
   },
   {
    "duration": 200,
    "start_time": "2023-03-21T17:50:59.568Z"
   },
   {
    "duration": 16,
    "start_time": "2023-03-21T17:50:59.770Z"
   },
   {
    "duration": 863,
    "start_time": "2023-03-21T17:50:59.787Z"
   },
   {
    "duration": 6,
    "start_time": "2023-03-21T17:51:00.652Z"
   },
   {
    "duration": 55,
    "start_time": "2023-03-21T17:51:00.659Z"
   },
   {
    "duration": 45,
    "start_time": "2023-03-21T17:51:00.716Z"
   },
   {
    "duration": 45,
    "start_time": "2023-03-21T17:51:00.763Z"
   },
   {
    "duration": 30,
    "start_time": "2023-03-21T17:51:00.810Z"
   },
   {
    "duration": 56,
    "start_time": "2023-03-21T17:51:00.842Z"
   },
   {
    "duration": 62,
    "start_time": "2023-03-21T17:51:00.900Z"
   },
   {
    "duration": 30,
    "start_time": "2023-03-21T17:51:00.963Z"
   },
   {
    "duration": 44,
    "start_time": "2023-03-21T17:51:00.995Z"
   },
   {
    "duration": 35,
    "start_time": "2023-03-21T17:51:01.041Z"
   },
   {
    "duration": 57,
    "start_time": "2023-03-21T17:51:01.078Z"
   },
   {
    "duration": 34,
    "start_time": "2023-03-21T17:51:01.137Z"
   },
   {
    "duration": 40,
    "start_time": "2023-03-21T17:51:01.173Z"
   },
   {
    "duration": 57,
    "start_time": "2023-03-21T17:51:01.214Z"
   },
   {
    "duration": 53,
    "start_time": "2023-03-21T17:51:01.273Z"
   },
   {
    "duration": 37,
    "start_time": "2023-03-21T17:51:01.328Z"
   },
   {
    "duration": 23,
    "start_time": "2023-03-21T17:51:01.367Z"
   },
   {
    "duration": 17,
    "start_time": "2023-03-21T17:51:01.391Z"
   },
   {
    "duration": 57,
    "start_time": "2023-03-21T17:51:01.410Z"
   },
   {
    "duration": 500,
    "start_time": "2023-03-21T17:51:01.470Z"
   },
   {
    "duration": 183,
    "start_time": "2023-03-21T17:52:00.578Z"
   },
   {
    "duration": 146,
    "start_time": "2023-03-21T17:55:09.588Z"
   },
   {
    "duration": 14,
    "start_time": "2023-03-21T17:56:29.221Z"
   },
   {
    "duration": 14,
    "start_time": "2023-03-21T17:56:49.193Z"
   },
   {
    "duration": 83,
    "start_time": "2023-03-21T17:56:59.614Z"
   },
   {
    "duration": 387,
    "start_time": "2023-03-21T17:57:15.063Z"
   },
   {
    "duration": 230,
    "start_time": "2023-03-21T17:59:52.824Z"
   },
   {
    "duration": 296,
    "start_time": "2023-03-21T18:00:43.644Z"
   },
   {
    "duration": 261,
    "start_time": "2023-03-21T18:02:40.587Z"
   },
   {
    "duration": 241,
    "start_time": "2023-03-21T18:02:47.503Z"
   },
   {
    "duration": 372,
    "start_time": "2023-03-21T18:02:56.270Z"
   },
   {
    "duration": 295,
    "start_time": "2023-03-21T18:03:14.145Z"
   },
   {
    "duration": 307,
    "start_time": "2023-03-21T18:08:28.939Z"
   },
   {
    "duration": 203,
    "start_time": "2023-03-21T18:08:45.955Z"
   },
   {
    "duration": 172,
    "start_time": "2023-03-21T18:09:01.986Z"
   },
   {
    "duration": 159,
    "start_time": "2023-03-21T18:09:07.188Z"
   },
   {
    "duration": 274,
    "start_time": "2023-03-21T18:09:11.466Z"
   },
   {
    "duration": 147,
    "start_time": "2023-03-21T18:09:29.803Z"
   },
   {
    "duration": 4,
    "start_time": "2023-03-21T18:11:34.786Z"
   },
   {
    "duration": 211,
    "start_time": "2023-03-21T18:12:29.950Z"
   },
   {
    "duration": 2079,
    "start_time": "2023-03-21T18:12:54.961Z"
   },
   {
    "duration": 1896,
    "start_time": "2023-03-21T18:12:57.042Z"
   },
   {
    "duration": 1777,
    "start_time": "2023-03-21T18:12:58.940Z"
   },
   {
    "duration": 39,
    "start_time": "2023-03-21T18:13:00.719Z"
   },
   {
    "duration": 5,
    "start_time": "2023-03-21T18:13:00.759Z"
   },
   {
    "duration": 57,
    "start_time": "2023-03-21T18:13:00.765Z"
   },
   {
    "duration": 183,
    "start_time": "2023-03-21T18:13:00.823Z"
   },
   {
    "duration": 10,
    "start_time": "2023-03-21T18:13:01.007Z"
   },
   {
    "duration": 842,
    "start_time": "2023-03-21T18:13:01.019Z"
   },
   {
    "duration": 3,
    "start_time": "2023-03-21T18:13:01.863Z"
   },
   {
    "duration": 59,
    "start_time": "2023-03-21T18:13:01.867Z"
   },
   {
    "duration": 24,
    "start_time": "2023-03-21T18:13:01.928Z"
   },
   {
    "duration": 20,
    "start_time": "2023-03-21T18:13:01.953Z"
   },
   {
    "duration": 24,
    "start_time": "2023-03-21T18:13:01.974Z"
   },
   {
    "duration": 34,
    "start_time": "2023-03-21T18:13:02.000Z"
   },
   {
    "duration": 17,
    "start_time": "2023-03-21T18:13:02.035Z"
   },
   {
    "duration": 32,
    "start_time": "2023-03-21T18:13:02.054Z"
   },
   {
    "duration": 29,
    "start_time": "2023-03-21T18:13:02.088Z"
   },
   {
    "duration": 25,
    "start_time": "2023-03-21T18:13:02.118Z"
   },
   {
    "duration": 26,
    "start_time": "2023-03-21T18:13:02.145Z"
   },
   {
    "duration": 26,
    "start_time": "2023-03-21T18:13:02.173Z"
   },
   {
    "duration": 28,
    "start_time": "2023-03-21T18:13:02.200Z"
   },
   {
    "duration": 42,
    "start_time": "2023-03-21T18:13:02.230Z"
   },
   {
    "duration": 16,
    "start_time": "2023-03-21T18:13:02.273Z"
   },
   {
    "duration": 27,
    "start_time": "2023-03-21T18:13:02.291Z"
   },
   {
    "duration": 20,
    "start_time": "2023-03-21T18:13:02.320Z"
   },
   {
    "duration": 23,
    "start_time": "2023-03-21T18:13:02.342Z"
   },
   {
    "duration": 18,
    "start_time": "2023-03-21T18:13:02.368Z"
   },
   {
    "duration": 264,
    "start_time": "2023-03-21T18:13:02.388Z"
   },
   {
    "duration": 296,
    "start_time": "2023-03-21T18:13:02.654Z"
   },
   {
    "duration": 138,
    "start_time": "2023-03-21T18:15:44.011Z"
   },
   {
    "duration": 6,
    "start_time": "2023-03-21T18:16:08.332Z"
   },
   {
    "duration": 5,
    "start_time": "2023-03-21T18:16:29.098Z"
   },
   {
    "duration": 6,
    "start_time": "2023-03-21T18:17:12.912Z"
   },
   {
    "duration": 5,
    "start_time": "2023-03-21T18:17:29.363Z"
   },
   {
    "duration": 11,
    "start_time": "2023-03-21T18:21:36.751Z"
   },
   {
    "duration": 311,
    "start_time": "2023-03-21T18:26:50.738Z"
   },
   {
    "duration": 319,
    "start_time": "2023-03-21T18:27:00.331Z"
   },
   {
    "duration": 6,
    "start_time": "2023-03-21T18:27:04.001Z"
   },
   {
    "duration": 6,
    "start_time": "2023-03-21T18:27:10.219Z"
   },
   {
    "duration": 156,
    "start_time": "2023-03-21T18:27:43.385Z"
   },
   {
    "duration": 15,
    "start_time": "2023-03-21T18:27:55.492Z"
   },
   {
    "duration": 231,
    "start_time": "2023-03-21T18:28:04.827Z"
   },
   {
    "duration": 263,
    "start_time": "2023-03-21T18:28:35.379Z"
   },
   {
    "duration": 6,
    "start_time": "2023-03-21T18:28:37.994Z"
   },
   {
    "duration": 161,
    "start_time": "2023-03-21T18:40:26.679Z"
   },
   {
    "duration": 5,
    "start_time": "2023-03-21T18:40:30.153Z"
   },
   {
    "duration": 358,
    "start_time": "2023-03-21T18:40:45.295Z"
   },
   {
    "duration": 9,
    "start_time": "2023-03-21T18:42:24.069Z"
   },
   {
    "duration": 4,
    "start_time": "2023-03-21T18:42:38.566Z"
   },
   {
    "duration": 474,
    "start_time": "2023-03-21T18:50:39.379Z"
   },
   {
    "duration": 1232,
    "start_time": "2023-03-21T18:50:51.627Z"
   },
   {
    "duration": 135,
    "start_time": "2023-03-21T18:51:04.025Z"
   },
   {
    "duration": 16,
    "start_time": "2023-03-21T18:52:53.253Z"
   },
   {
    "duration": 6,
    "start_time": "2023-03-21T18:57:46.921Z"
   },
   {
    "duration": 9,
    "start_time": "2023-03-21T18:57:56.055Z"
   },
   {
    "duration": 10,
    "start_time": "2023-03-21T18:58:01.665Z"
   },
   {
    "duration": 11,
    "start_time": "2023-03-21T18:58:06.695Z"
   },
   {
    "duration": 6,
    "start_time": "2023-03-21T18:58:23.585Z"
   },
   {
    "duration": 331,
    "start_time": "2023-03-21T19:00:15.811Z"
   },
   {
    "duration": 346,
    "start_time": "2023-03-21T19:00:23.695Z"
   },
   {
    "duration": 339,
    "start_time": "2023-03-21T19:01:54.706Z"
   },
   {
    "duration": 7,
    "start_time": "2023-03-21T19:02:05.705Z"
   },
   {
    "duration": 269,
    "start_time": "2023-03-21T19:02:13.286Z"
   },
   {
    "duration": 7,
    "start_time": "2023-03-21T19:02:16.252Z"
   },
   {
    "duration": 2001,
    "start_time": "2023-03-21T19:03:42.608Z"
   },
   {
    "duration": 2013,
    "start_time": "2023-03-21T19:03:44.611Z"
   },
   {
    "duration": 1834,
    "start_time": "2023-03-21T19:03:46.626Z"
   },
   {
    "duration": 36,
    "start_time": "2023-03-21T19:03:48.462Z"
   },
   {
    "duration": 5,
    "start_time": "2023-03-21T19:03:48.500Z"
   },
   {
    "duration": 29,
    "start_time": "2023-03-21T19:03:48.506Z"
   },
   {
    "duration": 187,
    "start_time": "2023-03-21T19:03:48.536Z"
   },
   {
    "duration": 9,
    "start_time": "2023-03-21T19:03:48.724Z"
   },
   {
    "duration": 827,
    "start_time": "2023-03-21T19:03:48.740Z"
   },
   {
    "duration": 3,
    "start_time": "2023-03-21T19:03:49.570Z"
   },
   {
    "duration": 4,
    "start_time": "2023-03-21T19:03:49.574Z"
   },
   {
    "duration": 6,
    "start_time": "2023-03-21T19:03:49.579Z"
   },
   {
    "duration": 3,
    "start_time": "2023-03-21T19:03:49.586Z"
   },
   {
    "duration": 6,
    "start_time": "2023-03-21T19:03:49.591Z"
   },
   {
    "duration": 6,
    "start_time": "2023-03-21T19:03:49.598Z"
   },
   {
    "duration": 5,
    "start_time": "2023-03-21T19:03:49.605Z"
   },
   {
    "duration": 32,
    "start_time": "2023-03-21T19:03:49.612Z"
   },
   {
    "duration": 12,
    "start_time": "2023-03-21T19:03:49.645Z"
   },
   {
    "duration": 5,
    "start_time": "2023-03-21T19:03:49.659Z"
   },
   {
    "duration": 6,
    "start_time": "2023-03-21T19:03:49.665Z"
   },
   {
    "duration": 4,
    "start_time": "2023-03-21T19:03:49.672Z"
   },
   {
    "duration": 6,
    "start_time": "2023-03-21T19:03:49.677Z"
   },
   {
    "duration": 7,
    "start_time": "2023-03-21T19:03:49.684Z"
   },
   {
    "duration": 49,
    "start_time": "2023-03-21T19:03:49.692Z"
   },
   {
    "duration": 16,
    "start_time": "2023-03-21T19:03:49.742Z"
   },
   {
    "duration": 11,
    "start_time": "2023-03-21T19:03:49.759Z"
   },
   {
    "duration": 4,
    "start_time": "2023-03-21T19:03:49.771Z"
   },
   {
    "duration": 2,
    "start_time": "2023-03-21T19:03:49.778Z"
   },
   {
    "duration": 562,
    "start_time": "2023-03-21T19:03:49.782Z"
   },
   {
    "duration": 22,
    "start_time": "2023-03-21T19:03:50.346Z"
   },
   {
    "duration": 496,
    "start_time": "2023-03-21T19:03:50.370Z"
   },
   {
    "duration": 4,
    "start_time": "2023-03-21T19:07:03.981Z"
   },
   {
    "duration": 5,
    "start_time": "2023-03-21T19:07:13.526Z"
   },
   {
    "duration": 8,
    "start_time": "2023-03-21T19:07:23.011Z"
   },
   {
    "duration": 230,
    "start_time": "2023-03-21T19:14:12.427Z"
   },
   {
    "duration": 2198,
    "start_time": "2023-03-21T19:18:18.061Z"
   },
   {
    "duration": 2191,
    "start_time": "2023-03-21T19:18:20.261Z"
   },
   {
    "duration": 1883,
    "start_time": "2023-03-21T19:18:22.454Z"
   },
   {
    "duration": 39,
    "start_time": "2023-03-21T19:18:24.340Z"
   },
   {
    "duration": 5,
    "start_time": "2023-03-21T19:18:24.381Z"
   },
   {
    "duration": 23,
    "start_time": "2023-03-21T19:18:24.388Z"
   },
   {
    "duration": 217,
    "start_time": "2023-03-21T19:18:24.413Z"
   },
   {
    "duration": 18,
    "start_time": "2023-03-21T19:18:24.631Z"
   },
   {
    "duration": 815,
    "start_time": "2023-03-21T19:18:24.651Z"
   },
   {
    "duration": 4,
    "start_time": "2023-03-21T19:18:25.470Z"
   },
   {
    "duration": 7,
    "start_time": "2023-03-21T19:18:25.475Z"
   },
   {
    "duration": 6,
    "start_time": "2023-03-21T19:18:25.485Z"
   },
   {
    "duration": 5,
    "start_time": "2023-03-21T19:18:25.493Z"
   },
   {
    "duration": 8,
    "start_time": "2023-03-21T19:18:25.500Z"
   },
   {
    "duration": 6,
    "start_time": "2023-03-21T19:18:25.540Z"
   },
   {
    "duration": 7,
    "start_time": "2023-03-21T19:18:25.548Z"
   },
   {
    "duration": 6,
    "start_time": "2023-03-21T19:18:25.556Z"
   },
   {
    "duration": 13,
    "start_time": "2023-03-21T19:18:25.564Z"
   },
   {
    "duration": 6,
    "start_time": "2023-03-21T19:18:25.579Z"
   },
   {
    "duration": 6,
    "start_time": "2023-03-21T19:18:25.586Z"
   },
   {
    "duration": 8,
    "start_time": "2023-03-21T19:18:25.594Z"
   },
   {
    "duration": 38,
    "start_time": "2023-03-21T19:18:25.604Z"
   },
   {
    "duration": 10,
    "start_time": "2023-03-21T19:18:25.644Z"
   },
   {
    "duration": 15,
    "start_time": "2023-03-21T19:18:25.656Z"
   },
   {
    "duration": 12,
    "start_time": "2023-03-21T19:18:25.673Z"
   },
   {
    "duration": 11,
    "start_time": "2023-03-21T19:18:25.687Z"
   },
   {
    "duration": 39,
    "start_time": "2023-03-21T19:18:25.701Z"
   },
   {
    "duration": 2,
    "start_time": "2023-03-21T19:18:25.744Z"
   },
   {
    "duration": 400,
    "start_time": "2023-03-21T19:18:25.748Z"
   },
   {
    "duration": 6,
    "start_time": "2023-03-21T19:18:51.549Z"
   },
   {
    "duration": 6,
    "start_time": "2023-03-21T19:19:00.137Z"
   },
   {
    "duration": 73,
    "start_time": "2023-03-21T19:24:38.003Z"
   },
   {
    "duration": 157,
    "start_time": "2023-03-21T19:26:59.582Z"
   },
   {
    "duration": 14,
    "start_time": "2023-03-21T19:27:15.910Z"
   },
   {
    "duration": 311,
    "start_time": "2023-03-21T19:27:31.033Z"
   },
   {
    "duration": 5,
    "start_time": "2023-03-21T19:27:35.117Z"
   },
   {
    "duration": 1992,
    "start_time": "2023-03-21T19:27:47.203Z"
   },
   {
    "duration": 1868,
    "start_time": "2023-03-21T19:27:49.198Z"
   },
   {
    "duration": 1680,
    "start_time": "2023-03-21T19:27:51.068Z"
   },
   {
    "duration": 37,
    "start_time": "2023-03-21T19:27:52.750Z"
   },
   {
    "duration": 5,
    "start_time": "2023-03-21T19:27:52.788Z"
   },
   {
    "duration": 30,
    "start_time": "2023-03-21T19:27:52.795Z"
   },
   {
    "duration": 164,
    "start_time": "2023-03-21T19:27:52.826Z"
   },
   {
    "duration": 10,
    "start_time": "2023-03-21T19:27:52.991Z"
   },
   {
    "duration": 784,
    "start_time": "2023-03-21T19:27:53.002Z"
   },
   {
    "duration": 3,
    "start_time": "2023-03-21T19:27:53.788Z"
   },
   {
    "duration": 11,
    "start_time": "2023-03-21T19:27:53.792Z"
   },
   {
    "duration": 5,
    "start_time": "2023-03-21T19:27:53.805Z"
   },
   {
    "duration": 3,
    "start_time": "2023-03-21T19:27:53.811Z"
   },
   {
    "duration": 5,
    "start_time": "2023-03-21T19:27:53.816Z"
   },
   {
    "duration": 17,
    "start_time": "2023-03-21T19:27:53.823Z"
   },
   {
    "duration": 5,
    "start_time": "2023-03-21T19:27:53.842Z"
   },
   {
    "duration": 6,
    "start_time": "2023-03-21T19:27:53.848Z"
   },
   {
    "duration": 10,
    "start_time": "2023-03-21T19:27:53.855Z"
   },
   {
    "duration": 4,
    "start_time": "2023-03-21T19:27:53.866Z"
   },
   {
    "duration": 7,
    "start_time": "2023-03-21T19:27:53.871Z"
   },
   {
    "duration": 6,
    "start_time": "2023-03-21T19:27:53.879Z"
   },
   {
    "duration": 4,
    "start_time": "2023-03-21T19:27:53.887Z"
   },
   {
    "duration": 8,
    "start_time": "2023-03-21T19:27:53.893Z"
   },
   {
    "duration": 40,
    "start_time": "2023-03-21T19:27:53.902Z"
   },
   {
    "duration": 13,
    "start_time": "2023-03-21T19:27:53.943Z"
   },
   {
    "duration": 11,
    "start_time": "2023-03-21T19:27:53.958Z"
   },
   {
    "duration": 4,
    "start_time": "2023-03-21T19:27:53.971Z"
   },
   {
    "duration": 2,
    "start_time": "2023-03-21T19:27:53.978Z"
   },
   {
    "duration": 361,
    "start_time": "2023-03-21T19:27:53.982Z"
   },
   {
    "duration": 5,
    "start_time": "2023-03-21T19:27:54.345Z"
   },
   {
    "duration": 5,
    "start_time": "2023-03-21T19:33:29.504Z"
   },
   {
    "duration": 4,
    "start_time": "2023-03-21T19:33:33.231Z"
   },
   {
    "duration": 146,
    "start_time": "2023-03-21T19:33:37.047Z"
   },
   {
    "duration": 6,
    "start_time": "2023-03-21T19:33:41.296Z"
   },
   {
    "duration": 8,
    "start_time": "2023-03-21T19:38:51.283Z"
   },
   {
    "duration": 164,
    "start_time": "2023-03-21T19:40:57.380Z"
   },
   {
    "duration": 8,
    "start_time": "2023-03-21T19:41:00.792Z"
   },
   {
    "duration": 281,
    "start_time": "2023-03-21T19:41:11.163Z"
   },
   {
    "duration": 8,
    "start_time": "2023-03-21T19:41:14.153Z"
   },
   {
    "duration": 2050,
    "start_time": "2023-03-21T19:41:45.549Z"
   },
   {
    "duration": 1875,
    "start_time": "2023-03-21T19:41:47.601Z"
   },
   {
    "duration": 1658,
    "start_time": "2023-03-21T19:41:49.477Z"
   },
   {
    "duration": 47,
    "start_time": "2023-03-21T19:41:51.136Z"
   },
   {
    "duration": 5,
    "start_time": "2023-03-21T19:41:51.185Z"
   },
   {
    "duration": 25,
    "start_time": "2023-03-21T19:41:51.192Z"
   },
   {
    "duration": 167,
    "start_time": "2023-03-21T19:41:51.219Z"
   },
   {
    "duration": 10,
    "start_time": "2023-03-21T19:41:51.388Z"
   },
   {
    "duration": 794,
    "start_time": "2023-03-21T19:41:51.399Z"
   },
   {
    "duration": 3,
    "start_time": "2023-03-21T19:41:52.194Z"
   },
   {
    "duration": 4,
    "start_time": "2023-03-21T19:41:52.199Z"
   },
   {
    "duration": 5,
    "start_time": "2023-03-21T19:41:52.204Z"
   },
   {
    "duration": 3,
    "start_time": "2023-03-21T19:41:52.210Z"
   },
   {
    "duration": 24,
    "start_time": "2023-03-21T19:41:52.216Z"
   },
   {
    "duration": 4,
    "start_time": "2023-03-21T19:41:52.241Z"
   },
   {
    "duration": 6,
    "start_time": "2023-03-21T19:41:52.246Z"
   },
   {
    "duration": 5,
    "start_time": "2023-03-21T19:41:52.254Z"
   },
   {
    "duration": 12,
    "start_time": "2023-03-21T19:41:52.260Z"
   },
   {
    "duration": 5,
    "start_time": "2023-03-21T19:41:52.273Z"
   },
   {
    "duration": 16,
    "start_time": "2023-03-21T19:41:52.279Z"
   },
   {
    "duration": 4,
    "start_time": "2023-03-21T19:41:52.297Z"
   },
   {
    "duration": 6,
    "start_time": "2023-03-21T19:41:52.302Z"
   },
   {
    "duration": 37,
    "start_time": "2023-03-21T19:41:52.309Z"
   },
   {
    "duration": 15,
    "start_time": "2023-03-21T19:41:52.348Z"
   },
   {
    "duration": 12,
    "start_time": "2023-03-21T19:41:52.364Z"
   },
   {
    "duration": 3,
    "start_time": "2023-03-21T19:41:52.377Z"
   },
   {
    "duration": 3,
    "start_time": "2023-03-21T19:41:52.381Z"
   },
   {
    "duration": 358,
    "start_time": "2023-03-21T19:41:52.386Z"
   },
   {
    "duration": 7,
    "start_time": "2023-03-21T19:41:52.746Z"
   },
   {
    "duration": 2006,
    "start_time": "2023-03-21T19:42:08.213Z"
   },
   {
    "duration": 1920,
    "start_time": "2023-03-21T19:42:10.221Z"
   },
   {
    "duration": 1723,
    "start_time": "2023-03-21T19:42:12.143Z"
   },
   {
    "duration": 37,
    "start_time": "2023-03-21T19:42:13.867Z"
   },
   {
    "duration": 5,
    "start_time": "2023-03-21T19:42:13.907Z"
   },
   {
    "duration": 31,
    "start_time": "2023-03-21T19:42:13.914Z"
   },
   {
    "duration": 172,
    "start_time": "2023-03-21T19:42:13.947Z"
   },
   {
    "duration": 9,
    "start_time": "2023-03-21T19:42:14.120Z"
   },
   {
    "duration": 810,
    "start_time": "2023-03-21T19:42:14.140Z"
   },
   {
    "duration": 3,
    "start_time": "2023-03-21T19:42:14.952Z"
   },
   {
    "duration": 4,
    "start_time": "2023-03-21T19:42:14.956Z"
   },
   {
    "duration": 4,
    "start_time": "2023-03-21T19:42:14.961Z"
   },
   {
    "duration": 4,
    "start_time": "2023-03-21T19:42:14.966Z"
   },
   {
    "duration": 7,
    "start_time": "2023-03-21T19:42:14.972Z"
   },
   {
    "duration": 12,
    "start_time": "2023-03-21T19:42:14.981Z"
   },
   {
    "duration": 23,
    "start_time": "2023-03-21T19:42:14.994Z"
   },
   {
    "duration": 11,
    "start_time": "2023-03-21T19:42:15.019Z"
   },
   {
    "duration": 21,
    "start_time": "2023-03-21T19:42:15.032Z"
   },
   {
    "duration": 5,
    "start_time": "2023-03-21T19:42:15.054Z"
   },
   {
    "duration": 7,
    "start_time": "2023-03-21T19:42:15.060Z"
   },
   {
    "duration": 4,
    "start_time": "2023-03-21T19:42:15.068Z"
   },
   {
    "duration": 5,
    "start_time": "2023-03-21T19:42:15.073Z"
   },
   {
    "duration": 6,
    "start_time": "2023-03-21T19:42:15.080Z"
   },
   {
    "duration": 12,
    "start_time": "2023-03-21T19:42:15.088Z"
   },
   {
    "duration": 44,
    "start_time": "2023-03-21T19:42:15.102Z"
   },
   {
    "duration": 11,
    "start_time": "2023-03-21T19:42:15.148Z"
   },
   {
    "duration": 4,
    "start_time": "2023-03-21T19:42:15.160Z"
   },
   {
    "duration": 3,
    "start_time": "2023-03-21T19:42:15.165Z"
   },
   {
    "duration": 291,
    "start_time": "2023-03-21T19:42:15.169Z"
   },
   {
    "duration": 84,
    "start_time": "2023-03-21T19:42:15.461Z"
   },
   {
    "duration": 5,
    "start_time": "2023-03-21T19:42:41.262Z"
   },
   {
    "duration": 7,
    "start_time": "2023-03-21T19:42:58.633Z"
   },
   {
    "duration": 2141,
    "start_time": "2023-03-21T19:43:25.758Z"
   },
   {
    "duration": 1934,
    "start_time": "2023-03-21T19:43:27.902Z"
   },
   {
    "duration": 1765,
    "start_time": "2023-03-21T19:43:29.837Z"
   },
   {
    "duration": 40,
    "start_time": "2023-03-21T19:43:31.604Z"
   },
   {
    "duration": 5,
    "start_time": "2023-03-21T19:43:31.647Z"
   },
   {
    "duration": 39,
    "start_time": "2023-03-21T19:43:31.654Z"
   },
   {
    "duration": 166,
    "start_time": "2023-03-21T19:43:31.694Z"
   },
   {
    "duration": 10,
    "start_time": "2023-03-21T19:43:31.861Z"
   },
   {
    "duration": 783,
    "start_time": "2023-03-21T19:43:31.872Z"
   },
   {
    "duration": 3,
    "start_time": "2023-03-21T19:43:32.658Z"
   },
   {
    "duration": 9,
    "start_time": "2023-03-21T19:43:32.663Z"
   },
   {
    "duration": 6,
    "start_time": "2023-03-21T19:43:32.673Z"
   },
   {
    "duration": 4,
    "start_time": "2023-03-21T19:43:32.680Z"
   },
   {
    "duration": 6,
    "start_time": "2023-03-21T19:43:32.686Z"
   },
   {
    "duration": 6,
    "start_time": "2023-03-21T19:43:32.693Z"
   },
   {
    "duration": 6,
    "start_time": "2023-03-21T19:43:32.701Z"
   },
   {
    "duration": 32,
    "start_time": "2023-03-21T19:43:32.708Z"
   },
   {
    "duration": 12,
    "start_time": "2023-03-21T19:43:32.742Z"
   },
   {
    "duration": 4,
    "start_time": "2023-03-21T19:43:32.755Z"
   },
   {
    "duration": 9,
    "start_time": "2023-03-21T19:43:32.761Z"
   },
   {
    "duration": 3,
    "start_time": "2023-03-21T19:43:32.772Z"
   },
   {
    "duration": 8,
    "start_time": "2023-03-21T19:43:32.776Z"
   },
   {
    "duration": 5,
    "start_time": "2023-03-21T19:43:32.786Z"
   },
   {
    "duration": 21,
    "start_time": "2023-03-21T19:43:32.792Z"
   },
   {
    "duration": 33,
    "start_time": "2023-03-21T19:43:32.814Z"
   },
   {
    "duration": 5,
    "start_time": "2023-03-21T19:43:32.848Z"
   },
   {
    "duration": 4,
    "start_time": "2023-03-21T19:43:32.855Z"
   },
   {
    "duration": 294,
    "start_time": "2023-03-21T19:43:32.862Z"
   },
   {
    "duration": 86,
    "start_time": "2023-03-21T19:43:33.157Z"
   },
   {
    "duration": 8,
    "start_time": "2023-03-21T19:43:33.245Z"
   },
   {
    "duration": 1995,
    "start_time": "2023-03-21T19:43:51.315Z"
   },
   {
    "duration": 1859,
    "start_time": "2023-03-21T19:43:53.312Z"
   },
   {
    "duration": 1707,
    "start_time": "2023-03-21T19:43:55.173Z"
   },
   {
    "duration": 37,
    "start_time": "2023-03-21T19:43:56.883Z"
   },
   {
    "duration": 5,
    "start_time": "2023-03-21T19:43:56.921Z"
   },
   {
    "duration": 23,
    "start_time": "2023-03-21T19:43:56.928Z"
   },
   {
    "duration": 179,
    "start_time": "2023-03-21T19:43:56.952Z"
   },
   {
    "duration": 14,
    "start_time": "2023-03-21T19:43:57.133Z"
   },
   {
    "duration": 800,
    "start_time": "2023-03-21T19:43:57.148Z"
   },
   {
    "duration": 5,
    "start_time": "2023-03-21T19:43:57.950Z"
   },
   {
    "duration": 5,
    "start_time": "2023-03-21T19:43:57.956Z"
   },
   {
    "duration": 5,
    "start_time": "2023-03-21T19:43:57.962Z"
   },
   {
    "duration": 4,
    "start_time": "2023-03-21T19:43:57.968Z"
   },
   {
    "duration": 6,
    "start_time": "2023-03-21T19:43:57.973Z"
   },
   {
    "duration": 6,
    "start_time": "2023-03-21T19:43:57.980Z"
   },
   {
    "duration": 10,
    "start_time": "2023-03-21T19:43:57.987Z"
   },
   {
    "duration": 6,
    "start_time": "2023-03-21T19:43:57.999Z"
   },
   {
    "duration": 41,
    "start_time": "2023-03-21T19:43:58.006Z"
   },
   {
    "duration": 4,
    "start_time": "2023-03-21T19:43:58.049Z"
   },
   {
    "duration": 5,
    "start_time": "2023-03-21T19:43:58.055Z"
   },
   {
    "duration": 4,
    "start_time": "2023-03-21T19:43:58.061Z"
   },
   {
    "duration": 6,
    "start_time": "2023-03-21T19:43:58.066Z"
   },
   {
    "duration": 7,
    "start_time": "2023-03-21T19:43:58.073Z"
   },
   {
    "duration": 14,
    "start_time": "2023-03-21T19:43:58.081Z"
   },
   {
    "duration": 11,
    "start_time": "2023-03-21T19:43:58.096Z"
   },
   {
    "duration": 40,
    "start_time": "2023-03-21T19:43:58.108Z"
   },
   {
    "duration": 4,
    "start_time": "2023-03-21T19:43:58.150Z"
   },
   {
    "duration": 3,
    "start_time": "2023-03-21T19:43:58.156Z"
   },
   {
    "duration": 296,
    "start_time": "2023-03-21T19:43:58.160Z"
   },
   {
    "duration": 6,
    "start_time": "2023-03-21T19:43:58.540Z"
   },
   {
    "duration": 9,
    "start_time": "2023-03-21T19:43:58.547Z"
   },
   {
    "duration": 252,
    "start_time": "2023-03-21T19:44:17.896Z"
   },
   {
    "duration": 8,
    "start_time": "2023-03-21T19:44:23.452Z"
   },
   {
    "duration": 294,
    "start_time": "2023-03-21T19:44:45.249Z"
   },
   {
    "duration": 8,
    "start_time": "2023-03-21T19:44:48.879Z"
   },
   {
    "duration": 2055,
    "start_time": "2023-03-21T19:46:05.681Z"
   },
   {
    "duration": 1909,
    "start_time": "2023-03-21T19:46:07.739Z"
   },
   {
    "duration": 1708,
    "start_time": "2023-03-21T19:46:09.650Z"
   },
   {
    "duration": 36,
    "start_time": "2023-03-21T19:46:11.360Z"
   },
   {
    "duration": 5,
    "start_time": "2023-03-21T19:46:11.397Z"
   },
   {
    "duration": 26,
    "start_time": "2023-03-21T19:46:11.403Z"
   },
   {
    "duration": 159,
    "start_time": "2023-03-21T19:46:11.430Z"
   },
   {
    "duration": 9,
    "start_time": "2023-03-21T19:46:11.591Z"
   },
   {
    "duration": 789,
    "start_time": "2023-03-21T19:46:11.601Z"
   },
   {
    "duration": 4,
    "start_time": "2023-03-21T19:46:12.392Z"
   },
   {
    "duration": 9,
    "start_time": "2023-03-21T19:46:12.397Z"
   },
   {
    "duration": 24,
    "start_time": "2023-03-21T19:46:12.408Z"
   },
   {
    "duration": 3,
    "start_time": "2023-03-21T19:46:12.434Z"
   },
   {
    "duration": 6,
    "start_time": "2023-03-21T19:46:12.438Z"
   },
   {
    "duration": 6,
    "start_time": "2023-03-21T19:46:12.445Z"
   },
   {
    "duration": 5,
    "start_time": "2023-03-21T19:46:12.452Z"
   },
   {
    "duration": 4,
    "start_time": "2023-03-21T19:46:12.459Z"
   },
   {
    "duration": 11,
    "start_time": "2023-03-21T19:46:12.464Z"
   },
   {
    "duration": 4,
    "start_time": "2023-03-21T19:46:12.477Z"
   },
   {
    "duration": 6,
    "start_time": "2023-03-21T19:46:12.482Z"
   },
   {
    "duration": 5,
    "start_time": "2023-03-21T19:46:12.489Z"
   },
   {
    "duration": 6,
    "start_time": "2023-03-21T19:46:12.496Z"
   },
   {
    "duration": 39,
    "start_time": "2023-03-21T19:46:12.503Z"
   },
   {
    "duration": 11,
    "start_time": "2023-03-21T19:46:12.544Z"
   },
   {
    "duration": 154,
    "start_time": "2023-03-21T19:46:12.557Z"
   },
   {
    "duration": 0,
    "start_time": "2023-03-21T19:46:12.712Z"
   },
   {
    "duration": 0,
    "start_time": "2023-03-21T19:46:12.713Z"
   },
   {
    "duration": 0,
    "start_time": "2023-03-21T19:46:12.714Z"
   },
   {
    "duration": 0,
    "start_time": "2023-03-21T19:46:12.715Z"
   },
   {
    "duration": 2044,
    "start_time": "2023-03-21T19:46:42.804Z"
   },
   {
    "duration": 2094,
    "start_time": "2023-03-21T19:46:44.850Z"
   },
   {
    "duration": 1833,
    "start_time": "2023-03-21T19:46:46.946Z"
   },
   {
    "duration": 36,
    "start_time": "2023-03-21T19:46:48.781Z"
   },
   {
    "duration": 5,
    "start_time": "2023-03-21T19:46:48.818Z"
   },
   {
    "duration": 23,
    "start_time": "2023-03-21T19:46:48.825Z"
   },
   {
    "duration": 168,
    "start_time": "2023-03-21T19:46:48.849Z"
   },
   {
    "duration": 9,
    "start_time": "2023-03-21T19:46:49.018Z"
   },
   {
    "duration": 838,
    "start_time": "2023-03-21T19:46:49.028Z"
   },
   {
    "duration": 3,
    "start_time": "2023-03-21T19:46:49.869Z"
   },
   {
    "duration": 3,
    "start_time": "2023-03-21T19:46:49.874Z"
   },
   {
    "duration": 5,
    "start_time": "2023-03-21T19:46:49.879Z"
   },
   {
    "duration": 4,
    "start_time": "2023-03-21T19:46:49.885Z"
   },
   {
    "duration": 6,
    "start_time": "2023-03-21T19:46:49.890Z"
   },
   {
    "duration": 9,
    "start_time": "2023-03-21T19:46:49.897Z"
   },
   {
    "duration": 36,
    "start_time": "2023-03-21T19:46:49.907Z"
   },
   {
    "duration": 6,
    "start_time": "2023-03-21T19:46:49.945Z"
   },
   {
    "duration": 15,
    "start_time": "2023-03-21T19:46:49.953Z"
   },
   {
    "duration": 5,
    "start_time": "2023-03-21T19:46:49.970Z"
   },
   {
    "duration": 9,
    "start_time": "2023-03-21T19:46:49.976Z"
   },
   {
    "duration": 9,
    "start_time": "2023-03-21T19:46:49.986Z"
   },
   {
    "duration": 6,
    "start_time": "2023-03-21T19:46:49.996Z"
   },
   {
    "duration": 8,
    "start_time": "2023-03-21T19:46:50.003Z"
   },
   {
    "duration": 29,
    "start_time": "2023-03-21T19:46:50.013Z"
   },
   {
    "duration": 15,
    "start_time": "2023-03-21T19:46:50.044Z"
   },
   {
    "duration": 12,
    "start_time": "2023-03-21T19:46:50.060Z"
   },
   {
    "duration": 4,
    "start_time": "2023-03-21T19:46:50.074Z"
   },
   {
    "duration": 5,
    "start_time": "2023-03-21T19:46:50.080Z"
   },
   {
    "duration": 459,
    "start_time": "2023-03-21T19:46:50.086Z"
   },
   {
    "duration": 6,
    "start_time": "2023-03-21T19:46:50.547Z"
   },
   {
    "duration": 9,
    "start_time": "2023-03-21T19:46:50.555Z"
   },
   {
    "duration": 4,
    "start_time": "2023-03-21T19:47:31.778Z"
   },
   {
    "duration": 5,
    "start_time": "2023-03-21T19:53:13.000Z"
   },
   {
    "duration": 3,
    "start_time": "2023-03-21T19:56:13.828Z"
   },
   {
    "duration": 3,
    "start_time": "2023-03-21T19:56:24.196Z"
   },
   {
    "duration": 7,
    "start_time": "2023-03-21T19:56:27.079Z"
   },
   {
    "duration": 3,
    "start_time": "2023-03-21T19:56:34.468Z"
   },
   {
    "duration": 168,
    "start_time": "2023-03-21T19:56:37.449Z"
   },
   {
    "duration": 6,
    "start_time": "2023-03-21T19:56:56.929Z"
   },
   {
    "duration": 3,
    "start_time": "2023-03-21T19:57:00.706Z"
   },
   {
    "duration": 28,
    "start_time": "2023-03-21T19:57:02.454Z"
   },
   {
    "duration": 6,
    "start_time": "2023-03-21T19:57:15.653Z"
   },
   {
    "duration": 4,
    "start_time": "2023-03-21T19:57:18.950Z"
   },
   {
    "duration": 722,
    "start_time": "2023-03-21T19:57:20.738Z"
   },
   {
    "duration": 8,
    "start_time": "2023-03-21T19:57:35.713Z"
   },
   {
    "duration": 3,
    "start_time": "2023-03-21T19:58:02.723Z"
   },
   {
    "duration": 3,
    "start_time": "2023-03-21T19:58:04.487Z"
   },
   {
    "duration": 7,
    "start_time": "2023-03-21T19:58:07.903Z"
   },
   {
    "duration": 5,
    "start_time": "2023-03-21T19:58:10.782Z"
   },
   {
    "duration": 773,
    "start_time": "2023-03-21T19:58:11.524Z"
   },
   {
    "duration": 11,
    "start_time": "2023-03-21T19:58:16.322Z"
   },
   {
    "duration": 268,
    "start_time": "2023-03-21T20:01:24.285Z"
   },
   {
    "duration": 8,
    "start_time": "2023-03-21T20:01:30.698Z"
   },
   {
    "duration": 261,
    "start_time": "2023-03-21T20:01:42.879Z"
   },
   {
    "duration": 4,
    "start_time": "2023-03-21T20:01:46.689Z"
   },
   {
    "duration": 8,
    "start_time": "2023-03-21T20:01:48.658Z"
   },
   {
    "duration": 290,
    "start_time": "2023-03-21T20:03:46.359Z"
   },
   {
    "duration": 9,
    "start_time": "2023-03-21T20:03:50.617Z"
   },
   {
    "duration": 285,
    "start_time": "2023-03-21T20:04:49.958Z"
   },
   {
    "duration": 9,
    "start_time": "2023-03-21T20:04:53.690Z"
   },
   {
    "duration": 314,
    "start_time": "2023-03-21T20:05:08.626Z"
   },
   {
    "duration": 10,
    "start_time": "2023-03-21T20:05:12.875Z"
   },
   {
    "duration": 293,
    "start_time": "2023-03-21T20:05:32.163Z"
   },
   {
    "duration": 7,
    "start_time": "2023-03-21T20:05:35.485Z"
   },
   {
    "duration": 4,
    "start_time": "2023-03-21T20:15:17.555Z"
   },
   {
    "duration": 21,
    "start_time": "2023-03-21T20:15:19.030Z"
   },
   {
    "duration": 3,
    "start_time": "2023-03-21T20:15:32.221Z"
   },
   {
    "duration": 232,
    "start_time": "2023-03-21T20:15:34.027Z"
   },
   {
    "duration": 8,
    "start_time": "2023-03-21T20:15:39.453Z"
   },
   {
    "duration": 3,
    "start_time": "2023-03-21T20:15:48.834Z"
   },
   {
    "duration": 352,
    "start_time": "2023-03-21T20:15:50.497Z"
   },
   {
    "duration": 9,
    "start_time": "2023-03-21T20:15:55.022Z"
   },
   {
    "duration": 3,
    "start_time": "2023-03-21T20:16:05.597Z"
   },
   {
    "duration": 298,
    "start_time": "2023-03-21T20:16:07.259Z"
   },
   {
    "duration": 7,
    "start_time": "2023-03-21T20:16:13.283Z"
   },
   {
    "duration": 2,
    "start_time": "2023-03-21T20:16:45.336Z"
   },
   {
    "duration": 4047,
    "start_time": "2023-03-21T20:16:47.101Z"
   },
   {
    "duration": 8,
    "start_time": "2023-03-21T20:16:54.782Z"
   },
   {
    "duration": 3,
    "start_time": "2023-03-21T20:17:37.643Z"
   },
   {
    "duration": 7010,
    "start_time": "2023-03-21T20:17:39.332Z"
   },
   {
    "duration": 9,
    "start_time": "2023-03-21T20:17:49.583Z"
   },
   {
    "duration": 14,
    "start_time": "2023-03-21T20:18:37.608Z"
   },
   {
    "duration": 2016,
    "start_time": "2023-03-21T20:18:48.993Z"
   },
   {
    "duration": 1883,
    "start_time": "2023-03-21T20:18:51.011Z"
   },
   {
    "duration": 1708,
    "start_time": "2023-03-21T20:18:52.896Z"
   },
   {
    "duration": 37,
    "start_time": "2023-03-21T20:18:54.606Z"
   },
   {
    "duration": 6,
    "start_time": "2023-03-21T20:18:54.645Z"
   },
   {
    "duration": 22,
    "start_time": "2023-03-21T20:18:54.652Z"
   },
   {
    "duration": 184,
    "start_time": "2023-03-21T20:18:54.675Z"
   },
   {
    "duration": 9,
    "start_time": "2023-03-21T20:18:54.861Z"
   },
   {
    "duration": 775,
    "start_time": "2023-03-21T20:18:54.871Z"
   },
   {
    "duration": 3,
    "start_time": "2023-03-21T20:18:55.649Z"
   },
   {
    "duration": 8,
    "start_time": "2023-03-21T20:18:55.653Z"
   },
   {
    "duration": 5,
    "start_time": "2023-03-21T20:18:55.662Z"
   },
   {
    "duration": 7,
    "start_time": "2023-03-21T20:18:55.669Z"
   },
   {
    "duration": 10,
    "start_time": "2023-03-21T20:18:55.678Z"
   },
   {
    "duration": 18,
    "start_time": "2023-03-21T20:18:55.689Z"
   },
   {
    "duration": 7,
    "start_time": "2023-03-21T20:18:55.708Z"
   },
   {
    "duration": 6,
    "start_time": "2023-03-21T20:18:55.717Z"
   },
   {
    "duration": 13,
    "start_time": "2023-03-21T20:18:55.739Z"
   },
   {
    "duration": 6,
    "start_time": "2023-03-21T20:18:55.754Z"
   },
   {
    "duration": 6,
    "start_time": "2023-03-21T20:18:55.761Z"
   },
   {
    "duration": 5,
    "start_time": "2023-03-21T20:18:55.768Z"
   },
   {
    "duration": 5,
    "start_time": "2023-03-21T20:18:55.775Z"
   },
   {
    "duration": 7,
    "start_time": "2023-03-21T20:18:55.782Z"
   },
   {
    "duration": 13,
    "start_time": "2023-03-21T20:18:55.790Z"
   },
   {
    "duration": 51,
    "start_time": "2023-03-21T20:18:55.804Z"
   },
   {
    "duration": 14,
    "start_time": "2023-03-21T20:18:55.857Z"
   },
   {
    "duration": 7,
    "start_time": "2023-03-21T20:18:55.873Z"
   },
   {
    "duration": 3,
    "start_time": "2023-03-21T20:18:55.883Z"
   },
   {
    "duration": 8356,
    "start_time": "2023-03-21T20:18:55.887Z"
   },
   {
    "duration": 184,
    "start_time": "2023-03-21T20:19:04.244Z"
   },
   {
    "duration": 16,
    "start_time": "2023-03-21T20:19:11.899Z"
   },
   {
    "duration": 2068,
    "start_time": "2023-03-21T20:19:52.427Z"
   },
   {
    "duration": 1896,
    "start_time": "2023-03-21T20:19:54.497Z"
   },
   {
    "duration": 2753,
    "start_time": "2023-03-21T20:19:56.395Z"
   },
   {
    "duration": 37,
    "start_time": "2023-03-21T20:19:59.150Z"
   },
   {
    "duration": 5,
    "start_time": "2023-03-21T20:19:59.188Z"
   },
   {
    "duration": 24,
    "start_time": "2023-03-21T20:19:59.194Z"
   },
   {
    "duration": 161,
    "start_time": "2023-03-21T20:19:59.220Z"
   },
   {
    "duration": 9,
    "start_time": "2023-03-21T20:19:59.383Z"
   },
   {
    "duration": 782,
    "start_time": "2023-03-21T20:19:59.394Z"
   },
   {
    "duration": 4,
    "start_time": "2023-03-21T20:20:00.178Z"
   },
   {
    "duration": 17,
    "start_time": "2023-03-21T20:20:00.183Z"
   },
   {
    "duration": 18,
    "start_time": "2023-03-21T20:20:00.201Z"
   },
   {
    "duration": 22,
    "start_time": "2023-03-21T20:20:00.221Z"
   },
   {
    "duration": 18,
    "start_time": "2023-03-21T20:20:00.245Z"
   },
   {
    "duration": 28,
    "start_time": "2023-03-21T20:20:00.265Z"
   },
   {
    "duration": 9,
    "start_time": "2023-03-21T20:20:00.295Z"
   },
   {
    "duration": 7,
    "start_time": "2023-03-21T20:20:00.305Z"
   },
   {
    "duration": 15,
    "start_time": "2023-03-21T20:20:00.314Z"
   },
   {
    "duration": 12,
    "start_time": "2023-03-21T20:20:00.331Z"
   },
   {
    "duration": 27,
    "start_time": "2023-03-21T20:20:00.345Z"
   },
   {
    "duration": 6,
    "start_time": "2023-03-21T20:20:00.374Z"
   },
   {
    "duration": 18,
    "start_time": "2023-03-21T20:20:00.382Z"
   },
   {
    "duration": 27,
    "start_time": "2023-03-21T20:20:00.401Z"
   },
   {
    "duration": 35,
    "start_time": "2023-03-21T20:20:00.429Z"
   },
   {
    "duration": 38,
    "start_time": "2023-03-21T20:20:00.466Z"
   },
   {
    "duration": 32,
    "start_time": "2023-03-21T20:20:00.506Z"
   },
   {
    "duration": 38,
    "start_time": "2023-03-21T20:20:00.539Z"
   },
   {
    "duration": 46,
    "start_time": "2023-03-21T20:20:00.580Z"
   },
   {
    "duration": 5733,
    "start_time": "2023-03-21T20:20:00.628Z"
   },
   {
    "duration": 84,
    "start_time": "2023-03-21T20:20:06.363Z"
   },
   {
    "duration": 157,
    "start_time": "2023-03-21T20:21:18.157Z"
   },
   {
    "duration": 3,
    "start_time": "2023-03-21T20:21:25.959Z"
   },
   {
    "duration": 12563,
    "start_time": "2023-03-21T20:21:27.583Z"
   },
   {
    "duration": 8,
    "start_time": "2023-03-21T20:21:43.278Z"
   },
   {
    "duration": 3,
    "start_time": "2023-03-21T20:25:34.615Z"
   },
   {
    "duration": 11395,
    "start_time": "2023-03-21T20:25:36.246Z"
   },
   {
    "duration": 9,
    "start_time": "2023-03-21T20:25:49.505Z"
   },
   {
    "duration": 10563,
    "start_time": "2023-03-21T20:26:20.984Z"
   },
   {
    "duration": 0,
    "start_time": "2023-03-21T20:27:40.959Z"
   },
   {
    "duration": 1998,
    "start_time": "2023-03-21T20:29:41.502Z"
   },
   {
    "duration": 1899,
    "start_time": "2023-03-21T20:29:43.502Z"
   },
   {
    "duration": 1844,
    "start_time": "2023-03-21T20:29:45.402Z"
   },
   {
    "duration": 45,
    "start_time": "2023-03-21T20:29:47.248Z"
   },
   {
    "duration": 8,
    "start_time": "2023-03-21T20:29:47.296Z"
   },
   {
    "duration": 37,
    "start_time": "2023-03-21T20:29:47.306Z"
   },
   {
    "duration": 198,
    "start_time": "2023-03-21T20:29:47.345Z"
   },
   {
    "duration": 12,
    "start_time": "2023-03-21T20:29:47.545Z"
   },
   {
    "duration": 802,
    "start_time": "2023-03-21T20:29:47.558Z"
   },
   {
    "duration": 3,
    "start_time": "2023-03-21T20:29:48.362Z"
   },
   {
    "duration": 5,
    "start_time": "2023-03-21T20:29:48.366Z"
   },
   {
    "duration": 4,
    "start_time": "2023-03-21T20:29:48.373Z"
   },
   {
    "duration": 3,
    "start_time": "2023-03-21T20:29:48.379Z"
   },
   {
    "duration": 6,
    "start_time": "2023-03-21T20:29:48.385Z"
   },
   {
    "duration": 4,
    "start_time": "2023-03-21T20:29:48.392Z"
   },
   {
    "duration": 6,
    "start_time": "2023-03-21T20:29:48.398Z"
   },
   {
    "duration": 35,
    "start_time": "2023-03-21T20:29:48.405Z"
   },
   {
    "duration": 10,
    "start_time": "2023-03-21T20:29:48.441Z"
   },
   {
    "duration": 5,
    "start_time": "2023-03-21T20:29:48.452Z"
   },
   {
    "duration": 7,
    "start_time": "2023-03-21T20:29:48.458Z"
   },
   {
    "duration": 4,
    "start_time": "2023-03-21T20:29:48.466Z"
   },
   {
    "duration": 5,
    "start_time": "2023-03-21T20:29:48.471Z"
   },
   {
    "duration": 6,
    "start_time": "2023-03-21T20:29:48.478Z"
   },
   {
    "duration": 13,
    "start_time": "2023-03-21T20:29:48.485Z"
   },
   {
    "duration": 12,
    "start_time": "2023-03-21T20:29:48.540Z"
   },
   {
    "duration": 10,
    "start_time": "2023-03-21T20:29:48.554Z"
   },
   {
    "duration": 3,
    "start_time": "2023-03-21T20:29:48.566Z"
   },
   {
    "duration": 8,
    "start_time": "2023-03-21T20:29:48.571Z"
   },
   {
    "duration": 7575,
    "start_time": "2023-03-21T20:29:48.580Z"
   },
   {
    "duration": 8,
    "start_time": "2023-03-21T20:29:56.157Z"
   },
   {
    "duration": 4,
    "start_time": "2023-03-21T20:29:56.239Z"
   },
   {
    "duration": 12899,
    "start_time": "2023-03-21T20:29:56.245Z"
   },
   {
    "duration": 8,
    "start_time": "2023-03-21T20:30:09.145Z"
   },
   {
    "duration": 7,
    "start_time": "2023-03-21T20:30:09.155Z"
   },
   {
    "duration": 12295,
    "start_time": "2023-03-21T20:30:09.163Z"
   },
   {
    "duration": 83,
    "start_time": "2023-03-21T20:30:21.460Z"
   },
   {
    "duration": 2029,
    "start_time": "2023-03-21T20:51:04.565Z"
   },
   {
    "duration": 2010,
    "start_time": "2023-03-21T20:51:06.596Z"
   },
   {
    "duration": 1732,
    "start_time": "2023-03-21T20:51:08.610Z"
   },
   {
    "duration": 37,
    "start_time": "2023-03-21T20:51:10.344Z"
   },
   {
    "duration": 5,
    "start_time": "2023-03-21T20:51:10.382Z"
   },
   {
    "duration": 25,
    "start_time": "2023-03-21T20:51:10.389Z"
   },
   {
    "duration": 164,
    "start_time": "2023-03-21T20:51:10.416Z"
   },
   {
    "duration": 9,
    "start_time": "2023-03-21T20:51:10.582Z"
   },
   {
    "duration": 761,
    "start_time": "2023-03-21T20:51:10.593Z"
   },
   {
    "duration": 4,
    "start_time": "2023-03-21T20:51:11.356Z"
   },
   {
    "duration": 6,
    "start_time": "2023-03-21T20:51:11.361Z"
   },
   {
    "duration": 4,
    "start_time": "2023-03-21T20:51:11.369Z"
   },
   {
    "duration": 5,
    "start_time": "2023-03-21T20:51:11.376Z"
   },
   {
    "duration": 6,
    "start_time": "2023-03-21T20:51:11.382Z"
   },
   {
    "duration": 5,
    "start_time": "2023-03-21T20:51:11.389Z"
   },
   {
    "duration": 5,
    "start_time": "2023-03-21T20:51:11.395Z"
   },
   {
    "duration": 39,
    "start_time": "2023-03-21T20:51:11.401Z"
   },
   {
    "duration": 10,
    "start_time": "2023-03-21T20:51:11.441Z"
   },
   {
    "duration": 4,
    "start_time": "2023-03-21T20:51:11.453Z"
   },
   {
    "duration": 6,
    "start_time": "2023-03-21T20:51:11.458Z"
   },
   {
    "duration": 5,
    "start_time": "2023-03-21T20:51:11.465Z"
   },
   {
    "duration": 5,
    "start_time": "2023-03-21T20:51:11.471Z"
   },
   {
    "duration": 6,
    "start_time": "2023-03-21T20:51:11.477Z"
   },
   {
    "duration": 13,
    "start_time": "2023-03-21T20:51:11.484Z"
   },
   {
    "duration": 50,
    "start_time": "2023-03-21T20:51:11.498Z"
   },
   {
    "duration": 11,
    "start_time": "2023-03-21T20:51:11.549Z"
   },
   {
    "duration": 5,
    "start_time": "2023-03-21T20:51:11.561Z"
   },
   {
    "duration": 3,
    "start_time": "2023-03-21T20:51:11.567Z"
   },
   {
    "duration": 7772,
    "start_time": "2023-03-21T20:51:11.572Z"
   },
   {
    "duration": 9,
    "start_time": "2023-03-21T20:51:19.345Z"
   },
   {
    "duration": 197,
    "start_time": "2023-03-21T20:51:19.355Z"
   },
   {
    "duration": 0,
    "start_time": "2023-03-21T20:51:19.554Z"
   },
   {
    "duration": 0,
    "start_time": "2023-03-21T20:51:19.555Z"
   },
   {
    "duration": 0,
    "start_time": "2023-03-21T20:51:19.556Z"
   },
   {
    "duration": 0,
    "start_time": "2023-03-21T20:51:19.557Z"
   },
   {
    "duration": 0,
    "start_time": "2023-03-21T20:51:19.558Z"
   },
   {
    "duration": 0,
    "start_time": "2023-03-21T20:51:19.559Z"
   },
   {
    "duration": 71,
    "start_time": "2023-03-21T20:56:07.077Z"
   },
   {
    "duration": 178,
    "start_time": "2023-03-21T20:56:14.453Z"
   },
   {
    "duration": 15,
    "start_time": "2023-03-21T20:56:57.475Z"
   },
   {
    "duration": 46,
    "start_time": "2023-03-21T21:01:52.694Z"
   },
   {
    "duration": 36808,
    "start_time": "2023-03-21T21:02:36.925Z"
   },
   {
    "duration": 38215,
    "start_time": "2023-03-21T21:03:14.056Z"
   },
   {
    "duration": 196,
    "start_time": "2023-03-21T21:06:31.377Z"
   },
   {
    "duration": 22,
    "start_time": "2023-03-21T21:06:38.741Z"
   },
   {
    "duration": 160,
    "start_time": "2023-03-21T21:06:45.136Z"
   },
   {
    "duration": 22,
    "start_time": "2023-03-21T21:07:24.543Z"
   },
   {
    "duration": 259,
    "start_time": "2023-03-21T21:07:43.323Z"
   },
   {
    "duration": 146,
    "start_time": "2023-03-21T21:08:05.309Z"
   },
   {
    "duration": 182,
    "start_time": "2023-03-21T21:12:46.829Z"
   },
   {
    "duration": 2080,
    "start_time": "2023-03-21T21:13:58.311Z"
   },
   {
    "duration": 1936,
    "start_time": "2023-03-21T21:14:00.392Z"
   },
   {
    "duration": 1863,
    "start_time": "2023-03-21T21:14:02.330Z"
   },
   {
    "duration": 37,
    "start_time": "2023-03-21T21:14:04.195Z"
   },
   {
    "duration": 5,
    "start_time": "2023-03-21T21:14:04.233Z"
   },
   {
    "duration": 36,
    "start_time": "2023-03-21T21:14:04.240Z"
   },
   {
    "duration": 169,
    "start_time": "2023-03-21T21:14:04.277Z"
   },
   {
    "duration": 9,
    "start_time": "2023-03-21T21:14:04.448Z"
   },
   {
    "duration": 821,
    "start_time": "2023-03-21T21:14:04.458Z"
   },
   {
    "duration": 3,
    "start_time": "2023-03-21T21:14:05.283Z"
   },
   {
    "duration": 4,
    "start_time": "2023-03-21T21:14:05.288Z"
   },
   {
    "duration": 5,
    "start_time": "2023-03-21T21:14:05.293Z"
   },
   {
    "duration": 7,
    "start_time": "2023-03-21T21:14:05.300Z"
   },
   {
    "duration": 7,
    "start_time": "2023-03-21T21:14:05.308Z"
   },
   {
    "duration": 10,
    "start_time": "2023-03-21T21:14:05.339Z"
   },
   {
    "duration": 6,
    "start_time": "2023-03-21T21:14:05.351Z"
   },
   {
    "duration": 4,
    "start_time": "2023-03-21T21:14:05.358Z"
   },
   {
    "duration": 27,
    "start_time": "2023-03-21T21:14:05.364Z"
   },
   {
    "duration": 4,
    "start_time": "2023-03-21T21:14:05.392Z"
   },
   {
    "duration": 5,
    "start_time": "2023-03-21T21:14:05.397Z"
   },
   {
    "duration": 5,
    "start_time": "2023-03-21T21:14:05.404Z"
   },
   {
    "duration": 6,
    "start_time": "2023-03-21T21:14:05.410Z"
   },
   {
    "duration": 6,
    "start_time": "2023-03-21T21:14:05.439Z"
   },
   {
    "duration": 16,
    "start_time": "2023-03-21T21:14:05.446Z"
   },
   {
    "duration": 16,
    "start_time": "2023-03-21T21:14:05.463Z"
   },
   {
    "duration": 14,
    "start_time": "2023-03-21T21:14:05.480Z"
   },
   {
    "duration": 11,
    "start_time": "2023-03-21T21:14:05.495Z"
   },
   {
    "duration": 5,
    "start_time": "2023-03-21T21:14:05.509Z"
   },
   {
    "duration": 7235,
    "start_time": "2023-03-21T21:14:05.515Z"
   },
   {
    "duration": 9,
    "start_time": "2023-03-21T21:14:12.752Z"
   },
   {
    "duration": 237,
    "start_time": "2023-03-21T21:14:12.762Z"
   },
   {
    "duration": 3,
    "start_time": "2023-03-21T21:14:13.000Z"
   },
   {
    "duration": 13940,
    "start_time": "2023-03-21T21:14:13.004Z"
   },
   {
    "duration": 8,
    "start_time": "2023-03-21T21:14:26.946Z"
   },
   {
    "duration": 219,
    "start_time": "2023-03-21T21:14:26.956Z"
   },
   {
    "duration": 2,
    "start_time": "2023-03-21T21:14:27.177Z"
   },
   {
    "duration": 12770,
    "start_time": "2023-03-21T21:14:27.180Z"
   },
   {
    "duration": 10,
    "start_time": "2023-03-21T21:14:39.952Z"
   },
   {
    "duration": 371,
    "start_time": "2023-03-21T21:14:39.963Z"
   },
   {
    "duration": 3,
    "start_time": "2023-03-21T21:17:15.740Z"
   },
   {
    "duration": 79057,
    "start_time": "2023-03-21T21:17:18.970Z"
   },
   {
    "duration": 381314,
    "start_time": "2023-03-21T21:18:50.538Z"
   },
   {
    "duration": 9,
    "start_time": "2023-03-21T21:25:43.015Z"
   },
   {
    "duration": 169,
    "start_time": "2023-03-21T21:25:49.518Z"
   },
   {
    "duration": 3216,
    "start_time": "2023-03-25T08:59:41.415Z"
   },
   {
    "duration": 24774,
    "start_time": "2023-03-25T08:59:44.634Z"
   },
   {
    "duration": 2284,
    "start_time": "2023-03-25T09:00:09.411Z"
   },
   {
    "duration": 1,
    "start_time": "2023-03-25T09:00:11.699Z"
   },
   {
    "duration": 0,
    "start_time": "2023-03-25T09:00:11.702Z"
   },
   {
    "duration": 0,
    "start_time": "2023-03-25T09:00:11.702Z"
   },
   {
    "duration": 0,
    "start_time": "2023-03-25T09:00:11.703Z"
   },
   {
    "duration": 0,
    "start_time": "2023-03-25T09:00:11.704Z"
   },
   {
    "duration": 0,
    "start_time": "2023-03-25T09:00:11.706Z"
   },
   {
    "duration": 0,
    "start_time": "2023-03-25T09:00:11.707Z"
   },
   {
    "duration": 0,
    "start_time": "2023-03-25T09:00:11.708Z"
   },
   {
    "duration": 0,
    "start_time": "2023-03-25T09:00:11.710Z"
   },
   {
    "duration": 0,
    "start_time": "2023-03-25T09:00:11.711Z"
   },
   {
    "duration": 0,
    "start_time": "2023-03-25T09:00:11.712Z"
   },
   {
    "duration": 0,
    "start_time": "2023-03-25T09:00:11.714Z"
   },
   {
    "duration": 0,
    "start_time": "2023-03-25T09:00:11.715Z"
   },
   {
    "duration": 0,
    "start_time": "2023-03-25T09:00:11.716Z"
   },
   {
    "duration": 0,
    "start_time": "2023-03-25T09:00:11.717Z"
   },
   {
    "duration": 0,
    "start_time": "2023-03-25T09:00:11.719Z"
   },
   {
    "duration": 0,
    "start_time": "2023-03-25T09:00:11.720Z"
   },
   {
    "duration": 0,
    "start_time": "2023-03-25T09:00:11.721Z"
   },
   {
    "duration": 0,
    "start_time": "2023-03-25T09:00:11.723Z"
   },
   {
    "duration": 0,
    "start_time": "2023-03-25T09:00:11.724Z"
   },
   {
    "duration": 0,
    "start_time": "2023-03-25T09:00:11.725Z"
   },
   {
    "duration": 0,
    "start_time": "2023-03-25T09:00:11.726Z"
   },
   {
    "duration": 0,
    "start_time": "2023-03-25T09:00:11.728Z"
   },
   {
    "duration": 0,
    "start_time": "2023-03-25T09:00:11.729Z"
   },
   {
    "duration": 0,
    "start_time": "2023-03-25T09:00:11.730Z"
   },
   {
    "duration": 0,
    "start_time": "2023-03-25T09:00:11.730Z"
   },
   {
    "duration": 0,
    "start_time": "2023-03-25T09:00:11.731Z"
   },
   {
    "duration": 0,
    "start_time": "2023-03-25T09:00:11.731Z"
   },
   {
    "duration": 0,
    "start_time": "2023-03-25T09:00:11.732Z"
   },
   {
    "duration": 0,
    "start_time": "2023-03-25T09:00:11.732Z"
   },
   {
    "duration": 0,
    "start_time": "2023-03-25T09:00:11.733Z"
   },
   {
    "duration": 0,
    "start_time": "2023-03-25T09:00:11.733Z"
   },
   {
    "duration": 0,
    "start_time": "2023-03-25T09:00:11.775Z"
   },
   {
    "duration": 0,
    "start_time": "2023-03-25T09:00:11.778Z"
   },
   {
    "duration": 0,
    "start_time": "2023-03-25T09:00:11.779Z"
   },
   {
    "duration": 0,
    "start_time": "2023-03-25T09:00:11.782Z"
   },
   {
    "duration": 0,
    "start_time": "2023-03-25T09:00:11.783Z"
   },
   {
    "duration": 0,
    "start_time": "2023-03-25T09:00:11.784Z"
   },
   {
    "duration": 0,
    "start_time": "2023-03-25T09:00:11.786Z"
   },
   {
    "duration": 0,
    "start_time": "2023-03-25T09:00:11.787Z"
   },
   {
    "duration": 2270,
    "start_time": "2023-03-25T09:00:28.261Z"
   },
   {
    "duration": 2137,
    "start_time": "2023-03-25T09:00:30.533Z"
   },
   {
    "duration": 2040,
    "start_time": "2023-03-25T09:00:32.672Z"
   },
   {
    "duration": 104,
    "start_time": "2023-03-25T09:00:34.714Z"
   },
   {
    "duration": 8,
    "start_time": "2023-03-25T09:00:34.820Z"
   },
   {
    "duration": 35,
    "start_time": "2023-03-25T09:00:34.830Z"
   },
   {
    "duration": 187,
    "start_time": "2023-03-25T09:00:34.867Z"
   },
   {
    "duration": 26,
    "start_time": "2023-03-25T09:00:35.055Z"
   },
   {
    "duration": 967,
    "start_time": "2023-03-25T09:00:35.084Z"
   },
   {
    "duration": 3,
    "start_time": "2023-03-25T09:00:36.056Z"
   },
   {
    "duration": 64,
    "start_time": "2023-03-25T09:00:36.061Z"
   },
   {
    "duration": 27,
    "start_time": "2023-03-25T09:00:36.127Z"
   },
   {
    "duration": 11,
    "start_time": "2023-03-25T09:00:36.157Z"
   },
   {
    "duration": 22,
    "start_time": "2023-03-25T09:00:36.171Z"
   },
   {
    "duration": 33,
    "start_time": "2023-03-25T09:00:36.195Z"
   },
   {
    "duration": 20,
    "start_time": "2023-03-25T09:00:36.230Z"
   },
   {
    "duration": 15,
    "start_time": "2023-03-25T09:00:36.253Z"
   },
   {
    "duration": 43,
    "start_time": "2023-03-25T09:00:36.270Z"
   },
   {
    "duration": 13,
    "start_time": "2023-03-25T09:00:36.315Z"
   },
   {
    "duration": 27,
    "start_time": "2023-03-25T09:00:36.330Z"
   },
   {
    "duration": 9,
    "start_time": "2023-03-25T09:00:36.359Z"
   },
   {
    "duration": 9,
    "start_time": "2023-03-25T09:00:36.369Z"
   },
   {
    "duration": 16,
    "start_time": "2023-03-25T09:00:36.380Z"
   },
   {
    "duration": 15,
    "start_time": "2023-03-25T09:00:36.401Z"
   },
   {
    "duration": 13,
    "start_time": "2023-03-25T09:00:36.417Z"
   },
   {
    "duration": 12,
    "start_time": "2023-03-25T09:00:36.431Z"
   },
   {
    "duration": 7,
    "start_time": "2023-03-25T09:00:36.444Z"
   },
   {
    "duration": 4,
    "start_time": "2023-03-25T09:00:36.472Z"
   },
   {
    "duration": 19101,
    "start_time": "2023-03-25T09:00:36.478Z"
   },
   {
    "duration": 15,
    "start_time": "2023-03-25T09:00:55.584Z"
   },
   {
    "duration": 240,
    "start_time": "2023-03-25T09:00:55.601Z"
   },
   {
    "duration": 2,
    "start_time": "2023-03-25T09:00:55.844Z"
   },
   {
    "duration": 36525,
    "start_time": "2023-03-25T09:00:55.848Z"
   },
   {
    "duration": 25,
    "start_time": "2023-03-25T09:01:32.375Z"
   },
   {
    "duration": 235,
    "start_time": "2023-03-25T09:01:32.402Z"
   },
   {
    "duration": 3,
    "start_time": "2023-03-25T09:01:32.639Z"
   },
   {
    "duration": 36932,
    "start_time": "2023-03-25T09:01:32.644Z"
   },
   {
    "duration": 12,
    "start_time": "2023-03-25T09:02:09.578Z"
   },
   {
    "duration": 405,
    "start_time": "2023-03-25T09:02:09.592Z"
   },
   {
    "duration": 4,
    "start_time": "2023-03-25T09:02:10.000Z"
   },
   {
    "duration": 99393,
    "start_time": "2023-03-25T09:02:10.006Z"
   },
   {
    "duration": 9,
    "start_time": "2023-03-25T09:03:49.473Z"
   },
   {
    "duration": 219,
    "start_time": "2023-03-25T09:03:49.484Z"
   },
   {
    "duration": 136,
    "start_time": "2023-03-25T09:06:34.925Z"
   },
   {
    "duration": 168,
    "start_time": "2023-03-25T09:06:56.965Z"
   },
   {
    "duration": 370,
    "start_time": "2023-03-25T09:09:48.510Z"
   },
   {
    "duration": 1407,
    "start_time": "2023-03-25T09:10:34.950Z"
   },
   {
    "duration": 1323,
    "start_time": "2023-03-25T09:11:11.670Z"
   },
   {
    "duration": 15,
    "start_time": "2023-03-25T09:11:33.900Z"
   },
   {
    "duration": 2255,
    "start_time": "2023-03-25T09:11:46.045Z"
   },
   {
    "duration": 2097,
    "start_time": "2023-03-25T09:11:48.303Z"
   },
   {
    "duration": 1993,
    "start_time": "2023-03-25T09:11:50.407Z"
   },
   {
    "duration": 39,
    "start_time": "2023-03-25T09:11:52.407Z"
   },
   {
    "duration": 6,
    "start_time": "2023-03-25T09:11:52.447Z"
   },
   {
    "duration": 49,
    "start_time": "2023-03-25T09:11:52.454Z"
   },
   {
    "duration": 229,
    "start_time": "2023-03-25T09:11:52.505Z"
   },
   {
    "duration": 9,
    "start_time": "2023-03-25T09:11:52.736Z"
   },
   {
    "duration": 908,
    "start_time": "2023-03-25T09:11:52.747Z"
   },
   {
    "duration": 4,
    "start_time": "2023-03-25T09:11:53.658Z"
   },
   {
    "duration": 47,
    "start_time": "2023-03-25T09:11:53.663Z"
   },
   {
    "duration": 13,
    "start_time": "2023-03-25T09:11:53.711Z"
   },
   {
    "duration": 11,
    "start_time": "2023-03-25T09:11:53.725Z"
   },
   {
    "duration": 28,
    "start_time": "2023-03-25T09:11:53.738Z"
   },
   {
    "duration": 46,
    "start_time": "2023-03-25T09:11:53.768Z"
   },
   {
    "duration": 21,
    "start_time": "2023-03-25T09:11:53.815Z"
   },
   {
    "duration": 21,
    "start_time": "2023-03-25T09:11:53.837Z"
   },
   {
    "duration": 49,
    "start_time": "2023-03-25T09:11:53.860Z"
   },
   {
    "duration": 26,
    "start_time": "2023-03-25T09:11:53.911Z"
   },
   {
    "duration": 9,
    "start_time": "2023-03-25T09:11:53.938Z"
   },
   {
    "duration": 6,
    "start_time": "2023-03-25T09:11:53.948Z"
   },
   {
    "duration": 48,
    "start_time": "2023-03-25T09:11:53.955Z"
   },
   {
    "duration": 12,
    "start_time": "2023-03-25T09:11:54.005Z"
   },
   {
    "duration": 19,
    "start_time": "2023-03-25T09:11:54.018Z"
   },
   {
    "duration": 12,
    "start_time": "2023-03-25T09:11:54.038Z"
   },
   {
    "duration": 11,
    "start_time": "2023-03-25T09:11:54.052Z"
   },
   {
    "duration": 45,
    "start_time": "2023-03-25T09:11:54.065Z"
   },
   {
    "duration": 7,
    "start_time": "2023-03-25T09:11:54.113Z"
   },
   {
    "duration": 30792,
    "start_time": "2023-03-25T09:11:54.122Z"
   },
   {
    "duration": 66,
    "start_time": "2023-03-25T09:12:24.916Z"
   },
   {
    "duration": 1185,
    "start_time": "2023-03-25T09:12:24.984Z"
   },
   {
    "duration": 0,
    "start_time": "2023-03-25T09:12:26.179Z"
   },
   {
    "duration": 0,
    "start_time": "2023-03-25T09:12:26.180Z"
   },
   {
    "duration": 0,
    "start_time": "2023-03-25T09:12:26.180Z"
   },
   {
    "duration": 0,
    "start_time": "2023-03-25T09:12:26.190Z"
   },
   {
    "duration": 0,
    "start_time": "2023-03-25T09:12:26.196Z"
   },
   {
    "duration": 0,
    "start_time": "2023-03-25T09:12:26.197Z"
   },
   {
    "duration": 0,
    "start_time": "2023-03-25T09:12:26.200Z"
   },
   {
    "duration": 0,
    "start_time": "2023-03-25T09:12:26.201Z"
   },
   {
    "duration": 0,
    "start_time": "2023-03-25T09:12:26.203Z"
   },
   {
    "duration": 0,
    "start_time": "2023-03-25T09:12:26.206Z"
   },
   {
    "duration": 0,
    "start_time": "2023-03-25T09:12:26.207Z"
   },
   {
    "duration": 0,
    "start_time": "2023-03-25T09:12:26.209Z"
   },
   {
    "duration": 10,
    "start_time": "2023-03-25T09:12:53.948Z"
   },
   {
    "duration": 1177,
    "start_time": "2023-03-25T09:13:27.382Z"
   },
   {
    "duration": 1326,
    "start_time": "2023-03-25T09:13:52.979Z"
   },
   {
    "duration": 15,
    "start_time": "2023-03-25T09:14:38.317Z"
   },
   {
    "duration": 16,
    "start_time": "2023-03-25T09:14:59.624Z"
   },
   {
    "duration": 1547,
    "start_time": "2023-03-25T09:15:10.814Z"
   },
   {
    "duration": 15,
    "start_time": "2023-03-25T09:15:35.634Z"
   },
   {
    "duration": 18,
    "start_time": "2023-03-25T09:16:50.812Z"
   },
   {
    "duration": 18,
    "start_time": "2023-03-25T09:17:04.020Z"
   },
   {
    "duration": 11,
    "start_time": "2023-03-25T09:17:58.230Z"
   },
   {
    "duration": 12,
    "start_time": "2023-03-25T09:18:02.516Z"
   },
   {
    "duration": 1696,
    "start_time": "2023-03-25T09:18:09.726Z"
   },
   {
    "duration": 5,
    "start_time": "2023-03-25T09:20:20.235Z"
   },
   {
    "duration": 16,
    "start_time": "2023-03-25T09:21:01.498Z"
   },
   {
    "duration": 11,
    "start_time": "2023-03-25T09:21:10.118Z"
   },
   {
    "duration": 333,
    "start_time": "2023-03-25T09:21:19.784Z"
   },
   {
    "duration": 157,
    "start_time": "2023-03-25T09:21:45.207Z"
   },
   {
    "duration": 76,
    "start_time": "2023-03-25T09:22:15.459Z"
   },
   {
    "duration": 2286,
    "start_time": "2023-03-25T09:22:36.296Z"
   },
   {
    "duration": 2109,
    "start_time": "2023-03-25T09:22:38.585Z"
   },
   {
    "duration": 1911,
    "start_time": "2023-03-25T09:22:40.696Z"
   },
   {
    "duration": 38,
    "start_time": "2023-03-25T09:22:42.609Z"
   },
   {
    "duration": 6,
    "start_time": "2023-03-25T09:22:42.648Z"
   },
   {
    "duration": 29,
    "start_time": "2023-03-25T09:22:42.655Z"
   },
   {
    "duration": 180,
    "start_time": "2023-03-25T09:22:42.686Z"
   },
   {
    "duration": 22,
    "start_time": "2023-03-25T09:22:42.868Z"
   },
   {
    "duration": 880,
    "start_time": "2023-03-25T09:22:42.891Z"
   },
   {
    "duration": 6,
    "start_time": "2023-03-25T09:22:43.779Z"
   },
   {
    "duration": 4,
    "start_time": "2023-03-25T09:22:43.789Z"
   },
   {
    "duration": 10,
    "start_time": "2023-03-25T09:22:43.795Z"
   },
   {
    "duration": 4,
    "start_time": "2023-03-25T09:22:43.807Z"
   },
   {
    "duration": 12,
    "start_time": "2023-03-25T09:22:43.813Z"
   },
   {
    "duration": 10,
    "start_time": "2023-03-25T09:22:43.827Z"
   },
   {
    "duration": 11,
    "start_time": "2023-03-25T09:22:43.838Z"
   },
   {
    "duration": 8,
    "start_time": "2023-03-25T09:22:43.851Z"
   },
   {
    "duration": 27,
    "start_time": "2023-03-25T09:22:43.861Z"
   },
   {
    "duration": 13,
    "start_time": "2023-03-25T09:22:43.890Z"
   },
   {
    "duration": 8,
    "start_time": "2023-03-25T09:22:43.904Z"
   },
   {
    "duration": 10,
    "start_time": "2023-03-25T09:22:43.913Z"
   },
   {
    "duration": 10,
    "start_time": "2023-03-25T09:22:43.924Z"
   },
   {
    "duration": 11,
    "start_time": "2023-03-25T09:22:43.935Z"
   },
   {
    "duration": 14,
    "start_time": "2023-03-25T09:22:43.948Z"
   },
   {
    "duration": 24,
    "start_time": "2023-03-25T09:22:43.964Z"
   },
   {
    "duration": 13,
    "start_time": "2023-03-25T09:22:43.989Z"
   },
   {
    "duration": 11,
    "start_time": "2023-03-25T09:22:44.004Z"
   },
   {
    "duration": 6,
    "start_time": "2023-03-25T09:22:44.018Z"
   },
   {
    "duration": 13052,
    "start_time": "2023-03-25T09:22:44.025Z"
   },
   {
    "duration": 14,
    "start_time": "2023-03-25T09:22:57.079Z"
   },
   {
    "duration": 13,
    "start_time": "2023-03-25T09:22:57.095Z"
   },
   {
    "duration": 437,
    "start_time": "2023-03-25T09:22:57.110Z"
   },
   {
    "duration": 2,
    "start_time": "2023-03-25T09:22:57.549Z"
   },
   {
    "duration": 23143,
    "start_time": "2023-03-25T09:22:57.553Z"
   },
   {
    "duration": 87,
    "start_time": "2023-03-25T09:23:20.698Z"
   },
   {
    "duration": 191,
    "start_time": "2023-03-25T09:23:20.790Z"
   },
   {
    "duration": 3,
    "start_time": "2023-03-25T09:23:20.987Z"
   },
   {
    "duration": 24992,
    "start_time": "2023-03-25T09:23:20.992Z"
   },
   {
    "duration": 12,
    "start_time": "2023-03-25T09:23:45.988Z"
   },
   {
    "duration": 348,
    "start_time": "2023-03-25T09:23:46.004Z"
   },
   {
    "duration": 3,
    "start_time": "2023-03-25T09:23:46.355Z"
   },
   {
    "duration": 67768,
    "start_time": "2023-03-25T09:23:46.360Z"
   },
   {
    "duration": 0,
    "start_time": "2023-03-25T09:24:54.130Z"
   },
   {
    "duration": 0,
    "start_time": "2023-03-25T09:24:54.131Z"
   },
   {
    "duration": 0,
    "start_time": "2023-03-25T09:24:54.133Z"
   },
   {
    "duration": 67,
    "start_time": "2023-03-25T09:24:55.921Z"
   },
   {
    "duration": 72,
    "start_time": "2023-03-25T09:27:00.587Z"
   },
   {
    "duration": 77,
    "start_time": "2023-03-25T09:31:06.993Z"
   },
   {
    "duration": 50,
    "start_time": "2023-03-25T09:31:59.308Z"
   },
   {
    "duration": 996,
    "start_time": "2023-03-25T09:32:25.924Z"
   },
   {
    "duration": 52,
    "start_time": "2023-03-25T09:32:37.606Z"
   },
   {
    "duration": 53,
    "start_time": "2023-03-25T09:37:38.371Z"
   },
   {
    "duration": 4,
    "start_time": "2023-03-25T09:37:46.634Z"
   },
   {
    "duration": 14,
    "start_time": "2023-03-25T09:39:23.783Z"
   },
   {
    "duration": 10,
    "start_time": "2023-03-25T09:39:43.312Z"
   },
   {
    "duration": 13,
    "start_time": "2023-03-25T09:39:52.506Z"
   },
   {
    "duration": 16,
    "start_time": "2023-03-25T09:43:13.803Z"
   },
   {
    "duration": 12,
    "start_time": "2023-03-25T09:43:23.252Z"
   },
   {
    "duration": 55,
    "start_time": "2023-03-25T09:46:14.463Z"
   },
   {
    "duration": 43,
    "start_time": "2023-03-25T09:46:21.905Z"
   },
   {
    "duration": 11,
    "start_time": "2023-03-25T09:46:31.220Z"
   },
   {
    "duration": 14,
    "start_time": "2023-03-25T09:48:32.957Z"
   },
   {
    "duration": 17,
    "start_time": "2023-03-25T09:50:10.307Z"
   },
   {
    "duration": 22,
    "start_time": "2023-03-25T09:50:44.807Z"
   },
   {
    "duration": 17,
    "start_time": "2023-03-25T09:51:32.643Z"
   },
   {
    "duration": 14,
    "start_time": "2023-03-25T09:52:24.194Z"
   },
   {
    "duration": 14,
    "start_time": "2023-03-25T09:53:00.944Z"
   },
   {
    "duration": 24,
    "start_time": "2023-03-25T09:53:43.861Z"
   },
   {
    "duration": 15,
    "start_time": "2023-03-25T09:54:15.239Z"
   },
   {
    "duration": 17,
    "start_time": "2023-03-25T09:55:05.225Z"
   },
   {
    "duration": 2235,
    "start_time": "2023-03-25T09:55:13.593Z"
   },
   {
    "duration": 2168,
    "start_time": "2023-03-25T09:55:15.830Z"
   },
   {
    "duration": 1914,
    "start_time": "2023-03-25T09:55:18.000Z"
   },
   {
    "duration": 41,
    "start_time": "2023-03-25T09:55:19.916Z"
   },
   {
    "duration": 5,
    "start_time": "2023-03-25T09:55:19.959Z"
   },
   {
    "duration": 52,
    "start_time": "2023-03-25T09:55:19.965Z"
   },
   {
    "duration": 204,
    "start_time": "2023-03-25T09:55:20.018Z"
   },
   {
    "duration": 9,
    "start_time": "2023-03-25T09:55:20.223Z"
   },
   {
    "duration": 861,
    "start_time": "2023-03-25T09:55:20.234Z"
   },
   {
    "duration": 5,
    "start_time": "2023-03-25T09:55:21.098Z"
   },
   {
    "duration": 10,
    "start_time": "2023-03-25T09:55:21.104Z"
   },
   {
    "duration": 14,
    "start_time": "2023-03-25T09:55:21.115Z"
   },
   {
    "duration": 10,
    "start_time": "2023-03-25T09:55:21.130Z"
   },
   {
    "duration": 7,
    "start_time": "2023-03-25T09:55:21.142Z"
   },
   {
    "duration": 11,
    "start_time": "2023-03-25T09:55:21.150Z"
   },
   {
    "duration": 7,
    "start_time": "2023-03-25T09:55:21.162Z"
   },
   {
    "duration": 40,
    "start_time": "2023-03-25T09:55:21.170Z"
   },
   {
    "duration": 15,
    "start_time": "2023-03-25T09:55:21.211Z"
   },
   {
    "duration": 4,
    "start_time": "2023-03-25T09:55:21.228Z"
   },
   {
    "duration": 6,
    "start_time": "2023-03-25T09:55:21.234Z"
   },
   {
    "duration": 13,
    "start_time": "2023-03-25T09:55:21.242Z"
   },
   {
    "duration": 6,
    "start_time": "2023-03-25T09:55:21.257Z"
   },
   {
    "duration": 13,
    "start_time": "2023-03-25T09:55:21.265Z"
   },
   {
    "duration": 49,
    "start_time": "2023-03-25T09:55:21.279Z"
   },
   {
    "duration": 15,
    "start_time": "2023-03-25T09:55:21.330Z"
   },
   {
    "duration": 20,
    "start_time": "2023-03-25T09:55:21.346Z"
   },
   {
    "duration": 31,
    "start_time": "2023-03-25T09:55:21.368Z"
   },
   {
    "duration": 6,
    "start_time": "2023-03-25T09:55:21.402Z"
   },
   {
    "duration": 24797,
    "start_time": "2023-03-25T09:55:21.410Z"
   },
   {
    "duration": 64,
    "start_time": "2023-03-25T09:55:46.213Z"
   },
   {
    "duration": 43,
    "start_time": "2023-03-25T09:55:46.286Z"
   },
   {
    "duration": 195,
    "start_time": "2023-03-25T09:55:46.331Z"
   },
   {
    "duration": 3,
    "start_time": "2023-03-25T09:55:46.531Z"
   },
   {
    "duration": 43841,
    "start_time": "2023-03-25T09:55:46.537Z"
   },
   {
    "duration": 9,
    "start_time": "2023-03-25T09:56:30.387Z"
   },
   {
    "duration": 42,
    "start_time": "2023-03-25T09:56:30.398Z"
   },
   {
    "duration": 27,
    "start_time": "2023-03-25T09:56:30.442Z"
   },
   {
    "duration": 37543,
    "start_time": "2023-03-25T09:56:30.471Z"
   },
   {
    "duration": 15,
    "start_time": "2023-03-25T09:57:08.083Z"
   },
   {
    "duration": 25,
    "start_time": "2023-03-25T09:57:08.100Z"
   },
   {
    "duration": 2,
    "start_time": "2023-03-25T09:57:08.127Z"
   },
   {
    "duration": 89174,
    "start_time": "2023-03-25T09:57:08.131Z"
   },
   {
    "duration": 9,
    "start_time": "2023-03-25T09:58:37.308Z"
   },
   {
    "duration": 80,
    "start_time": "2023-03-25T09:58:37.319Z"
   },
   {
    "duration": 68,
    "start_time": "2023-03-25T10:08:10.097Z"
   },
   {
    "duration": 41453,
    "start_time": "2023-03-25T10:08:22.861Z"
   },
   {
    "duration": 3,
    "start_time": "2023-03-25T10:10:49.334Z"
   },
   {
    "duration": 51873,
    "start_time": "2023-03-25T10:10:52.206Z"
   },
   {
    "duration": 8,
    "start_time": "2023-03-25T10:11:59.656Z"
   },
   {
    "duration": 16,
    "start_time": "2023-03-25T10:12:04.988Z"
   },
   {
    "duration": 15,
    "start_time": "2023-03-25T10:12:14.650Z"
   },
   {
    "duration": 43273,
    "start_time": "2023-03-25T10:14:46.305Z"
   },
   {
    "duration": 10,
    "start_time": "2023-03-25T10:15:48.620Z"
   },
   {
    "duration": 16,
    "start_time": "2023-03-25T10:15:51.545Z"
   },
   {
    "duration": 2,
    "start_time": "2023-03-25T10:17:31.753Z"
   },
   {
    "duration": 345181,
    "start_time": "2023-03-25T10:17:34.795Z"
   },
   {
    "duration": 183,
    "start_time": "2023-03-25T10:34:42.799Z"
   },
   {
    "duration": 30,
    "start_time": "2023-03-25T10:38:16.644Z"
   },
   {
    "duration": 13,
    "start_time": "2023-03-25T10:38:38.140Z"
   },
   {
    "duration": 47,
    "start_time": "2023-03-25T10:39:13.789Z"
   },
   {
    "duration": 35,
    "start_time": "2023-03-25T10:39:36.064Z"
   },
   {
    "duration": 22,
    "start_time": "2023-03-25T10:39:41.196Z"
   },
   {
    "duration": 109,
    "start_time": "2023-03-25T10:43:47.731Z"
   },
   {
    "duration": 14,
    "start_time": "2023-03-25T10:43:53.927Z"
   },
   {
    "duration": 11,
    "start_time": "2023-03-25T10:44:28.098Z"
   },
   {
    "duration": 106,
    "start_time": "2023-03-25T10:49:01.800Z"
   },
   {
    "duration": 14,
    "start_time": "2023-03-25T10:49:23.817Z"
   },
   {
    "duration": 16,
    "start_time": "2023-03-25T10:50:08.512Z"
   },
   {
    "duration": 12,
    "start_time": "2023-03-25T10:50:11.300Z"
   },
   {
    "duration": 20,
    "start_time": "2023-03-25T10:55:26.695Z"
   },
   {
    "duration": 12,
    "start_time": "2023-03-25T10:56:28.263Z"
   },
   {
    "duration": 13,
    "start_time": "2023-03-25T10:56:44.728Z"
   },
   {
    "duration": 14,
    "start_time": "2023-03-25T10:57:46.644Z"
   },
   {
    "duration": 16,
    "start_time": "2023-03-25T10:58:08.714Z"
   },
   {
    "duration": 13,
    "start_time": "2023-03-25T10:59:43.015Z"
   },
   {
    "duration": 15,
    "start_time": "2023-03-25T10:59:59.948Z"
   },
   {
    "duration": 17,
    "start_time": "2023-03-25T11:00:29.443Z"
   },
   {
    "duration": 12,
    "start_time": "2023-03-25T11:01:21.904Z"
   },
   {
    "duration": 11,
    "start_time": "2023-03-25T11:01:52.390Z"
   },
   {
    "duration": 12,
    "start_time": "2023-03-25T11:03:46.727Z"
   },
   {
    "duration": 10,
    "start_time": "2023-03-25T11:05:21.005Z"
   },
   {
    "duration": 17,
    "start_time": "2023-03-25T11:06:32.912Z"
   },
   {
    "duration": 2028,
    "start_time": "2023-03-25T11:09:07.508Z"
   },
   {
    "duration": 1945,
    "start_time": "2023-03-25T11:09:09.538Z"
   },
   {
    "duration": 1862,
    "start_time": "2023-03-25T11:09:11.486Z"
   },
   {
    "duration": 48,
    "start_time": "2023-03-25T11:09:13.350Z"
   },
   {
    "duration": 5,
    "start_time": "2023-03-25T11:09:13.400Z"
   },
   {
    "duration": 25,
    "start_time": "2023-03-25T11:09:13.406Z"
   },
   {
    "duration": 168,
    "start_time": "2023-03-25T11:09:13.432Z"
   },
   {
    "duration": 9,
    "start_time": "2023-03-25T11:09:13.602Z"
   },
   {
    "duration": 800,
    "start_time": "2023-03-25T11:09:13.613Z"
   },
   {
    "duration": 4,
    "start_time": "2023-03-25T11:09:14.415Z"
   },
   {
    "duration": 7,
    "start_time": "2023-03-25T11:09:14.420Z"
   },
   {
    "duration": 7,
    "start_time": "2023-03-25T11:09:14.428Z"
   },
   {
    "duration": 3,
    "start_time": "2023-03-25T11:09:14.437Z"
   },
   {
    "duration": 8,
    "start_time": "2023-03-25T11:09:14.442Z"
   },
   {
    "duration": 9,
    "start_time": "2023-03-25T11:09:14.451Z"
   },
   {
    "duration": 26,
    "start_time": "2023-03-25T11:09:14.462Z"
   },
   {
    "duration": 5,
    "start_time": "2023-03-25T11:09:14.489Z"
   },
   {
    "duration": 13,
    "start_time": "2023-03-25T11:09:14.495Z"
   },
   {
    "duration": 4,
    "start_time": "2023-03-25T11:09:14.509Z"
   },
   {
    "duration": 131,
    "start_time": "2023-03-25T11:09:14.515Z"
   },
   {
    "duration": 10,
    "start_time": "2023-03-25T11:09:14.648Z"
   },
   {
    "duration": 33,
    "start_time": "2023-03-25T11:09:14.660Z"
   },
   {
    "duration": 11,
    "start_time": "2023-03-25T11:09:14.695Z"
   },
   {
    "duration": 12,
    "start_time": "2023-03-25T11:09:14.708Z"
   },
   {
    "duration": 70,
    "start_time": "2023-03-25T11:09:14.721Z"
   },
   {
    "duration": 5,
    "start_time": "2023-03-25T11:09:14.793Z"
   },
   {
    "duration": 8,
    "start_time": "2023-03-25T11:09:14.799Z"
   },
   {
    "duration": 5,
    "start_time": "2023-03-25T11:09:14.810Z"
   },
   {
    "duration": 15,
    "start_time": "2023-03-25T11:09:14.816Z"
   },
   {
    "duration": 12,
    "start_time": "2023-03-25T11:09:14.832Z"
   },
   {
    "duration": 20,
    "start_time": "2023-03-25T11:09:14.874Z"
   },
   {
    "duration": 4,
    "start_time": "2023-03-25T11:09:14.896Z"
   },
   {
    "duration": 5,
    "start_time": "2023-03-25T11:09:14.901Z"
   },
   {
    "duration": 11778,
    "start_time": "2023-03-25T11:09:14.907Z"
   },
   {
    "duration": 13,
    "start_time": "2023-03-25T11:09:26.686Z"
   },
   {
    "duration": 13,
    "start_time": "2023-03-25T11:09:26.701Z"
   },
   {
    "duration": 87,
    "start_time": "2023-03-25T11:09:26.716Z"
   },
   {
    "duration": 3,
    "start_time": "2023-03-25T11:09:26.805Z"
   },
   {
    "duration": 22377,
    "start_time": "2023-03-25T11:09:26.810Z"
   },
   {
    "duration": 13,
    "start_time": "2023-03-25T11:09:49.188Z"
   },
   {
    "duration": 38,
    "start_time": "2023-03-25T11:09:49.203Z"
   },
   {
    "duration": 20,
    "start_time": "2023-03-25T11:09:49.242Z"
   },
   {
    "duration": 26104,
    "start_time": "2023-03-25T11:09:49.277Z"
   },
   {
    "duration": 10,
    "start_time": "2023-03-25T11:10:15.384Z"
   },
   {
    "duration": 18,
    "start_time": "2023-03-25T11:10:15.395Z"
   },
   {
    "duration": 5,
    "start_time": "2023-03-25T11:10:15.414Z"
   },
   {
    "duration": 72608,
    "start_time": "2023-03-25T11:10:15.481Z"
   },
   {
    "duration": 14,
    "start_time": "2023-03-25T11:11:28.091Z"
   },
   {
    "duration": 79,
    "start_time": "2023-03-25T11:11:28.107Z"
   },
   {
    "duration": 69312,
    "start_time": "2023-03-25T11:11:28.188Z"
   },
   {
    "duration": 8,
    "start_time": "2023-03-25T11:12:37.502Z"
   },
   {
    "duration": 89,
    "start_time": "2023-03-25T11:12:37.512Z"
   },
   {
    "duration": 73770,
    "start_time": "2023-03-25T11:12:37.603Z"
   },
   {
    "duration": 17,
    "start_time": "2023-03-25T11:13:51.376Z"
   },
   {
    "duration": 20,
    "start_time": "2023-03-25T11:13:51.395Z"
   },
   {
    "duration": 17,
    "start_time": "2023-03-25T11:23:49.788Z"
   },
   {
    "duration": 24,
    "start_time": "2023-03-25T11:24:07.371Z"
   },
   {
    "duration": 19,
    "start_time": "2023-03-25T11:24:53.878Z"
   },
   {
    "duration": 18,
    "start_time": "2023-03-25T11:25:33.288Z"
   },
   {
    "duration": 26,
    "start_time": "2023-03-25T11:25:39.919Z"
   },
   {
    "duration": 19,
    "start_time": "2023-03-25T11:25:58.733Z"
   },
   {
    "duration": 223,
    "start_time": "2023-03-25T11:26:05.737Z"
   },
   {
    "duration": 17,
    "start_time": "2023-03-25T11:26:17.141Z"
   },
   {
    "duration": 700,
    "start_time": "2023-03-25T11:32:21.390Z"
   },
   {
    "duration": 29,
    "start_time": "2023-03-25T11:36:15.699Z"
   },
   {
    "duration": 22,
    "start_time": "2023-03-25T11:36:58.068Z"
   },
   {
    "duration": 20,
    "start_time": "2023-03-25T11:37:05.188Z"
   },
   {
    "duration": 27,
    "start_time": "2023-03-25T11:37:25.596Z"
   },
   {
    "duration": 19,
    "start_time": "2023-03-25T11:37:37.965Z"
   },
   {
    "duration": 20,
    "start_time": "2023-03-25T11:37:48.323Z"
   },
   {
    "duration": 31,
    "start_time": "2023-03-25T11:38:07.711Z"
   },
   {
    "duration": 24,
    "start_time": "2023-03-25T11:38:16.263Z"
   },
   {
    "duration": 2055,
    "start_time": "2023-03-25T11:38:35.894Z"
   },
   {
    "duration": 1821,
    "start_time": "2023-03-25T11:38:37.951Z"
   },
   {
    "duration": 1835,
    "start_time": "2023-03-25T11:38:39.774Z"
   },
   {
    "duration": 38,
    "start_time": "2023-03-25T11:38:41.611Z"
   },
   {
    "duration": 5,
    "start_time": "2023-03-25T11:38:41.651Z"
   },
   {
    "duration": 48,
    "start_time": "2023-03-25T11:38:41.658Z"
   },
   {
    "duration": 155,
    "start_time": "2023-03-25T11:38:41.708Z"
   },
   {
    "duration": 11,
    "start_time": "2023-03-25T11:38:41.864Z"
   },
   {
    "duration": 802,
    "start_time": "2023-03-25T11:38:41.877Z"
   },
   {
    "duration": 4,
    "start_time": "2023-03-25T11:38:42.681Z"
   },
   {
    "duration": 7,
    "start_time": "2023-03-25T11:38:42.686Z"
   },
   {
    "duration": 9,
    "start_time": "2023-03-25T11:38:42.694Z"
   },
   {
    "duration": 9,
    "start_time": "2023-03-25T11:38:42.705Z"
   },
   {
    "duration": 8,
    "start_time": "2023-03-25T11:38:42.716Z"
   },
   {
    "duration": 8,
    "start_time": "2023-03-25T11:38:42.726Z"
   },
   {
    "duration": 13,
    "start_time": "2023-03-25T11:38:42.736Z"
   },
   {
    "duration": 24,
    "start_time": "2023-03-25T11:38:42.751Z"
   },
   {
    "duration": 19,
    "start_time": "2023-03-25T11:38:42.776Z"
   },
   {
    "duration": 6,
    "start_time": "2023-03-25T11:38:42.796Z"
   },
   {
    "duration": 166,
    "start_time": "2023-03-25T11:38:42.803Z"
   },
   {
    "duration": 14,
    "start_time": "2023-03-25T11:38:42.971Z"
   },
   {
    "duration": 15,
    "start_time": "2023-03-25T11:38:42.986Z"
   },
   {
    "duration": 13,
    "start_time": "2023-03-25T11:38:43.003Z"
   },
   {
    "duration": 14,
    "start_time": "2023-03-25T11:38:43.072Z"
   },
   {
    "duration": 27,
    "start_time": "2023-03-25T11:38:43.087Z"
   },
   {
    "duration": 8,
    "start_time": "2023-03-25T11:38:43.115Z"
   },
   {
    "duration": 52,
    "start_time": "2023-03-25T11:38:43.124Z"
   },
   {
    "duration": 7,
    "start_time": "2023-03-25T11:38:43.180Z"
   },
   {
    "duration": 23,
    "start_time": "2023-03-25T11:38:43.189Z"
   },
   {
    "duration": 14,
    "start_time": "2023-03-25T11:38:43.214Z"
   },
   {
    "duration": 152,
    "start_time": "2023-03-25T11:38:43.230Z"
   },
   {
    "duration": 9,
    "start_time": "2023-03-25T11:38:43.384Z"
   },
   {
    "duration": 5,
    "start_time": "2023-03-25T11:38:43.395Z"
   },
   {
    "duration": 7691,
    "start_time": "2023-03-25T11:38:43.401Z"
   },
   {
    "duration": 10,
    "start_time": "2023-03-25T11:38:51.172Z"
   },
   {
    "duration": 22,
    "start_time": "2023-03-25T11:38:51.184Z"
   },
   {
    "duration": 22,
    "start_time": "2023-03-25T11:38:51.208Z"
   },
   {
    "duration": 2,
    "start_time": "2023-03-25T11:38:51.232Z"
   },
   {
    "duration": 14054,
    "start_time": "2023-03-25T11:38:51.235Z"
   },
   {
    "duration": 86,
    "start_time": "2023-03-25T11:39:05.291Z"
   },
   {
    "duration": 25,
    "start_time": "2023-03-25T11:39:05.379Z"
   },
   {
    "duration": 3,
    "start_time": "2023-03-25T11:39:05.407Z"
   },
   {
    "duration": 13966,
    "start_time": "2023-03-25T11:39:05.411Z"
   },
   {
    "duration": 8,
    "start_time": "2023-03-25T11:39:19.378Z"
   },
   {
    "duration": 18,
    "start_time": "2023-03-25T11:39:19.387Z"
   },
   {
    "duration": 8,
    "start_time": "2023-03-25T11:39:19.407Z"
   },
   {
    "duration": 50756,
    "start_time": "2023-03-25T11:39:19.416Z"
   },
   {
    "duration": 8,
    "start_time": "2023-03-25T11:40:10.175Z"
   },
   {
    "duration": 23,
    "start_time": "2023-03-25T11:40:10.185Z"
   },
   {
    "duration": 45365,
    "start_time": "2023-03-25T11:40:10.210Z"
   },
   {
    "duration": 7,
    "start_time": "2023-03-25T11:40:55.577Z"
   },
   {
    "duration": 13,
    "start_time": "2023-03-25T11:40:55.586Z"
   },
   {
    "duration": 43177,
    "start_time": "2023-03-25T11:40:55.600Z"
   },
   {
    "duration": 8,
    "start_time": "2023-03-25T11:41:38.779Z"
   },
   {
    "duration": 20,
    "start_time": "2023-03-25T11:41:38.789Z"
   },
   {
    "duration": 232,
    "start_time": "2023-03-25T11:41:38.811Z"
   },
   {
    "duration": 25,
    "start_time": "2023-03-25T11:42:16.250Z"
   },
   {
    "duration": 60,
    "start_time": "2023-03-25T11:42:37.548Z"
   },
   {
    "duration": 19,
    "start_time": "2023-03-25T11:42:44.675Z"
   },
   {
    "duration": 22,
    "start_time": "2023-03-25T11:42:56.223Z"
   },
   {
    "duration": 19,
    "start_time": "2023-03-25T11:43:10.855Z"
   },
   {
    "duration": 19,
    "start_time": "2023-03-25T11:43:21.637Z"
   },
   {
    "duration": 23,
    "start_time": "2023-03-25T11:48:20.433Z"
   },
   {
    "duration": 29,
    "start_time": "2023-03-25T11:48:32.573Z"
   },
   {
    "duration": 24,
    "start_time": "2023-03-25T11:48:45.179Z"
   },
   {
    "duration": 19,
    "start_time": "2023-03-25T11:49:01.975Z"
   },
   {
    "duration": 2767,
    "start_time": "2023-03-25T16:36:36.631Z"
   },
   {
    "duration": 23196,
    "start_time": "2023-03-25T16:36:39.400Z"
   },
   {
    "duration": 1945,
    "start_time": "2023-03-25T16:37:02.598Z"
   },
   {
    "duration": 0,
    "start_time": "2023-03-25T16:37:04.546Z"
   },
   {
    "duration": 0,
    "start_time": "2023-03-25T16:37:04.548Z"
   },
   {
    "duration": 0,
    "start_time": "2023-03-25T16:37:04.550Z"
   },
   {
    "duration": 0,
    "start_time": "2023-03-25T16:37:04.551Z"
   },
   {
    "duration": 0,
    "start_time": "2023-03-25T16:37:04.552Z"
   },
   {
    "duration": 0,
    "start_time": "2023-03-25T16:37:04.553Z"
   },
   {
    "duration": 0,
    "start_time": "2023-03-25T16:37:04.553Z"
   },
   {
    "duration": 0,
    "start_time": "2023-03-25T16:37:04.554Z"
   },
   {
    "duration": 0,
    "start_time": "2023-03-25T16:37:04.555Z"
   },
   {
    "duration": 0,
    "start_time": "2023-03-25T16:37:04.556Z"
   },
   {
    "duration": 0,
    "start_time": "2023-03-25T16:37:04.557Z"
   },
   {
    "duration": 0,
    "start_time": "2023-03-25T16:37:04.568Z"
   },
   {
    "duration": 0,
    "start_time": "2023-03-25T16:37:04.569Z"
   },
   {
    "duration": 0,
    "start_time": "2023-03-25T16:37:04.571Z"
   },
   {
    "duration": 0,
    "start_time": "2023-03-25T16:37:04.572Z"
   },
   {
    "duration": 0,
    "start_time": "2023-03-25T16:37:04.574Z"
   },
   {
    "duration": 0,
    "start_time": "2023-03-25T16:37:04.575Z"
   },
   {
    "duration": 0,
    "start_time": "2023-03-25T16:37:04.576Z"
   },
   {
    "duration": 0,
    "start_time": "2023-03-25T16:37:04.577Z"
   },
   {
    "duration": 0,
    "start_time": "2023-03-25T16:37:04.579Z"
   },
   {
    "duration": 0,
    "start_time": "2023-03-25T16:37:04.580Z"
   },
   {
    "duration": 0,
    "start_time": "2023-03-25T16:37:04.581Z"
   },
   {
    "duration": 0,
    "start_time": "2023-03-25T16:37:04.582Z"
   },
   {
    "duration": 0,
    "start_time": "2023-03-25T16:37:04.583Z"
   },
   {
    "duration": 0,
    "start_time": "2023-03-25T16:37:04.586Z"
   },
   {
    "duration": 0,
    "start_time": "2023-03-25T16:37:04.587Z"
   },
   {
    "duration": 0,
    "start_time": "2023-03-25T16:37:04.589Z"
   },
   {
    "duration": 0,
    "start_time": "2023-03-25T16:37:04.590Z"
   },
   {
    "duration": 0,
    "start_time": "2023-03-25T16:37:04.591Z"
   },
   {
    "duration": 0,
    "start_time": "2023-03-25T16:37:04.592Z"
   },
   {
    "duration": 0,
    "start_time": "2023-03-25T16:37:04.594Z"
   },
   {
    "duration": 0,
    "start_time": "2023-03-25T16:37:04.596Z"
   },
   {
    "duration": 0,
    "start_time": "2023-03-25T16:37:04.598Z"
   },
   {
    "duration": 0,
    "start_time": "2023-03-25T16:37:04.599Z"
   },
   {
    "duration": 0,
    "start_time": "2023-03-25T16:37:04.600Z"
   },
   {
    "duration": 0,
    "start_time": "2023-03-25T16:37:04.603Z"
   },
   {
    "duration": 0,
    "start_time": "2023-03-25T16:37:04.604Z"
   },
   {
    "duration": 0,
    "start_time": "2023-03-25T16:37:04.605Z"
   },
   {
    "duration": 0,
    "start_time": "2023-03-25T16:37:04.606Z"
   },
   {
    "duration": 0,
    "start_time": "2023-03-25T16:37:04.608Z"
   },
   {
    "duration": 0,
    "start_time": "2023-03-25T16:37:04.609Z"
   },
   {
    "duration": 0,
    "start_time": "2023-03-25T16:37:04.669Z"
   },
   {
    "duration": 0,
    "start_time": "2023-03-25T16:37:04.671Z"
   },
   {
    "duration": 0,
    "start_time": "2023-03-25T16:37:04.672Z"
   },
   {
    "duration": 0,
    "start_time": "2023-03-25T16:37:04.674Z"
   },
   {
    "duration": 0,
    "start_time": "2023-03-25T16:37:04.675Z"
   },
   {
    "duration": 0,
    "start_time": "2023-03-25T16:37:04.677Z"
   },
   {
    "duration": 0,
    "start_time": "2023-03-25T16:37:04.678Z"
   },
   {
    "duration": 0,
    "start_time": "2023-03-25T16:37:04.680Z"
   },
   {
    "duration": 0,
    "start_time": "2023-03-25T16:37:04.681Z"
   },
   {
    "duration": 0,
    "start_time": "2023-03-25T16:37:04.682Z"
   },
   {
    "duration": 0,
    "start_time": "2023-03-25T16:37:04.684Z"
   },
   {
    "duration": 0,
    "start_time": "2023-03-25T16:37:04.685Z"
   },
   {
    "duration": 1909,
    "start_time": "2023-03-25T16:41:13.518Z"
   },
   {
    "duration": 1689,
    "start_time": "2023-03-25T16:41:15.430Z"
   },
   {
    "duration": 1972,
    "start_time": "2023-03-25T16:41:17.121Z"
   },
   {
    "duration": 84,
    "start_time": "2023-03-25T16:41:19.096Z"
   },
   {
    "duration": 5,
    "start_time": "2023-03-25T16:41:19.182Z"
   },
   {
    "duration": 31,
    "start_time": "2023-03-25T16:41:19.189Z"
   },
   {
    "duration": 230,
    "start_time": "2023-03-25T16:41:19.222Z"
   },
   {
    "duration": 24,
    "start_time": "2023-03-25T16:41:19.455Z"
   },
   {
    "duration": 1038,
    "start_time": "2023-03-25T16:41:19.481Z"
   },
   {
    "duration": 4,
    "start_time": "2023-03-25T16:41:20.523Z"
   },
   {
    "duration": 4,
    "start_time": "2023-03-25T16:41:20.530Z"
   },
   {
    "duration": 7,
    "start_time": "2023-03-25T16:41:20.536Z"
   },
   {
    "duration": 5,
    "start_time": "2023-03-25T16:41:20.545Z"
   },
   {
    "duration": 10,
    "start_time": "2023-03-25T16:41:20.552Z"
   },
   {
    "duration": 7,
    "start_time": "2023-03-25T16:41:20.568Z"
   },
   {
    "duration": 8,
    "start_time": "2023-03-25T16:41:20.578Z"
   },
   {
    "duration": 7,
    "start_time": "2023-03-25T16:41:20.588Z"
   },
   {
    "duration": 12,
    "start_time": "2023-03-25T16:41:20.598Z"
   },
   {
    "duration": 8,
    "start_time": "2023-03-25T16:41:20.611Z"
   },
   {
    "duration": 168,
    "start_time": "2023-03-25T16:41:20.621Z"
   },
   {
    "duration": 18,
    "start_time": "2023-03-25T16:41:20.791Z"
   },
   {
    "duration": 60,
    "start_time": "2023-03-25T16:41:20.812Z"
   },
   {
    "duration": 16,
    "start_time": "2023-03-25T16:41:20.874Z"
   },
   {
    "duration": 17,
    "start_time": "2023-03-25T16:41:20.892Z"
   },
   {
    "duration": 61,
    "start_time": "2023-03-25T16:41:20.910Z"
   },
   {
    "duration": 7,
    "start_time": "2023-03-25T16:41:20.974Z"
   },
   {
    "duration": 8,
    "start_time": "2023-03-25T16:41:20.983Z"
   },
   {
    "duration": 6,
    "start_time": "2023-03-25T16:41:20.994Z"
   },
   {
    "duration": 24,
    "start_time": "2023-03-25T16:41:21.001Z"
   },
   {
    "duration": 52,
    "start_time": "2023-03-25T16:41:21.027Z"
   },
   {
    "duration": 121,
    "start_time": "2023-03-25T16:41:21.082Z"
   },
   {
    "duration": 6,
    "start_time": "2023-03-25T16:41:21.206Z"
   },
   {
    "duration": 4,
    "start_time": "2023-03-25T16:41:21.214Z"
   },
   {
    "duration": 8055,
    "start_time": "2023-03-25T16:41:21.220Z"
   },
   {
    "duration": 7,
    "start_time": "2023-03-25T16:41:29.277Z"
   },
   {
    "duration": 8,
    "start_time": "2023-03-25T16:41:29.286Z"
   },
   {
    "duration": 21,
    "start_time": "2023-03-25T16:41:29.295Z"
   },
   {
    "duration": 4,
    "start_time": "2023-03-25T16:41:29.368Z"
   },
   {
    "duration": 16111,
    "start_time": "2023-03-25T16:41:29.375Z"
   },
   {
    "duration": 11,
    "start_time": "2023-03-25T16:41:45.569Z"
   },
   {
    "duration": 88,
    "start_time": "2023-03-25T16:41:45.582Z"
   },
   {
    "duration": 4,
    "start_time": "2023-03-25T16:41:45.672Z"
   },
   {
    "duration": 14400,
    "start_time": "2023-03-25T16:41:45.678Z"
   },
   {
    "duration": 9,
    "start_time": "2023-03-25T16:42:00.080Z"
   },
   {
    "duration": 37,
    "start_time": "2023-03-25T16:42:00.091Z"
   },
   {
    "duration": 48,
    "start_time": "2023-03-25T16:42:00.129Z"
   },
   {
    "duration": 62196,
    "start_time": "2023-03-25T16:42:00.179Z"
   },
   {
    "duration": 11,
    "start_time": "2023-03-25T16:43:02.378Z"
   },
   {
    "duration": 37,
    "start_time": "2023-03-25T16:43:02.391Z"
   },
   {
    "duration": 84164,
    "start_time": "2023-03-25T16:43:02.430Z"
   },
   {
    "duration": 11,
    "start_time": "2023-03-25T16:44:26.596Z"
   },
   {
    "duration": 78,
    "start_time": "2023-03-25T16:44:26.608Z"
   },
   {
    "duration": 74509,
    "start_time": "2023-03-25T16:44:26.688Z"
   },
   {
    "duration": 80,
    "start_time": "2023-03-25T16:45:41.199Z"
   },
   {
    "duration": 26,
    "start_time": "2023-03-25T16:45:41.281Z"
   },
   {
    "duration": 33,
    "start_time": "2023-03-25T16:45:41.309Z"
   },
   {
    "duration": 17034,
    "start_time": "2023-03-25T16:51:01.386Z"
   },
   {
    "duration": 75741,
    "start_time": "2023-03-25T16:51:37.738Z"
   },
   {
    "duration": 8,
    "start_time": "2023-03-25T16:53:14.650Z"
   },
   {
    "duration": 29,
    "start_time": "2023-03-25T16:53:21.572Z"
   },
   {
    "duration": 73219,
    "start_time": "2023-03-25T16:54:32.182Z"
   },
   {
    "duration": 9,
    "start_time": "2023-03-25T16:55:55.162Z"
   },
   {
    "duration": 20,
    "start_time": "2023-03-25T16:55:57.694Z"
   },
   {
    "duration": 25,
    "start_time": "2023-03-25T16:56:01.877Z"
   },
   {
    "duration": 2304,
    "start_time": "2023-03-25T17:00:14.599Z"
   },
   {
    "duration": 1955,
    "start_time": "2023-03-25T17:00:16.906Z"
   },
   {
    "duration": 2361,
    "start_time": "2023-03-25T17:00:18.864Z"
   },
   {
    "duration": 38,
    "start_time": "2023-03-25T17:00:21.227Z"
   },
   {
    "duration": 21,
    "start_time": "2023-03-25T17:00:21.268Z"
   },
   {
    "duration": 30,
    "start_time": "2023-03-25T17:00:21.290Z"
   },
   {
    "duration": 221,
    "start_time": "2023-03-25T17:00:21.321Z"
   },
   {
    "duration": 11,
    "start_time": "2023-03-25T17:00:21.543Z"
   },
   {
    "duration": 969,
    "start_time": "2023-03-25T17:00:21.555Z"
   },
   {
    "duration": 5,
    "start_time": "2023-03-25T17:00:22.526Z"
   },
   {
    "duration": 4,
    "start_time": "2023-03-25T17:00:22.533Z"
   },
   {
    "duration": 7,
    "start_time": "2023-03-25T17:00:22.539Z"
   },
   {
    "duration": 3,
    "start_time": "2023-03-25T17:00:22.548Z"
   },
   {
    "duration": 20,
    "start_time": "2023-03-25T17:00:22.574Z"
   },
   {
    "duration": 7,
    "start_time": "2023-03-25T17:00:22.596Z"
   },
   {
    "duration": 13,
    "start_time": "2023-03-25T17:00:22.605Z"
   },
   {
    "duration": 9,
    "start_time": "2023-03-25T17:00:22.623Z"
   },
   {
    "duration": 15,
    "start_time": "2023-03-25T17:00:22.634Z"
   },
   {
    "duration": 6,
    "start_time": "2023-03-25T17:00:22.651Z"
   },
   {
    "duration": 169,
    "start_time": "2023-03-25T17:00:22.660Z"
   },
   {
    "duration": 12,
    "start_time": "2023-03-25T17:00:22.830Z"
   },
   {
    "duration": 35,
    "start_time": "2023-03-25T17:00:22.844Z"
   },
   {
    "duration": 16,
    "start_time": "2023-03-25T17:00:22.881Z"
   },
   {
    "duration": 19,
    "start_time": "2023-03-25T17:00:22.899Z"
   },
   {
    "duration": 15,
    "start_time": "2023-03-25T17:00:22.970Z"
   },
   {
    "duration": 10,
    "start_time": "2023-03-25T17:00:22.987Z"
   },
   {
    "duration": 8,
    "start_time": "2023-03-25T17:00:22.999Z"
   },
   {
    "duration": 184,
    "start_time": "2023-03-25T17:00:23.009Z"
   },
   {
    "duration": 0,
    "start_time": "2023-03-25T17:00:23.197Z"
   },
   {
    "duration": 0,
    "start_time": "2023-03-25T17:00:23.198Z"
   },
   {
    "duration": 0,
    "start_time": "2023-03-25T17:00:23.199Z"
   },
   {
    "duration": 0,
    "start_time": "2023-03-25T17:00:23.200Z"
   },
   {
    "duration": 0,
    "start_time": "2023-03-25T17:00:23.201Z"
   },
   {
    "duration": 0,
    "start_time": "2023-03-25T17:00:23.202Z"
   },
   {
    "duration": 0,
    "start_time": "2023-03-25T17:00:23.204Z"
   },
   {
    "duration": 0,
    "start_time": "2023-03-25T17:00:23.205Z"
   },
   {
    "duration": 0,
    "start_time": "2023-03-25T17:00:23.208Z"
   },
   {
    "duration": 0,
    "start_time": "2023-03-25T17:00:23.209Z"
   },
   {
    "duration": 0,
    "start_time": "2023-03-25T17:00:23.210Z"
   },
   {
    "duration": 0,
    "start_time": "2023-03-25T17:00:23.212Z"
   },
   {
    "duration": 0,
    "start_time": "2023-03-25T17:00:23.213Z"
   },
   {
    "duration": 0,
    "start_time": "2023-03-25T17:00:23.214Z"
   },
   {
    "duration": 1,
    "start_time": "2023-03-25T17:00:23.215Z"
   },
   {
    "duration": 0,
    "start_time": "2023-03-25T17:00:23.217Z"
   },
   {
    "duration": 0,
    "start_time": "2023-03-25T17:00:23.219Z"
   },
   {
    "duration": 0,
    "start_time": "2023-03-25T17:00:23.220Z"
   },
   {
    "duration": 0,
    "start_time": "2023-03-25T17:00:23.222Z"
   },
   {
    "duration": 0,
    "start_time": "2023-03-25T17:00:23.223Z"
   },
   {
    "duration": 1,
    "start_time": "2023-03-25T17:00:23.224Z"
   },
   {
    "duration": 0,
    "start_time": "2023-03-25T17:00:23.226Z"
   },
   {
    "duration": 0,
    "start_time": "2023-03-25T17:00:23.228Z"
   },
   {
    "duration": 0,
    "start_time": "2023-03-25T17:00:23.230Z"
   },
   {
    "duration": 0,
    "start_time": "2023-03-25T17:00:23.231Z"
   },
   {
    "duration": 0,
    "start_time": "2023-03-25T17:00:23.232Z"
   },
   {
    "duration": 0,
    "start_time": "2023-03-25T17:00:23.234Z"
   },
   {
    "duration": 0,
    "start_time": "2023-03-25T17:00:23.270Z"
   },
   {
    "duration": 0,
    "start_time": "2023-03-25T17:00:23.274Z"
   },
   {
    "duration": 0,
    "start_time": "2023-03-25T17:00:23.275Z"
   },
   {
    "duration": 0,
    "start_time": "2023-03-25T17:00:23.276Z"
   },
   {
    "duration": 0,
    "start_time": "2023-03-25T17:00:23.281Z"
   },
   {
    "duration": 19,
    "start_time": "2023-03-25T17:00:49.452Z"
   },
   {
    "duration": 24,
    "start_time": "2023-03-25T17:00:57.987Z"
   },
   {
    "duration": 5,
    "start_time": "2023-03-25T17:01:10.645Z"
   },
   {
    "duration": 121,
    "start_time": "2023-03-25T17:01:12.604Z"
   },
   {
    "duration": 22,
    "start_time": "2023-03-25T17:01:14.967Z"
   },
   {
    "duration": 13,
    "start_time": "2023-03-25T17:01:15.698Z"
   },
   {
    "duration": 7,
    "start_time": "2023-03-25T17:01:16.692Z"
   },
   {
    "duration": 3,
    "start_time": "2023-03-25T17:01:19.915Z"
   },
   {
    "duration": 26409,
    "start_time": "2023-03-25T17:01:21.295Z"
   },
   {
    "duration": 11,
    "start_time": "2023-03-25T17:01:47.707Z"
   },
   {
    "duration": 20,
    "start_time": "2023-03-25T17:02:05.726Z"
   },
   {
    "duration": 3,
    "start_time": "2023-03-25T17:02:14.749Z"
   },
   {
    "duration": 42874,
    "start_time": "2023-03-25T17:02:20.445Z"
   },
   {
    "duration": 9,
    "start_time": "2023-03-25T17:03:16.436Z"
   },
   {
    "duration": 20,
    "start_time": "2023-03-25T17:03:18.557Z"
   },
   {
    "duration": 4,
    "start_time": "2023-03-25T17:04:31.739Z"
   },
   {
    "duration": 6,
    "start_time": "2023-03-25T17:04:37.345Z"
   },
   {
    "duration": 108203,
    "start_time": "2023-03-25T17:04:38.842Z"
   },
   {
    "duration": 10,
    "start_time": "2023-03-25T17:06:58.184Z"
   },
   {
    "duration": 19,
    "start_time": "2023-03-25T17:07:00.665Z"
   },
   {
    "duration": 3,
    "start_time": "2023-03-25T17:08:31.409Z"
   },
   {
    "duration": 23044,
    "start_time": "2023-03-25T17:08:35.255Z"
   },
   {
    "duration": 75829,
    "start_time": "2023-03-25T17:09:09.566Z"
   },
   {
    "duration": 20147,
    "start_time": "2023-03-25T17:10:31.450Z"
   },
   {
    "duration": 14,
    "start_time": "2023-03-25T17:10:54.496Z"
   },
   {
    "duration": 20,
    "start_time": "2023-03-25T17:10:56.745Z"
   },
   {
    "duration": 2,
    "start_time": "2023-03-25T17:11:44.327Z"
   },
   {
    "duration": 24160,
    "start_time": "2023-03-25T17:12:07.637Z"
   },
   {
    "duration": 10,
    "start_time": "2023-03-25T17:12:37.112Z"
   },
   {
    "duration": 15,
    "start_time": "2023-03-25T17:12:40.408Z"
   },
   {
    "duration": 20,
    "start_time": "2023-03-25T17:13:04.487Z"
   },
   {
    "duration": 74,
    "start_time": "2023-03-25T17:14:21.849Z"
   },
   {
    "duration": 2,
    "start_time": "2023-03-25T17:14:30.784Z"
   },
   {
    "duration": 2524,
    "start_time": "2023-03-25T17:14:56.660Z"
   },
   {
    "duration": 20263,
    "start_time": "2023-03-25T17:15:26.836Z"
   },
   {
    "duration": 37039,
    "start_time": "2023-03-25T17:16:11.050Z"
   },
   {
    "duration": 8,
    "start_time": "2023-03-25T17:16:59.833Z"
   },
   {
    "duration": 19,
    "start_time": "2023-03-25T17:17:05.110Z"
   },
   {
    "duration": 18,
    "start_time": "2023-03-25T17:17:32.257Z"
   },
   {
    "duration": 26313,
    "start_time": "2023-03-25T17:17:48.188Z"
   },
   {
    "duration": 13,
    "start_time": "2023-03-25T17:18:20.919Z"
   },
   {
    "duration": 20,
    "start_time": "2023-03-25T17:18:24.105Z"
   },
   {
    "duration": 33341,
    "start_time": "2023-03-25T17:19:03.762Z"
   },
   {
    "duration": 10,
    "start_time": "2023-03-25T17:19:50.120Z"
   },
   {
    "duration": 15,
    "start_time": "2023-03-25T17:19:55.526Z"
   },
   {
    "duration": 29357,
    "start_time": "2023-03-25T17:20:12.028Z"
   },
   {
    "duration": 11,
    "start_time": "2023-03-25T17:20:47.288Z"
   },
   {
    "duration": 24,
    "start_time": "2023-03-25T17:20:50.650Z"
   },
   {
    "duration": 15,
    "start_time": "2023-03-25T17:21:04.707Z"
   },
   {
    "duration": 21,
    "start_time": "2023-03-25T17:21:28.114Z"
   },
   {
    "duration": 1888,
    "start_time": "2023-03-25T17:56:24.503Z"
   },
   {
    "duration": 1746,
    "start_time": "2023-03-25T17:56:26.393Z"
   },
   {
    "duration": 1953,
    "start_time": "2023-03-25T17:56:28.141Z"
   },
   {
    "duration": 41,
    "start_time": "2023-03-25T17:56:30.097Z"
   },
   {
    "duration": 5,
    "start_time": "2023-03-25T17:56:30.140Z"
   },
   {
    "duration": 57,
    "start_time": "2023-03-25T17:56:30.147Z"
   },
   {
    "duration": 165,
    "start_time": "2023-03-25T17:56:30.206Z"
   },
   {
    "duration": 20,
    "start_time": "2023-03-25T17:56:30.373Z"
   },
   {
    "duration": 813,
    "start_time": "2023-03-25T17:56:30.395Z"
   },
   {
    "duration": 3,
    "start_time": "2023-03-25T17:56:31.211Z"
   },
   {
    "duration": 23,
    "start_time": "2023-03-25T17:56:31.215Z"
   },
   {
    "duration": 25,
    "start_time": "2023-03-25T17:56:31.239Z"
   },
   {
    "duration": 51,
    "start_time": "2023-03-25T17:56:31.266Z"
   },
   {
    "duration": 20,
    "start_time": "2023-03-25T17:56:31.319Z"
   },
   {
    "duration": 30,
    "start_time": "2023-03-25T17:56:31.342Z"
   },
   {
    "duration": 19,
    "start_time": "2023-03-25T17:56:31.373Z"
   },
   {
    "duration": 6,
    "start_time": "2023-03-25T17:56:31.393Z"
   },
   {
    "duration": 22,
    "start_time": "2023-03-25T17:56:31.400Z"
   },
   {
    "duration": 20,
    "start_time": "2023-03-25T17:56:31.423Z"
   },
   {
    "duration": 131,
    "start_time": "2023-03-25T17:56:31.445Z"
   },
   {
    "duration": 20,
    "start_time": "2023-03-25T17:56:31.578Z"
   },
   {
    "duration": 25,
    "start_time": "2023-03-25T17:56:31.599Z"
   },
   {
    "duration": 53,
    "start_time": "2023-03-25T17:56:31.626Z"
   },
   {
    "duration": 13,
    "start_time": "2023-03-25T17:56:31.682Z"
   },
   {
    "duration": 27,
    "start_time": "2023-03-25T17:56:31.696Z"
   },
   {
    "duration": 35,
    "start_time": "2023-03-25T17:56:31.726Z"
   },
   {
    "duration": 19,
    "start_time": "2023-03-25T17:56:31.762Z"
   },
   {
    "duration": 15,
    "start_time": "2023-03-25T17:56:31.785Z"
   },
   {
    "duration": 28,
    "start_time": "2023-03-25T17:56:31.802Z"
   },
   {
    "duration": 16,
    "start_time": "2023-03-25T17:56:31.832Z"
   },
   {
    "duration": 157,
    "start_time": "2023-03-25T17:56:31.849Z"
   },
   {
    "duration": 5,
    "start_time": "2023-03-25T17:56:32.008Z"
   },
   {
    "duration": 22,
    "start_time": "2023-03-25T17:56:32.014Z"
   },
   {
    "duration": 11757,
    "start_time": "2023-03-25T17:56:32.037Z"
   },
   {
    "duration": 11,
    "start_time": "2023-03-25T17:56:43.807Z"
   },
   {
    "duration": 60,
    "start_time": "2023-03-25T17:56:43.820Z"
   },
   {
    "duration": 6,
    "start_time": "2023-03-25T17:56:43.883Z"
   },
   {
    "duration": 22985,
    "start_time": "2023-03-25T17:56:43.892Z"
   },
   {
    "duration": 9,
    "start_time": "2023-03-25T17:57:06.885Z"
   },
   {
    "duration": 18,
    "start_time": "2023-03-25T17:57:06.896Z"
   },
   {
    "duration": 3,
    "start_time": "2023-03-25T17:57:06.916Z"
   },
   {
    "duration": 22276,
    "start_time": "2023-03-25T17:57:06.920Z"
   },
   {
    "duration": 10,
    "start_time": "2023-03-25T17:57:29.198Z"
   },
   {
    "duration": 73,
    "start_time": "2023-03-25T17:57:29.209Z"
   },
   {
    "duration": 8,
    "start_time": "2023-03-25T17:57:29.283Z"
   },
   {
    "duration": 23006,
    "start_time": "2023-03-25T17:57:29.292Z"
   },
   {
    "duration": 77,
    "start_time": "2023-03-25T17:57:52.300Z"
   },
   {
    "duration": 28,
    "start_time": "2023-03-25T17:57:52.383Z"
   },
   {
    "duration": 4,
    "start_time": "2023-03-25T17:57:52.413Z"
   },
   {
    "duration": 23052,
    "start_time": "2023-03-25T17:57:52.418Z"
   },
   {
    "duration": 11,
    "start_time": "2023-03-25T17:58:15.474Z"
   },
   {
    "duration": 22,
    "start_time": "2023-03-25T17:58:15.489Z"
   },
   {
    "duration": 21581,
    "start_time": "2023-03-25T17:58:15.513Z"
   },
   {
    "duration": 8,
    "start_time": "2023-03-25T17:58:37.095Z"
   },
   {
    "duration": 13,
    "start_time": "2023-03-25T17:58:37.105Z"
   },
   {
    "duration": 21282,
    "start_time": "2023-03-25T17:58:37.120Z"
   },
   {
    "duration": 10,
    "start_time": "2023-03-25T17:58:58.404Z"
   },
   {
    "duration": 69,
    "start_time": "2023-03-25T17:58:58.416Z"
   },
   {
    "duration": 19,
    "start_time": "2023-03-25T17:58:58.486Z"
   },
   {
    "duration": 5547,
    "start_time": "2023-03-26T17:56:59.955Z"
   },
   {
    "duration": 36774,
    "start_time": "2023-03-26T17:57:07.104Z"
   },
   {
    "duration": 3964,
    "start_time": "2023-03-26T17:58:43.265Z"
   },
   {
    "duration": 3482,
    "start_time": "2023-03-26T17:58:59.676Z"
   },
   {
    "duration": 3128,
    "start_time": "2023-03-26T17:59:03.162Z"
   },
   {
    "duration": 3914,
    "start_time": "2023-03-26T17:59:06.293Z"
   },
   {
    "duration": 173,
    "start_time": "2023-03-26T17:59:10.209Z"
   },
   {
    "duration": 8,
    "start_time": "2023-03-26T17:59:13.778Z"
   },
   {
    "duration": 59,
    "start_time": "2023-03-26T17:59:13.936Z"
   },
   {
    "duration": 345,
    "start_time": "2023-03-26T17:59:14.603Z"
   },
   {
    "duration": 36,
    "start_time": "2023-03-26T17:59:14.951Z"
   },
   {
    "duration": 1269,
    "start_time": "2023-03-26T17:59:14.994Z"
   },
   {
    "duration": 11,
    "start_time": "2023-03-26T17:59:16.269Z"
   },
   {
    "duration": 3,
    "start_time": "2023-03-26T17:59:17.503Z"
   },
   {
    "duration": 6,
    "start_time": "2023-03-26T17:59:17.668Z"
   },
   {
    "duration": 6,
    "start_time": "2023-03-26T17:59:17.981Z"
   },
   {
    "duration": 7,
    "start_time": "2023-03-26T17:59:18.193Z"
   },
   {
    "duration": 6,
    "start_time": "2023-03-26T17:59:18.657Z"
   },
   {
    "duration": 19,
    "start_time": "2023-03-26T17:59:19.131Z"
   },
   {
    "duration": 6,
    "start_time": "2023-03-26T17:59:19.727Z"
   },
   {
    "duration": 25,
    "start_time": "2023-03-26T17:59:19.869Z"
   },
   {
    "duration": 8,
    "start_time": "2023-03-26T17:59:21.162Z"
   },
   {
    "duration": 417,
    "start_time": "2023-03-26T17:59:22.261Z"
   },
   {
    "duration": 25,
    "start_time": "2023-03-26T17:59:22.684Z"
   },
   {
    "duration": 39,
    "start_time": "2023-03-26T17:59:22.817Z"
   },
   {
    "duration": 27,
    "start_time": "2023-03-26T17:59:22.973Z"
   },
   {
    "duration": 14,
    "start_time": "2023-03-26T17:59:23.790Z"
   },
   {
    "duration": 7,
    "start_time": "2023-03-26T17:59:25.750Z"
   },
   {
    "duration": 6,
    "start_time": "2023-03-26T17:59:27.179Z"
   },
   {
    "duration": 8,
    "start_time": "2023-03-26T17:59:27.762Z"
   },
   {
    "duration": 11,
    "start_time": "2023-03-26T17:59:27.977Z"
   },
   {
    "duration": 15,
    "start_time": "2023-03-26T17:59:28.196Z"
   },
   {
    "duration": 29,
    "start_time": "2023-03-26T17:59:28.558Z"
   },
   {
    "duration": 21,
    "start_time": "2023-03-26T17:59:29.677Z"
   },
   {
    "duration": 5,
    "start_time": "2023-03-26T17:59:30.104Z"
   },
   {
    "duration": 11,
    "start_time": "2023-03-26T17:59:34.249Z"
   },
   {
    "duration": 385,
    "start_time": "2023-03-28T15:39:42.425Z"
   },
   {
    "duration": 3087,
    "start_time": "2023-03-28T17:26:07.748Z"
   },
   {
    "duration": 22488,
    "start_time": "2023-03-28T17:26:10.837Z"
   },
   {
    "duration": 3093,
    "start_time": "2023-03-28T17:26:33.327Z"
   },
   {
    "duration": 0,
    "start_time": "2023-03-28T17:26:36.423Z"
   },
   {
    "duration": 0,
    "start_time": "2023-03-28T17:26:36.424Z"
   },
   {
    "duration": 0,
    "start_time": "2023-03-28T17:26:36.425Z"
   },
   {
    "duration": 0,
    "start_time": "2023-03-28T17:26:36.426Z"
   },
   {
    "duration": 0,
    "start_time": "2023-03-28T17:26:36.427Z"
   },
   {
    "duration": 0,
    "start_time": "2023-03-28T17:26:36.434Z"
   },
   {
    "duration": 0,
    "start_time": "2023-03-28T17:26:36.436Z"
   },
   {
    "duration": 0,
    "start_time": "2023-03-28T17:26:36.437Z"
   },
   {
    "duration": 0,
    "start_time": "2023-03-28T17:26:36.438Z"
   },
   {
    "duration": 0,
    "start_time": "2023-03-28T17:26:36.439Z"
   },
   {
    "duration": 0,
    "start_time": "2023-03-28T17:26:36.441Z"
   },
   {
    "duration": 0,
    "start_time": "2023-03-28T17:26:36.442Z"
   },
   {
    "duration": 0,
    "start_time": "2023-03-28T17:26:36.443Z"
   },
   {
    "duration": 0,
    "start_time": "2023-03-28T17:26:36.444Z"
   },
   {
    "duration": 0,
    "start_time": "2023-03-28T17:26:36.445Z"
   },
   {
    "duration": 0,
    "start_time": "2023-03-28T17:26:36.446Z"
   },
   {
    "duration": 0,
    "start_time": "2023-03-28T17:26:36.447Z"
   },
   {
    "duration": 0,
    "start_time": "2023-03-28T17:26:36.448Z"
   },
   {
    "duration": 0,
    "start_time": "2023-03-28T17:26:36.449Z"
   },
   {
    "duration": 0,
    "start_time": "2023-03-28T17:26:36.450Z"
   },
   {
    "duration": 0,
    "start_time": "2023-03-28T17:26:36.451Z"
   },
   {
    "duration": 0,
    "start_time": "2023-03-28T17:26:36.452Z"
   },
   {
    "duration": 0,
    "start_time": "2023-03-28T17:26:36.453Z"
   },
   {
    "duration": 0,
    "start_time": "2023-03-28T17:26:36.454Z"
   },
   {
    "duration": 0,
    "start_time": "2023-03-28T17:26:36.455Z"
   },
   {
    "duration": 0,
    "start_time": "2023-03-28T17:26:36.456Z"
   },
   {
    "duration": 0,
    "start_time": "2023-03-28T17:26:36.457Z"
   },
   {
    "duration": 0,
    "start_time": "2023-03-28T17:26:36.458Z"
   },
   {
    "duration": 0,
    "start_time": "2023-03-28T17:26:36.459Z"
   },
   {
    "duration": 0,
    "start_time": "2023-03-28T17:26:36.460Z"
   },
   {
    "duration": 0,
    "start_time": "2023-03-28T17:26:36.461Z"
   },
   {
    "duration": 0,
    "start_time": "2023-03-28T17:26:36.462Z"
   },
   {
    "duration": 0,
    "start_time": "2023-03-28T17:26:36.463Z"
   },
   {
    "duration": 0,
    "start_time": "2023-03-28T17:26:36.464Z"
   },
   {
    "duration": 0,
    "start_time": "2023-03-28T17:26:36.465Z"
   },
   {
    "duration": 0,
    "start_time": "2023-03-28T17:26:36.466Z"
   },
   {
    "duration": 0,
    "start_time": "2023-03-28T17:26:36.467Z"
   },
   {
    "duration": 0,
    "start_time": "2023-03-28T17:26:36.468Z"
   },
   {
    "duration": 0,
    "start_time": "2023-03-28T17:26:36.469Z"
   },
   {
    "duration": 1,
    "start_time": "2023-03-28T17:26:36.469Z"
   },
   {
    "duration": 0,
    "start_time": "2023-03-28T17:26:36.470Z"
   },
   {
    "duration": 0,
    "start_time": "2023-03-28T17:26:36.472Z"
   },
   {
    "duration": 0,
    "start_time": "2023-03-28T17:26:36.472Z"
   },
   {
    "duration": 0,
    "start_time": "2023-03-28T17:26:36.535Z"
   },
   {
    "duration": 0,
    "start_time": "2023-03-28T17:26:36.536Z"
   },
   {
    "duration": 0,
    "start_time": "2023-03-28T17:26:36.537Z"
   },
   {
    "duration": 0,
    "start_time": "2023-03-28T17:26:36.538Z"
   },
   {
    "duration": 0,
    "start_time": "2023-03-28T17:26:36.539Z"
   },
   {
    "duration": 0,
    "start_time": "2023-03-28T17:26:36.540Z"
   },
   {
    "duration": 0,
    "start_time": "2023-03-28T17:26:36.541Z"
   },
   {
    "duration": 0,
    "start_time": "2023-03-28T17:26:36.541Z"
   },
   {
    "duration": 0,
    "start_time": "2023-03-28T17:26:36.542Z"
   },
   {
    "duration": 0,
    "start_time": "2023-03-28T17:26:36.543Z"
   },
   {
    "duration": 0,
    "start_time": "2023-03-28T17:26:36.544Z"
   },
   {
    "duration": 2185,
    "start_time": "2023-03-28T17:27:02.030Z"
   },
   {
    "duration": 2032,
    "start_time": "2023-03-28T17:27:06.619Z"
   },
   {
    "duration": 17,
    "start_time": "2023-03-28T17:27:09.725Z"
   },
   {
    "duration": 10,
    "start_time": "2023-03-28T17:27:12.701Z"
   },
   {
    "duration": 2017,
    "start_time": "2023-03-28T17:27:16.752Z"
   },
   {
    "duration": 1955,
    "start_time": "2023-03-28T17:27:18.771Z"
   },
   {
    "duration": 2216,
    "start_time": "2023-03-28T17:27:20.729Z"
   },
   {
    "duration": 0,
    "start_time": "2023-03-28T17:27:22.949Z"
   },
   {
    "duration": 0,
    "start_time": "2023-03-28T17:27:22.951Z"
   },
   {
    "duration": 0,
    "start_time": "2023-03-28T17:27:22.952Z"
   },
   {
    "duration": 0,
    "start_time": "2023-03-28T17:27:22.954Z"
   },
   {
    "duration": 0,
    "start_time": "2023-03-28T17:27:22.956Z"
   },
   {
    "duration": 0,
    "start_time": "2023-03-28T17:27:22.958Z"
   },
   {
    "duration": 0,
    "start_time": "2023-03-28T17:27:22.959Z"
   },
   {
    "duration": 1,
    "start_time": "2023-03-28T17:27:22.960Z"
   },
   {
    "duration": 0,
    "start_time": "2023-03-28T17:27:22.962Z"
   },
   {
    "duration": 0,
    "start_time": "2023-03-28T17:27:22.964Z"
   },
   {
    "duration": 0,
    "start_time": "2023-03-28T17:27:22.965Z"
   },
   {
    "duration": 0,
    "start_time": "2023-03-28T17:27:22.966Z"
   },
   {
    "duration": 1,
    "start_time": "2023-03-28T17:27:22.967Z"
   },
   {
    "duration": 0,
    "start_time": "2023-03-28T17:27:22.969Z"
   },
   {
    "duration": 0,
    "start_time": "2023-03-28T17:27:22.970Z"
   },
   {
    "duration": 0,
    "start_time": "2023-03-28T17:27:22.971Z"
   },
   {
    "duration": 0,
    "start_time": "2023-03-28T17:27:22.973Z"
   },
   {
    "duration": 1,
    "start_time": "2023-03-28T17:27:22.974Z"
   },
   {
    "duration": 0,
    "start_time": "2023-03-28T17:27:22.976Z"
   },
   {
    "duration": 0,
    "start_time": "2023-03-28T17:27:22.977Z"
   },
   {
    "duration": 0,
    "start_time": "2023-03-28T17:27:22.979Z"
   },
   {
    "duration": 0,
    "start_time": "2023-03-28T17:27:22.980Z"
   },
   {
    "duration": 0,
    "start_time": "2023-03-28T17:27:22.982Z"
   },
   {
    "duration": 0,
    "start_time": "2023-03-28T17:27:23.034Z"
   },
   {
    "duration": 0,
    "start_time": "2023-03-28T17:27:23.035Z"
   },
   {
    "duration": 0,
    "start_time": "2023-03-28T17:27:23.037Z"
   },
   {
    "duration": 0,
    "start_time": "2023-03-28T17:27:23.038Z"
   },
   {
    "duration": 0,
    "start_time": "2023-03-28T17:27:23.040Z"
   },
   {
    "duration": 0,
    "start_time": "2023-03-28T17:27:23.041Z"
   },
   {
    "duration": 0,
    "start_time": "2023-03-28T17:27:23.042Z"
   },
   {
    "duration": 0,
    "start_time": "2023-03-28T17:27:23.044Z"
   },
   {
    "duration": 0,
    "start_time": "2023-03-28T17:27:23.045Z"
   },
   {
    "duration": 0,
    "start_time": "2023-03-28T17:27:23.046Z"
   },
   {
    "duration": 0,
    "start_time": "2023-03-28T17:27:23.048Z"
   },
   {
    "duration": 0,
    "start_time": "2023-03-28T17:27:23.050Z"
   },
   {
    "duration": 0,
    "start_time": "2023-03-28T17:27:23.051Z"
   },
   {
    "duration": 0,
    "start_time": "2023-03-28T17:27:23.052Z"
   },
   {
    "duration": 0,
    "start_time": "2023-03-28T17:27:23.054Z"
   },
   {
    "duration": 0,
    "start_time": "2023-03-28T17:27:23.056Z"
   },
   {
    "duration": 0,
    "start_time": "2023-03-28T17:27:23.057Z"
   },
   {
    "duration": 0,
    "start_time": "2023-03-28T17:27:23.058Z"
   },
   {
    "duration": 0,
    "start_time": "2023-03-28T17:27:23.060Z"
   },
   {
    "duration": 0,
    "start_time": "2023-03-28T17:27:23.061Z"
   },
   {
    "duration": 0,
    "start_time": "2023-03-28T17:27:23.063Z"
   },
   {
    "duration": 0,
    "start_time": "2023-03-28T17:27:23.064Z"
   },
   {
    "duration": 0,
    "start_time": "2023-03-28T17:27:23.066Z"
   },
   {
    "duration": 0,
    "start_time": "2023-03-28T17:27:23.067Z"
   },
   {
    "duration": 0,
    "start_time": "2023-03-28T17:27:23.069Z"
   },
   {
    "duration": 0,
    "start_time": "2023-03-28T17:27:23.070Z"
   },
   {
    "duration": 0,
    "start_time": "2023-03-28T17:27:23.071Z"
   },
   {
    "duration": 0,
    "start_time": "2023-03-28T17:27:23.073Z"
   },
   {
    "duration": 0,
    "start_time": "2023-03-28T17:27:23.135Z"
   },
   {
    "duration": 0,
    "start_time": "2023-03-28T17:27:23.137Z"
   },
   {
    "duration": 0,
    "start_time": "2023-03-28T17:27:23.138Z"
   },
   {
    "duration": 4,
    "start_time": "2023-03-28T17:27:56.819Z"
   },
   {
    "duration": 90,
    "start_time": "2023-03-28T17:28:01.319Z"
   },
   {
    "duration": 6,
    "start_time": "2023-03-28T17:28:05.283Z"
   },
   {
    "duration": 27,
    "start_time": "2023-03-28T17:28:06.041Z"
   },
   {
    "duration": 186,
    "start_time": "2023-03-28T17:28:07.525Z"
   },
   {
    "duration": 11,
    "start_time": "2023-03-28T17:28:08.640Z"
   },
   {
    "duration": 806,
    "start_time": "2023-03-28T17:28:09.298Z"
   },
   {
    "duration": 4,
    "start_time": "2023-03-28T17:28:13.810Z"
   },
   {
    "duration": 2,
    "start_time": "2023-03-28T17:28:15.591Z"
   },
   {
    "duration": 5,
    "start_time": "2023-03-28T17:28:16.027Z"
   },
   {
    "duration": 4,
    "start_time": "2023-03-28T17:28:16.761Z"
   },
   {
    "duration": 7,
    "start_time": "2023-03-28T17:28:16.964Z"
   },
   {
    "duration": 5,
    "start_time": "2023-03-28T17:28:17.360Z"
   },
   {
    "duration": 6,
    "start_time": "2023-03-28T17:28:18.158Z"
   },
   {
    "duration": 5,
    "start_time": "2023-03-28T17:28:19.857Z"
   },
   {
    "duration": 10,
    "start_time": "2023-03-28T17:28:20.072Z"
   },
   {
    "duration": 129,
    "start_time": "2023-03-28T17:28:21.887Z"
   },
   {
    "duration": 10,
    "start_time": "2023-03-28T17:28:22.431Z"
   },
   {
    "duration": 12,
    "start_time": "2023-03-28T17:28:23.396Z"
   },
   {
    "duration": 11,
    "start_time": "2023-03-28T17:28:24.325Z"
   },
   {
    "duration": 11,
    "start_time": "2023-03-28T17:28:25.733Z"
   },
   {
    "duration": 7,
    "start_time": "2023-03-28T17:28:35.116Z"
   },
   {
    "duration": 4,
    "start_time": "2023-03-28T17:28:36.941Z"
   },
   {
    "duration": 5,
    "start_time": "2023-03-28T17:28:39.646Z"
   },
   {
    "duration": 4,
    "start_time": "2023-03-28T17:28:45.254Z"
   },
   {
    "duration": 22,
    "start_time": "2023-03-28T17:32:19.859Z"
   },
   {
    "duration": 777,
    "start_time": "2023-03-28T17:32:23.467Z"
   },
   {
    "duration": 7,
    "start_time": "2023-03-28T17:32:41.577Z"
   },
   {
    "duration": 11,
    "start_time": "2023-03-28T17:32:44.459Z"
   },
   {
    "duration": 14,
    "start_time": "2023-03-28T17:33:03.348Z"
   },
   {
    "duration": 10,
    "start_time": "2023-03-28T17:36:28.262Z"
   },
   {
    "duration": 10,
    "start_time": "2023-03-28T17:36:41.715Z"
   },
   {
    "duration": 4,
    "start_time": "2023-03-28T17:37:02.504Z"
   },
   {
    "duration": 14,
    "start_time": "2023-03-28T17:37:36.749Z"
   },
   {
    "duration": 2171,
    "start_time": "2023-03-28T17:37:43.761Z"
   },
   {
    "duration": 2416,
    "start_time": "2023-03-28T17:37:45.934Z"
   },
   {
    "duration": 2119,
    "start_time": "2023-03-28T17:37:48.352Z"
   },
   {
    "duration": 38,
    "start_time": "2023-03-28T17:37:50.473Z"
   },
   {
    "duration": 5,
    "start_time": "2023-03-28T17:37:50.513Z"
   },
   {
    "duration": 46,
    "start_time": "2023-03-28T17:37:50.519Z"
   },
   {
    "duration": 172,
    "start_time": "2023-03-28T17:37:50.566Z"
   },
   {
    "duration": 10,
    "start_time": "2023-03-28T17:37:50.740Z"
   },
   {
    "duration": 864,
    "start_time": "2023-03-28T17:37:50.751Z"
   },
   {
    "duration": 4,
    "start_time": "2023-03-28T17:37:51.618Z"
   },
   {
    "duration": 28,
    "start_time": "2023-03-28T17:37:51.623Z"
   },
   {
    "duration": 25,
    "start_time": "2023-03-28T17:37:51.652Z"
   },
   {
    "duration": 9,
    "start_time": "2023-03-28T17:37:51.679Z"
   },
   {
    "duration": 8,
    "start_time": "2023-03-28T17:37:51.690Z"
   },
   {
    "duration": 21,
    "start_time": "2023-03-28T17:37:51.700Z"
   },
   {
    "duration": 18,
    "start_time": "2023-03-28T17:37:51.723Z"
   },
   {
    "duration": 8,
    "start_time": "2023-03-28T17:37:51.743Z"
   },
   {
    "duration": 24,
    "start_time": "2023-03-28T17:37:51.752Z"
   },
   {
    "duration": 124,
    "start_time": "2023-03-28T17:37:51.778Z"
   },
   {
    "duration": 10,
    "start_time": "2023-03-28T17:37:51.904Z"
   },
   {
    "duration": 26,
    "start_time": "2023-03-28T17:37:51.915Z"
   },
   {
    "duration": 32,
    "start_time": "2023-03-28T17:37:51.943Z"
   },
   {
    "duration": 60,
    "start_time": "2023-03-28T17:37:51.977Z"
   },
   {
    "duration": 6,
    "start_time": "2023-03-28T17:37:52.039Z"
   },
   {
    "duration": 18,
    "start_time": "2023-03-28T17:37:52.046Z"
   },
   {
    "duration": 28,
    "start_time": "2023-03-28T17:37:52.065Z"
   },
   {
    "duration": 31,
    "start_time": "2023-03-28T17:37:52.095Z"
   },
   {
    "duration": 36,
    "start_time": "2023-03-28T17:37:52.129Z"
   },
   {
    "duration": 27,
    "start_time": "2023-03-28T17:37:52.167Z"
   },
   {
    "duration": 168,
    "start_time": "2023-03-28T17:37:52.195Z"
   },
   {
    "duration": 0,
    "start_time": "2023-03-28T17:37:52.364Z"
   },
   {
    "duration": 0,
    "start_time": "2023-03-28T17:37:52.366Z"
   },
   {
    "duration": 0,
    "start_time": "2023-03-28T17:37:52.366Z"
   },
   {
    "duration": 0,
    "start_time": "2023-03-28T17:37:52.367Z"
   },
   {
    "duration": 0,
    "start_time": "2023-03-28T17:37:52.368Z"
   },
   {
    "duration": 0,
    "start_time": "2023-03-28T17:37:52.369Z"
   },
   {
    "duration": 0,
    "start_time": "2023-03-28T17:37:52.370Z"
   },
   {
    "duration": 0,
    "start_time": "2023-03-28T17:37:52.371Z"
   },
   {
    "duration": 0,
    "start_time": "2023-03-28T17:37:52.372Z"
   },
   {
    "duration": 0,
    "start_time": "2023-03-28T17:37:52.373Z"
   },
   {
    "duration": 0,
    "start_time": "2023-03-28T17:37:52.374Z"
   },
   {
    "duration": 0,
    "start_time": "2023-03-28T17:37:52.376Z"
   },
   {
    "duration": 0,
    "start_time": "2023-03-28T17:37:52.378Z"
   },
   {
    "duration": 0,
    "start_time": "2023-03-28T17:37:52.379Z"
   },
   {
    "duration": 0,
    "start_time": "2023-03-28T17:37:52.380Z"
   },
   {
    "duration": 0,
    "start_time": "2023-03-28T17:37:52.381Z"
   },
   {
    "duration": 0,
    "start_time": "2023-03-28T17:37:52.383Z"
   },
   {
    "duration": 0,
    "start_time": "2023-03-28T17:37:52.384Z"
   },
   {
    "duration": 0,
    "start_time": "2023-03-28T17:37:52.386Z"
   },
   {
    "duration": 0,
    "start_time": "2023-03-28T17:37:52.387Z"
   },
   {
    "duration": 0,
    "start_time": "2023-03-28T17:37:52.388Z"
   },
   {
    "duration": 0,
    "start_time": "2023-03-28T17:37:52.390Z"
   },
   {
    "duration": 0,
    "start_time": "2023-03-28T17:37:52.434Z"
   },
   {
    "duration": 0,
    "start_time": "2023-03-28T17:37:52.436Z"
   },
   {
    "duration": 0,
    "start_time": "2023-03-28T17:37:52.437Z"
   },
   {
    "duration": 0,
    "start_time": "2023-03-28T17:37:52.438Z"
   },
   {
    "duration": 0,
    "start_time": "2023-03-28T17:37:52.440Z"
   },
   {
    "duration": 0,
    "start_time": "2023-03-28T17:37:52.441Z"
   },
   {
    "duration": 0,
    "start_time": "2023-03-28T17:37:52.443Z"
   },
   {
    "duration": 11,
    "start_time": "2023-03-28T17:39:27.332Z"
   },
   {
    "duration": 13,
    "start_time": "2023-03-28T17:39:43.403Z"
   },
   {
    "duration": 2225,
    "start_time": "2023-03-28T17:41:13.497Z"
   },
   {
    "duration": 1933,
    "start_time": "2023-03-28T17:41:15.724Z"
   },
   {
    "duration": 1884,
    "start_time": "2023-03-28T17:41:17.659Z"
   },
   {
    "duration": 37,
    "start_time": "2023-03-28T17:41:19.546Z"
   },
   {
    "duration": 6,
    "start_time": "2023-03-28T17:41:19.585Z"
   },
   {
    "duration": 60,
    "start_time": "2023-03-28T17:41:19.593Z"
   },
   {
    "duration": 225,
    "start_time": "2023-03-28T17:41:19.655Z"
   },
   {
    "duration": 13,
    "start_time": "2023-03-28T17:41:19.882Z"
   },
   {
    "duration": 953,
    "start_time": "2023-03-28T17:41:19.897Z"
   },
   {
    "duration": 4,
    "start_time": "2023-03-28T17:41:20.854Z"
   },
   {
    "duration": 6,
    "start_time": "2023-03-28T17:41:20.859Z"
   },
   {
    "duration": 8,
    "start_time": "2023-03-28T17:41:20.867Z"
   },
   {
    "duration": 4,
    "start_time": "2023-03-28T17:41:20.877Z"
   },
   {
    "duration": 12,
    "start_time": "2023-03-28T17:41:20.883Z"
   },
   {
    "duration": 7,
    "start_time": "2023-03-28T17:41:20.896Z"
   },
   {
    "duration": 7,
    "start_time": "2023-03-28T17:41:20.904Z"
   },
   {
    "duration": 5,
    "start_time": "2023-03-28T17:41:20.912Z"
   },
   {
    "duration": 26,
    "start_time": "2023-03-28T17:41:20.918Z"
   },
   {
    "duration": 149,
    "start_time": "2023-03-28T17:41:20.946Z"
   },
   {
    "duration": 14,
    "start_time": "2023-03-28T17:41:21.096Z"
   },
   {
    "duration": 17,
    "start_time": "2023-03-28T17:41:21.134Z"
   },
   {
    "duration": 12,
    "start_time": "2023-03-28T17:41:21.153Z"
   },
   {
    "duration": 10,
    "start_time": "2023-03-28T17:41:21.166Z"
   },
   {
    "duration": 58,
    "start_time": "2023-03-28T17:41:21.178Z"
   },
   {
    "duration": 15,
    "start_time": "2023-03-28T17:41:21.238Z"
   },
   {
    "duration": 7,
    "start_time": "2023-03-28T17:41:21.255Z"
   },
   {
    "duration": 6,
    "start_time": "2023-03-28T17:41:21.263Z"
   },
   {
    "duration": 61,
    "start_time": "2023-03-28T17:41:21.273Z"
   },
   {
    "duration": 15,
    "start_time": "2023-03-28T17:41:21.336Z"
   },
   {
    "duration": 3,
    "start_time": "2023-03-28T17:41:21.352Z"
   },
   {
    "duration": 4,
    "start_time": "2023-03-28T17:41:21.357Z"
   },
   {
    "duration": 361,
    "start_time": "2023-03-28T17:41:21.363Z"
   },
   {
    "duration": 0,
    "start_time": "2023-03-28T17:41:21.725Z"
   },
   {
    "duration": 0,
    "start_time": "2023-03-28T17:41:21.726Z"
   },
   {
    "duration": 0,
    "start_time": "2023-03-28T17:41:21.734Z"
   },
   {
    "duration": 0,
    "start_time": "2023-03-28T17:41:21.735Z"
   },
   {
    "duration": 0,
    "start_time": "2023-03-28T17:41:21.736Z"
   },
   {
    "duration": 0,
    "start_time": "2023-03-28T17:41:21.737Z"
   },
   {
    "duration": 0,
    "start_time": "2023-03-28T17:41:21.738Z"
   },
   {
    "duration": 0,
    "start_time": "2023-03-28T17:41:21.740Z"
   },
   {
    "duration": 0,
    "start_time": "2023-03-28T17:41:21.741Z"
   },
   {
    "duration": 0,
    "start_time": "2023-03-28T17:41:21.742Z"
   },
   {
    "duration": 0,
    "start_time": "2023-03-28T17:41:21.744Z"
   },
   {
    "duration": 0,
    "start_time": "2023-03-28T17:41:21.745Z"
   },
   {
    "duration": 0,
    "start_time": "2023-03-28T17:41:21.746Z"
   },
   {
    "duration": 0,
    "start_time": "2023-03-28T17:41:21.747Z"
   },
   {
    "duration": 0,
    "start_time": "2023-03-28T17:41:21.748Z"
   },
   {
    "duration": 0,
    "start_time": "2023-03-28T17:41:21.749Z"
   },
   {
    "duration": 0,
    "start_time": "2023-03-28T17:41:21.750Z"
   },
   {
    "duration": 0,
    "start_time": "2023-03-28T17:41:21.751Z"
   },
   {
    "duration": 0,
    "start_time": "2023-03-28T17:41:21.752Z"
   },
   {
    "duration": 0,
    "start_time": "2023-03-28T17:41:21.753Z"
   },
   {
    "duration": 0,
    "start_time": "2023-03-28T17:41:21.753Z"
   },
   {
    "duration": 0,
    "start_time": "2023-03-28T17:41:21.755Z"
   },
   {
    "duration": 0,
    "start_time": "2023-03-28T17:41:21.756Z"
   },
   {
    "duration": 0,
    "start_time": "2023-03-28T17:41:21.757Z"
   },
   {
    "duration": 0,
    "start_time": "2023-03-28T17:41:21.757Z"
   },
   {
    "duration": 0,
    "start_time": "2023-03-28T17:41:21.758Z"
   },
   {
    "duration": 2,
    "start_time": "2023-03-28T17:41:42.835Z"
   },
   {
    "duration": 82596,
    "start_time": "2023-03-28T17:41:44.654Z"
   },
   {
    "duration": 11,
    "start_time": "2023-03-28T17:43:44.185Z"
   },
   {
    "duration": 28,
    "start_time": "2023-03-28T17:43:47.162Z"
   },
   {
    "duration": 84708,
    "start_time": "2023-03-28T17:46:46.348Z"
   },
   {
    "duration": 8,
    "start_time": "2023-03-28T17:48:24.211Z"
   },
   {
    "duration": 14,
    "start_time": "2023-03-28T17:48:26.131Z"
   },
   {
    "duration": 28,
    "start_time": "2023-03-28T17:51:28.709Z"
   },
   {
    "duration": 3,
    "start_time": "2023-03-28T17:51:35.638Z"
   },
   {
    "duration": 169524,
    "start_time": "2023-03-28T17:51:37.734Z"
   },
   {
    "duration": 8,
    "start_time": "2023-03-28T17:54:34.727Z"
   },
   {
    "duration": 15,
    "start_time": "2023-03-28T17:54:38.522Z"
   },
   {
    "duration": 3,
    "start_time": "2023-03-28T17:54:49.005Z"
   },
   {
    "duration": 133003,
    "start_time": "2023-03-28T17:56:20.438Z"
   },
   {
    "duration": 9,
    "start_time": "2023-03-28T17:58:52.292Z"
   },
   {
    "duration": 15,
    "start_time": "2023-03-28T17:58:54.975Z"
   },
   {
    "duration": 4,
    "start_time": "2023-03-28T17:59:04.568Z"
   },
   {
    "duration": 149235,
    "start_time": "2023-03-28T17:59:35.720Z"
   },
   {
    "duration": 9,
    "start_time": "2023-03-28T18:02:11.932Z"
   },
   {
    "duration": 19,
    "start_time": "2023-03-28T18:02:14.671Z"
   },
   {
    "duration": 2,
    "start_time": "2023-03-28T18:02:22.717Z"
   },
   {
    "duration": 158272,
    "start_time": "2023-03-28T18:03:00.970Z"
   },
   {
    "duration": 10,
    "start_time": "2023-03-28T18:06:13.314Z"
   },
   {
    "duration": 14,
    "start_time": "2023-03-28T18:06:15.485Z"
   },
   {
    "duration": 17825,
    "start_time": "2023-03-28T18:09:44.726Z"
   },
   {
    "duration": 153096,
    "start_time": "2023-03-28T18:10:23.157Z"
   },
   {
    "duration": 9,
    "start_time": "2023-03-28T18:13:04.111Z"
   },
   {
    "duration": 18,
    "start_time": "2023-03-28T18:13:08.064Z"
   },
   {
    "duration": 150936,
    "start_time": "2023-03-28T18:17:28.809Z"
   },
   {
    "duration": 8,
    "start_time": "2023-03-28T18:20:04.570Z"
   },
   {
    "duration": 14,
    "start_time": "2023-03-28T18:20:07.681Z"
   },
   {
    "duration": 162775,
    "start_time": "2023-03-28T18:23:42.078Z"
   },
   {
    "duration": 11,
    "start_time": "2023-03-28T18:26:57.910Z"
   },
   {
    "duration": 18,
    "start_time": "2023-03-28T18:27:00.453Z"
   },
   {
    "duration": 4533,
    "start_time": "2023-03-28T18:27:04.933Z"
   },
   {
    "duration": 162733,
    "start_time": "2023-03-28T18:27:39.004Z"
   },
   {
    "duration": 9,
    "start_time": "2023-03-28T18:30:26.798Z"
   },
   {
    "duration": 17,
    "start_time": "2023-03-28T18:30:30.300Z"
   },
   {
    "duration": 157690,
    "start_time": "2023-03-28T18:30:36.849Z"
   },
   {
    "duration": 8,
    "start_time": "2023-03-28T18:33:25.804Z"
   },
   {
    "duration": 26,
    "start_time": "2023-03-28T18:33:28.547Z"
   },
   {
    "duration": 154241,
    "start_time": "2023-03-28T18:33:32.918Z"
   },
   {
    "duration": 9,
    "start_time": "2023-03-28T18:36:15.752Z"
   },
   {
    "duration": 19,
    "start_time": "2023-03-28T18:36:17.948Z"
   },
   {
    "duration": 27,
    "start_time": "2023-03-28T18:36:32.104Z"
   },
   {
    "duration": 2128,
    "start_time": "2023-03-28T18:40:38.674Z"
   },
   {
    "duration": 1950,
    "start_time": "2023-03-28T18:40:40.804Z"
   },
   {
    "duration": 1892,
    "start_time": "2023-03-28T18:40:42.755Z"
   },
   {
    "duration": 40,
    "start_time": "2023-03-28T18:40:44.649Z"
   },
   {
    "duration": 6,
    "start_time": "2023-03-28T18:40:44.690Z"
   },
   {
    "duration": 24,
    "start_time": "2023-03-28T18:40:44.697Z"
   },
   {
    "duration": 191,
    "start_time": "2023-03-28T18:40:44.722Z"
   },
   {
    "duration": 21,
    "start_time": "2023-03-28T18:40:44.915Z"
   },
   {
    "duration": 912,
    "start_time": "2023-03-28T18:40:44.939Z"
   },
   {
    "duration": 3,
    "start_time": "2023-03-28T18:40:45.855Z"
   },
   {
    "duration": 22,
    "start_time": "2023-03-28T18:40:45.860Z"
   },
   {
    "duration": 15,
    "start_time": "2023-03-28T18:40:45.884Z"
   },
   {
    "duration": 6,
    "start_time": "2023-03-28T18:40:45.901Z"
   },
   {
    "duration": 8,
    "start_time": "2023-03-28T18:40:45.909Z"
   },
   {
    "duration": 6,
    "start_time": "2023-03-28T18:40:45.919Z"
   },
   {
    "duration": 7,
    "start_time": "2023-03-28T18:40:45.927Z"
   },
   {
    "duration": 6,
    "start_time": "2023-03-28T18:40:45.935Z"
   },
   {
    "duration": 17,
    "start_time": "2023-03-28T18:40:45.943Z"
   },
   {
    "duration": 142,
    "start_time": "2023-03-28T18:40:45.962Z"
   },
   {
    "duration": 11,
    "start_time": "2023-03-28T18:40:46.106Z"
   },
   {
    "duration": 13,
    "start_time": "2023-03-28T18:40:46.134Z"
   },
   {
    "duration": 10,
    "start_time": "2023-03-28T18:40:46.149Z"
   },
   {
    "duration": 15,
    "start_time": "2023-03-28T18:40:46.161Z"
   },
   {
    "duration": 59,
    "start_time": "2023-03-28T18:40:46.177Z"
   },
   {
    "duration": 5,
    "start_time": "2023-03-28T18:40:46.238Z"
   },
   {
    "duration": 12,
    "start_time": "2023-03-28T18:40:46.245Z"
   },
   {
    "duration": 9,
    "start_time": "2023-03-28T18:40:46.259Z"
   },
   {
    "duration": 10,
    "start_time": "2023-03-28T18:40:46.274Z"
   },
   {
    "duration": 16,
    "start_time": "2023-03-28T18:40:46.334Z"
   },
   {
    "duration": 16,
    "start_time": "2023-03-28T18:40:46.351Z"
   },
   {
    "duration": 4,
    "start_time": "2023-03-28T18:40:46.368Z"
   },
   {
    "duration": 86968,
    "start_time": "2023-03-28T18:40:46.373Z"
   },
   {
    "duration": 8,
    "start_time": "2023-03-28T18:42:13.343Z"
   },
   {
    "duration": 20,
    "start_time": "2023-03-28T18:42:13.353Z"
   },
   {
    "duration": 2,
    "start_time": "2023-03-28T18:42:13.375Z"
   },
   {
    "duration": 166660,
    "start_time": "2023-03-28T18:42:13.378Z"
   },
   {
    "duration": 9,
    "start_time": "2023-03-28T18:45:00.041Z"
   },
   {
    "duration": 39,
    "start_time": "2023-03-28T18:45:00.051Z"
   },
   {
    "duration": 16,
    "start_time": "2023-03-28T18:45:00.092Z"
   },
   {
    "duration": 137334,
    "start_time": "2023-03-28T18:45:00.109Z"
   },
   {
    "duration": 7,
    "start_time": "2023-03-28T18:47:17.445Z"
   },
   {
    "duration": 21,
    "start_time": "2023-03-28T18:47:17.454Z"
   },
   {
    "duration": 27,
    "start_time": "2023-03-28T18:47:17.477Z"
   },
   {
    "duration": 141634,
    "start_time": "2023-03-28T18:47:17.505Z"
   },
   {
    "duration": 9,
    "start_time": "2023-03-28T18:49:39.141Z"
   },
   {
    "duration": 17,
    "start_time": "2023-03-28T18:49:39.152Z"
   },
   {
    "duration": 3,
    "start_time": "2023-03-28T18:49:39.171Z"
   },
   {
    "duration": 150679,
    "start_time": "2023-03-28T18:52:22.469Z"
   },
   {
    "duration": 10,
    "start_time": "2023-03-28T18:54:53.149Z"
   },
   {
    "duration": 22,
    "start_time": "2023-03-28T18:54:53.160Z"
   },
   {
    "duration": 168663,
    "start_time": "2023-03-28T18:54:53.183Z"
   },
   {
    "duration": 9,
    "start_time": "2023-03-28T18:57:41.848Z"
   },
   {
    "duration": 29,
    "start_time": "2023-03-28T18:57:41.858Z"
   },
   {
    "duration": 156016,
    "start_time": "2023-03-28T18:57:41.933Z"
   },
   {
    "duration": 8,
    "start_time": "2023-03-28T19:00:17.951Z"
   },
   {
    "duration": 80,
    "start_time": "2023-03-28T19:00:17.961Z"
   },
   {
    "duration": 159600,
    "start_time": "2023-03-28T19:15:03.457Z"
   },
   {
    "duration": 8,
    "start_time": "2023-03-28T19:17:51.722Z"
   },
   {
    "duration": 15,
    "start_time": "2023-03-28T19:17:54.889Z"
   },
   {
    "duration": 147419,
    "start_time": "2023-03-28T19:18:38.336Z"
   },
   {
    "duration": 8,
    "start_time": "2023-03-28T19:21:10.522Z"
   },
   {
    "duration": 14,
    "start_time": "2023-03-28T19:21:13.204Z"
   },
   {
    "duration": 19,
    "start_time": "2023-03-28T19:21:19.456Z"
   }
  ],
  "kernelspec": {
   "display_name": "Python 3.10.3 64-bit",
   "language": "python",
   "name": "python3"
  },
  "language_info": {
   "codemirror_mode": {
    "name": "ipython",
    "version": 3
   },
   "file_extension": ".py",
   "mimetype": "text/x-python",
   "name": "python",
   "nbconvert_exporter": "python",
   "pygments_lexer": "ipython3",
   "version": "3.6.8"
  },
  "toc": {
   "base_numbering": 1,
   "nav_menu": {},
   "number_sections": false,
   "sideBar": true,
   "skip_h1_title": false,
   "title_cell": "Table of Contents",
   "title_sidebar": "Contents",
   "toc_cell": false,
   "toc_position": {
    "height": "calc(100% - 180px)",
    "left": "10px",
    "top": "150px",
    "width": "260.594px"
   },
   "toc_section_display": true,
   "toc_window_display": true
  },
  "varInspector": {
   "cols": {
    "lenName": 16,
    "lenType": 16,
    "lenVar": 40
   },
   "kernels_config": {
    "python": {
     "delete_cmd_postfix": "",
     "delete_cmd_prefix": "del ",
     "library": "var_list.py",
     "varRefreshCmd": "print(var_dic_list())"
    },
    "r": {
     "delete_cmd_postfix": ") ",
     "delete_cmd_prefix": "rm(",
     "library": "var_list.r",
     "varRefreshCmd": "cat(var_dic_list()) "
    }
   },
   "types_to_exclude": [
    "module",
    "function",
    "builtin_function_or_method",
    "instance",
    "_Feature"
   ],
   "window_display": false
  },
  "vscode": {
   "interpreter": {
    "hash": "aee8b7b246df8f9039afb4144a1f6fd8d2ca17a180786b69acc140d282b71a49"
   }
  }
 },
 "nbformat": 4,
 "nbformat_minor": 5
}
